{
 "cells": [
  {
   "cell_type": "markdown",
   "id": "0d56cbe9",
   "metadata": {},
   "source": [
    "### MRMR-More\n",
    "\n",
    "More experiments with the MRMR codebase."
   ]
  },
  {
   "cell_type": "code",
   "execution_count": null,
   "id": "c369ca59",
   "metadata": {},
   "outputs": [],
   "source": [
    "import sys\n",
    "sys.path.append(\"../..\")\n",
    "from exp_run_config import Config\n",
    "Config.PROJECTNAME = \"WaterBerryFarms\""
   ]
  },
  {
   "cell_type": "code",
   "execution_count": null,
   "id": "8cf68e05",
   "metadata": {},
   "outputs": [],
   "source": [
    "# Run an experiment with a different budget\n",
    "Config().copy_experiment(\"mrmr\")\n",
    "Config().set_experiment_path(pathlib.Path(Config()[\"\"]))\n",
    "Config().set_experiment_data()"
   ]
  }
 ],
 "metadata": {
  "language_info": {
   "name": "python"
  }
 },
 "nbformat": 4,
 "nbformat_minor": 5
}
