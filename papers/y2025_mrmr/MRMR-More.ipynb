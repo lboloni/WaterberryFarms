{
 "cells": [
  {
   "cell_type": "markdown",
   "id": "0d56cbe9",
   "metadata": {},
   "source": [
    "### MRMR-More\n",
    "\n",
    "More experiments with the MRMR codebase."
   ]
  },
  {
   "cell_type": "code",
   "execution_count": 9,
   "id": "c369ca59",
   "metadata": {},
   "outputs": [],
   "source": [
    "import sys\n",
    "sys.path.append(\"../..\")\n",
    "from exp_run_config import Config\n",
    "Config.PROJECTNAME = \"WaterBerryFarms\"\n",
    "\n",
    "import pathlib\n",
    "from wbf_simulate import run_nrobot1day\n"
   ]
  },
  {
   "cell_type": "code",
   "execution_count": 12,
   "id": "8cf68e05",
   "metadata": {},
   "outputs": [
    {
     "name": "stdout",
     "output_type": "stream",
     "text": [
      "***ExpRun**: Experiment config path changed to c:\\Users\\lboloni\\Documents\\Code\\_TempData\\WBF-exp-external\n",
      "***ExpRun**: Experiment data path changed to c:\\Users\\lboloni\\Documents\\Code\\_TempData\\WBF-data-external\n",
      "***ExpRun**: Experiment mrmr copied to c:\\Users\\lboloni\\Documents\\Code\\_TempData\\WBF-exp-external\\mrmr\n",
      "***ExpRun**: Experiment environment copied to c:\\Users\\lboloni\\Documents\\Code\\_TempData\\WBF-exp-external\\environment\n",
      "***ExpRun**: Experiment policy copied to c:\\Users\\lboloni\\Documents\\Code\\_TempData\\WBF-exp-external\\policy\n"
     ]
    }
   ],
   "source": [
    "# Run an experiment with a different budget\n",
    "experiment_path = pathlib.Path(Config()[\"experiment_external\"])\n",
    "experiment_path.mkdir(exist_ok=True)\n",
    "experiment_data = pathlib.Path(Config()[\"data_external\"])\n",
    "experiment_data.mkdir(exist_ok=True)\n",
    "\n",
    "Config().set_experiment_path(experiment_path)\n",
    "Config().set_experiment_data(experiment_data)\n",
    "# FIXME this is dangerous, because if it has the original paths, it overwrites the experiments, this needs to be fixed\n",
    "Config().copy_experiment(\"mrmr\")\n",
    "Config().copy_experiment(\"environment\")\n",
    "Config().copy_experiment(\"policy\")\n",
    "\n"
   ]
  },
  {
   "cell_type": "code",
   "execution_count": 13,
   "id": "309254fb",
   "metadata": {},
   "outputs": [
    {
     "name": "stdout",
     "output_type": "stream",
     "text": [
      "***ExpRun**: Configuration for exp/run: mrmr/mrmr-clustered-3random successfully loaded\n",
      "***ExpRun**: Exp/run variant mrmr/random-with-hello created in c:\\Users\\lboloni\\Documents\\Code\\_TempData\\WBF-exp-external\\mrmr\\random-with-hello.yaml\n",
      "***ExpRun**: Configuration for exp/run: mrmr/random-with-hello successfully loaded\n"
     ]
    },
    {
     "ename": "KeyError",
     "evalue": "'run_environment'",
     "output_type": "error",
     "traceback": [
      "\u001b[1;31m---------------------------------------------------------------------------\u001b[0m",
      "\u001b[1;31mKeyError\u001b[0m                                  Traceback (most recent call last)",
      "Cell \u001b[1;32mIn[13], line 10\u001b[0m\n\u001b[0;32m      8\u001b[0m \u001b[38;5;66;03m# \u001b[39;00m\n\u001b[0;32m      9\u001b[0m exp \u001b[38;5;241m=\u001b[39m Config()\u001b[38;5;241m.\u001b[39mget_experiment(experiment, run)\n\u001b[1;32m---> 10\u001b[0m \u001b[43mrun_nrobot1day\u001b[49m\u001b[43m(\u001b[49m\u001b[43mexp\u001b[49m\u001b[43m)\u001b[49m\n",
      "File \u001b[1;32mc:\\Users\\lboloni\\Documents\\Code\\_Checkouts\\WBF\\WaterBerryFarms\\papers\\y2025_mrmr\\../..\\wbf_simulate.py:280\u001b[0m, in \u001b[0;36mrun_nrobot1day\u001b[1;34m(exp)\u001b[0m\n\u001b[0;32m    277\u001b[0m     \u001b[38;5;28;01mreturn\u001b[39;00m \n\u001b[0;32m    279\u001b[0m \u001b[38;5;66;03m# the exp for the environment\u001b[39;00m\n\u001b[1;32m--> 280\u001b[0m exp_env \u001b[38;5;241m=\u001b[39m Config()\u001b[38;5;241m.\u001b[39mget_experiment(exp[\u001b[38;5;124m\"\u001b[39m\u001b[38;5;124mexp_environment\u001b[39m\u001b[38;5;124m\"\u001b[39m], \u001b[43mexp\u001b[49m\u001b[43m[\u001b[49m\u001b[38;5;124;43m\"\u001b[39;49m\u001b[38;5;124;43mrun_environment\u001b[39;49m\u001b[38;5;124;43m\"\u001b[39;49m\u001b[43m]\u001b[49m)\n\u001b[0;32m    281\u001b[0m pprint(exp_env)\n\u001b[0;32m    282\u001b[0m \u001b[38;5;66;03m# the exp for estimator\u001b[39;00m\n",
      "File \u001b[1;32mc:\\Users\\lboloni\\Documents\\Code\\_Checkouts\\WBF\\WaterBerryFarms\\papers\\y2025_mrmr\\../..\\exp_run_config.py:46\u001b[0m, in \u001b[0;36mExperiment.__getitem__\u001b[1;34m(self, key)\u001b[0m\n\u001b[0;32m     45\u001b[0m \u001b[38;5;28;01mdef\u001b[39;00m \u001b[38;5;21m__getitem__\u001b[39m(\u001b[38;5;28mself\u001b[39m, key):\n\u001b[1;32m---> 46\u001b[0m     \u001b[38;5;28;01mreturn\u001b[39;00m \u001b[38;5;28;43mself\u001b[39;49m\u001b[38;5;241;43m.\u001b[39;49m\u001b[43mvalues\u001b[49m\u001b[43m[\u001b[49m\u001b[43mkey\u001b[49m\u001b[43m]\u001b[49m\n",
      "\u001b[1;31mKeyError\u001b[0m: 'run_environment'"
     ]
    }
   ],
   "source": [
    "# Create a new experiment with a different budget and run it\n",
    "# exp = Config().get_experiment\n",
    "# this is a rather meaningless variant, but let us see how we can run it\n",
    "experiment = \"mrmr\"\n",
    "run_template = \"mrmr-clustered-3random\"\n",
    "run = \"random-with-hello\"\n",
    "Config().create_exprun_variant(experiment, run_template, changes={\"hello\": 45}, new_run_name=run)\n",
    "# \n",
    "exp = Config().get_experiment(experiment, run)\n",
    "run_nrobot1day(exp)\n",
    "\n"
   ]
  },
  {
   "cell_type": "code",
   "execution_count": null,
   "id": "756d7ad7",
   "metadata": {},
   "outputs": [],
   "source": []
  }
 ],
 "metadata": {
  "kernelspec": {
   "display_name": "WBF-venv",
   "language": "python",
   "name": "python3"
  },
  "language_info": {
   "codemirror_mode": {
    "name": "ipython",
    "version": 3
   },
   "file_extension": ".py",
   "mimetype": "text/x-python",
   "name": "python",
   "nbconvert_exporter": "python",
   "pygments_lexer": "ipython3",
   "version": "3.11.4"
  }
 },
 "nbformat": 4,
 "nbformat_minor": 5
}
