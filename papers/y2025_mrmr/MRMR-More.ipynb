{
 "cells": [
  {
   "cell_type": "markdown",
   "id": "0d56cbe9",
   "metadata": {},
   "source": [
    "### MRMR-More\n",
    "\n",
    "More experiments with the MRMR codebase."
   ]
  },
  {
   "cell_type": "code",
   "execution_count": 1,
   "id": "c369ca59",
   "metadata": {},
   "outputs": [],
   "source": [
    "import sys\n",
    "sys.path.append(\"../..\")\n",
    "from exp_run_config import Config\n",
    "Config.PROJECTNAME = \"WaterBerryFarms\"\n",
    "\n",
    "import pathlib\n",
    "import yaml\n",
    "import tqdm\n",
    "from wbf_simulate import run_nrobot1day\n",
    "from mrmr_graphics import load_back_results, show_robot_with_plan, show_robot_trajectories_and_detections, count_detections, show_agentwise_detections, show_comparative_detections"
   ]
  },
  {
   "cell_type": "code",
   "execution_count": 2,
   "id": "8cf68e05",
   "metadata": {},
   "outputs": [
    {
     "name": "stdout",
     "output_type": "stream",
     "text": [
      "***ExpRun**: Loading pointer config file:\n",
      "\tC:\\Users\\lboloni\\.config\\WaterBerryFarms\\mainsettings.yaml\n",
      "***ExpRun**: Loading machine-specific config file:\n",
      "\tG:\\My Drive\\LotziStudy\\Code\\PackageTracking\\WaterBerryFarms\\settings\\WBF-config-LotziYoga.yaml\n",
      "***ExpRun**: Experiment config path changed to c:\\Users\\lboloni\\Documents\\Code\\_TempData\\WBF-exp-external\n",
      "***ExpRun**: Experiment data path changed to c:\\Users\\lboloni\\Documents\\Code\\_TempData\\WBF-data-external\n",
      "***ExpRun**: Experiment mrmr copied to c:\\Users\\lboloni\\Documents\\Code\\_TempData\\WBF-exp-external\\mrmr\n",
      "***ExpRun**: Experiment environment copied to c:\\Users\\lboloni\\Documents\\Code\\_TempData\\WBF-exp-external\\environment\n",
      "***ExpRun**: Experiment policy copied to c:\\Users\\lboloni\\Documents\\Code\\_TempData\\WBF-exp-external\\policy\n",
      "***ExpRun**: Experiment estimator copied to c:\\Users\\lboloni\\Documents\\Code\\_TempData\\WBF-exp-external\\estimator\n",
      "***ExpRun**: Experiment score copied to c:\\Users\\lboloni\\Documents\\Code\\_TempData\\WBF-exp-external\\score\n",
      "***ExpRun**: Configuration for exp/run: mrmr/mrmr_more successfully loaded\n"
     ]
    }
   ],
   "source": [
    "# Run an experiment with a different budget\n",
    "experiment_path = pathlib.Path(Config()[\"experiment_external\"])\n",
    "experiment_path.mkdir(exist_ok=True)\n",
    "experiment_data = pathlib.Path(Config()[\"data_external\"])\n",
    "experiment_data.mkdir(exist_ok=True)\n",
    "\n",
    "Config().set_experiment_path(experiment_path)\n",
    "Config().set_experiment_data(experiment_data)\n",
    "# FIXME this is dangerous, because if it has the original paths, it overwrites the experiments, this needs to be fixed\n",
    "Config().copy_experiment(\"mrmr\")\n",
    "Config().copy_experiment(\"environment\")\n",
    "Config().copy_experiment(\"policy\")\n",
    "Config().copy_experiment(\"estimator\")\n",
    "Config().copy_experiment(\"score\")\n",
    "\n",
    "exp_dest = Config().get_experiment(\"mrmr\", \"mrmr_more\")\n",
    "\n",
    "ROBOT_COLORS = [\"#E69F00\", \"#56B4E9\", \"#009E73\", \"#00FFFF\", \"#FF00FF\",  \"#FFFF00\"]\n",
    "SHORT_NAME_LOOKUP = {}"
   ]
  },
  {
   "cell_type": "code",
   "execution_count": 3,
   "id": "309254fb",
   "metadata": {},
   "outputs": [],
   "source": [
    "def generate_rw(experiment=\"mrmr\", n_robots = 1, budget = 1000, environment = \"mrmr-custom-notclustered\"):\n",
    "    \"\"\"Generate experiment with n robots following random waypoint, and save it to the experiment path\"\"\"\n",
    "    runname = f\"gen-rw-n_{n_robots}-b_{budget}-e_{environment}\"\n",
    "    val = {}    \n",
    "    val[\"name\"] = \"n random waypoint\"\n",
    "\n",
    "    val[\"exp_environment\"] = \"environment\"\n",
    "    val[\"run_environment\"] = environment\n",
    "\n",
    "    val[\"exp_estimator\"] = \"estimator\"\n",
    "    val[\"run_estimator\"] = \"adaptive-disk\"\n",
    "\n",
    "    val[\"exp_score\"] = \"score\"\n",
    "    val[\"run_score\"] = \"weighted_asymmetric\"\n",
    "\n",
    "    val[\"timesteps-per-day\"] = budget\n",
    "    val[\"time-start-environment\"] = 19\n",
    "\n",
    "    robots = []\n",
    "    val[\"robots\"] = robots\n",
    "\n",
    "    for robot in range(n_robots):\n",
    "        v = {}\n",
    "        robots.append(v)\n",
    "        v[\"name\"] = f\"robot-{robot+1}\"\n",
    "        v[\"exp-policy\"] = \"policy\"\n",
    "        v[\"run-policy\"] = \"random-waypoint\"\n",
    "        vextra = {}\n",
    "        v[\"exp-policy-extra-parameters\"] = vextra\n",
    "        vextra[\"seed\"] = robot\n",
    "        vextra[\"policy-name\"] = f\"rwp-{robot}\"\n",
    "        vextra[\"budget\"] = budget\n",
    "    # save the generated exprun spec\n",
    "    path = pathlib.Path(Config().get_experiment_path(), experiment, runname + \".yaml\")\n",
    "    with open(path, \"w\") as f:\n",
    "        yaml.dump(val, f)\n",
    "    return runname"
   ]
  },
  {
   "cell_type": "code",
   "execution_count": 4,
   "id": "de326963",
   "metadata": {},
   "outputs": [],
   "source": [
    "def generate_lawnmowers(experiment = \"mrmr\", n_robots = 1, budget = 1000, environment = \"mrmr-custom-notclustered\"):\n",
    "    \"\"\"Generate experiment with n robots following lawnmower, with the area being divided into n areas\"\"\"\n",
    "    runname = f\"gen-lawn-n_{n_robots}-b_{budget}-e_{environment}\"\n",
    "    val = {}    \n",
    "    val[\"name\"] = \"n random waypoint\"\n",
    "\n",
    "    val[\"exp_environment\"] = \"environment\"\n",
    "    val[\"run_environment\"] = environment\n",
    "\n",
    "    val[\"exp_estimator\"] = \"estimator\"\n",
    "    val[\"run_estimator\"] = \"adaptive-disk\"\n",
    "\n",
    "    val[\"exp_score\"] = \"score\"\n",
    "    val[\"run_score\"] = \"weighted_asymmetric\"\n",
    "\n",
    "    val[\"timesteps-per-day\"] = budget\n",
    "    val[\"time-start-environment\"] = 19\n",
    "\n",
    "    robots = []\n",
    "    val[\"robots\"] = robots\n",
    "\n",
    "    for robot in range(n_robots):\n",
    "        v = {}\n",
    "        robots.append(v)\n",
    "        v[\"name\"] = f\"robot-{robot+1}\"\n",
    "        v[\"exp-policy\"] = \"policy\"\n",
    "        v[\"run-policy\"] = \"fixed-budget-lawnmower\"\n",
    "        vextra = {}\n",
    "        v[\"exp-policy-extra-parameters\"] = vextra\n",
    "        area = [0,0,0,0]\n",
    "        border = 5\n",
    "        width = (100 - 2 * border) / n_robots\n",
    "        area[0] = int(border)\n",
    "        area[1] = int(border + robot * width)\n",
    "        area[2] = 100 - border\n",
    "        area[3] = int(border + (robot+1) * width)\n",
    "        vextra[\"area\"] = str(area)\n",
    "        vextra[\"policy-name\"] = f\"lawn-{robot}\"\n",
    "        vextra[\"budget\"] = budget\n",
    "\n",
    "    # save the generated path \n",
    "    path = pathlib.Path(Config().get_experiment_path(), experiment, runname + \".yaml\")\n",
    "    with open(path, \"w\") as f:\n",
    "        yaml.dump(val, f)\n",
    "    return runname"
   ]
  },
  {
   "cell_type": "code",
   "execution_count": 5,
   "id": "3c36c5b2",
   "metadata": {},
   "outputs": [],
   "source": [
    "def generate_mrmr(experiment=\"mrmr\", n_robots = 1, budget = 1000, environment = \"mrmr-custom-notclustered\"):\n",
    "    \"\"\"Generate experiment with n robots following lawnmower, with the area being divided into n areas\"\"\"\n",
    "    runname = f\"gen-mrmr-n_{n_robots}-b_{budget}-e_{environment}\"\n",
    "    val = {}    \n",
    "    val[\"name\"] = \"n random waypoint\"\n",
    "\n",
    "    val[\"exp_environment\"] = \"environment\"\n",
    "    val[\"run_environment\"] = environment\n",
    "\n",
    "    val[\"exp_estimator\"] = \"estimator\"\n",
    "    val[\"run_estimator\"] = \"adaptive-disk\"\n",
    "\n",
    "    val[\"exp_score\"] = \"score\"\n",
    "    val[\"run_score\"] = \"weighted_asymmetric\"\n",
    "\n",
    "    val[\"timesteps-per-day\"] = budget\n",
    "    val[\"time-start-environment\"] = 19\n",
    "\n",
    "    robots = []\n",
    "    val[\"robots\"] = robots\n",
    "\n",
    "    # generate the first robot, the pioneer\n",
    "    v = {}\n",
    "    robots.append(v)\n",
    "    v[\"name\"] = f\"pio\"\n",
    "    v[\"exp-policy\"] = \"policy\"\n",
    "    v[\"run-policy\"] = \"generic\"    \n",
    "    vextra = {}\n",
    "    v[\"exp-policy-extra-parameters\"] = vextra\n",
    "    vextra[\"policy-name\"] = f\"mrmr-pioneer\"\n",
    "    vextra[\"policy-code\"] = \"MRMR_Pioneer\"\n",
    "    vextra[\"seed\"] = 1\n",
    "    vextra[\"budget\"] = budget\n",
    "\n",
    "    # generate the other robots, the contractors\n",
    "    for robot in range(n_robots-1):\n",
    "        v = {}\n",
    "        robots.append(v)\n",
    "        v[\"name\"] = f\"con-{robot}\"\n",
    "        v[\"exp-policy\"] = \"policy\"\n",
    "        v[\"run-policy\"] = \"generic\"\n",
    "        vextra = {}\n",
    "        v[\"exp-policy-extra-parameters\"] = vextra\n",
    "        vextra[\"seed\"] = robot + 1\n",
    "        vextra[\"policy-name\"] = f\"mrmr-contractor-{robot}\"\n",
    "        vextra[\"policy-code\"] = \"MRMR_Contractor\"\n",
    "        vextra[\"budget\"] = budget\n",
    "\n",
    "    # save the generated path \n",
    "    path = pathlib.Path(Config().get_experiment_path(), experiment, runname + \".yaml\")\n",
    "    with open(path, \"w\") as f:\n",
    "        yaml.dump(val, f)\n",
    "    return runname"
   ]
  },
  {
   "cell_type": "markdown",
   "id": "7f43edab",
   "metadata": {},
   "source": [
    "### Generate a range of experiments"
   ]
  },
  {
   "cell_type": "code",
   "execution_count": 6,
   "id": "f4c7148a",
   "metadata": {},
   "outputs": [],
   "source": [
    "# run = generate_rw(n_robots=3, budget=1000)\n",
    "# run = generate_lawnmowers(n_robots=3, budget=1000)\n",
    "runs = []\n",
    "# runs for comparison different robots, budget 1000\n",
    "runs_b1000_clustered = []\n",
    "runs_n3_clustered = []\n",
    "runs_b1000_unclustered = []\n",
    "runs_n3_unclustered = []\n",
    "\n",
    "# FIXME: generate some other lists as well\n",
    "experiment = \"mrmr\"\n",
    "\n",
    "for n_robots in range(1, 5):\n",
    "    #for budget in [500, 1000, 1500, 2000]:\n",
    "    for budget in [500, 1000, 1500]:\n",
    "        for environment in [\"mrmr-custom-notclustered\", \"mrmr-custom-clustered\"]:\n",
    "            # lawnmowers\n",
    "            runs2 = []\n",
    "            run = generate_lawnmowers(experiment, n_robots=n_robots, budget=budget, environment = environment)\n",
    "            runs2.append(run)\n",
    "            # random waypoint\n",
    "            run = generate_rw(experiment, n_robots=n_robots, budget=budget, environment = environment)\n",
    "            runs2.append(run)\n",
    "            # mrmr\n",
    "            run = generate_mrmr(experiment, n_robots=n_robots, budget=budget, environment = environment)\n",
    "            runs2.append(run)\n",
    "            # \n",
    "            runs.extend(runs2)\n",
    "            if budget == 1000 and environment == \"mrmr-custom-clustered\":\n",
    "                runs_b1000_clustered.extend(runs2)\n",
    "            if budget == 1000 and environment == \"mrmr-custom-notclustered\":\n",
    "                runs_b1000_unclustered.extend(runs2)\n",
    "            if n_robots == 3 and environment == \"mrmr-custom-clustered\":\n",
    "                runs_n3_clustered.extend(runs2)\n",
    "            if n_robots == 3 and environment == \"mrmr-custom-notclustered\":\n",
    "                runs_n3_unclustered.extend(runs2)\n",
    "\n"
   ]
  },
  {
   "cell_type": "markdown",
   "id": "74c30e26",
   "metadata": {},
   "source": [
    "### Run the experiments\n",
    "Run all the experiments"
   ]
  },
  {
   "cell_type": "code",
   "execution_count": 7,
   "id": "8e5e2b05",
   "metadata": {},
   "outputs": [
    {
     "name": "stderr",
     "output_type": "stream",
     "text": [
      "  0%|          | 0/72 [00:00<?, ?it/s]"
     ]
    },
    {
     "name": "stdout",
     "output_type": "stream",
     "text": [
      "***ExpRun**: Configuration for exp/run: mrmr/gen-lawn-n_1-b_500-e_mrmr-custom-notclustered successfully loaded\n",
      "Results file already exists:\n",
      "c:\\Users\\lboloni\\Documents\\Code\\_TempData\\WBF-data-external\\mrmr\\gen-lawn-n_1-b_500-e_mrmr-custom-notclustered\\results.pickle\n",
      "***ExpRun**: Configuration for exp/run: mrmr/gen-rw-n_1-b_500-e_mrmr-custom-notclustered successfully loaded\n",
      "Results file already exists:\n",
      "c:\\Users\\lboloni\\Documents\\Code\\_TempData\\WBF-data-external\\mrmr\\gen-rw-n_1-b_500-e_mrmr-custom-notclustered\\results.pickle\n",
      "***ExpRun**: Configuration for exp/run: mrmr/gen-mrmr-n_1-b_500-e_mrmr-custom-notclustered successfully loaded\n",
      "Results file already exists:\n",
      "c:\\Users\\lboloni\\Documents\\Code\\_TempData\\WBF-data-external\\mrmr\\gen-mrmr-n_1-b_500-e_mrmr-custom-notclustered\\results.pickle\n",
      "***ExpRun**: Configuration for exp/run: mrmr/gen-lawn-n_1-b_500-e_mrmr-custom-clustered successfully loaded\n",
      "Results file already exists:\n",
      "c:\\Users\\lboloni\\Documents\\Code\\_TempData\\WBF-data-external\\mrmr\\gen-lawn-n_1-b_500-e_mrmr-custom-clustered\\results.pickle\n",
      "***ExpRun**: Configuration for exp/run: mrmr/gen-rw-n_1-b_500-e_mrmr-custom-clustered successfully loaded\n",
      "Results file already exists:\n",
      "c:\\Users\\lboloni\\Documents\\Code\\_TempData\\WBF-data-external\\mrmr\\gen-rw-n_1-b_500-e_mrmr-custom-clustered\\results.pickle\n",
      "***ExpRun**: Configuration for exp/run: mrmr/gen-mrmr-n_1-b_500-e_mrmr-custom-clustered successfully loaded\n",
      "Results file already exists:\n",
      "c:\\Users\\lboloni\\Documents\\Code\\_TempData\\WBF-data-external\\mrmr\\gen-mrmr-n_1-b_500-e_mrmr-custom-clustered\\results.pickle\n",
      "***ExpRun**: Configuration for exp/run: mrmr/gen-lawn-n_1-b_1000-e_mrmr-custom-notclustered successfully loaded\n",
      "Results file already exists:\n",
      "c:\\Users\\lboloni\\Documents\\Code\\_TempData\\WBF-data-external\\mrmr\\gen-lawn-n_1-b_1000-e_mrmr-custom-notclustered\\results.pickle\n",
      "***ExpRun**: Configuration for exp/run: mrmr/gen-rw-n_1-b_1000-e_mrmr-custom-notclustered successfully loaded\n",
      "Results file already exists:\n",
      "c:\\Users\\lboloni\\Documents\\Code\\_TempData\\WBF-data-external\\mrmr\\gen-rw-n_1-b_1000-e_mrmr-custom-notclustered\\results.pickle\n",
      "***ExpRun**: Configuration for exp/run: mrmr/gen-mrmr-n_1-b_1000-e_mrmr-custom-notclustered successfully loaded\n",
      "Results file already exists:\n",
      "c:\\Users\\lboloni\\Documents\\Code\\_TempData\\WBF-data-external\\mrmr\\gen-mrmr-n_1-b_1000-e_mrmr-custom-notclustered\\results.pickle\n",
      "***ExpRun**: Configuration for exp/run: mrmr/gen-lawn-n_1-b_1000-e_mrmr-custom-clustered successfully loaded\n",
      "Results file already exists:\n",
      "c:\\Users\\lboloni\\Documents\\Code\\_TempData\\WBF-data-external\\mrmr\\gen-lawn-n_1-b_1000-e_mrmr-custom-clustered\\results.pickle\n",
      "***ExpRun**: Configuration for exp/run: mrmr/gen-rw-n_1-b_1000-e_mrmr-custom-clustered successfully loaded\n",
      "Results file already exists:\n",
      "c:\\Users\\lboloni\\Documents\\Code\\_TempData\\WBF-data-external\\mrmr\\gen-rw-n_1-b_1000-e_mrmr-custom-clustered\\results.pickle\n",
      "***ExpRun**: Configuration for exp/run: mrmr/gen-mrmr-n_1-b_1000-e_mrmr-custom-clustered successfully loaded\n",
      "Results file already exists:\n",
      "c:\\Users\\lboloni\\Documents\\Code\\_TempData\\WBF-data-external\\mrmr\\gen-mrmr-n_1-b_1000-e_mrmr-custom-clustered\\results.pickle\n",
      "***ExpRun**: Configuration for exp/run: mrmr/gen-lawn-n_1-b_1500-e_mrmr-custom-notclustered successfully loaded\n",
      "Results file already exists:\n",
      "c:\\Users\\lboloni\\Documents\\Code\\_TempData\\WBF-data-external\\mrmr\\gen-lawn-n_1-b_1500-e_mrmr-custom-notclustered\\results.pickle\n",
      "***ExpRun**: Configuration for exp/run: mrmr/gen-rw-n_1-b_1500-e_mrmr-custom-notclustered successfully loaded\n",
      "Results file already exists:\n",
      "c:\\Users\\lboloni\\Documents\\Code\\_TempData\\WBF-data-external\\mrmr\\gen-rw-n_1-b_1500-e_mrmr-custom-notclustered\\results.pickle\n",
      "***ExpRun**: Configuration for exp/run: mrmr/gen-mrmr-n_1-b_1500-e_mrmr-custom-notclustered successfully loaded\n",
      "Results file already exists:\n",
      "c:\\Users\\lboloni\\Documents\\Code\\_TempData\\WBF-data-external\\mrmr\\gen-mrmr-n_1-b_1500-e_mrmr-custom-notclustered\\results.pickle\n",
      "***ExpRun**: Configuration for exp/run: mrmr/gen-lawn-n_1-b_1500-e_mrmr-custom-clustered successfully loaded\n",
      "Results file already exists:\n",
      "c:\\Users\\lboloni\\Documents\\Code\\_TempData\\WBF-data-external\\mrmr\\gen-lawn-n_1-b_1500-e_mrmr-custom-clustered\\results.pickle\n",
      "***ExpRun**: Configuration for exp/run: mrmr/gen-rw-n_1-b_1500-e_mrmr-custom-clustered successfully loaded\n",
      "Results file already exists:\n",
      "c:\\Users\\lboloni\\Documents\\Code\\_TempData\\WBF-data-external\\mrmr\\gen-rw-n_1-b_1500-e_mrmr-custom-clustered\\results.pickle\n",
      "***ExpRun**: Configuration for exp/run: mrmr/gen-mrmr-n_1-b_1500-e_mrmr-custom-clustered successfully loaded\n",
      "Results file already exists:\n",
      "c:\\Users\\lboloni\\Documents\\Code\\_TempData\\WBF-data-external\\mrmr\\gen-mrmr-n_1-b_1500-e_mrmr-custom-clustered\\results.pickle\n",
      "***ExpRun**: Configuration for exp/run: mrmr/gen-lawn-n_2-b_500-e_mrmr-custom-notclustered successfully loaded\n",
      "Results file already exists:\n",
      "c:\\Users\\lboloni\\Documents\\Code\\_TempData\\WBF-data-external\\mrmr\\gen-lawn-n_2-b_500-e_mrmr-custom-notclustered\\results.pickle\n",
      "***ExpRun**: Configuration for exp/run: mrmr/gen-rw-n_2-b_500-e_mrmr-custom-notclustered successfully loaded\n"
     ]
    },
    {
     "name": "stderr",
     "output_type": "stream",
     "text": [
      " 28%|██▊       | 20/72 [00:00<00:00, 194.17it/s]"
     ]
    },
    {
     "name": "stdout",
     "output_type": "stream",
     "text": [
      "Results file already exists:\n",
      "c:\\Users\\lboloni\\Documents\\Code\\_TempData\\WBF-data-external\\mrmr\\gen-rw-n_2-b_500-e_mrmr-custom-notclustered\\results.pickle\n",
      "***ExpRun**: Configuration for exp/run: mrmr/gen-mrmr-n_2-b_500-e_mrmr-custom-notclustered successfully loaded\n",
      "Results file already exists:\n",
      "c:\\Users\\lboloni\\Documents\\Code\\_TempData\\WBF-data-external\\mrmr\\gen-mrmr-n_2-b_500-e_mrmr-custom-notclustered\\results.pickle\n",
      "***ExpRun**: Configuration for exp/run: mrmr/gen-lawn-n_2-b_500-e_mrmr-custom-clustered successfully loaded\n",
      "Results file already exists:\n",
      "c:\\Users\\lboloni\\Documents\\Code\\_TempData\\WBF-data-external\\mrmr\\gen-lawn-n_2-b_500-e_mrmr-custom-clustered\\results.pickle\n",
      "***ExpRun**: Configuration for exp/run: mrmr/gen-rw-n_2-b_500-e_mrmr-custom-clustered successfully loaded\n",
      "Results file already exists:\n",
      "c:\\Users\\lboloni\\Documents\\Code\\_TempData\\WBF-data-external\\mrmr\\gen-rw-n_2-b_500-e_mrmr-custom-clustered\\results.pickle\n",
      "***ExpRun**: Configuration for exp/run: mrmr/gen-mrmr-n_2-b_500-e_mrmr-custom-clustered successfully loaded\n",
      "Results file already exists:\n",
      "c:\\Users\\lboloni\\Documents\\Code\\_TempData\\WBF-data-external\\mrmr\\gen-mrmr-n_2-b_500-e_mrmr-custom-clustered\\results.pickle\n",
      "***ExpRun**: Configuration for exp/run: mrmr/gen-lawn-n_2-b_1000-e_mrmr-custom-notclustered successfully loaded\n",
      "Results file already exists:\n",
      "c:\\Users\\lboloni\\Documents\\Code\\_TempData\\WBF-data-external\\mrmr\\gen-lawn-n_2-b_1000-e_mrmr-custom-notclustered\\results.pickle\n",
      "***ExpRun**: Configuration for exp/run: mrmr/gen-rw-n_2-b_1000-e_mrmr-custom-notclustered successfully loaded\n",
      "Results file already exists:\n",
      "c:\\Users\\lboloni\\Documents\\Code\\_TempData\\WBF-data-external\\mrmr\\gen-rw-n_2-b_1000-e_mrmr-custom-notclustered\\results.pickle\n",
      "***ExpRun**: Configuration for exp/run: mrmr/gen-mrmr-n_2-b_1000-e_mrmr-custom-notclustered successfully loaded\n",
      "Results file already exists:\n",
      "c:\\Users\\lboloni\\Documents\\Code\\_TempData\\WBF-data-external\\mrmr\\gen-mrmr-n_2-b_1000-e_mrmr-custom-notclustered\\results.pickle\n",
      "***ExpRun**: Configuration for exp/run: mrmr/gen-lawn-n_2-b_1000-e_mrmr-custom-clustered successfully loaded\n",
      "Results file already exists:\n",
      "c:\\Users\\lboloni\\Documents\\Code\\_TempData\\WBF-data-external\\mrmr\\gen-lawn-n_2-b_1000-e_mrmr-custom-clustered\\results.pickle\n",
      "***ExpRun**: Configuration for exp/run: mrmr/gen-rw-n_2-b_1000-e_mrmr-custom-clustered successfully loaded\n",
      "Results file already exists:\n",
      "c:\\Users\\lboloni\\Documents\\Code\\_TempData\\WBF-data-external\\mrmr\\gen-rw-n_2-b_1000-e_mrmr-custom-clustered\\results.pickle\n",
      "***ExpRun**: Configuration for exp/run: mrmr/gen-mrmr-n_2-b_1000-e_mrmr-custom-clustered successfully loaded\n",
      "Results file already exists:\n",
      "c:\\Users\\lboloni\\Documents\\Code\\_TempData\\WBF-data-external\\mrmr\\gen-mrmr-n_2-b_1000-e_mrmr-custom-clustered\\results.pickle\n",
      "***ExpRun**: Configuration for exp/run: mrmr/gen-lawn-n_2-b_1500-e_mrmr-custom-notclustered successfully loaded\n",
      "Results file already exists:\n",
      "c:\\Users\\lboloni\\Documents\\Code\\_TempData\\WBF-data-external\\mrmr\\gen-lawn-n_2-b_1500-e_mrmr-custom-notclustered\\results.pickle\n",
      "***ExpRun**: Configuration for exp/run: mrmr/gen-rw-n_2-b_1500-e_mrmr-custom-notclustered successfully loaded\n",
      "Results file already exists:\n",
      "c:\\Users\\lboloni\\Documents\\Code\\_TempData\\WBF-data-external\\mrmr\\gen-rw-n_2-b_1500-e_mrmr-custom-notclustered\\results.pickle\n",
      "***ExpRun**: Configuration for exp/run: mrmr/gen-mrmr-n_2-b_1500-e_mrmr-custom-notclustered successfully loaded\n",
      "Results file already exists:\n",
      "c:\\Users\\lboloni\\Documents\\Code\\_TempData\\WBF-data-external\\mrmr\\gen-mrmr-n_2-b_1500-e_mrmr-custom-notclustered\\results.pickle\n",
      "***ExpRun**: Configuration for exp/run: mrmr/gen-lawn-n_2-b_1500-e_mrmr-custom-clustered successfully loaded\n",
      "Results file already exists:\n",
      "c:\\Users\\lboloni\\Documents\\Code\\_TempData\\WBF-data-external\\mrmr\\gen-lawn-n_2-b_1500-e_mrmr-custom-clustered\\results.pickle\n",
      "***ExpRun**: Configuration for exp/run: mrmr/gen-rw-n_2-b_1500-e_mrmr-custom-clustered successfully loaded\n",
      "Results file already exists:\n",
      "c:\\Users\\lboloni\\Documents\\Code\\_TempData\\WBF-data-external\\mrmr\\gen-rw-n_2-b_1500-e_mrmr-custom-clustered\\results.pickle\n",
      "***ExpRun**: Configuration for exp/run: mrmr/gen-mrmr-n_2-b_1500-e_mrmr-custom-clustered successfully loaded\n",
      "Results file already exists:\n",
      "c:\\Users\\lboloni\\Documents\\Code\\_TempData\\WBF-data-external\\mrmr\\gen-mrmr-n_2-b_1500-e_mrmr-custom-clustered\\results.pickle\n",
      "***ExpRun**: Configuration for exp/run: mrmr/gen-lawn-n_3-b_500-e_mrmr-custom-notclustered successfully loaded\n",
      "Results file already exists:\n",
      "c:\\Users\\lboloni\\Documents\\Code\\_TempData\\WBF-data-external\\mrmr\\gen-lawn-n_3-b_500-e_mrmr-custom-notclustered\\results.pickle\n",
      "***ExpRun**: Configuration for exp/run: mrmr/gen-rw-n_3-b_500-e_mrmr-custom-notclustered successfully loaded\n",
      "Results file already exists:\n",
      "c:\\Users\\lboloni\\Documents\\Code\\_TempData\\WBF-data-external\\mrmr\\gen-rw-n_3-b_500-e_mrmr-custom-notclustered\\results.pickle\n",
      "***ExpRun**: Configuration for exp/run: mrmr/gen-mrmr-n_3-b_500-e_mrmr-custom-notclustered successfully loaded\n",
      "Results file already exists:\n",
      "c:\\Users\\lboloni\\Documents\\Code\\_TempData\\WBF-data-external\\mrmr\\gen-mrmr-n_3-b_500-e_mrmr-custom-notclustered\\results.pickle\n",
      "***ExpRun**: Configuration for exp/run: mrmr/gen-lawn-n_3-b_500-e_mrmr-custom-clustered successfully loaded\n"
     ]
    },
    {
     "name": "stderr",
     "output_type": "stream",
     "text": [
      " 56%|█████▌    | 40/72 [00:00<00:00, 156.30it/s]"
     ]
    },
    {
     "name": "stdout",
     "output_type": "stream",
     "text": [
      "Results file already exists:\n",
      "c:\\Users\\lboloni\\Documents\\Code\\_TempData\\WBF-data-external\\mrmr\\gen-lawn-n_3-b_500-e_mrmr-custom-clustered\\results.pickle\n",
      "***ExpRun**: Configuration for exp/run: mrmr/gen-rw-n_3-b_500-e_mrmr-custom-clustered successfully loaded\n",
      "Results file already exists:\n",
      "c:\\Users\\lboloni\\Documents\\Code\\_TempData\\WBF-data-external\\mrmr\\gen-rw-n_3-b_500-e_mrmr-custom-clustered\\results.pickle\n",
      "***ExpRun**: Configuration for exp/run: mrmr/gen-mrmr-n_3-b_500-e_mrmr-custom-clustered successfully loaded\n",
      "Results file already exists:\n",
      "c:\\Users\\lboloni\\Documents\\Code\\_TempData\\WBF-data-external\\mrmr\\gen-mrmr-n_3-b_500-e_mrmr-custom-clustered\\results.pickle\n",
      "***ExpRun**: Configuration for exp/run: mrmr/gen-lawn-n_3-b_1000-e_mrmr-custom-notclustered successfully loaded\n",
      "Results file already exists:\n",
      "c:\\Users\\lboloni\\Documents\\Code\\_TempData\\WBF-data-external\\mrmr\\gen-lawn-n_3-b_1000-e_mrmr-custom-notclustered\\results.pickle\n",
      "***ExpRun**: Configuration for exp/run: mrmr/gen-rw-n_3-b_1000-e_mrmr-custom-notclustered successfully loaded\n",
      "Results file already exists:\n",
      "c:\\Users\\lboloni\\Documents\\Code\\_TempData\\WBF-data-external\\mrmr\\gen-rw-n_3-b_1000-e_mrmr-custom-notclustered\\results.pickle\n",
      "***ExpRun**: Configuration for exp/run: mrmr/gen-mrmr-n_3-b_1000-e_mrmr-custom-notclustered successfully loaded\n",
      "Results file already exists:\n",
      "c:\\Users\\lboloni\\Documents\\Code\\_TempData\\WBF-data-external\\mrmr\\gen-mrmr-n_3-b_1000-e_mrmr-custom-notclustered\\results.pickle\n",
      "***ExpRun**: Configuration for exp/run: mrmr/gen-lawn-n_3-b_1000-e_mrmr-custom-clustered successfully loaded\n",
      "Results file already exists:\n",
      "c:\\Users\\lboloni\\Documents\\Code\\_TempData\\WBF-data-external\\mrmr\\gen-lawn-n_3-b_1000-e_mrmr-custom-clustered\\results.pickle\n",
      "***ExpRun**: Configuration for exp/run: mrmr/gen-rw-n_3-b_1000-e_mrmr-custom-clustered successfully loaded\n",
      "Results file already exists:\n",
      "c:\\Users\\lboloni\\Documents\\Code\\_TempData\\WBF-data-external\\mrmr\\gen-rw-n_3-b_1000-e_mrmr-custom-clustered\\results.pickle\n",
      "***ExpRun**: Configuration for exp/run: mrmr/gen-mrmr-n_3-b_1000-e_mrmr-custom-clustered successfully loaded\n",
      "Results file already exists:\n",
      "c:\\Users\\lboloni\\Documents\\Code\\_TempData\\WBF-data-external\\mrmr\\gen-mrmr-n_3-b_1000-e_mrmr-custom-clustered\\results.pickle\n",
      "***ExpRun**: Configuration for exp/run: mrmr/gen-lawn-n_3-b_1500-e_mrmr-custom-notclustered successfully loaded\n",
      "Results file already exists:\n",
      "c:\\Users\\lboloni\\Documents\\Code\\_TempData\\WBF-data-external\\mrmr\\gen-lawn-n_3-b_1500-e_mrmr-custom-notclustered\\results.pickle\n",
      "***ExpRun**: Configuration for exp/run: mrmr/gen-rw-n_3-b_1500-e_mrmr-custom-notclustered successfully loaded\n",
      "Results file already exists:\n",
      "c:\\Users\\lboloni\\Documents\\Code\\_TempData\\WBF-data-external\\mrmr\\gen-rw-n_3-b_1500-e_mrmr-custom-notclustered\\results.pickle\n",
      "***ExpRun**: Configuration for exp/run: mrmr/gen-mrmr-n_3-b_1500-e_mrmr-custom-notclustered successfully loaded\n",
      "Results file already exists:\n",
      "c:\\Users\\lboloni\\Documents\\Code\\_TempData\\WBF-data-external\\mrmr\\gen-mrmr-n_3-b_1500-e_mrmr-custom-notclustered\\results.pickle\n",
      "***ExpRun**: Configuration for exp/run: mrmr/gen-lawn-n_3-b_1500-e_mrmr-custom-clustered successfully loaded\n",
      "Results file already exists:\n",
      "c:\\Users\\lboloni\\Documents\\Code\\_TempData\\WBF-data-external\\mrmr\\gen-lawn-n_3-b_1500-e_mrmr-custom-clustered\\results.pickle\n",
      "***ExpRun**: Configuration for exp/run: mrmr/gen-rw-n_3-b_1500-e_mrmr-custom-clustered successfully loaded\n",
      "Results file already exists:\n",
      "c:\\Users\\lboloni\\Documents\\Code\\_TempData\\WBF-data-external\\mrmr\\gen-rw-n_3-b_1500-e_mrmr-custom-clustered\\results.pickle\n",
      "***ExpRun**: Configuration for exp/run: mrmr/gen-mrmr-n_3-b_1500-e_mrmr-custom-clustered successfully loaded\n",
      "Results file already exists:\n",
      "c:\\Users\\lboloni\\Documents\\Code\\_TempData\\WBF-data-external\\mrmr\\gen-mrmr-n_3-b_1500-e_mrmr-custom-clustered\\results.pickle\n",
      "***ExpRun**: Configuration for exp/run: mrmr/gen-lawn-n_4-b_500-e_mrmr-custom-notclustered successfully loaded\n",
      "Results file already exists:\n",
      "c:\\Users\\lboloni\\Documents\\Code\\_TempData\\WBF-data-external\\mrmr\\gen-lawn-n_4-b_500-e_mrmr-custom-notclustered\\results.pickle\n",
      "***ExpRun**: Configuration for exp/run: mrmr/gen-rw-n_4-b_500-e_mrmr-custom-notclustered successfully loaded\n",
      "Results file already exists:\n",
      "c:\\Users\\lboloni\\Documents\\Code\\_TempData\\WBF-data-external\\mrmr\\gen-rw-n_4-b_500-e_mrmr-custom-notclustered\\results.pickle\n",
      "***ExpRun**: Configuration for exp/run: mrmr/gen-mrmr-n_4-b_500-e_mrmr-custom-notclustered successfully loaded\n"
     ]
    },
    {
     "name": "stderr",
     "output_type": "stream",
     "text": [
      " 79%|███████▉  | 57/72 [00:00<00:00, 109.12it/s]"
     ]
    },
    {
     "name": "stdout",
     "output_type": "stream",
     "text": [
      "Results file already exists:\n",
      "c:\\Users\\lboloni\\Documents\\Code\\_TempData\\WBF-data-external\\mrmr\\gen-mrmr-n_4-b_500-e_mrmr-custom-notclustered\\results.pickle\n",
      "***ExpRun**: Configuration for exp/run: mrmr/gen-lawn-n_4-b_500-e_mrmr-custom-clustered successfully loaded\n",
      "Results file already exists:\n",
      "c:\\Users\\lboloni\\Documents\\Code\\_TempData\\WBF-data-external\\mrmr\\gen-lawn-n_4-b_500-e_mrmr-custom-clustered\\results.pickle\n",
      "***ExpRun**: Configuration for exp/run: mrmr/gen-rw-n_4-b_500-e_mrmr-custom-clustered successfully loaded\n",
      "Results file already exists:\n",
      "c:\\Users\\lboloni\\Documents\\Code\\_TempData\\WBF-data-external\\mrmr\\gen-rw-n_4-b_500-e_mrmr-custom-clustered\\results.pickle\n",
      "***ExpRun**: Configuration for exp/run: mrmr/gen-mrmr-n_4-b_500-e_mrmr-custom-clustered successfully loaded\n",
      "Results file already exists:\n",
      "c:\\Users\\lboloni\\Documents\\Code\\_TempData\\WBF-data-external\\mrmr\\gen-mrmr-n_4-b_500-e_mrmr-custom-clustered\\results.pickle\n",
      "***ExpRun**: Configuration for exp/run: mrmr/gen-lawn-n_4-b_1000-e_mrmr-custom-notclustered successfully loaded\n",
      "Results file already exists:\n",
      "c:\\Users\\lboloni\\Documents\\Code\\_TempData\\WBF-data-external\\mrmr\\gen-lawn-n_4-b_1000-e_mrmr-custom-notclustered\\results.pickle\n",
      "***ExpRun**: Configuration for exp/run: mrmr/gen-rw-n_4-b_1000-e_mrmr-custom-notclustered successfully loaded\n",
      "Results file already exists:\n",
      "c:\\Users\\lboloni\\Documents\\Code\\_TempData\\WBF-data-external\\mrmr\\gen-rw-n_4-b_1000-e_mrmr-custom-notclustered\\results.pickle\n",
      "***ExpRun**: Configuration for exp/run: mrmr/gen-mrmr-n_4-b_1000-e_mrmr-custom-notclustered successfully loaded\n",
      "Results file already exists:\n",
      "c:\\Users\\lboloni\\Documents\\Code\\_TempData\\WBF-data-external\\mrmr\\gen-mrmr-n_4-b_1000-e_mrmr-custom-notclustered\\results.pickle\n",
      "***ExpRun**: Configuration for exp/run: mrmr/gen-lawn-n_4-b_1000-e_mrmr-custom-clustered successfully loaded\n",
      "Results file already exists:\n",
      "c:\\Users\\lboloni\\Documents\\Code\\_TempData\\WBF-data-external\\mrmr\\gen-lawn-n_4-b_1000-e_mrmr-custom-clustered\\results.pickle\n",
      "***ExpRun**: Configuration for exp/run: mrmr/gen-rw-n_4-b_1000-e_mrmr-custom-clustered successfully loaded\n",
      "Results file already exists:\n",
      "c:\\Users\\lboloni\\Documents\\Code\\_TempData\\WBF-data-external\\mrmr\\gen-rw-n_4-b_1000-e_mrmr-custom-clustered\\results.pickle\n",
      "***ExpRun**: Configuration for exp/run: mrmr/gen-mrmr-n_4-b_1000-e_mrmr-custom-clustered successfully loaded\n",
      "Results file already exists:\n",
      "c:\\Users\\lboloni\\Documents\\Code\\_TempData\\WBF-data-external\\mrmr\\gen-mrmr-n_4-b_1000-e_mrmr-custom-clustered\\results.pickle\n",
      "***ExpRun**: Configuration for exp/run: mrmr/gen-lawn-n_4-b_1500-e_mrmr-custom-notclustered successfully loaded\n",
      "Results file already exists:\n",
      "c:\\Users\\lboloni\\Documents\\Code\\_TempData\\WBF-data-external\\mrmr\\gen-lawn-n_4-b_1500-e_mrmr-custom-notclustered\\results.pickle\n",
      "***ExpRun**: Configuration for exp/run: mrmr/gen-rw-n_4-b_1500-e_mrmr-custom-notclustered successfully loaded\n",
      "Results file already exists:\n",
      "c:\\Users\\lboloni\\Documents\\Code\\_TempData\\WBF-data-external\\mrmr\\gen-rw-n_4-b_1500-e_mrmr-custom-notclustered\\results.pickle\n",
      "***ExpRun**: Configuration for exp/run: mrmr/gen-mrmr-n_4-b_1500-e_mrmr-custom-notclustered successfully loaded\n",
      "Results file already exists:\n",
      "c:\\Users\\lboloni\\Documents\\Code\\_TempData\\WBF-data-external\\mrmr\\gen-mrmr-n_4-b_1500-e_mrmr-custom-notclustered\\results.pickle\n",
      "***ExpRun**: Configuration for exp/run: mrmr/gen-lawn-n_4-b_1500-e_mrmr-custom-clustered successfully loaded\n"
     ]
    },
    {
     "name": "stderr",
     "output_type": "stream",
     "text": [
      " 97%|█████████▋| 70/72 [00:00<00:00, 90.09it/s] "
     ]
    },
    {
     "name": "stdout",
     "output_type": "stream",
     "text": [
      "Results file already exists:\n",
      "c:\\Users\\lboloni\\Documents\\Code\\_TempData\\WBF-data-external\\mrmr\\gen-lawn-n_4-b_1500-e_mrmr-custom-clustered\\results.pickle\n",
      "***ExpRun**: Configuration for exp/run: mrmr/gen-rw-n_4-b_1500-e_mrmr-custom-clustered successfully loaded\n",
      "Results file already exists:\n",
      "c:\\Users\\lboloni\\Documents\\Code\\_TempData\\WBF-data-external\\mrmr\\gen-rw-n_4-b_1500-e_mrmr-custom-clustered\\results.pickle\n",
      "***ExpRun**: Configuration for exp/run: mrmr/gen-mrmr-n_4-b_1500-e_mrmr-custom-clustered successfully loaded\n"
     ]
    },
    {
     "name": "stderr",
     "output_type": "stream",
     "text": [
      "100%|██████████| 72/72 [00:00<00:00, 101.66it/s]"
     ]
    },
    {
     "name": "stdout",
     "output_type": "stream",
     "text": [
      "Results file already exists:\n",
      "c:\\Users\\lboloni\\Documents\\Code\\_TempData\\WBF-data-external\\mrmr\\gen-mrmr-n_4-b_1500-e_mrmr-custom-clustered\\results.pickle\n"
     ]
    },
    {
     "name": "stderr",
     "output_type": "stream",
     "text": [
      "\n"
     ]
    }
   ],
   "source": [
    "for run in tqdm.tqdm(runs):\n",
    "    exp = Config().get_experiment(\"mrmr\", run)\n",
    "    run_nrobot1day(exp)"
   ]
  },
  {
   "cell_type": "code",
   "execution_count": 8,
   "id": "756d7ad7",
   "metadata": {},
   "outputs": [
    {
     "name": "stderr",
     "output_type": "stream",
     "text": [
      "  0%|          | 0/72 [00:00<?, ?it/s]"
     ]
    },
    {
     "name": "stdout",
     "output_type": "stream",
     "text": [
      "***ExpRun**: Configuration for exp/run: mrmr/gen-lawn-n_1-b_500-e_mrmr-custom-notclustered successfully loaded\n",
      "***ExpRun**: Configuration for exp/run: mrmr/gen-rw-n_1-b_500-e_mrmr-custom-notclustered successfully loaded\n",
      "***ExpRun**: Configuration for exp/run: mrmr/gen-mrmr-n_1-b_500-e_mrmr-custom-notclustered successfully loaded\n"
     ]
    },
    {
     "name": "stderr",
     "output_type": "stream",
     "text": [
      "  4%|▍         | 3/72 [00:00<00:02, 26.54it/s]"
     ]
    },
    {
     "name": "stdout",
     "output_type": "stream",
     "text": [
      "***ExpRun**: Configuration for exp/run: mrmr/gen-lawn-n_1-b_500-e_mrmr-custom-clustered successfully loaded\n",
      "***ExpRun**: Configuration for exp/run: mrmr/gen-rw-n_1-b_500-e_mrmr-custom-clustered successfully loaded\n",
      "***ExpRun**: Configuration for exp/run: mrmr/gen-mrmr-n_1-b_500-e_mrmr-custom-clustered successfully loaded\n"
     ]
    },
    {
     "name": "stderr",
     "output_type": "stream",
     "text": [
      "  8%|▊         | 6/72 [00:00<00:02, 23.47it/s]"
     ]
    },
    {
     "name": "stdout",
     "output_type": "stream",
     "text": [
      "***ExpRun**: Configuration for exp/run: mrmr/gen-lawn-n_1-b_1000-e_mrmr-custom-notclustered successfully loaded\n",
      "***ExpRun**: Configuration for exp/run: mrmr/gen-rw-n_1-b_1000-e_mrmr-custom-notclustered successfully loaded\n",
      "***ExpRun**: Configuration for exp/run: mrmr/gen-mrmr-n_1-b_1000-e_mrmr-custom-notclustered successfully loaded\n"
     ]
    },
    {
     "name": "stderr",
     "output_type": "stream",
     "text": [
      " 12%|█▎        | 9/72 [00:00<00:03, 17.10it/s]"
     ]
    },
    {
     "name": "stdout",
     "output_type": "stream",
     "text": [
      "***ExpRun**: Configuration for exp/run: mrmr/gen-lawn-n_1-b_1000-e_mrmr-custom-clustered successfully loaded\n",
      "***ExpRun**: Configuration for exp/run: mrmr/gen-rw-n_1-b_1000-e_mrmr-custom-clustered successfully loaded\n"
     ]
    },
    {
     "name": "stderr",
     "output_type": "stream",
     "text": [
      " 15%|█▌        | 11/72 [00:00<00:06,  9.52it/s]"
     ]
    },
    {
     "name": "stdout",
     "output_type": "stream",
     "text": [
      "***ExpRun**: Configuration for exp/run: mrmr/gen-mrmr-n_1-b_1000-e_mrmr-custom-clustered successfully loaded\n",
      "***ExpRun**: Configuration for exp/run: mrmr/gen-lawn-n_1-b_1500-e_mrmr-custom-notclustered successfully loaded\n"
     ]
    },
    {
     "name": "stderr",
     "output_type": "stream",
     "text": [
      " 18%|█▊        | 13/72 [00:01<00:07,  8.35it/s]"
     ]
    },
    {
     "name": "stdout",
     "output_type": "stream",
     "text": [
      "***ExpRun**: Configuration for exp/run: mrmr/gen-rw-n_1-b_1500-e_mrmr-custom-notclustered successfully loaded\n",
      "***ExpRun**: Configuration for exp/run: mrmr/gen-mrmr-n_1-b_1500-e_mrmr-custom-notclustered successfully loaded\n"
     ]
    },
    {
     "name": "stderr",
     "output_type": "stream",
     "text": [
      " 21%|██        | 15/72 [00:01<00:07,  7.34it/s]"
     ]
    },
    {
     "name": "stdout",
     "output_type": "stream",
     "text": [
      "***ExpRun**: Configuration for exp/run: mrmr/gen-lawn-n_1-b_1500-e_mrmr-custom-clustered successfully loaded\n"
     ]
    },
    {
     "name": "stderr",
     "output_type": "stream",
     "text": [
      " 22%|██▏       | 16/72 [00:01<00:07,  7.12it/s]"
     ]
    },
    {
     "name": "stdout",
     "output_type": "stream",
     "text": [
      "***ExpRun**: Configuration for exp/run: mrmr/gen-rw-n_1-b_1500-e_mrmr-custom-clustered successfully loaded\n"
     ]
    },
    {
     "name": "stderr",
     "output_type": "stream",
     "text": [
      " 24%|██▎       | 17/72 [00:01<00:07,  6.90it/s]"
     ]
    },
    {
     "name": "stdout",
     "output_type": "stream",
     "text": [
      "***ExpRun**: Configuration for exp/run: mrmr/gen-mrmr-n_1-b_1500-e_mrmr-custom-clustered successfully loaded\n"
     ]
    },
    {
     "name": "stderr",
     "output_type": "stream",
     "text": [
      " 25%|██▌       | 18/72 [00:02<00:13,  4.12it/s]"
     ]
    },
    {
     "name": "stdout",
     "output_type": "stream",
     "text": [
      "***ExpRun**: Configuration for exp/run: mrmr/gen-lawn-n_2-b_500-e_mrmr-custom-notclustered successfully loaded\n"
     ]
    },
    {
     "name": "stderr",
     "output_type": "stream",
     "text": [
      " 26%|██▋       | 19/72 [00:02<00:11,  4.43it/s]"
     ]
    },
    {
     "name": "stdout",
     "output_type": "stream",
     "text": [
      "***ExpRun**: Configuration for exp/run: mrmr/gen-rw-n_2-b_500-e_mrmr-custom-notclustered successfully loaded\n"
     ]
    },
    {
     "name": "stderr",
     "output_type": "stream",
     "text": [
      " 28%|██▊       | 20/72 [00:02<00:10,  4.84it/s]"
     ]
    },
    {
     "name": "stdout",
     "output_type": "stream",
     "text": [
      "***ExpRun**: Configuration for exp/run: mrmr/gen-mrmr-n_2-b_500-e_mrmr-custom-notclustered successfully loaded\n"
     ]
    },
    {
     "name": "stderr",
     "output_type": "stream",
     "text": [
      " 29%|██▉       | 21/72 [00:02<00:09,  5.20it/s]"
     ]
    },
    {
     "name": "stdout",
     "output_type": "stream",
     "text": [
      "***ExpRun**: Configuration for exp/run: mrmr/gen-lawn-n_2-b_500-e_mrmr-custom-clustered successfully loaded\n"
     ]
    },
    {
     "name": "stderr",
     "output_type": "stream",
     "text": [
      " 31%|███       | 22/72 [00:03<00:09,  5.21it/s]"
     ]
    },
    {
     "name": "stdout",
     "output_type": "stream",
     "text": [
      "***ExpRun**: Configuration for exp/run: mrmr/gen-rw-n_2-b_500-e_mrmr-custom-clustered successfully loaded\n"
     ]
    },
    {
     "name": "stderr",
     "output_type": "stream",
     "text": [
      " 32%|███▏      | 23/72 [00:03<00:08,  5.65it/s]"
     ]
    },
    {
     "name": "stdout",
     "output_type": "stream",
     "text": [
      "***ExpRun**: Configuration for exp/run: mrmr/gen-mrmr-n_2-b_500-e_mrmr-custom-clustered successfully loaded\n"
     ]
    },
    {
     "name": "stderr",
     "output_type": "stream",
     "text": [
      " 33%|███▎      | 24/72 [00:03<00:07,  6.04it/s]"
     ]
    },
    {
     "name": "stdout",
     "output_type": "stream",
     "text": [
      "***ExpRun**: Configuration for exp/run: mrmr/gen-lawn-n_2-b_1000-e_mrmr-custom-notclustered successfully loaded\n"
     ]
    },
    {
     "name": "stderr",
     "output_type": "stream",
     "text": [
      " 35%|███▍      | 25/72 [00:03<00:08,  5.77it/s]"
     ]
    },
    {
     "name": "stdout",
     "output_type": "stream",
     "text": [
      "***ExpRun**: Configuration for exp/run: mrmr/gen-rw-n_2-b_1000-e_mrmr-custom-notclustered successfully loaded\n"
     ]
    },
    {
     "name": "stderr",
     "output_type": "stream",
     "text": [
      " 36%|███▌      | 26/72 [00:03<00:08,  5.44it/s]"
     ]
    },
    {
     "name": "stdout",
     "output_type": "stream",
     "text": [
      "***ExpRun**: Configuration for exp/run: mrmr/gen-mrmr-n_2-b_1000-e_mrmr-custom-notclustered successfully loaded\n"
     ]
    },
    {
     "name": "stderr",
     "output_type": "stream",
     "text": [
      " 38%|███▊      | 27/72 [00:04<00:13,  3.38it/s]"
     ]
    },
    {
     "name": "stdout",
     "output_type": "stream",
     "text": [
      "***ExpRun**: Configuration for exp/run: mrmr/gen-lawn-n_2-b_1000-e_mrmr-custom-clustered successfully loaded\n"
     ]
    },
    {
     "name": "stderr",
     "output_type": "stream",
     "text": [
      " 39%|███▉      | 28/72 [00:04<00:12,  3.50it/s]"
     ]
    },
    {
     "name": "stdout",
     "output_type": "stream",
     "text": [
      "***ExpRun**: Configuration for exp/run: mrmr/gen-rw-n_2-b_1000-e_mrmr-custom-clustered successfully loaded\n"
     ]
    },
    {
     "name": "stderr",
     "output_type": "stream",
     "text": [
      " 40%|████      | 29/72 [00:05<00:15,  2.76it/s]"
     ]
    },
    {
     "name": "stdout",
     "output_type": "stream",
     "text": [
      "***ExpRun**: Configuration for exp/run: mrmr/gen-mrmr-n_2-b_1000-e_mrmr-custom-clustered successfully loaded\n"
     ]
    },
    {
     "name": "stderr",
     "output_type": "stream",
     "text": [
      " 42%|████▏     | 30/72 [00:05<00:13,  3.19it/s]"
     ]
    },
    {
     "name": "stdout",
     "output_type": "stream",
     "text": [
      "***ExpRun**: Configuration for exp/run: mrmr/gen-lawn-n_2-b_1500-e_mrmr-custom-notclustered successfully loaded\n"
     ]
    },
    {
     "name": "stderr",
     "output_type": "stream",
     "text": [
      " 43%|████▎     | 31/72 [00:05<00:11,  3.67it/s]"
     ]
    },
    {
     "name": "stdout",
     "output_type": "stream",
     "text": [
      "***ExpRun**: Configuration for exp/run: mrmr/gen-rw-n_2-b_1500-e_mrmr-custom-notclustered successfully loaded\n"
     ]
    },
    {
     "name": "stderr",
     "output_type": "stream",
     "text": [
      " 44%|████▍     | 32/72 [00:05<00:10,  3.99it/s]"
     ]
    },
    {
     "name": "stdout",
     "output_type": "stream",
     "text": [
      "***ExpRun**: Configuration for exp/run: mrmr/gen-mrmr-n_2-b_1500-e_mrmr-custom-notclustered successfully loaded\n"
     ]
    },
    {
     "name": "stderr",
     "output_type": "stream",
     "text": [
      " 46%|████▌     | 33/72 [00:06<00:10,  3.66it/s]"
     ]
    },
    {
     "name": "stdout",
     "output_type": "stream",
     "text": [
      "***ExpRun**: Configuration for exp/run: mrmr/gen-lawn-n_2-b_1500-e_mrmr-custom-clustered successfully loaded\n"
     ]
    },
    {
     "name": "stderr",
     "output_type": "stream",
     "text": [
      " 47%|████▋     | 34/72 [00:06<00:09,  3.95it/s]"
     ]
    },
    {
     "name": "stdout",
     "output_type": "stream",
     "text": [
      "***ExpRun**: Configuration for exp/run: mrmr/gen-rw-n_2-b_1500-e_mrmr-custom-clustered successfully loaded\n"
     ]
    },
    {
     "name": "stderr",
     "output_type": "stream",
     "text": [
      " 49%|████▊     | 35/72 [00:06<00:08,  4.39it/s]"
     ]
    },
    {
     "name": "stdout",
     "output_type": "stream",
     "text": [
      "***ExpRun**: Configuration for exp/run: mrmr/gen-mrmr-n_2-b_1500-e_mrmr-custom-clustered successfully loaded\n"
     ]
    },
    {
     "name": "stderr",
     "output_type": "stream",
     "text": [
      " 50%|█████     | 36/72 [00:06<00:11,  3.11it/s]"
     ]
    },
    {
     "name": "stdout",
     "output_type": "stream",
     "text": [
      "***ExpRun**: Configuration for exp/run: mrmr/gen-lawn-n_3-b_500-e_mrmr-custom-notclustered successfully loaded\n"
     ]
    },
    {
     "name": "stderr",
     "output_type": "stream",
     "text": [
      " 51%|█████▏    | 37/72 [00:07<00:09,  3.80it/s]"
     ]
    },
    {
     "name": "stdout",
     "output_type": "stream",
     "text": [
      "***ExpRun**: Configuration for exp/run: mrmr/gen-rw-n_3-b_500-e_mrmr-custom-notclustered successfully loaded\n"
     ]
    },
    {
     "name": "stderr",
     "output_type": "stream",
     "text": [
      " 53%|█████▎    | 38/72 [00:07<00:08,  4.24it/s]"
     ]
    },
    {
     "name": "stdout",
     "output_type": "stream",
     "text": [
      "***ExpRun**: Configuration for exp/run: mrmr/gen-mrmr-n_3-b_500-e_mrmr-custom-notclustered successfully loaded\n"
     ]
    },
    {
     "name": "stderr",
     "output_type": "stream",
     "text": [
      " 54%|█████▍    | 39/72 [00:07<00:07,  4.40it/s]"
     ]
    },
    {
     "name": "stdout",
     "output_type": "stream",
     "text": [
      "***ExpRun**: Configuration for exp/run: mrmr/gen-lawn-n_3-b_500-e_mrmr-custom-clustered successfully loaded\n"
     ]
    },
    {
     "name": "stderr",
     "output_type": "stream",
     "text": [
      " 56%|█████▌    | 40/72 [00:07<00:06,  4.74it/s]"
     ]
    },
    {
     "name": "stdout",
     "output_type": "stream",
     "text": [
      "***ExpRun**: Configuration for exp/run: mrmr/gen-rw-n_3-b_500-e_mrmr-custom-clustered successfully loaded\n"
     ]
    },
    {
     "name": "stderr",
     "output_type": "stream",
     "text": [
      " 57%|█████▋    | 41/72 [00:07<00:06,  4.89it/s]"
     ]
    },
    {
     "name": "stdout",
     "output_type": "stream",
     "text": [
      "***ExpRun**: Configuration for exp/run: mrmr/gen-mrmr-n_3-b_500-e_mrmr-custom-clustered successfully loaded\n"
     ]
    },
    {
     "name": "stderr",
     "output_type": "stream",
     "text": [
      " 58%|█████▊    | 42/72 [00:08<00:05,  5.17it/s]"
     ]
    },
    {
     "name": "stdout",
     "output_type": "stream",
     "text": [
      "***ExpRun**: Configuration for exp/run: mrmr/gen-lawn-n_3-b_1000-e_mrmr-custom-notclustered successfully loaded\n"
     ]
    },
    {
     "name": "stderr",
     "output_type": "stream",
     "text": [
      " 60%|█████▉    | 43/72 [00:08<00:06,  4.52it/s]"
     ]
    },
    {
     "name": "stdout",
     "output_type": "stream",
     "text": [
      "***ExpRun**: Configuration for exp/run: mrmr/gen-rw-n_3-b_1000-e_mrmr-custom-notclustered successfully loaded\n"
     ]
    },
    {
     "name": "stderr",
     "output_type": "stream",
     "text": [
      " 61%|██████    | 44/72 [00:08<00:06,  4.62it/s]"
     ]
    },
    {
     "name": "stdout",
     "output_type": "stream",
     "text": [
      "***ExpRun**: Configuration for exp/run: mrmr/gen-mrmr-n_3-b_1000-e_mrmr-custom-notclustered successfully loaded\n"
     ]
    },
    {
     "name": "stderr",
     "output_type": "stream",
     "text": [
      " 62%|██████▎   | 45/72 [00:08<00:06,  4.46it/s]"
     ]
    },
    {
     "name": "stdout",
     "output_type": "stream",
     "text": [
      "***ExpRun**: Configuration for exp/run: mrmr/gen-lawn-n_3-b_1000-e_mrmr-custom-clustered successfully loaded\n"
     ]
    },
    {
     "name": "stderr",
     "output_type": "stream",
     "text": [
      " 64%|██████▍   | 46/72 [00:09<00:07,  3.37it/s]"
     ]
    },
    {
     "name": "stdout",
     "output_type": "stream",
     "text": [
      "***ExpRun**: Configuration for exp/run: mrmr/gen-rw-n_3-b_1000-e_mrmr-custom-clustered successfully loaded\n"
     ]
    },
    {
     "name": "stderr",
     "output_type": "stream",
     "text": [
      " 65%|██████▌   | 47/72 [00:09<00:09,  2.67it/s]"
     ]
    },
    {
     "name": "stdout",
     "output_type": "stream",
     "text": [
      "***ExpRun**: Configuration for exp/run: mrmr/gen-mrmr-n_3-b_1000-e_mrmr-custom-clustered successfully loaded\n"
     ]
    },
    {
     "name": "stderr",
     "output_type": "stream",
     "text": [
      " 67%|██████▋   | 48/72 [00:09<00:07,  3.29it/s]"
     ]
    },
    {
     "name": "stdout",
     "output_type": "stream",
     "text": [
      "***ExpRun**: Configuration for exp/run: mrmr/gen-lawn-n_3-b_1500-e_mrmr-custom-notclustered successfully loaded\n"
     ]
    },
    {
     "name": "stderr",
     "output_type": "stream",
     "text": [
      " 68%|██████▊   | 49/72 [00:10<00:06,  3.59it/s]"
     ]
    },
    {
     "name": "stdout",
     "output_type": "stream",
     "text": [
      "***ExpRun**: Configuration for exp/run: mrmr/gen-rw-n_3-b_1500-e_mrmr-custom-notclustered successfully loaded\n"
     ]
    },
    {
     "name": "stderr",
     "output_type": "stream",
     "text": [
      " 69%|██████▉   | 50/72 [00:10<00:05,  3.75it/s]"
     ]
    },
    {
     "name": "stdout",
     "output_type": "stream",
     "text": [
      "***ExpRun**: Configuration for exp/run: mrmr/gen-mrmr-n_3-b_1500-e_mrmr-custom-notclustered successfully loaded\n"
     ]
    },
    {
     "name": "stderr",
     "output_type": "stream",
     "text": [
      " 71%|███████   | 51/72 [00:10<00:05,  3.73it/s]"
     ]
    },
    {
     "name": "stdout",
     "output_type": "stream",
     "text": [
      "***ExpRun**: Configuration for exp/run: mrmr/gen-lawn-n_3-b_1500-e_mrmr-custom-clustered successfully loaded\n"
     ]
    },
    {
     "name": "stderr",
     "output_type": "stream",
     "text": [
      " 72%|███████▏  | 52/72 [00:10<00:04,  4.23it/s]"
     ]
    },
    {
     "name": "stdout",
     "output_type": "stream",
     "text": [
      "***ExpRun**: Configuration for exp/run: mrmr/gen-rw-n_3-b_1500-e_mrmr-custom-clustered successfully loaded\n"
     ]
    },
    {
     "name": "stderr",
     "output_type": "stream",
     "text": [
      " 74%|███████▎  | 53/72 [00:10<00:03,  4.78it/s]"
     ]
    },
    {
     "name": "stdout",
     "output_type": "stream",
     "text": [
      "***ExpRun**: Configuration for exp/run: mrmr/gen-mrmr-n_3-b_1500-e_mrmr-custom-clustered successfully loaded\n"
     ]
    },
    {
     "name": "stderr",
     "output_type": "stream",
     "text": [
      " 75%|███████▌  | 54/72 [00:11<00:03,  4.83it/s]"
     ]
    },
    {
     "name": "stdout",
     "output_type": "stream",
     "text": [
      "***ExpRun**: Configuration for exp/run: mrmr/gen-lawn-n_4-b_500-e_mrmr-custom-notclustered successfully loaded\n"
     ]
    },
    {
     "name": "stderr",
     "output_type": "stream",
     "text": [
      " 76%|███████▋  | 55/72 [00:11<00:03,  5.45it/s]"
     ]
    },
    {
     "name": "stdout",
     "output_type": "stream",
     "text": [
      "***ExpRun**: Configuration for exp/run: mrmr/gen-rw-n_4-b_500-e_mrmr-custom-notclustered successfully loaded\n"
     ]
    },
    {
     "name": "stderr",
     "output_type": "stream",
     "text": [
      " 78%|███████▊  | 56/72 [00:11<00:04,  3.61it/s]"
     ]
    },
    {
     "name": "stdout",
     "output_type": "stream",
     "text": [
      "***ExpRun**: Configuration for exp/run: mrmr/gen-mrmr-n_4-b_500-e_mrmr-custom-notclustered successfully loaded\n"
     ]
    },
    {
     "name": "stderr",
     "output_type": "stream",
     "text": [
      " 79%|███████▉  | 57/72 [00:11<00:03,  4.46it/s]"
     ]
    },
    {
     "name": "stdout",
     "output_type": "stream",
     "text": [
      "***ExpRun**: Configuration for exp/run: mrmr/gen-lawn-n_4-b_500-e_mrmr-custom-clustered successfully loaded\n",
      "***ExpRun**: Configuration for exp/run: mrmr/gen-rw-n_4-b_500-e_mrmr-custom-clustered successfully loaded\n"
     ]
    },
    {
     "name": "stderr",
     "output_type": "stream",
     "text": [
      " 82%|████████▏ | 59/72 [00:12<00:02,  5.95it/s]"
     ]
    },
    {
     "name": "stdout",
     "output_type": "stream",
     "text": [
      "***ExpRun**: Configuration for exp/run: mrmr/gen-mrmr-n_4-b_500-e_mrmr-custom-clustered successfully loaded\n"
     ]
    },
    {
     "name": "stderr",
     "output_type": "stream",
     "text": [
      " 83%|████████▎ | 60/72 [00:12<00:01,  6.40it/s]"
     ]
    },
    {
     "name": "stdout",
     "output_type": "stream",
     "text": [
      "***ExpRun**: Configuration for exp/run: mrmr/gen-lawn-n_4-b_1000-e_mrmr-custom-notclustered successfully loaded\n"
     ]
    },
    {
     "name": "stderr",
     "output_type": "stream",
     "text": [
      " 85%|████████▍ | 61/72 [00:12<00:01,  6.44it/s]"
     ]
    },
    {
     "name": "stdout",
     "output_type": "stream",
     "text": [
      "***ExpRun**: Configuration for exp/run: mrmr/gen-rw-n_4-b_1000-e_mrmr-custom-notclustered successfully loaded\n"
     ]
    },
    {
     "name": "stderr",
     "output_type": "stream",
     "text": [
      " 86%|████████▌ | 62/72 [00:12<00:02,  4.53it/s]"
     ]
    },
    {
     "name": "stdout",
     "output_type": "stream",
     "text": [
      "***ExpRun**: Configuration for exp/run: mrmr/gen-mrmr-n_4-b_1000-e_mrmr-custom-notclustered successfully loaded\n"
     ]
    },
    {
     "name": "stderr",
     "output_type": "stream",
     "text": [
      " 88%|████████▊ | 63/72 [00:12<00:01,  4.78it/s]"
     ]
    },
    {
     "name": "stdout",
     "output_type": "stream",
     "text": [
      "***ExpRun**: Configuration for exp/run: mrmr/gen-lawn-n_4-b_1000-e_mrmr-custom-clustered successfully loaded\n"
     ]
    },
    {
     "name": "stderr",
     "output_type": "stream",
     "text": [
      " 89%|████████▉ | 64/72 [00:13<00:01,  5.16it/s]"
     ]
    },
    {
     "name": "stdout",
     "output_type": "stream",
     "text": [
      "***ExpRun**: Configuration for exp/run: mrmr/gen-rw-n_4-b_1000-e_mrmr-custom-clustered successfully loaded\n"
     ]
    },
    {
     "name": "stderr",
     "output_type": "stream",
     "text": [
      " 90%|█████████ | 65/72 [00:13<00:01,  5.19it/s]"
     ]
    },
    {
     "name": "stdout",
     "output_type": "stream",
     "text": [
      "***ExpRun**: Configuration for exp/run: mrmr/gen-mrmr-n_4-b_1000-e_mrmr-custom-clustered successfully loaded\n"
     ]
    },
    {
     "name": "stderr",
     "output_type": "stream",
     "text": [
      " 92%|█████████▏| 66/72 [00:13<00:01,  4.96it/s]"
     ]
    },
    {
     "name": "stdout",
     "output_type": "stream",
     "text": [
      "***ExpRun**: Configuration for exp/run: mrmr/gen-lawn-n_4-b_1500-e_mrmr-custom-notclustered successfully loaded\n"
     ]
    },
    {
     "name": "stderr",
     "output_type": "stream",
     "text": [
      " 93%|█████████▎| 67/72 [00:13<00:01,  4.40it/s]"
     ]
    },
    {
     "name": "stdout",
     "output_type": "stream",
     "text": [
      "***ExpRun**: Configuration for exp/run: mrmr/gen-rw-n_4-b_1500-e_mrmr-custom-notclustered successfully loaded\n"
     ]
    },
    {
     "name": "stderr",
     "output_type": "stream",
     "text": [
      " 94%|█████████▍| 68/72 [00:14<00:01,  2.46it/s]"
     ]
    },
    {
     "name": "stdout",
     "output_type": "stream",
     "text": [
      "***ExpRun**: Configuration for exp/run: mrmr/gen-mrmr-n_4-b_1500-e_mrmr-custom-notclustered successfully loaded\n"
     ]
    },
    {
     "name": "stderr",
     "output_type": "stream",
     "text": [
      " 96%|█████████▌| 69/72 [00:15<00:01,  2.26it/s]"
     ]
    },
    {
     "name": "stdout",
     "output_type": "stream",
     "text": [
      "***ExpRun**: Configuration for exp/run: mrmr/gen-lawn-n_4-b_1500-e_mrmr-custom-clustered successfully loaded\n"
     ]
    },
    {
     "name": "stderr",
     "output_type": "stream",
     "text": [
      " 97%|█████████▋| 70/72 [00:15<00:00,  2.58it/s]"
     ]
    },
    {
     "name": "stdout",
     "output_type": "stream",
     "text": [
      "***ExpRun**: Configuration for exp/run: mrmr/gen-rw-n_4-b_1500-e_mrmr-custom-clustered successfully loaded\n"
     ]
    },
    {
     "name": "stderr",
     "output_type": "stream",
     "text": [
      " 99%|█████████▊| 71/72 [00:15<00:00,  2.90it/s]"
     ]
    },
    {
     "name": "stdout",
     "output_type": "stream",
     "text": [
      "***ExpRun**: Configuration for exp/run: mrmr/gen-mrmr-n_4-b_1500-e_mrmr-custom-clustered successfully loaded\n"
     ]
    },
    {
     "name": "stderr",
     "output_type": "stream",
     "text": [
      "100%|██████████| 72/72 [00:15<00:00,  4.53it/s]\n"
     ]
    },
    {
     "data": {
      "text/plain": [
       "dict_keys(['gen-lawn-n_1-b_500-e_mrmr-custom-notclustered', 'gen-rw-n_1-b_500-e_mrmr-custom-notclustered', 'gen-mrmr-n_1-b_500-e_mrmr-custom-notclustered', 'gen-lawn-n_1-b_500-e_mrmr-custom-clustered', 'gen-rw-n_1-b_500-e_mrmr-custom-clustered', 'gen-mrmr-n_1-b_500-e_mrmr-custom-clustered', 'gen-lawn-n_1-b_1000-e_mrmr-custom-notclustered', 'gen-rw-n_1-b_1000-e_mrmr-custom-notclustered', 'gen-mrmr-n_1-b_1000-e_mrmr-custom-notclustered', 'gen-lawn-n_1-b_1000-e_mrmr-custom-clustered', 'gen-rw-n_1-b_1000-e_mrmr-custom-clustered', 'gen-mrmr-n_1-b_1000-e_mrmr-custom-clustered', 'gen-lawn-n_1-b_1500-e_mrmr-custom-notclustered', 'gen-rw-n_1-b_1500-e_mrmr-custom-notclustered', 'gen-mrmr-n_1-b_1500-e_mrmr-custom-notclustered', 'gen-lawn-n_1-b_1500-e_mrmr-custom-clustered', 'gen-rw-n_1-b_1500-e_mrmr-custom-clustered', 'gen-mrmr-n_1-b_1500-e_mrmr-custom-clustered', 'gen-lawn-n_2-b_500-e_mrmr-custom-notclustered', 'gen-rw-n_2-b_500-e_mrmr-custom-notclustered', 'gen-mrmr-n_2-b_500-e_mrmr-custom-notclustered', 'gen-lawn-n_2-b_500-e_mrmr-custom-clustered', 'gen-rw-n_2-b_500-e_mrmr-custom-clustered', 'gen-mrmr-n_2-b_500-e_mrmr-custom-clustered', 'gen-lawn-n_2-b_1000-e_mrmr-custom-notclustered', 'gen-rw-n_2-b_1000-e_mrmr-custom-notclustered', 'gen-mrmr-n_2-b_1000-e_mrmr-custom-notclustered', 'gen-lawn-n_2-b_1000-e_mrmr-custom-clustered', 'gen-rw-n_2-b_1000-e_mrmr-custom-clustered', 'gen-mrmr-n_2-b_1000-e_mrmr-custom-clustered', 'gen-lawn-n_2-b_1500-e_mrmr-custom-notclustered', 'gen-rw-n_2-b_1500-e_mrmr-custom-notclustered', 'gen-mrmr-n_2-b_1500-e_mrmr-custom-notclustered', 'gen-lawn-n_2-b_1500-e_mrmr-custom-clustered', 'gen-rw-n_2-b_1500-e_mrmr-custom-clustered', 'gen-mrmr-n_2-b_1500-e_mrmr-custom-clustered', 'gen-lawn-n_3-b_500-e_mrmr-custom-notclustered', 'gen-rw-n_3-b_500-e_mrmr-custom-notclustered', 'gen-mrmr-n_3-b_500-e_mrmr-custom-notclustered', 'gen-lawn-n_3-b_500-e_mrmr-custom-clustered', 'gen-rw-n_3-b_500-e_mrmr-custom-clustered', 'gen-mrmr-n_3-b_500-e_mrmr-custom-clustered', 'gen-lawn-n_3-b_1000-e_mrmr-custom-notclustered', 'gen-rw-n_3-b_1000-e_mrmr-custom-notclustered', 'gen-mrmr-n_3-b_1000-e_mrmr-custom-notclustered', 'gen-lawn-n_3-b_1000-e_mrmr-custom-clustered', 'gen-rw-n_3-b_1000-e_mrmr-custom-clustered', 'gen-mrmr-n_3-b_1000-e_mrmr-custom-clustered', 'gen-lawn-n_3-b_1500-e_mrmr-custom-notclustered', 'gen-rw-n_3-b_1500-e_mrmr-custom-notclustered', 'gen-mrmr-n_3-b_1500-e_mrmr-custom-notclustered', 'gen-lawn-n_3-b_1500-e_mrmr-custom-clustered', 'gen-rw-n_3-b_1500-e_mrmr-custom-clustered', 'gen-mrmr-n_3-b_1500-e_mrmr-custom-clustered', 'gen-lawn-n_4-b_500-e_mrmr-custom-notclustered', 'gen-rw-n_4-b_500-e_mrmr-custom-notclustered', 'gen-mrmr-n_4-b_500-e_mrmr-custom-notclustered', 'gen-lawn-n_4-b_500-e_mrmr-custom-clustered', 'gen-rw-n_4-b_500-e_mrmr-custom-clustered', 'gen-mrmr-n_4-b_500-e_mrmr-custom-clustered', 'gen-lawn-n_4-b_1000-e_mrmr-custom-notclustered', 'gen-rw-n_4-b_1000-e_mrmr-custom-notclustered', 'gen-mrmr-n_4-b_1000-e_mrmr-custom-notclustered', 'gen-lawn-n_4-b_1000-e_mrmr-custom-clustered', 'gen-rw-n_4-b_1000-e_mrmr-custom-clustered', 'gen-mrmr-n_4-b_1000-e_mrmr-custom-clustered', 'gen-lawn-n_4-b_1500-e_mrmr-custom-notclustered', 'gen-rw-n_4-b_1500-e_mrmr-custom-notclustered', 'gen-mrmr-n_4-b_1500-e_mrmr-custom-notclustered', 'gen-lawn-n_4-b_1500-e_mrmr-custom-clustered', 'gen-rw-n_4-b_1500-e_mrmr-custom-clustered', 'gen-mrmr-n_4-b_1500-e_mrmr-custom-clustered'])"
      ]
     },
     "execution_count": 8,
     "metadata": {},
     "output_type": "execute_result"
    }
   ],
   "source": [
    "### Load back the experiments in runs\n",
    "all_results = load_back_results(\"mrmr\", runs)\n",
    "all_results.keys()"
   ]
  },
  {
   "cell_type": "code",
   "execution_count": 12,
   "id": "cdf2b170",
   "metadata": {},
   "outputs": [],
   "source": [
    "lookup = {\n",
    "\"gen-lawn-n_1-b_500-e_mrmr-custom-notclustered\": \"lawn n=1 b=500\",\n",
    "\"gen-rw-n_1-b_500-e_mrmr-custom-notclustered\": \"rw n=1 b=500\",\n",
    "\"gen-mrmr-n_1-b_500-e_mrmr-custom-notclustered\": \"mrmr n=1 b=500\",\n",
    "\"gen-lawn-n_1-b_500-e_mrmr-custom-clustered\": \"lawn n=1 b=500\",\n",
    "\"gen-rw-n_1-b_500-e_mrmr-custom-clustered\": \"rw n=1 b=500\",\n",
    "\"gen-mrmr-n_1-b_500-e_mrmr-custom-clustered\": \"mrmr n=1 b=500\",\n",
    "\"gen-lawn-n_1-b_1000-e_mrmr-custom-notclustered\": \"lawn n=1 b=1000\",\n",
    "\"gen-rw-n_1-b_1000-e_mrmr-custom-notclustered\": \"rw n=1 b=1000\",\n",
    "\"gen-mrmr-n_1-b_1000-e_mrmr-custom-notclustered\": \"mrmr n=1 b=1000\",\n",
    "\"gen-lawn-n_1-b_1000-e_mrmr-custom-clustered\": \"lawn n=1 b=1000\",\n",
    "\"gen-rw-n_1-b_1000-e_mrmr-custom-clustered\": \"rw n=1 b=1000\",\n",
    "\"gen-mrmr-n_1-b_1000-e_mrmr-custom-clustered\": \"mrmr n=1 b=1000\",\n",
    "\"gen-lawn-n_1-b_1500-e_mrmr-custom-notclustered\": \"lawn n=1 b=1500\",\n",
    "\"gen-rw-n_1-b_1500-e_mrmr-custom-notclustered\": \"rw n=1 b=1500\",\n",
    "\"gen-mrmr-n_1-b_1500-e_mrmr-custom-notclustered\": \"mrmr n=1 b=1500\",\n",
    "\"gen-lawn-n_1-b_1500-e_mrmr-custom-clustered\": \"lawn n=1 b=1500\",\n",
    "\"gen-rw-n_1-b_1500-e_mrmr-custom-clustered\": \"rw n=1 b=1500\",\n",
    "\"gen-mrmr-n_1-b_1500-e_mrmr-custom-clustered\": \"mrmr n=1 b=1500\",\n",
    "\"gen-lawn-n_2-b_500-e_mrmr-custom-notclustered\": \"lawn n=2 b=500\",\n",
    "\"gen-rw-n_2-b_500-e_mrmr-custom-notclustered\": \"rw n=2 b=500\",\n",
    "\"gen-mrmr-n_2-b_500-e_mrmr-custom-notclustered\": \"mrmr n=2 b=500\",\n",
    "\"gen-lawn-n_2-b_500-e_mrmr-custom-clustered\": \"lawn n=2 b=500\",\n",
    "\"gen-rw-n_2-b_500-e_mrmr-custom-clustered\": \"rw n=2 b=500\",\n",
    "\"gen-mrmr-n_2-b_500-e_mrmr-custom-clustered\": \"mrmr n=2 b=500\",\n",
    "\"gen-lawn-n_2-b_1000-e_mrmr-custom-notclustered\": \"lawn n=2 b=1000\",\n",
    "\"gen-rw-n_2-b_1000-e_mrmr-custom-notclustered\": \"rw n=2 b=1000\",\n",
    "\"gen-mrmr-n_2-b_1000-e_mrmr-custom-notclustered\": \"mrmr n=2 b=1000\",\n",
    "\"gen-lawn-n_2-b_1000-e_mrmr-custom-clustered\": \"lawn n=2 b=1000\",\n",
    "\"gen-rw-n_2-b_1000-e_mrmr-custom-clustered\": \"rw n=2 b=1000\",\n",
    "\"gen-mrmr-n_2-b_1000-e_mrmr-custom-clustered\": \"mrmr n=2 b=1000\",\n",
    "\"gen-lawn-n_2-b_1500-e_mrmr-custom-notclustered\": \"lawn n=2 b=1500\",\n",
    "\"gen-rw-n_2-b_1500-e_mrmr-custom-notclustered\": \"rw n=2 b=1500\",\n",
    "\"gen-mrmr-n_2-b_1500-e_mrmr-custom-notclustered\": \"mrmr n=2 b=1500\",\n",
    "\"gen-lawn-n_2-b_1500-e_mrmr-custom-clustered\": \"lawn n=2 b=1500\",\n",
    "\"gen-rw-n_2-b_1500-e_mrmr-custom-clustered\": \"rw n=2 b=1500\",\n",
    "\"gen-mrmr-n_2-b_1500-e_mrmr-custom-clustered\": \"mrmr n=2 b=1500\",\n",
    "\"gen-lawn-n_3-b_500-e_mrmr-custom-notclustered\": \"lawn n=3 b=500\",\n",
    "\"gen-rw-n_3-b_500-e_mrmr-custom-notclustered\": \"rw n=3 b=500\",\n",
    "\"gen-mrmr-n_3-b_500-e_mrmr-custom-notclustered\": \"mrmr n=3 b=500\",\n",
    "\"gen-lawn-n_3-b_500-e_mrmr-custom-clustered\": \"lawn n=3 b=500\",\n",
    "\"gen-rw-n_3-b_500-e_mrmr-custom-clustered\": \"rw n=3 b=500\",\n",
    "\"gen-mrmr-n_3-b_500-e_mrmr-custom-clustered\": \"mrmr n=3 b=500\",\n",
    "\"gen-lawn-n_3-b_1000-e_mrmr-custom-notclustered\": \"lawn n=3 b=1000\",\n",
    "\"gen-rw-n_3-b_1000-e_mrmr-custom-notclustered\": \"rw n=3 b=1000\",\n",
    "\"gen-mrmr-n_3-b_1000-e_mrmr-custom-notclustered\": \"mrmr n=3 b=1000\",\n",
    "\"gen-lawn-n_3-b_1000-e_mrmr-custom-clustered\": \"lawn n=3 b=1000\",\n",
    "\"gen-rw-n_3-b_1000-e_mrmr-custom-clustered\": \"rw n=3 b=1000\",\n",
    "\"gen-mrmr-n_3-b_1000-e_mrmr-custom-clustered\": \"mrmr n=3 b=1000\",\n",
    "\"gen-lawn-n_3-b_1500-e_mrmr-custom-notclustered\": \"lawn n=3 b=1500\",\n",
    "\"gen-rw-n_3-b_1500-e_mrmr-custom-notclustered\": \"rw n=3 b=1500\",\n",
    "\"gen-mrmr-n_3-b_1500-e_mrmr-custom-notclustered\": \"mrmr n=3 b=1500\",\n",
    "\"gen-lawn-n_3-b_1500-e_mrmr-custom-clustered\": \"lawn n=3 b=1500\",\n",
    "\"gen-rw-n_3-b_1500-e_mrmr-custom-clustered\": \"rw n=3 b=1500\",\n",
    "\"gen-mrmr-n_3-b_1500-e_mrmr-custom-clustered\": \"mrmr n=3 b=1500\",\n",
    "\"gen-lawn-n_4-b_500-e_mrmr-custom-notclustered\": \"lawn n=4 b=500\",\n",
    "\"gen-rw-n_4-b_500-e_mrmr-custom-notclustered\": \"rw n=4 b=500\",\n",
    "\"gen-mrmr-n_4-b_500-e_mrmr-custom-notclustered\": \"mrmr n=4 b=500\",\n",
    "\"gen-lawn-n_4-b_500-e_mrmr-custom-clustered\": \"lawn n=4 b=500\",\n",
    "\"gen-rw-n_4-b_500-e_mrmr-custom-clustered\": \"rw n=4 b=500\",\n",
    "\"gen-mrmr-n_4-b_500-e_mrmr-custom-clustered\": \"mrmr n=4 b=500\",\n",
    "\"gen-lawn-n_4-b_1000-e_mrmr-custom-notclustered\": \"lawn n=4 b=1000\",\n",
    "\"gen-rw-n_4-b_1000-e_mrmr-custom-notclustered\": \"rw n=4 b=1000\",\n",
    "\"gen-mrmr-n_4-b_1000-e_mrmr-custom-notclustered\": \"mrmr n=4 b=1000\",\n",
    "\"gen-lawn-n_4-b_1000-e_mrmr-custom-clustered\": \"lawn n=4 b=1000\",\n",
    "\"gen-rw-n_4-b_1000-e_mrmr-custom-clustered\": \"rw n=4 b=1000\",\n",
    "\"gen-mrmr-n_4-b_1000-e_mrmr-custom-clustered\": \"mrmr n=4 b=1000\",\n",
    "\"gen-lawn-n_4-b_1500-e_mrmr-custom-notclustered\": \"lawn n=4 b=1500\",\n",
    "\"gen-rw-n_4-b_1500-e_mrmr-custom-notclustered\": \"rw n=4 b=1500\",\n",
    "\"gen-mrmr-n_4-b_1500-e_mrmr-custom-notclustered\": \"mrmr n=4 b=1500\",\n",
    "\"gen-lawn-n_4-b_1500-e_mrmr-custom-clustered\": \"lawn n=4 b=1500\",\n",
    "\"gen-rw-n_4-b_1500-e_mrmr-custom-clustered\": \"rw n=4 b=1500\",\n",
    "\"gen-mrmr-n_4-b_1500-e_mrmr-custom-clustered\": \"mrmr n=4 b=1500\",\n",
    "}\n",
    "\n",
    "\n",
    "for scenario in all_results:\n",
    "    results = all_results[scenario]\n",
    "    name = scenario\n",
    "    show_robot_trajectories_and_detections(exp_dest, name, results, robot_colors=ROBOT_COLORS, lookup=lookup)    \n",
    "    show_agentwise_detections(exp_dest, name, results, robot_colors = ROBOT_COLORS)"
   ]
  },
  {
   "cell_type": "markdown",
   "id": "bc9a0239",
   "metadata": {},
   "source": [
    "# Comparative graphs of the detections"
   ]
  },
  {
   "cell_type": "code",
   "execution_count": 10,
   "id": "6035f2fa",
   "metadata": {},
   "outputs": [],
   "source": [
    "\n",
    "def comparative_detections(list, filename, name_colors, short_name_lookup):\n",
    "    # name_colors = [\"#CC6666\", \"#9999CC\", \"#66CC99\"]\n",
    "    values = {}\n",
    "    for scenario in list:\n",
    "        results = all_results[scenario]\n",
    "        total = 0\n",
    "        for i, robot in enumerate(results[\"robots\"]):\n",
    "            detections = count_detections(results, i)\n",
    "            total += detections\n",
    "        values[scenario] = total\n",
    "    show_comparative_detections(exp_dest, filename, values, lookup=short_name_lookup, name_colors=name_colors)"
   ]
  },
  {
   "cell_type": "code",
   "execution_count": 11,
   "id": "c097a00d",
   "metadata": {},
   "outputs": [
    {
     "data": {
      "image/png": "[encoded data removed]",
      "text/plain": [
       "<Figure size 300x300 with 1 Axes>"
      ]
     },
     "metadata": {},
     "output_type": "display_data"
    },
    {
     "data": {
      "image/png": "[encoded data removed]",
      "text/plain": [
       "<Figure size 300x300 with 1 Axes>"
      ]
     },
     "metadata": {},
     "output_type": "display_data"
    },
    {
     "data": {
      "image/png": "[encoded data removed]",
      "text/plain": [
       "<Figure size 300x300 with 1 Axes>"
      ]
     },
     "metadata": {},
     "output_type": "display_data"
    },
    {
     "data": {
      "image/png": "[encoded data removed]",
      "text/plain": [
       "<Figure size 300x300 with 1 Axes>"
      ]
     },
     "metadata": {},
     "output_type": "display_data"
    }
   ],
   "source": [
    "b1000_clustered_lookup = {\n",
    "\"gen-lawn-n_1-b_1000-e_mrmr-custom-clustered\": \"lawn-1\",\n",
    "\"gen-rw-n_1-b_1000-e_mrmr-custom-clustered\": \"rw-1\",\n",
    "\"gen-mrmr-n_1-b_1000-e_mrmr-custom-clustered\": \"mrmr-1\",\n",
    "\"gen-lawn-n_2-b_1000-e_mrmr-custom-clustered\": \"lawn-2\",\n",
    "\"gen-rw-n_2-b_1000-e_mrmr-custom-clustered\": \"rw-2\",\n",
    "\"gen-mrmr-n_2-b_1000-e_mrmr-custom-clustered\": \"mrmr-2\",\n",
    "\"gen-lawn-n_3-b_1000-e_mrmr-custom-clustered\": \"lawn-3\",\n",
    "\"gen-rw-n_3-b_1000-e_mrmr-custom-clustered\": \"rw-3\",\n",
    "\"gen-mrmr-n_3-b_1000-e_mrmr-custom-clustered\": \"mrmr-3\",\n",
    "\"gen-lawn-n_4-b_1000-e_mrmr-custom-clustered\": \"lawn-4\",\n",
    "\"gen-rw-n_4-b_1000-e_mrmr-custom-clustered\": \"rw-4\",\n",
    "\"gen-mrmr-n_4-b_1000-e_mrmr-custom-clustered\": \"mrmr-4\"\n",
    "}\n",
    "\n",
    "b1000_unclustered_lookup = {\n",
    "\"gen-lawn-n_1-b_1000-e_mrmr-custom-notclustered\": \"lawn-1\",\n",
    "\"gen-rw-n_1-b_1000-e_mrmr-custom-notclustered\": \"rw-1\",\n",
    "\"gen-mrmr-n_1-b_1000-e_mrmr-custom-notclustered\": \"mrmr-1\",\n",
    "\"gen-lawn-n_2-b_1000-e_mrmr-custom-notclustered\": \"lawn-2\",\n",
    "\"gen-rw-n_2-b_1000-e_mrmr-custom-notclustered\": \"rw-2\",\n",
    "\"gen-mrmr-n_2-b_1000-e_mrmr-custom-notclustered\": \"mrmr-2\",\n",
    "\"gen-lawn-n_3-b_1000-e_mrmr-custom-notclustered\": \"lawn-3\",\n",
    "\"gen-rw-n_3-b_1000-e_mrmr-custom-notclustered\": \"rw-3\",\n",
    "\"gen-mrmr-n_3-b_1000-e_mrmr-custom-notclustered\": \"mrmr-3\",\n",
    "\"gen-lawn-n_4-b_1000-e_mrmr-custom-notclustered\": \"lawn-4\",\n",
    "\"gen-rw-n_4-b_1000-e_mrmr-custom-notclustered\": \"rw-4\",\n",
    "\"gen-mrmr-n_4-b_1000-e_mrmr-custom-notclustered\": \"mrmr-4\"\n",
    "}\n",
    "\n",
    "n3_clustered_lookup = {\n",
    "\"gen-lawn-n_3-b_500-e_mrmr-custom-clustered\": \"lawn-500\",\n",
    "\"gen-rw-n_3-b_500-e_mrmr-custom-clustered\": \"rw-500\",\n",
    "\"gen-mrmr-n_3-b_500-e_mrmr-custom-clustered\": \"mrmr-500\",\n",
    "\"gen-lawn-n_3-b_1000-e_mrmr-custom-clustered\": \"lawn-1000\",\n",
    "\"gen-rw-n_3-b_1000-e_mrmr-custom-clustered\": \"rw-1000\",\n",
    "\"gen-mrmr-n_3-b_1000-e_mrmr-custom-clustered\": \"mrmr-1000\",\n",
    "\"gen-lawn-n_3-b_1500-e_mrmr-custom-clustered\": \"lawn-1500\",\n",
    "\"gen-rw-n_3-b_1500-e_mrmr-custom-clustered\": \"rw-1500\",\n",
    "\"gen-mrmr-n_3-b_1500-e_mrmr-custom-clustered\": \"mrmr-1500\"\n",
    "}\n",
    "\n",
    "n3_unclustered_lookup = {\n",
    "\"gen-lawn-n_3-b_500-e_mrmr-custom-notclustered\": \"lawn-500\",\n",
    "\"gen-rw-n_3-b_500-e_mrmr-custom-notclustered\": \"rw-500\",\n",
    "\"gen-mrmr-n_3-b_500-e_mrmr-custom-notclustered\": \"mrmr-500\",\n",
    "\"gen-lawn-n_3-b_1000-e_mrmr-custom-notclustered\": \"lawn-1000\",\n",
    "\"gen-rw-n_3-b_1000-e_mrmr-custom-notclustered\": \"rw-1000\",\n",
    "\"gen-mrmr-n_3-b_1000-e_mrmr-custom-notclustered\": \"mrmr-1000\",\n",
    "\"gen-lawn-n_3-b_1500-e_mrmr-custom-notclustered\": \"lawn-1500\",\n",
    "\"gen-rw-n_3-b_1500-e_mrmr-custom-notclustered\": \"rw-1500\",\n",
    "\"gen-mrmr-n_3-b_1500-e_mrmr-custom-notclustered\": \"mrmr-1500\"\n",
    "}\n",
    "\n",
    "comparative_detections(runs_b1000_clustered, \"by_robot_count_clustered\", ROBOT_COLORS[0:3], b1000_clustered_lookup)\n",
    "comparative_detections(runs_n3_clustered, \"by_budget_clustered\", ROBOT_COLORS[0:3], n3_clustered_lookup)\n",
    "comparative_detections(runs_b1000_unclustered, \"by_robot_count_unclustered\", ROBOT_COLORS[0:3], b1000_unclustered_lookup)\n",
    "comparative_detections(runs_n3_unclustered, \"by_budget_unclustered\", ROBOT_COLORS[0:3], n3_unclustered_lookup)\n",
    "\n"
   ]
  },
  {
   "cell_type": "code",
   "execution_count": null,
   "id": "8f4e1b70",
   "metadata": {},
   "outputs": [],
   "source": []
  }
 ],
 "metadata": {
  "kernelspec": {
   "display_name": "WBF-venv",
   "language": "python",
   "name": "python3"
  },
  "language_info": {
   "codemirror_mode": {
    "name": "ipython",
    "version": 3
   },
   "file_extension": ".py",
   "mimetype": "text/x-python",
   "name": "python",
   "nbconvert_exporter": "python",
   "pygments_lexer": "ipython3",
   "version": "3.11.4"
  }
 },
 "nbformat": 4,
 "nbformat_minor": 5
}
