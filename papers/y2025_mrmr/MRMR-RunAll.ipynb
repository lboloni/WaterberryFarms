{
 "cells": [
  {
   "cell_type": "markdown",
   "id": "c308444e",
   "metadata": {},
   "source": [
    "# Run all the experiments for the MRMR paper\n",
    "\n",
    "Performs all the experiments. "
   ]
  },
  {
   "cell_type": "code",
   "execution_count": null,
   "id": "335a4915",
   "metadata": {},
   "outputs": [
    {
     "ename": "ModuleNotFoundError",
     "evalue": "No module named 'exp_run_config'",
     "output_type": "error",
     "traceback": [
      "\u001b[1;31m---------------------------------------------------------------------------\u001b[0m",
      "\u001b[1;31mModuleNotFoundError\u001b[0m                       Traceback (most recent call last)",
      "Cell \u001b[1;32mIn[1], line 3\u001b[0m\n\u001b[0;32m      1\u001b[0m \u001b[38;5;28;01mimport\u001b[39;00m \u001b[38;5;21;01msys\u001b[39;00m\n\u001b[0;32m      2\u001b[0m sys\u001b[38;5;241m.\u001b[39mpath\u001b[38;5;241m.\u001b[39mappend(\u001b[38;5;124m\"\u001b[39m\u001b[38;5;124m..\u001b[39m\u001b[38;5;124m\"\u001b[39m)\n\u001b[1;32m----> 3\u001b[0m \u001b[38;5;28;01mfrom\u001b[39;00m \u001b[38;5;21;01mexp_run_config\u001b[39;00m \u001b[38;5;28;01mimport\u001b[39;00m Config\n\u001b[0;32m      4\u001b[0m Config\u001b[38;5;241m.\u001b[39mPROJECTNAME \u001b[38;5;241m=\u001b[39m \u001b[38;5;124m\"\u001b[39m\u001b[38;5;124mWaterBerryFarms\u001b[39m\u001b[38;5;124m\"\u001b[39m\n\u001b[0;32m      6\u001b[0m \u001b[38;5;28;01mimport\u001b[39;00m \u001b[38;5;21;01mpathlib\u001b[39;00m\n",
      "\u001b[1;31mModuleNotFoundError\u001b[0m: No module named 'exp_run_config'"
     ]
    }
   ],
   "source": [
    "import sys\n",
    "sys.path.append(\"../..\")\n",
    "from exp_run_config import Config\n",
    "Config.PROJECTNAME = \"WaterBerryFarms\"\n",
    "\n",
    "import pathlib\n",
    "from pprint import pprint\n",
    "\n",
    "from wbf_simulate import run_nrobot1day"
   ]
  },
  {
   "cell_type": "code",
   "execution_count": null,
   "id": "4f17ee7e",
   "metadata": {},
   "outputs": [],
   "source": [
    "experiment = \"mrmr\"\n",
    "runs = [\"mrmr-clustered-1pio-2con\", \"mrmr-clustered-3lawnmowers\",\n",
    "        \"mrmr-clustered-3random\", \"mrmr-unclustered-1pio-2con\",\"mrmr-unclustered-3lawnmowers\", \"mrmr-unclustered-3random\"]"
   ]
  },
  {
   "cell_type": "code",
   "execution_count": null,
   "id": "096ed7fa",
   "metadata": {},
   "outputs": [
    {
     "name": "stdout",
     "output_type": "stream",
     "text": [
      "['mrmr-clustered-1pio-2con', 'mrmr-clustered-3lawnmowers', 'mrmr-clustered-3random', 'mrmr-unclustered-1pio-2con', 'mrmr-unclustered-3lawnmowers', 'mrmr-unclustered-3random']\n"
     ]
    }
   ],
   "source": [
    "for run in runs:\n",
    "    exp = Config().get_experiment(experiment, run)\n",
    "    pprint(exp)\n",
    "    run_nrobot1day(exp)"
   ]
  },
  {
   "cell_type": "code",
   "execution_count": null,
   "id": "6057a12a",
   "metadata": {},
   "outputs": [],
   "source": []
  }
 ],
 "metadata": {
  "kernelspec": {
   "display_name": "WBF-venv",
   "language": "python",
   "name": "python3"
  },
  "language_info": {
   "codemirror_mode": {
    "name": "ipython",
    "version": 3
   },
   "file_extension": ".py",
   "mimetype": "text/x-python",
   "name": "python",
   "nbconvert_exporter": "python",
   "pygments_lexer": "ipython3",
   "version": "3.11.4"
  }
 },
 "nbformat": 4,
 "nbformat_minor": 5
}
