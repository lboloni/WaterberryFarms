{
 "cells": [
  {
   "cell_type": "markdown",
   "id": "c308444e",
   "metadata": {},
   "source": [
    "# Run all the experiments for the MRMR paper\n",
    "\n",
    "Performs all the experiments. "
   ]
  },
  {
   "cell_type": "code",
   "execution_count": 1,
   "id": "335a4915",
   "metadata": {},
   "outputs": [],
   "source": [
    "import sys\n",
    "sys.path.append(\"../..\")\n",
    "from exp_run_config import Config\n",
    "Config.PROJECTNAME = \"WaterBerryFarms\"\n",
    "\n",
    "import pathlib\n",
    "from pprint import pprint\n",
    "import gzip as compress\n",
    "import pickle\n",
    "\n",
    "from wbf_simulate import run_nrobot1day"
   ]
  },
  {
   "cell_type": "code",
   "execution_count": 2,
   "id": "4f17ee7e",
   "metadata": {},
   "outputs": [],
   "source": [
    "experiment = \"mrmr\"\n",
    "runs = [\"mrmr-clustered-1pio-2con\", \"mrmr-clustered-3lawnmowers\",\n",
    "        \"mrmr-clustered-3random\", \"mrmr-unclustered-1pio-2con\",\"mrmr-unclustered-3lawnmowers\", \"mrmr-unclustered-3random\"]"
   ]
  },
  {
   "cell_type": "code",
   "execution_count": 3,
   "id": "096ed7fa",
   "metadata": {},
   "outputs": [
    {
     "name": "stdout",
     "output_type": "stream",
     "text": [
      "***ExpRun**: Loading pointer config file:\n",
      "\tC:\\Users\\lboloni\\.config\\WaterBerryFarms\\mainsettings.yaml\n",
      "***ExpRun**: Loading machine-specific config file:\n",
      "\tG:\\My Drive\\LotziStudy\\Code\\PackageTracking\\WaterBerryFarms\\settings\\WBF-config-LotziYoga.yaml\n",
      "***ExpRun**: No system dependent experiment file\n",
      "\t G:\\My Drive\\LotziStudy\\Code\\PackageTracking\\WaterBerryFarms\\settings\\experiment-config\\LotziYoga\\mrmr\\mrmr-clustered-1pio-2con_sysdep.yaml,\n",
      "\t that is ok, proceeding.\n",
      "***ExpRun**: Configuration for exp/run: mrmr/mrmr-clustered-1pio-2con successfully loaded\n",
      "Experiment: {'velocity': 1, 'timesteps-per-day': 1000, 'time-start-environment': 25, 'im_resolution': 10, 'experiment_name': 'mrmr', 'name': '1 pioneer 2 contractors clustered', 'exp_environment': 'mrmr-custom-clustered', 'exp_estimator': 'adaptive-disk', 'exp_score': 'weighted_asymmetric', 'robots': [{'name': 'robot-pioneer', 'exp-policy': 'generic', 'exp-policy-extra-parameters': {'policy-name': 'mrmr-pioneer', 'policy-code': 'MRMR_Pioneer', 'seed': 1, 'budget': 1000}}, {'name': 'robot-contr-1', 'exp-policy': 'generic', 'exp-policy-extra-parameters': {'policy-name': 'mrmr-contractor-1', 'policy-code': 'MRMR_Contractor', 'seed': 2, 'budget': 1000}}, {'name': 'robot-contr-2', 'exp-policy': 'generic', 'exp-policy-extra-parameters': {'policy-name': 'mrmr-contractor-2', 'policy-code': 'MRMR_Contractor', 'seed': 3, 'budget': 1000}}], 'run_name': 'mrmr-clustered-1pio-2con', 'exp_run_sys_indep_file': 'C:\\\\Users\\\\lboloni\\\\Documents\\\\Code\\\\_Checkouts\\\\WBF\\\\WaterberryFarms\\\\experiment_configs\\\\mrmr\\\\mrmr-clustered-1pio-2con.yaml', 'data_dir': 'C:\\\\Users\\\\lboloni\\\\Documents\\\\Code\\\\_TempData\\\\WBF\\\\ExperimentData\\\\mrmr\\\\mrmr-clustered-1pio-2con', 'subrun_name': None, 'time_started': '2025-04-30 23:14:47'}\n",
      "***ExpRun**: Experiment default config C:\\Users\\lboloni\\Documents\\Code\\_Checkouts\\WBF\\WaterberryFarms\\experiment_configs\\environment\\_environment.yaml was empty, ok.\n",
      "***ExpRun**: No system dependent experiment file\n",
      "\t G:\\My Drive\\LotziStudy\\Code\\PackageTracking\\WaterBerryFarms\\settings\\experiment-config\\LotziYoga\\environment\\mrmr-custom-clustered_sysdep.yaml,\n",
      "\t that is ok, proceeding.\n",
      "***ExpRun**: Configuration for exp/run: environment/mrmr-custom-clustered successfully loaded\n",
      "Experiment: {'experiment_name': 'environment', 'typename': 'Miniberry-100', 'precompute-time': 10, 'custom-tylcv': 'mrmr-clustered-100.png', 'run_name': 'mrmr-custom-clustered', 'exp_run_sys_indep_file': 'C:\\\\Users\\\\lboloni\\\\Documents\\\\Code\\\\_Checkouts\\\\WBF\\\\WaterberryFarms\\\\experiment_configs\\\\environment\\\\mrmr-custom-clustered.yaml', 'data_dir': 'C:\\\\Users\\\\lboloni\\\\Documents\\\\Code\\\\_TempData\\\\WBF\\\\ExperimentData\\\\environment\\\\mrmr-custom-clustered', 'subrun_name': None, 'time_started': '2025-04-30 23:14:47'}\n",
      "***ExpRun**: Experiment default config C:\\Users\\lboloni\\Documents\\Code\\_Checkouts\\WBF\\WaterberryFarms\\experiment_configs\\estimator\\_estimator.yaml was empty, ok.\n",
      "***ExpRun**: No system dependent experiment file\n",
      "\t G:\\My Drive\\LotziStudy\\Code\\PackageTracking\\WaterBerryFarms\\settings\\experiment-config\\LotziYoga\\estimator\\adaptive-disk_sysdep.yaml,\n",
      "\t that is ok, proceeding.\n",
      "***ExpRun**: Configuration for exp/run: estimator/adaptive-disk successfully loaded\n",
      "Experiment: {'experiment_name': 'estimator', 'estimator-code': 'WBF_IM_DiskEstimator', 'estimator-name': 'AD', 'run_name': 'adaptive-disk', 'exp_run_sys_indep_file': 'C:\\\\Users\\\\lboloni\\\\Documents\\\\Code\\\\_Checkouts\\\\WBF\\\\WaterberryFarms\\\\experiment_configs\\\\estimator\\\\adaptive-disk.yaml', 'data_dir': 'C:\\\\Users\\\\lboloni\\\\Documents\\\\Code\\\\_TempData\\\\WBF\\\\ExperimentData\\\\estimator\\\\adaptive-disk', 'subrun_name': None, 'time_started': '2025-04-30 23:14:47'}\n",
      "***ExpRun**: Experiment default config C:\\Users\\lboloni\\Documents\\Code\\_Checkouts\\WBF\\WaterberryFarms\\experiment_configs\\score\\_score.yaml was empty, ok.\n",
      "***ExpRun**: No system dependent experiment file\n",
      "\t G:\\My Drive\\LotziStudy\\Code\\PackageTracking\\WaterBerryFarms\\settings\\experiment-config\\LotziYoga\\score\\weighted_asymmetric_sysdep.yaml,\n",
      "\t that is ok, proceeding.\n",
      "***ExpRun**: Configuration for exp/run: score/weighted_asymmetric successfully loaded\n",
      "Experiment: {'experiment_name': 'score', 'score-code': 'WBF_Score_WeightedAsymmetric', 'score-name': 'weighted-assymmetric', 'run_name': 'weighted_asymmetric', 'exp_run_sys_indep_file': 'C:\\\\Users\\\\lboloni\\\\Documents\\\\Code\\\\_Checkouts\\\\WBF\\\\WaterberryFarms\\\\experiment_configs\\\\score\\\\weighted_asymmetric.yaml', 'data_dir': 'C:\\\\Users\\\\lboloni\\\\Documents\\\\Code\\\\_TempData\\\\WBF\\\\ExperimentData\\\\score\\\\weighted_asymmetric', 'subrun_name': None, 'time_started': '2025-04-30 23:14:47'}\n",
      "***ExpRun**: Experiment default config C:\\Users\\lboloni\\Documents\\Code\\_Checkouts\\WBF\\WaterberryFarms\\experiment_configs\\policy\\_policy.yaml was empty, ok.\n",
      "***ExpRun**: No system dependent experiment file\n",
      "\t G:\\My Drive\\LotziStudy\\Code\\PackageTracking\\WaterBerryFarms\\settings\\experiment-config\\LotziYoga\\policy\\generic_sysdep.yaml,\n",
      "\t that is ok, proceeding.\n",
      "***ExpRun**: Configuration for exp/run: policy/generic successfully loaded\n",
      "policy-name\n",
      "policy-code\n",
      "seed\n",
      "budget\n",
      "***ExpRun**: Experiment default config C:\\Users\\lboloni\\Documents\\Code\\_Checkouts\\WBF\\WaterberryFarms\\experiment_configs\\policy\\_policy.yaml was empty, ok.\n",
      "***ExpRun**: No system dependent experiment file\n",
      "\t G:\\My Drive\\LotziStudy\\Code\\PackageTracking\\WaterBerryFarms\\settings\\experiment-config\\LotziYoga\\policy\\generic_sysdep.yaml,\n",
      "\t that is ok, proceeding.\n",
      "***ExpRun**: Configuration for exp/run: policy/generic successfully loaded\n",
      "policy-name\n",
      "policy-code\n",
      "seed\n",
      "budget\n",
      "***ExpRun**: Experiment default config C:\\Users\\lboloni\\Documents\\Code\\_Checkouts\\WBF\\WaterberryFarms\\experiment_configs\\policy\\_policy.yaml was empty, ok.\n",
      "***ExpRun**: No system dependent experiment file\n",
      "\t G:\\My Drive\\LotziStudy\\Code\\PackageTracking\\WaterBerryFarms\\settings\\experiment-config\\LotziYoga\\policy\\generic_sysdep.yaml,\n",
      "\t that is ok, proceeding.\n",
      "***ExpRun**: Configuration for exp/run: policy/generic successfully loaded\n"
     ]
    },
    {
     "name": "stderr",
     "output_type": "stream",
     "text": [
      "INFO:root:create_type_map shape=(10201,)\n",
      "INFO:root:Infection matrix: [0.         0.25       0.4375     0.578125   0.68359375 0.76269531\n",
      " 0.82202148 0.86651611 0.89988708 0.92491531 0.94368649 0.95776486\n",
      " 0.96832365 0.97624274 0.98218205 0.98663654 0.9899774  0.99248305\n",
      " 0.99436229 0.99577172 0.99682879 0.99762159 0.99821619 0.99866214\n",
      " 0.99899661]\n",
      "INFO:root:Infection matrix: [0.         0.15       0.2775     0.385875   0.47799375 0.55629469\n",
      " 0.62285048 0.67942291 0.72750947 0.76838305 0.8031256  0.83265676\n",
      " 0.85775824 0.87909451 0.89723033 0.91264578 0.92574891 0.93688658\n",
      " 0.94635359 0.95440055 0.96124047 0.9670544  0.97199624 0.9761968\n",
      " 0.97976728]\n",
      "INFO:root:Environment.proceed - calling the inner_proceed\n",
      "INFO:root:Environment.proceed - calling the inner_proceed\n",
      "INFO:root:PrecalculatedEnvironment at timestamp 1\n",
      "INFO:root:PrecalculatedEnvironment: file C:\\Users\\lboloni\\Documents\\Code\\_TempData\\WBF\\ExperimentData\\environment\\mrmr-custom-clustered\\precalc_tylcv\\env_value_00001.gz already exists, skipping!\n",
      "INFO:root:Environment.proceed - calling the inner_proceed\n",
      "INFO:root:PrecalculatedEnvironment at timestamp 1\n",
      "INFO:root:PrecalculatedEnvironment: file C:\\Users\\lboloni\\Documents\\Code\\_TempData\\WBF\\ExperimentData\\environment\\mrmr-custom-clustered\\precalc_ccr\\env_value_00001.gz already exists, skipping!\n",
      "INFO:root:Environment.proceed - calling the inner_proceed\n",
      "INFO:root:PrecalculatedEnvironment at timestamp 1\n",
      "INFO:root:PrecalculatedEnvironment: file C:\\Users\\lboloni\\Documents\\Code\\_TempData\\WBF\\ExperimentData\\environment\\mrmr-custom-clustered\\precalc_soil\\env_value_00001.gz already exists, skipping!\n",
      "INFO:root:Environment.proceed - calling the inner_proceed\n",
      "INFO:root:Environment.proceed - calling the inner_proceed\n",
      "INFO:root:PrecalculatedEnvironment at timestamp 26\n",
      "INFO:root:PrecalculatedEnvironment: file C:\\Users\\lboloni\\Documents\\Code\\_TempData\\WBF\\ExperimentData\\environment\\mrmr-custom-clustered\\precalc_tylcv\\env_value_00026.gz already exists, skipping!\n",
      "INFO:root:Environment.proceed - calling the inner_proceed\n",
      "INFO:root:PrecalculatedEnvironment at timestamp 26\n",
      "INFO:root:PrecalculatedEnvironment: file C:\\Users\\lboloni\\Documents\\Code\\_TempData\\WBF\\ExperimentData\\environment\\mrmr-custom-clustered\\precalc_ccr\\env_value_00026.gz already exists, skipping!\n",
      "INFO:root:Environment.proceed - calling the inner_proceed\n",
      "INFO:root:PrecalculatedEnvironment at timestamp 26\n",
      "INFO:root:PrecalculatedEnvironment: file C:\\Users\\lboloni\\Documents\\Code\\_TempData\\WBF\\ExperimentData\\environment\\mrmr-custom-clustered\\precalc_soil\\env_value_00026.gz already exists, skipping!\n"
     ]
    },
    {
     "name": "stdout",
     "output_type": "stream",
     "text": [
      "policy-name\n",
      "policy-code\n",
      "seed\n",
      "budget\n",
      "[{'exp-policy': Experiment: {'experiment_name': 'policy', 'policy-name': 'mrmr-pioneer', 'policy-code': 'MRMR_Pioneer', 'run_name': 'generic', 'exp_run_sys_indep_file': 'C:\\\\Users\\\\lboloni\\\\Documents\\\\Code\\\\_Checkouts\\\\WBF\\\\WaterberryFarms\\\\experiment_configs\\\\policy\\\\generic.yaml', 'data_dir': 'C:\\\\Users\\\\lboloni\\\\Documents\\\\Code\\\\_TempData\\\\WBF\\\\ExperimentData\\\\policy\\\\generic', 'subrun_name': None, 'time_started': '2025-04-30 23:14:47', 'seed': 1, 'budget': 1000},\n",
      "  'name': 'robot-pioneer'},\n",
      " {'exp-policy': Experiment: {'experiment_name': 'policy', 'policy-name': 'mrmr-contractor-1', 'policy-code': 'MRMR_Contractor', 'run_name': 'generic', 'exp_run_sys_indep_file': 'C:\\\\Users\\\\lboloni\\\\Documents\\\\Code\\\\_Checkouts\\\\WBF\\\\WaterberryFarms\\\\experiment_configs\\\\policy\\\\generic.yaml', 'data_dir': 'C:\\\\Users\\\\lboloni\\\\Documents\\\\Code\\\\_TempData\\\\WBF\\\\ExperimentData\\\\policy\\\\generic', 'subrun_name': None, 'time_started': '2025-04-30 23:14:47', 'seed': 2, 'budget': 1000},\n",
      "  'name': 'robot-contr-1'},\n",
      " {'exp-policy': Experiment: {'experiment_name': 'policy', 'policy-name': 'mrmr-contractor-2', 'policy-code': 'MRMR_Contractor', 'run_name': 'generic', 'exp_run_sys_indep_file': 'C:\\\\Users\\\\lboloni\\\\Documents\\\\Code\\\\_Checkouts\\\\WBF\\\\WaterberryFarms\\\\experiment_configs\\\\policy\\\\generic.yaml', 'data_dir': 'C:\\\\Users\\\\lboloni\\\\Documents\\\\Code\\\\_TempData\\\\WBF\\\\ExperimentData\\\\policy\\\\generic', 'subrun_name': None, 'time_started': '2025-04-30 23:14:47', 'seed': 3, 'budget': 1000},\n",
      "  'name': 'robot-contr-2'}]\n",
      "loading from C:\\Users\\lboloni\\Documents\\Code\\_Checkouts\\WBF\\WaterberryFarms\\experiment_configs\\environment\\mrmr-clustered-100.png\n",
      "[[[255 255 255 255]\n",
      "  [255 255 255 255]\n",
      "  [255 255 255 255]\n",
      "  ...\n",
      "  [255 255 255 255]\n",
      "  [255 255 255 255]\n",
      "  [255 255 255 255]]\n",
      "\n",
      " [[255 255 255 255]\n",
      "  [255 255 255 255]\n",
      "  [255 255 255 255]\n",
      "  ...\n",
      "  [255 255 255 255]\n",
      "  [255 255 255 255]\n",
      "  [255 255 255 255]]\n",
      "\n",
      " [[255 255 255 255]\n",
      "  [255 255 255 255]\n",
      "  [255 255 255 255]\n",
      "  ...\n",
      "  [255 255 255 255]\n",
      "  [255 255 255 255]\n",
      "  [255 255 255 255]]\n",
      "\n",
      " ...\n",
      "\n",
      " [[255 255 255 255]\n",
      "  [255 255 255 255]\n",
      "  [255 255 255 255]\n",
      "  ...\n",
      "  [255 255 255 255]\n",
      "  [255 255 255 255]\n",
      "  [255 255 255 255]]\n",
      "\n",
      " [[255 255 255 255]\n",
      "  [255 255 255 255]\n",
      "  [255 255 255 255]\n",
      "  ...\n",
      "  [255 255 255 255]\n",
      "  [255 255 255 255]\n",
      "  [255 255 255 255]]\n",
      "\n",
      " [[255 255 255 255]\n",
      "  [255 255 255 255]\n",
      "  [255 255 255 255]\n",
      "  ...\n",
      "  [255 255 255 255]\n",
      "  [255 255 255 255]\n",
      "  [255 255 255 255]]]\n"
     ]
    },
    {
     "ename": "ValueError",
     "evalue": "list.remove(x): x not in list",
     "output_type": "error",
     "traceback": [
      "\u001b[1;31m---------------------------------------------------------------------------\u001b[0m",
      "\u001b[1;31mValueError\u001b[0m                                Traceback (most recent call last)",
      "Cell \u001b[1;32mIn[3], line 4\u001b[0m\n\u001b[0;32m      2\u001b[0m exp \u001b[38;5;241m=\u001b[39m Config()\u001b[38;5;241m.\u001b[39mget_experiment(experiment, run)\n\u001b[0;32m      3\u001b[0m pprint(exp)\n\u001b[1;32m----> 4\u001b[0m \u001b[43mrun_nrobot1day\u001b[49m\u001b[43m(\u001b[49m\u001b[43mexp\u001b[49m\u001b[43m)\u001b[49m\n",
      "File \u001b[1;32mc:\\Users\\lboloni\\Documents\\Code\\_Checkouts\\WBF\\WaterBerryFarms\\papers\\y2025_mrmr\\../..\\wbf_simulate.py:345\u001b[0m, in \u001b[0;36mrun_nrobot1day\u001b[1;34m(exp)\u001b[0m\n\u001b[0;32m    340\u001b[0m results[\u001b[38;5;124m\"\u001b[39m\u001b[38;5;124mrobots\u001b[39m\u001b[38;5;124m\"\u001b[39m] \u001b[38;5;241m=\u001b[39m robots\n\u001b[0;32m    342\u001b[0m \u001b[38;5;66;03m# \u001b[39;00m\n\u001b[0;32m    343\u001b[0m \u001b[38;5;66;03m# This is where we actually calling the simulation\u001b[39;00m\n\u001b[0;32m    344\u001b[0m \u001b[38;5;66;03m#\u001b[39;00m\n\u001b[1;32m--> 345\u001b[0m \u001b[43msimulate_1day_multirobot\u001b[49m\u001b[43m(\u001b[49m\u001b[43mresults\u001b[49m\u001b[43m)\u001b[49m\n\u001b[0;32m    346\u001b[0m \u001b[38;5;66;03m#print(f\"Saving results to: {resultsfile}\")\u001b[39;00m\n\u001b[0;32m    347\u001b[0m \u001b[38;5;66;03m#with compress.open(resultsfile, \"wb\") as f:\u001b[39;00m\n\u001b[0;32m    348\u001b[0m \u001b[38;5;66;03m#    pickle.dump(results, f)\u001b[39;00m\n\u001b[0;32m    349\u001b[0m save_simulation_results(resultsfile, results)\n",
      "File \u001b[1;32mc:\\Users\\lboloni\\Documents\\Code\\_Checkouts\\WBF\\WaterBerryFarms\\papers\\y2025_mrmr\\../..\\wbf_simulate.py:116\u001b[0m, in \u001b[0;36msimulate_1day_multirobot\u001b[1;34m(results)\u001b[0m\n\u001b[0;32m    113\u001b[0m results[\u001b[38;5;124m\"\u001b[39m\u001b[38;5;124mim_resolution_count\u001b[39m\u001b[38;5;124m\"\u001b[39m] \u001b[38;5;241m=\u001b[39m \u001b[38;5;241m0\u001b[39m \u001b[38;5;66;03m# counting the steps for the im update\u001b[39;00m\n\u001b[0;32m    115\u001b[0m \u001b[38;5;28;01mfor\u001b[39;00m timestep \u001b[38;5;129;01min\u001b[39;00m \u001b[38;5;28mrange\u001b[39m(\u001b[38;5;28mint\u001b[39m(results[\u001b[38;5;124m\"\u001b[39m\u001b[38;5;124mtimesteps-per-day\u001b[39m\u001b[38;5;124m\"\u001b[39m])):\n\u001b[1;32m--> 116\u001b[0m     \u001b[43msimulate_timestep_multirobot\u001b[49m\u001b[43m(\u001b[49m\u001b[43mresults\u001b[49m\u001b[43m,\u001b[49m\u001b[43m \u001b[49m\u001b[43mtimestep\u001b[49m\u001b[43m)\u001b[49m\n",
      "File \u001b[1;32mc:\\Users\\lboloni\\Documents\\Code\\_Checkouts\\WBF\\WaterBerryFarms\\papers\\y2025_mrmr\\../..\\wbf_simulate.py:137\u001b[0m, in \u001b[0;36msimulate_timestep_multirobot\u001b[1;34m(results, timestep)\u001b[0m\n\u001b[0;32m    134\u001b[0m             robot\u001b[38;5;241m.\u001b[39mpolicy\u001b[38;5;241m.\u001b[39mact_receive(\u001b[38;5;28mround\u001b[39m, msgs)\n\u001b[0;32m    136\u001b[0m \u001b[38;5;28;01mfor\u001b[39;00m robot \u001b[38;5;129;01min\u001b[39;00m results[\u001b[38;5;124m\"\u001b[39m\u001b[38;5;124mrobots\u001b[39m\u001b[38;5;124m\"\u001b[39m]:\n\u001b[1;32m--> 137\u001b[0m     \u001b[43mrobot\u001b[49m\u001b[38;5;241;43m.\u001b[39;49m\u001b[43menact_policy\u001b[49m\u001b[43m(\u001b[49m\u001b[43m)\u001b[49m\n\u001b[0;32m    138\u001b[0m     robot\u001b[38;5;241m.\u001b[39mproceed(\u001b[38;5;241m1\u001b[39m)\n\u001b[0;32m    139\u001b[0m     position \u001b[38;5;241m=\u001b[39m [\u001b[38;5;28mint\u001b[39m(robot\u001b[38;5;241m.\u001b[39mx), \u001b[38;5;28mint\u001b[39m(robot\u001b[38;5;241m.\u001b[39my), timestep]\n",
      "File \u001b[1;32mc:\\Users\\lboloni\\Documents\\Code\\_Checkouts\\WBF\\WaterBerryFarms\\papers\\y2025_mrmr\\../..\\robot.py:68\u001b[0m, in \u001b[0;36mRobot.enact_policy\u001b[1;34m(self, delta_t)\u001b[0m\n\u001b[0;32m     66\u001b[0m \u001b[38;5;250m\u001b[39m\u001b[38;5;124;03m\"\"\"Call the policy, if any to schedule actions\"\"\"\u001b[39;00m\n\u001b[0;32m     67\u001b[0m \u001b[38;5;28;01mif\u001b[39;00m \u001b[38;5;28mself\u001b[39m\u001b[38;5;241m.\u001b[39mpolicy \u001b[38;5;241m!=\u001b[39m \u001b[38;5;28;01mNone\u001b[39;00m:\n\u001b[1;32m---> 68\u001b[0m     \u001b[38;5;28;43mself\u001b[39;49m\u001b[38;5;241;43m.\u001b[39;49m\u001b[43mpolicy\u001b[49m\u001b[38;5;241;43m.\u001b[39;49m\u001b[43mact\u001b[49m\u001b[43m(\u001b[49m\u001b[43mdelta_t\u001b[49m\u001b[43m)\u001b[49m\n",
      "File \u001b[1;32mc:\\Users\\lboloni\\Documents\\Code\\_Checkouts\\WBF\\WaterBerryFarms\\papers\\y2025_mrmr\\../..\\papers\\y2025_mrmr\\mrmr_policies.py:275\u001b[0m, in \u001b[0;36mMRMR_Contractor.act\u001b[1;34m(self, delta_t)\u001b[0m\n\u001b[0;32m    272\u001b[0m \u001b[38;5;66;03m# terminating the current epoffer and marking it as executed\u001b[39;00m\n\u001b[0;32m    273\u001b[0m \u001b[38;5;28;01mif\u001b[39;00m \u001b[38;5;28mself\u001b[39m\u001b[38;5;241m.\u001b[39mcurrent_epoffer \u001b[38;5;129;01mand\u001b[39;00m \u001b[38;5;28mself\u001b[39m\u001b[38;5;241m.\u001b[39mcurrent_epoffer\u001b[38;5;241m.\u001b[39mep \u001b[38;5;241m!=\u001b[39m \u001b[38;5;28mself\u001b[39m\u001b[38;5;241m.\u001b[39mplan[\u001b[38;5;241m0\u001b[39m][\u001b[38;5;124m\"\u001b[39m\u001b[38;5;124mep\u001b[39m\u001b[38;5;124m\"\u001b[39m]:\n\u001b[0;32m    274\u001b[0m     \u001b[38;5;66;03m# current ep was terminated             \u001b[39;00m\n\u001b[1;32m--> 275\u001b[0m     \u001b[38;5;28;43mself\u001b[39;49m\u001b[38;5;241;43m.\u001b[39;49m\u001b[43mepagent\u001b[49m\u001b[38;5;241;43m.\u001b[39;49m\u001b[43mcommitment_executed\u001b[49m\u001b[43m(\u001b[49m\u001b[38;5;28;43mself\u001b[39;49m\u001b[38;5;241;43m.\u001b[39;49m\u001b[43mcurrent_epoffer\u001b[49m\u001b[43m,\u001b[49m\u001b[43m \u001b[49m\u001b[43mreal_value\u001b[49m\u001b[43m \u001b[49m\u001b[38;5;241;43m=\u001b[39;49m\u001b[43m \u001b[49m\u001b[38;5;28;43mself\u001b[39;49m\u001b[38;5;241;43m.\u001b[39;49m\u001b[43mcurrent_real_value\u001b[49m\u001b[43m)\u001b[49m\n\u001b[0;32m    276\u001b[0m     \u001b[38;5;28mself\u001b[39m\u001b[38;5;241m.\u001b[39mcurrent_epoffer \u001b[38;5;241m=\u001b[39m \u001b[38;5;28;01mNone\u001b[39;00m\n\u001b[0;32m    277\u001b[0m     \u001b[38;5;28mself\u001b[39m\u001b[38;5;241m.\u001b[39mcurrent_real_value \u001b[38;5;241m=\u001b[39m \u001b[38;5;241m0\u001b[39m\n",
      "File \u001b[1;32mc:\\Users\\lboloni\\Documents\\Code\\_Checkouts\\WBF\\WaterBerryFarms\\papers\\y2025_mrmr\\../..\\papers\\y2025_mrmr\\epmarket.py:79\u001b[0m, in \u001b[0;36mEPAgent.commitment_executed\u001b[1;34m(self, epoff, real_value)\u001b[0m\n\u001b[0;32m     77\u001b[0m epoff\u001b[38;5;241m.\u001b[39mexecuted \u001b[38;5;241m=\u001b[39m \u001b[38;5;28;01mTrue\u001b[39;00m\n\u001b[0;32m     78\u001b[0m \u001b[38;5;28mself\u001b[39m\u001b[38;5;241m.\u001b[39mmoney \u001b[38;5;241m+\u001b[39m\u001b[38;5;241m=\u001b[39m epoff\u001b[38;5;241m.\u001b[39mbid_prize\n\u001b[1;32m---> 79\u001b[0m \u001b[38;5;28;43mself\u001b[39;49m\u001b[38;5;241;43m.\u001b[39;49m\u001b[43mcommitments\u001b[49m\u001b[38;5;241;43m.\u001b[39;49m\u001b[43mremove\u001b[49m\u001b[43m(\u001b[49m\u001b[43mepoff\u001b[49m\u001b[43m)\u001b[49m\n\u001b[0;32m     80\u001b[0m offering_agent \u001b[38;5;241m=\u001b[39m \u001b[38;5;28mself\u001b[39m\u001b[38;5;241m.\u001b[39mepm\u001b[38;5;241m.\u001b[39magents[epoff\u001b[38;5;241m.\u001b[39moffering_agent_name]\n\u001b[0;32m     81\u001b[0m offering_agent\u001b[38;5;241m.\u001b[39moffer_finished(epoff)\n",
      "\u001b[1;31mValueError\u001b[0m: list.remove(x): x not in list"
     ]
    }
   ],
   "source": [
    "for run in runs:\n",
    "    exp = Config().get_experiment(experiment, run)\n",
    "    pprint(exp)\n",
    "    run_nrobot1day(exp)"
   ]
  },
  {
   "cell_type": "code",
   "execution_count": null,
   "id": "6057a12a",
   "metadata": {},
   "outputs": [],
   "source": [
    "# load back all the results \n",
    "all_results = {}\n",
    "\n",
    "for run in runs:\n",
    "    exp = Config().get_experiment(experiment, run)\n",
    "    pprint(exp)\n",
    "\n",
    "    resultsfile = pathlib.Path(exp[\"data_dir\"], \"results.pickle\")\n",
    "    if not resultsfile.exists():\n",
    "        print(f\"Results file does not exist:\\n{resultsfile}\")\n",
    "        print(\"Run the notebook Run-1Robot1Day with the same exp/run to create it.\")\n",
    "        raise Exception(\"Nothing to do.\")\n",
    "\n",
    "    # load the results file\n",
    "    with compress.open(resultsfile, \"rb\") as f:\n",
    "        results = pickle.load(f)    \n",
    "    all_results[run] = results\n"
   ]
  },
  {
   "cell_type": "code",
   "execution_count": null,
   "id": "d221fdf4",
   "metadata": {},
   "outputs": [],
   "source": [
    "all_results.keys()"
   ]
  },
  {
   "cell_type": "code",
   "execution_count": null,
   "id": "6f2f8a71",
   "metadata": {},
   "outputs": [],
   "source": [
    "# visualize the replanning process\n",
    "# for all the mrmr scenarios, for the contractor agents\n",
    "# for all the replanning points (which are the indexes of the oldplans dictionary)\n",
    "# create a figure\n",
    "# visualize the observations to that time with a continuous line\n",
    "# visualize the rest of the plan from the oldplans"
   ]
  },
  {
   "cell_type": "code",
   "execution_count": null,
   "id": "2f7d8757",
   "metadata": {},
   "outputs": [],
   "source": [
    "for scenario in all_results:\n",
    "    if \"1pio\" not in scenario: continue\n",
    "    results = all_results[\"scenario\"]\n",
    "    for i, robot in enumerate(results[\"robots\"]):\n",
    "        if \"robot-contr\" in robot.name:\n",
    "            print(robot.name)\n",
    "            # FIXME: I think that the problem here is that I won't have access to the policy here, so I will need to store the old plans somewhere else... maybe in the robot...?\n",
    "            observations = [o[i] for o in results[\"observations\"]]\n",
    "            oldplans = robot.oldplans\n",
    "            for t in oldplans:\n",
    "                print(t)"
   ]
  },
  {
   "cell_type": "code",
   "execution_count": null,
   "id": "9bdd98cb",
   "metadata": {},
   "outputs": [],
   "source": [
    "# for all running scenarios\n",
    "# visualize the detection paths, on an agent by agent basis\n",
    "# visualize the detection points for each of them\n",
    "# FIXME: maybe also visualize the money for the mrmr agents"
   ]
  },
  {
   "cell_type": "code",
   "execution_count": null,
   "id": "f9a76af0",
   "metadata": {},
   "outputs": [],
   "source": [
    "# compare the unclustered and clustered cases \n",
    "# create comparison graphs"
   ]
  }
 ],
 "metadata": {
  "kernelspec": {
   "display_name": "WBF-venv",
   "language": "python",
   "name": "python3"
  },
  "language_info": {
   "codemirror_mode": {
    "name": "ipython",
    "version": 3
   },
   "file_extension": ".py",
   "mimetype": "text/x-python",
   "name": "python",
   "nbconvert_exporter": "python",
   "pygments_lexer": "ipython3",
   "version": "3.11.4"
  }
 },
 "nbformat": 4,
 "nbformat_minor": 5
}
