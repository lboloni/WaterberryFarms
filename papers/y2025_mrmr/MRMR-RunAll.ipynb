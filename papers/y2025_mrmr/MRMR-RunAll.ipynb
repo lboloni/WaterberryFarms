{
 "cells": [
  {
   "cell_type": "markdown",
   "id": "c308444e",
   "metadata": {},
   "source": [
    "# Run all the experiments for the MRMR paper\n",
    "\n",
    "Performs all the experiments. "
   ]
  },
  {
   "cell_type": "code",
   "execution_count": 1,
   "id": "335a4915",
   "metadata": {},
   "outputs": [],
   "source": [
    "import sys\n",
    "sys.path.append(\"../..\")\n",
    "from exp_run_config import Config\n",
    "Config.PROJECTNAME = \"WaterBerryFarms\"\n",
    "\n",
    "import pathlib\n",
    "from pprint import pprint\n",
    "import gzip as compress\n",
    "import pickle\n",
    "import matplotlib.pyplot as plt\n",
    "import matplotlib\n",
    "import numpy as np\n",
    "\n",
    "import wbf_figures\n",
    "from wbf_simulate import run_nrobot1day\n",
    "\n",
    "from information_model import StoredObservationIM"
   ]
  },
  {
   "cell_type": "code",
   "execution_count": 2,
   "id": "4f17ee7e",
   "metadata": {},
   "outputs": [],
   "source": [
    "experiment = \"mrmr\"\n",
    "lookup = {\"mrmr-clustered-1pio-2con\": \"MRMR\", \"mrmr-clustered-3lawnmowers\": \"MRSE\", \"mrmr-clustered-3random\": \"MRRW\", \"mrmr-unclustered-1pio-2con\" : \"MRMR\",\n",
    "\"mrmr-unclustered-3lawnmowers\": \"MRSE\", \"mrmr-unclustered-3random\": \"MRRW\"}"
   ]
  },
  {
   "cell_type": "code",
   "execution_count": 3,
   "id": "096ed7fa",
   "metadata": {},
   "outputs": [
    {
     "name": "stdout",
     "output_type": "stream",
     "text": [
      "***ExpRun**: Loading pointer config file:\n",
      "\tC:\\Users\\lboloni\\.config\\WaterBerryFarms\\mainsettings.yaml\n",
      "***ExpRun**: Loading machine-specific config file:\n",
      "\tG:\\My Drive\\LotziStudy\\Code\\PackageTracking\\WaterBerryFarms\\settings\\WBF-config-LotziYoga.yaml\n",
      "***ExpRun**: Configuration for exp/run: mrmr/mrmr_all successfully loaded\n",
      "***ExpRun**: Configuration for exp/run: mrmr/mrmr-clustered-3random successfully loaded\n",
      "Experiment:\n",
      "    data_dir: C:\\Users\\lboloni\\Documents\\Code\\_TempData\\WBF\\ExperimentData\\mrmr\\mrmr-clustered-3random\n",
      "    exp_environment: environment\n",
      "    exp_estimator: estimator\n",
      "    exp_run_sys_indep_file: C:\\Users\\lboloni\\Documents\\Code\\_Checkouts\\WBF\\WaterberryFarms\\experiment_configs\\mrmr\\mrmr-clustered-3random.yaml\n",
      "    exp_score: score\n",
      "    experiment_name: mrmr\n",
      "    im_resolution: 10\n",
      "    name: 3 random waypoint\n",
      "    robots:\n",
      "    - exp-policy: policy\n",
      "      exp-policy-extra-parameters:\n",
      "        budget: 1000\n",
      "        name: rwp-1\n",
      "        seed: 1\n",
      "      name: robot-1\n",
      "      run-policy: random-waypoint\n",
      "    - exp-policy: policy\n",
      "      exp-policy-extra-parameters:\n",
      "        budget: 1000\n",
      "        name: rwp-2\n",
      "        seed: 10\n",
      "      name: robot-2\n",
      "      run-policy: random-waypoint-seed10\n",
      "    - exp-policy: policy\n",
      "      exp-policy-extra-parameters:\n",
      "        budget: 1000\n",
      "        name: rwp-3\n",
      "        seed: 20\n",
      "      name: robot-3\n",
      "      run-policy: random-waypoint-seed20\n",
      "    run_environment: mrmr-custom-clustered\n",
      "    run_estimator: adaptive-disk\n",
      "    run_name: mrmr-clustered-3random\n",
      "    run_score: weighted_asymmetric\n",
      "    subrun_name: null\n",
      "    time-start-environment: 19\n",
      "    timesteps-per-day: 1000\n",
      "    velocity: 1\n",
      "\n",
      "***ExpRun**: Experiment default config C:\\Users\\lboloni\\Documents\\Code\\_Checkouts\\WBF\\WaterberryFarms\\experiment_configs\\environment\\_defaults_environment.yaml was empty, ok.\n",
      "***ExpRun**: Configuration for exp/run: environment/mrmr-custom-clustered successfully loaded\n",
      "Experiment:\n",
      "    custom-tylcv: mrmr-clustered-100.png\n",
      "    data_dir: C:\\Users\\lboloni\\Documents\\Code\\_TempData\\WBF\\ExperimentData\\environment\\mrmr-custom-clustered\n",
      "    exp_run_sys_indep_file: C:\\Users\\lboloni\\Documents\\Code\\_Checkouts\\WBF\\WaterberryFarms\\experiment_configs\\environment\\mrmr-custom-clustered.yaml\n",
      "    experiment_name: environment\n",
      "    precompute-time: 10\n",
      "    run_name: mrmr-custom-clustered\n",
      "    subrun_name: null\n",
      "    typename: Miniberry-100\n",
      "\n",
      "***ExpRun**: Experiment default config C:\\Users\\lboloni\\Documents\\Code\\_Checkouts\\WBF\\WaterberryFarms\\experiment_configs\\estimator\\_defaults_estimator.yaml was empty, ok.\n",
      "***ExpRun**: Configuration for exp/run: estimator/adaptive-disk successfully loaded\n",
      "Experiment:\n",
      "    data_dir: C:\\Users\\lboloni\\Documents\\Code\\_TempData\\WBF\\ExperimentData\\estimator\\adaptive-disk\n",
      "    estimator-code: WBF_IM_DiskEstimator\n",
      "    estimator-name: AD\n",
      "    exp_run_sys_indep_file: C:\\Users\\lboloni\\Documents\\Code\\_Checkouts\\WBF\\WaterberryFarms\\experiment_configs\\estimator\\adaptive-disk.yaml\n",
      "    experiment_name: estimator\n",
      "    run_name: adaptive-disk\n",
      "    subrun_name: null\n",
      "\n",
      "***ExpRun**: Experiment default config C:\\Users\\lboloni\\Documents\\Code\\_Checkouts\\WBF\\WaterberryFarms\\experiment_configs\\score\\_defaults_score.yaml was empty, ok.\n",
      "***ExpRun**: Configuration for exp/run: score/weighted_asymmetric successfully loaded\n",
      "Experiment:\n",
      "    data_dir: C:\\Users\\lboloni\\Documents\\Code\\_TempData\\WBF\\ExperimentData\\score\\weighted_asymmetric\n",
      "    exp_run_sys_indep_file: C:\\Users\\lboloni\\Documents\\Code\\_Checkouts\\WBF\\WaterberryFarms\\experiment_configs\\score\\weighted_asymmetric.yaml\n",
      "    experiment_name: score\n",
      "    run_name: weighted_asymmetric\n",
      "    score-code: WBF_Score_WeightedAsymmetric\n",
      "    score-name: weighted-assymmetric\n",
      "    subrun_name: null\n",
      "\n"
     ]
    },
    {
     "ename": "KeyError",
     "evalue": "'exp_policy'",
     "output_type": "error",
     "traceback": [
      "\u001b[1;31m---------------------------------------------------------------------------\u001b[0m",
      "\u001b[1;31mKeyError\u001b[0m                                  Traceback (most recent call last)",
      "Cell \u001b[1;32mIn[3], line 7\u001b[0m\n\u001b[0;32m      5\u001b[0m exp \u001b[38;5;241m=\u001b[39m Config()\u001b[38;5;241m.\u001b[39mget_experiment(experiment, run)\n\u001b[0;32m      6\u001b[0m pprint(exp)\n\u001b[1;32m----> 7\u001b[0m \u001b[43mrun_nrobot1day\u001b[49m\u001b[43m(\u001b[49m\u001b[43mexp\u001b[49m\u001b[43m)\u001b[49m\n",
      "File \u001b[1;32mc:\\Users\\lboloni\\Documents\\Code\\_Checkouts\\WBF\\WaterBerryFarms\\papers\\y2025_mrmr\\../..\\wbf_simulate.py:294\u001b[0m, in \u001b[0;36mrun_nrobot1day\u001b[1;34m(exp)\u001b[0m\n\u001b[0;32m    292\u001b[0m robotspec \u001b[38;5;241m=\u001b[39m {}\n\u001b[0;32m    293\u001b[0m robotspec[\u001b[38;5;124m\"\u001b[39m\u001b[38;5;124mname\u001b[39m\u001b[38;5;124m\"\u001b[39m] \u001b[38;5;241m=\u001b[39m values[\u001b[38;5;124m\"\u001b[39m\u001b[38;5;124mname\u001b[39m\u001b[38;5;124m\"\u001b[39m]\n\u001b[1;32m--> 294\u001b[0m exp_policy \u001b[38;5;241m=\u001b[39m Config()\u001b[38;5;241m.\u001b[39mget_experiment(\u001b[43mvalues\u001b[49m\u001b[43m[\u001b[49m\u001b[38;5;124;43m\"\u001b[39;49m\u001b[38;5;124;43mexp_policy\u001b[39;49m\u001b[38;5;124;43m\"\u001b[39;49m\u001b[43m]\u001b[49m, values[\u001b[38;5;124m\"\u001b[39m\u001b[38;5;124mrun-policy\u001b[39m\u001b[38;5;124m\"\u001b[39m]) \n\u001b[0;32m    295\u001b[0m \u001b[38;5;66;03m# if extra parameters were passed on, add them to the exp value\u001b[39;00m\n\u001b[0;32m    296\u001b[0m \u001b[38;5;28;01mif\u001b[39;00m \u001b[38;5;124m\"\u001b[39m\u001b[38;5;124mexp-policy-extra-parameters\u001b[39m\u001b[38;5;124m\"\u001b[39m \u001b[38;5;129;01min\u001b[39;00m values:\n",
      "\u001b[1;31mKeyError\u001b[0m: 'exp_policy'"
     ]
    }
   ],
   "source": [
    "# the experiment for this notebook\n",
    "expall = Config().get_experiment(experiment, \"mrmr_all\")\n",
    "\n",
    "for run in expall[\"allruns\"]:\n",
    "    exp = Config().get_experiment(experiment, run)\n",
    "    pprint(exp)\n",
    "    run_nrobot1day(exp)\n",
    "\n"
   ]
  },
  {
   "cell_type": "code",
   "execution_count": null,
   "id": "6057a12a",
   "metadata": {},
   "outputs": [],
   "source": [
    "# load back all the results \n",
    "all_results = {}\n",
    "\n",
    "for run in expall[\"allruns\"]:\n",
    "    exp = Config().get_experiment(experiment, run)\n",
    "    pprint(exp)\n",
    "\n",
    "    resultsfile = pathlib.Path(exp[\"data_dir\"], \"results.pickle\")\n",
    "    if not resultsfile.exists():\n",
    "        print(f\"Results file does not exist:\\n{resultsfile}\")\n",
    "        print(\"Run the notebook Run-1Robot1Day with the same exp/run to create it.\")\n",
    "        raise Exception(\"Nothing to do.\")\n",
    "\n",
    "    # load the results file\n",
    "    with compress.open(resultsfile, \"rb\") as f:\n",
    "        results = pickle.load(f)    \n",
    "    all_results[run] = results\n"
   ]
  },
  {
   "cell_type": "code",
   "execution_count": null,
   "id": "d221fdf4",
   "metadata": {},
   "outputs": [],
   "source": [
    "all_results.keys()"
   ]
  },
  {
   "cell_type": "markdown",
   "id": "6f2f8a71",
   "metadata": {},
   "source": [
    "### Visualize the replanning process\n",
    "* for all the mrmr scenarios, for the contractor agents\n",
    "* for all the replanning points (which are the indexes of the oldplans dictionary)\n",
    "* create a figure\n",
    "* visualize the observations to that time with a continuous line\n",
    "* visualize the rest of the plan from the oldplans\n",
    "\n",
    "__FIXME__: There is some kind of problem about how the position of the robot is drawn. Somehow the robot position does not align with the end of the trajectory, no matter how I am taking the robot position from. May 8, 2025, I have turned this off, because it is more important to submit the paper, I will debug it later."
   ]
  },
  {
   "cell_type": "code",
   "execution_count": null,
   "id": "feeade92",
   "metadata": {},
   "outputs": [],
   "source": [
    "def show_robot_with_plan(expall, scenario, results, robotno, t):\n",
    "    \"\"\"Visualize the plan of the robot at a certain time point\"\"\"\n",
    "\n",
    "    ROBOT_COLORS = [\"#E69F00\", \"#56B4E9\", \"#009E73\"]\n",
    "    robot_color = ROBOT_COLORS[2]\n",
    "\n",
    "    robot = results[\"robots\"][robotno]\n",
    "    observations = [o[robotno] for o in results[\"observations\"]]\n",
    "    observations = observations[0:int(t)]\n",
    "    if observations:\n",
    "        print(f\"Last observations: {observations[-1]}\")\n",
    "\n",
    "    oldplan = robot.oldplans[t]\n",
    "\n",
    "\n",
    "    filename = f\"plans_{scenario}_{robot.name}_{t}\"\n",
    "\n",
    "    fig, ax = plt.subplots(1,1, figsize=(3, 3))\n",
    "    wbf_figures.show_env_tylcv(results, ax)\n",
    "    # obs = observations[1:int(t)]\n",
    "    # color = \"blue\"\n",
    "    wbf_figures.show_individual_robot_path(results, ax, robot=robot, observations=observations, pathcolor=robot_color, pathwidth=1,  draw_robot=False, robotcolor=robot_color, from_obs=0, to_obs=int(t))\n",
    "\n",
    "    # add the plan\n",
    "    # print(f\"Oldplan beginning: {oldplan[0]}\")\n",
    "    planx = [a[\"x\"] for a in oldplan]\n",
    "    plany = [a[\"y\"] for a in oldplan]\n",
    "    ax.add_line(matplotlib.lines.Line2D(planx, plany, color = robot_color, linestyle=\":\", linewidth=1))\n",
    "\n",
    "    # position of the robot\n",
    "    # ax.add_patch(matplotlib.patches.Circle((observations[int(t)][\"x\"], observations[int(t)][\"y\"]), radius=3, facecolor=robot_color))\n",
    "    # ax.add_patch(matplotlib.patches.Circle((observations[-1][\"x\"], observations[-1][\"y\"]), radius=3, facecolor=robot_color))\n",
    "    # ax.add_patch(matplotlib.patches.Circle((oldplan[0][\"x\"], oldplan[0][\"y\"]), radius=3, facecolor=\"yellow\"))\n",
    "\n",
    "    ax.set_title(f\"{robot.name} at t={int(t)}\")\n",
    "    filepath = pathlib.Path(expall.data_dir(), f\"{filename}.pdf\")\n",
    "    plt.savefig(filepath)\n",
    "    print(f\"Done saving to {filepath}\")"
   ]
  },
  {
   "cell_type": "code",
   "execution_count": null,
   "id": "8b4611db",
   "metadata": {},
   "outputs": [],
   "source": [
    "import logging\n",
    "logging.getLogger(\"fontTools\").setLevel(logging.WARNING)\n",
    "\n",
    "\n",
    "scenario = \"mrmr-clustered-1pio-2con\"\n",
    "results = all_results[scenario]\n",
    "robotno = 2\n",
    "oldplans = results[\"robots\"][robotno].oldplans\n",
    "#for t in oldplans:\n",
    "#    print(t)\n",
    "show_robot_with_plan(expall, scenario, results, robotno, 646.0)"
   ]
  },
  {
   "cell_type": "code",
   "execution_count": null,
   "id": "6cd6a110",
   "metadata": {},
   "outputs": [],
   "source": [
    "obs = results[\"observations\"]\n",
    "obs[4]"
   ]
  },
  {
   "cell_type": "code",
   "execution_count": null,
   "id": "2f7d8757",
   "metadata": {},
   "outputs": [],
   "source": [
    "for scenario in all_results:\n",
    "    if \"1pio\" not in scenario: continue\n",
    "    results = all_results[scenario]\n",
    "    for i, robot in enumerate(results[\"robots\"]):\n",
    "        if \"con\" in robot.name:\n",
    "            print(robot.name)\n",
    "            # FIXME: I think that the problem here is that I won't have access to the policy here, so I will need to store the old plans somewhere else... maybe in the robot...?\n",
    "            oldplans = robot.oldplans\n",
    "            for t in oldplans:\n",
    "                print(t)\n",
    "                show_robot_with_plan(expall, scenario, results, i, t)"
   ]
  },
  {
   "cell_type": "markdown",
   "id": "9bdd98cb",
   "metadata": {},
   "source": [
    "### Visualize detection paths \n",
    "* for all running scenarios\n",
    "* create a graph for the visualization of the paths, with the visualize the detections\n",
    "* create a bargraph with the number of detection points for each of them\n",
    "* FIXME: maybe also visualize the money for the mrmr agents"
   ]
  },
  {
   "cell_type": "code",
   "execution_count": null,
   "id": "2bce70af",
   "metadata": {},
   "outputs": [],
   "source": [
    "def show_robot_trajectories_and_detections(expall, name, results, robot_colors):\n",
    "\n",
    "    fig, ax = plt.subplots(1,1, figsize=(3, 3))\n",
    "    wbf_figures.show_env_tylcv(results, ax)\n",
    "    ax.set_title(lookup[name])\n",
    "    custom_lines = []\n",
    "    labels = []\n",
    "\n",
    "    for i, robot in enumerate(results[\"robots\"]):\n",
    "        color = robot_colors[i % len(results[\"robots\"])]\n",
    "        observations = [o[i] for o in results[\"observations\"]]\n",
    "        wbf_figures.show_individual_robot_path(results, ax, robot=robot, observations=observations, pathcolor=color, draw_robot=False)\n",
    "        wbf_figures.show_individual_robot_detections(results, ax, robotno=i, detection_color=color, radius=0.5)\n",
    "        # adding to the legend\n",
    "        custom_lines.append(matplotlib.lines.Line2D([0], [0], color=color, lw=2))\n",
    "        labels.append(robot.name)\n",
    "\n",
    "\n",
    "    # Add both automatic and manual entries to the legend\n",
    "    ax.legend(handles=[*custom_lines], labels=labels, ncol=3, bbox_to_anchor=(0.5, -0.1), loc=\"upper center\", fontsize=\"9\", columnspacing=0.5, labelspacing=0.5)\n",
    "    #bbox_to_anchor=(0.5, 0))\n",
    "             #, loc=\"upper center\")\n",
    "\n",
    "    # fig.legend(handles, labels, ncol=len(exps)+1,\n",
    "    #        bbox_to_anchor=(0.5, 0), loc=\"upper center\")\n",
    "\n",
    "    plt.savefig(pathlib.Path(expall.data_dir(), f\"detections-map-{name}.pdf\"))\n",
    "\n",
    "    plt.close()"
   ]
  },
  {
   "cell_type": "code",
   "execution_count": null,
   "id": "19ebaf3f",
   "metadata": {},
   "outputs": [],
   "source": [
    "def count_detections(results, robotno, field = \"TYLCV\"):\n",
    "    \"\"\"Returns the number of detections for the specified robot, adapted from wbf_figures.show_detections\"\"\"\n",
    "    obs = np.array(results[\"observations\"])[:, robotno]\n",
    "    detections = [[a[StoredObservationIM.X], a[StoredObservationIM.Y]] for a in obs if a[field][StoredObservationIM.VALUE] == 0.0]\n",
    "    return len(detections)"
   ]
  },
  {
   "cell_type": "code",
   "execution_count": null,
   "id": "38994f70",
   "metadata": {},
   "outputs": [],
   "source": [
    "def show_agentwise_detections(expall, name, results, robot_colors):    \n",
    "    fig, ax = plt.subplots(1,1, figsize=(3, 1.4))\n",
    "    # ax.set_title(lookup[name])\n",
    "    total = 0\n",
    "    if \"unclustered\" in name:\n",
    "        ax.set_ylim(0, 100)\n",
    "    else:\n",
    "        ax.set_ylim(0, 600)\n",
    "    for i, robot in enumerate(results[\"robots\"]):\n",
    "        detections = count_detections(results, i)\n",
    "        total += detections\n",
    "        br = ax.bar(robot.name, detections, color=robot_colors[i])\n",
    "    ax.bar(\"Total\", total, color=\"gray\")\n",
    "    plt.savefig(pathlib.Path(expall.data_dir(), f\"detections-bar-{name}.pdf\"))\n",
    "    "
   ]
  },
  {
   "cell_type": "code",
   "execution_count": null,
   "id": "755d2872",
   "metadata": {},
   "outputs": [],
   "source": [
    "#ROBOT_COLORS = [\"red\", \"blue\", \"green\"]\n",
    "ROBOT_COLORS = [\"#E69F00\", \"#56B4E9\", \"#009E73\"]\n",
    "for scenario in all_results:\n",
    "    results = all_results[scenario]\n",
    "    name = scenario\n",
    "    show_robot_trajectories_and_detections(expall, name, results, robot_colors=ROBOT_COLORS)    \n",
    "    show_agentwise_detections(expall, name, results, robot_colors = ROBOT_COLORS)"
   ]
  },
  {
   "cell_type": "markdown",
   "id": "f9a76af0",
   "metadata": {},
   "source": [
    "### Overall pickings comparison graphs \n",
    "* compare the unclustered and clustered cases \n",
    "* create comparison graphs"
   ]
  },
  {
   "cell_type": "code",
   "execution_count": null,
   "id": "5384d8f5",
   "metadata": {},
   "outputs": [],
   "source": [
    "name_colors = [\"#CC6666\", \"#9999CC\", \"#66CC99\"]"
   ]
  },
  {
   "cell_type": "code",
   "execution_count": null,
   "id": "2353c302",
   "metadata": {},
   "outputs": [],
   "source": [
    "def show_comparative_detections(expall, name, values):    \n",
    "    fig, ax = plt.subplots(1,1, figsize=(3, 3))\n",
    "    ax.set_ylim(0, 600)\n",
    "    for i, policyname in enumerate(values):\n",
    "        br = ax.bar(lookup[policyname], values[policyname], color=name_colors[i])\n",
    "    plt.savefig(pathlib.Path(expall.data_dir(), f\"comparative-bar-{name}.pdf\"))"
   ]
  },
  {
   "cell_type": "code",
   "execution_count": null,
   "id": "5769ff9f",
   "metadata": {},
   "outputs": [],
   "source": [
    "for group in [\"clustered-runs\", \"unclustered-runs\"]:\n",
    "    values = {}\n",
    "    for scenario in expall[group]:\n",
    "        results = all_results[scenario]\n",
    "        total = 0\n",
    "        for i, robot in enumerate(results[\"robots\"]):\n",
    "            detections = count_detections(results, i)\n",
    "            total += detections\n",
    "        values[scenario] = total\n",
    "    show_comparative_detections(expall, f\"comparative-{group}\", values)"
   ]
  },
  {
   "cell_type": "code",
   "execution_count": null,
   "id": "08db07ed",
   "metadata": {},
   "outputs": [],
   "source": []
  },
  {
   "cell_type": "code",
   "execution_count": null,
   "id": "11873399",
   "metadata": {},
   "outputs": [],
   "source": []
  }
 ],
 "metadata": {
  "kernelspec": {
   "display_name": "WBF-venv",
   "language": "python",
   "name": "python3"
  },
  "language_info": {
   "codemirror_mode": {
    "name": "ipython",
    "version": 3
   },
   "file_extension": ".py",
   "mimetype": "text/x-python",
   "name": "python",
   "nbconvert_exporter": "python",
   "pygments_lexer": "ipython3",
   "version": "3.11.4"
  }
 },
 "nbformat": 4,
 "nbformat_minor": 5
}
