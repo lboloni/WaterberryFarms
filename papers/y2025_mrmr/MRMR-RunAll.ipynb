{
 "cells": [
  {
   "cell_type": "markdown",
   "id": "c308444e",
   "metadata": {},
   "source": [
    "# Run all the experiments for the MRMR paper\n",
    "\n",
    "Performs all the experiments and generates the figures."
   ]
  },
  {
   "cell_type": "code",
   "execution_count": 1,
   "id": "335a4915",
   "metadata": {},
   "outputs": [],
   "source": [
    "import sys\n",
    "sys.path.append(\"../..\")\n",
    "from exp_run_config import Config\n",
    "Config.PROJECTNAME = \"WaterBerryFarms\"\n",
    "\n",
    "import pathlib\n",
    "from pprint import pprint\n",
    "import gzip as compress\n",
    "import pickle\n",
    "import matplotlib.pyplot as plt\n",
    "import copy\n",
    "#import matplotlib\n",
    "#import numpy as np\n",
    "\n",
    "# import wbf_figures\n",
    "from wbf_simulate import run_nrobot1day\n",
    "from mrmr_graphics import load_back_results, show_robot_with_plan, show_robot_trajectories_and_detections, count_detections, show_agentwise_detections, show_comparative_detections"
   ]
  },
  {
   "cell_type": "code",
   "execution_count": 2,
   "id": "4f17ee7e",
   "metadata": {},
   "outputs": [],
   "source": [
    "experiment = \"mrmr\"\n",
    "lookup = {\"mrmr-clustered-1pio-2con\": \"MRMR\", \"mrmr-clustered-3lawnmowers\": \"MRSE\", \"mrmr-clustered-3random\": \"MRRW\", \"mrmr-unclustered-1pio-2con\" : \"MRMR\",\n",
    "\"mrmr-unclustered-3lawnmowers\": \"MRSE\", \"mrmr-unclustered-3random\": \"MRRW\"}"
   ]
  },
  {
   "cell_type": "code",
   "execution_count": 3,
   "id": "096ed7fa",
   "metadata": {},
   "outputs": [
    {
     "name": "stdout",
     "output_type": "stream",
     "text": [
      "***ExpRun**: Loading pointer config file:\n",
      "\tC:\\Users\\lboloni\\.config\\WaterBerryFarms\\mainsettings.yaml\n",
      "***ExpRun**: Loading machine-specific config file:\n",
      "\tG:\\My Drive\\LotziStudy\\Code\\PackageTracking\\WaterBerryFarms\\settings\\WBF-config-LotziYoga.yaml\n",
      "***ExpRun**: Configuration for exp/run: mrmr/mrmr_all successfully loaded\n",
      "***ExpRun**: Configuration for exp/run: mrmr/mrmr-clustered-3random successfully loaded\n",
      "Experiment:\n",
      "    data_dir: C:\\Users\\lboloni\\Documents\\Code\\_TempData\\WBF\\ExperimentData\\mrmr\\mrmr-clustered-3random\n",
      "    exp_environment: environment\n",
      "    exp_estimator: estimator\n",
      "    exp_run_sys_indep_file: C:\\Users\\lboloni\\Documents\\Code\\_Checkouts\\WBF\\WaterberryFarms\\experiment_configs\\mrmr\\mrmr-clustered-3random.yaml\n",
      "    exp_score: score\n",
      "    experiment_name: mrmr\n",
      "    im_resolution: 10\n",
      "    name: 3 random waypoint\n",
      "    robots:\n",
      "    - exp-policy: policy\n",
      "      exp-policy-extra-parameters:\n",
      "        budget: 1000\n",
      "        name: rwp-1\n",
      "        seed: 1\n",
      "      name: robot-1\n",
      "      run-policy: random-waypoint\n",
      "    - exp-policy: policy\n",
      "      exp-policy-extra-parameters:\n",
      "        budget: 1000\n",
      "        name: rwp-2\n",
      "        seed: 10\n",
      "      name: robot-2\n",
      "      run-policy: random-waypoint-seed10\n",
      "    - exp-policy: policy\n",
      "      exp-policy-extra-parameters:\n",
      "        budget: 1000\n",
      "        name: rwp-3\n",
      "        seed: 20\n",
      "      name: robot-3\n",
      "      run-policy: random-waypoint-seed20\n",
      "    run_environment: mrmr-custom-clustered\n",
      "    run_estimator: adaptive-disk\n",
      "    run_name: mrmr-clustered-3random\n",
      "    run_score: weighted_asymmetric\n",
      "    subrun_name: null\n",
      "    time-start-environment: 19\n",
      "    timesteps-per-day: 1000\n",
      "    velocity: 1\n",
      "\n",
      "Results file already exists:\n",
      "C:\\Users\\lboloni\\Documents\\Code\\_TempData\\WBF\\ExperimentData\\mrmr\\mrmr-clustered-3random\\results.pickle\n",
      "***ExpRun**: Configuration for exp/run: mrmr/mrmr-clustered-3lawnmowers successfully loaded\n",
      "Experiment:\n",
      "    data_dir: C:\\Users\\lboloni\\Documents\\Code\\_TempData\\WBF\\ExperimentData\\mrmr\\mrmr-clustered-3lawnmowers\n",
      "    exp_environment: environment\n",
      "    exp_estimator: estimator\n",
      "    exp_run_sys_indep_file: C:\\Users\\lboloni\\Documents\\Code\\_Checkouts\\WBF\\WaterberryFarms\\experiment_configs\\mrmr\\mrmr-clustered-3lawnmowers.yaml\n",
      "    exp_score: score\n",
      "    experiment_name: mrmr\n",
      "    im_resolution: 10\n",
      "    name: 3 lawnmowers\n",
      "    robots:\n",
      "    - exp-policy: policy\n",
      "      exp-policy-extra-parameters:\n",
      "        area: '[5, 5, 95, 30]'\n",
      "        budget: 1000\n",
      "        policy-name: lawn-bottom\n",
      "      name: lawn-1\n",
      "      run-policy: fixed-budget-lawnmower\n",
      "    - exp-policy: policy\n",
      "      exp-policy-extra-parameters:\n",
      "        area: '[5, 35, 95, 60]'\n",
      "        budget: 1000\n",
      "        policy-name: lawn-middle\n",
      "      name: lawn-2\n",
      "      run-policy: fixed-budget-lawnmower\n",
      "    - exp-policy: policy\n",
      "      exp-policy-extra-parameters:\n",
      "        area: '[5, 65, 95, 95]'\n",
      "        budget: 1000\n",
      "        policy-name: lawn-top\n",
      "      name: lawn-3\n",
      "      run-policy: fixed-budget-lawnmower\n",
      "    run_environment: mrmr-custom-clustered\n",
      "    run_estimator: adaptive-disk\n",
      "    run_name: mrmr-clustered-3lawnmowers\n",
      "    run_score: weighted_asymmetric\n",
      "    subrun_name: null\n",
      "    time-start-environment: 15\n",
      "    timesteps-per-day: 1000\n",
      "    velocity: 1\n",
      "\n",
      "Results file already exists:\n",
      "C:\\Users\\lboloni\\Documents\\Code\\_TempData\\WBF\\ExperimentData\\mrmr\\mrmr-clustered-3lawnmowers\\results.pickle\n",
      "***ExpRun**: Configuration for exp/run: mrmr/mrmr-clustered-1pio-2con successfully loaded\n",
      "Experiment:\n",
      "    data_dir: C:\\Users\\lboloni\\Documents\\Code\\_TempData\\WBF\\ExperimentData\\mrmr\\mrmr-clustered-1pio-2con\n",
      "    exp_environment: environment\n",
      "    exp_estimator: estimator\n",
      "    exp_run_sys_indep_file: C:\\Users\\lboloni\\Documents\\Code\\_Checkouts\\WBF\\WaterberryFarms\\experiment_configs\\mrmr\\mrmr-clustered-1pio-2con.yaml\n",
      "    exp_score: score\n",
      "    experiment_name: mrmr\n",
      "    im_resolution: 10\n",
      "    name: 1 pioneer 2 contractors clustered\n",
      "    robots:\n",
      "    - exp-policy: policy\n",
      "      exp-policy-extra-parameters:\n",
      "        budget: 1000\n",
      "        policy-code: MRMR_Pioneer\n",
      "        policy-name: mrmr-pioneer\n",
      "        seed: 1\n",
      "      name: pio\n",
      "      run-policy: generic\n",
      "    - exp-policy: policy\n",
      "      exp-policy-extra-parameters:\n",
      "        budget: 1000\n",
      "        policy-code: MRMR_Contractor\n",
      "        policy-name: mrmr-contractor-1\n",
      "        seed: 2\n",
      "      name: con-1\n",
      "      run-policy: generic\n",
      "    - exp-policy: policy\n",
      "      exp-policy-extra-parameters:\n",
      "        budget: 1000\n",
      "        policy-code: MRMR_Contractor\n",
      "        policy-name: mrmr-contractor-2\n",
      "        seed: 3\n",
      "      name: con-2\n",
      "      run-policy: generic\n",
      "    run_environment: mrmr-custom-clustered\n",
      "    run_estimator: adaptive-disk\n",
      "    run_name: mrmr-clustered-1pio-2con\n",
      "    run_score: weighted_asymmetric\n",
      "    subrun_name: null\n",
      "    time-start-environment: 25\n",
      "    timesteps-per-day: 1000\n",
      "    velocity: 1\n",
      "\n",
      "Results file already exists:\n",
      "C:\\Users\\lboloni\\Documents\\Code\\_TempData\\WBF\\ExperimentData\\mrmr\\mrmr-clustered-1pio-2con\\results.pickle\n",
      "***ExpRun**: Configuration for exp/run: mrmr/mrmr-unclustered-3random successfully loaded\n",
      "Experiment:\n",
      "    data_dir: C:\\Users\\lboloni\\Documents\\Code\\_TempData\\WBF\\ExperimentData\\mrmr\\mrmr-unclustered-3random\n",
      "    exp_environment: environment\n",
      "    exp_estimator: estimator\n",
      "    exp_run_sys_indep_file: C:\\Users\\lboloni\\Documents\\Code\\_Checkouts\\WBF\\WaterberryFarms\\experiment_configs\\mrmr\\mrmr-unclustered-3random.yaml\n",
      "    exp_score: score\n",
      "    experiment_name: mrmr\n",
      "    im_resolution: 10\n",
      "    name: 3 random waypoint\n",
      "    robots:\n",
      "    - exp-policy: policy\n",
      "      exp-policy-extra-parameters:\n",
      "        budget: 1000\n",
      "        name: rwp-1\n",
      "        seed: 1\n",
      "      name: robot-1\n",
      "      run-policy: random-waypoint\n",
      "    - exp-policy: policy\n",
      "      exp-policy-extra-parameters:\n",
      "        budget: 1000\n",
      "        name: rwp-2\n",
      "        seed: 10\n",
      "      name: robot-2\n",
      "      run-policy: random-waypoint-seed10\n",
      "    - exp-policy: policy\n",
      "      exp-policy-extra-parameters:\n",
      "        budget: 1000\n",
      "        name: rwp-3\n",
      "        seed: 20\n",
      "      name: robot-3\n",
      "      run-policy: random-waypoint-seed20\n",
      "    run_environment: mrmr-custom-notclustered\n",
      "    run_estimator: adaptive-disk\n",
      "    run_name: mrmr-unclustered-3random\n",
      "    run_score: weighted_asymmetric\n",
      "    subrun_name: null\n",
      "    time-start-environment: 19\n",
      "    timesteps-per-day: 1000\n",
      "    velocity: 1\n",
      "\n",
      "Results file already exists:\n",
      "C:\\Users\\lboloni\\Documents\\Code\\_TempData\\WBF\\ExperimentData\\mrmr\\mrmr-unclustered-3random\\results.pickle\n",
      "***ExpRun**: Configuration for exp/run: mrmr/mrmr-unclustered-3lawnmowers successfully loaded\n",
      "Experiment:\n",
      "    data_dir: C:\\Users\\lboloni\\Documents\\Code\\_TempData\\WBF\\ExperimentData\\mrmr\\mrmr-unclustered-3lawnmowers\n",
      "    exp_environment: environment\n",
      "    exp_estimator: estimator\n",
      "    exp_run_sys_indep_file: C:\\Users\\lboloni\\Documents\\Code\\_Checkouts\\WBF\\WaterberryFarms\\experiment_configs\\mrmr\\mrmr-unclustered-3lawnmowers.yaml\n",
      "    exp_score: score\n",
      "    experiment_name: mrmr\n",
      "    im_resolution: 10\n",
      "    name: 3 lawnmowers\n",
      "    robots:\n",
      "    - exp-policy: policy\n",
      "      exp-policy-extra-parameters:\n",
      "        area: '[5, 5, 95, 30]'\n",
      "        budget: 1000\n",
      "        policy-name: lawn-bottom\n",
      "      name: lawn-1\n",
      "      run-policy: fixed-budget-lawnmower\n",
      "    - exp-policy: policy\n",
      "      exp-policy-extra-parameters:\n",
      "        area: '[5, 35, 95, 60]'\n",
      "        budget: 1000\n",
      "        policy-name: lawn-middle\n",
      "      name: lawn-2\n",
      "      run-policy: fixed-budget-lawnmower\n",
      "    - exp-policy: policy\n",
      "      exp-policy-extra-parameters:\n",
      "        area: '[5, 65, 95, 95]'\n",
      "        budget: 1000\n",
      "        policy-name: lawn-top\n",
      "      name: lawn-3\n",
      "      run-policy: fixed-budget-lawnmower\n",
      "    run_environment: mrmr-custom-notclustered\n",
      "    run_estimator: adaptive-disk\n",
      "    run_name: mrmr-unclustered-3lawnmowers\n",
      "    run_score: weighted_asymmetric\n",
      "    subrun_name: null\n",
      "    time-start-environment: 15\n",
      "    timesteps-per-day: 1000\n",
      "    velocity: 1\n",
      "\n",
      "Results file already exists:\n",
      "C:\\Users\\lboloni\\Documents\\Code\\_TempData\\WBF\\ExperimentData\\mrmr\\mrmr-unclustered-3lawnmowers\\results.pickle\n",
      "***ExpRun**: Configuration for exp/run: mrmr/mrmr-unclustered-1pio-2con successfully loaded\n",
      "Experiment:\n",
      "    data_dir: C:\\Users\\lboloni\\Documents\\Code\\_TempData\\WBF\\ExperimentData\\mrmr\\mrmr-unclustered-1pio-2con\n",
      "    exp_environment: environment\n",
      "    exp_estimator: estimator\n",
      "    exp_run_sys_indep_file: C:\\Users\\lboloni\\Documents\\Code\\_Checkouts\\WBF\\WaterberryFarms\\experiment_configs\\mrmr\\mrmr-unclustered-1pio-2con.yaml\n",
      "    exp_score: score\n",
      "    experiment_name: mrmr\n",
      "    im_resolution: 10\n",
      "    name: 1 pioneer 2 contractors\n",
      "    robots:\n",
      "    - exp-policy: policy\n",
      "      exp-policy-extra-parameters:\n",
      "        budget: 1000\n",
      "        policy-code: MRMR_Pioneer\n",
      "        policy-name: mrmr-pioneer\n",
      "        seed: 1\n",
      "      name: pio\n",
      "      run-policy: generic\n",
      "    - exp-policy: policy\n",
      "      exp-policy-extra-parameters:\n",
      "        budget: 1000\n",
      "        policy-code: MRMR_Contractor\n",
      "        policy-name: mrmr-contractor-1\n",
      "        seed: 2\n",
      "      name: con-1\n",
      "      run-policy: generic\n",
      "    - exp-policy: policy\n",
      "      exp-policy-extra-parameters:\n",
      "        budget: 1000\n",
      "        policy-code: MRMR_Contractor\n",
      "        policy-name: mrmr-contractor-2\n",
      "        seed: 3\n",
      "      name: con-2\n",
      "      run-policy: generic\n",
      "    run_environment: mrmr-custom-notclustered\n",
      "    run_estimator: adaptive-disk\n",
      "    run_name: mrmr-unclustered-1pio-2con\n",
      "    run_score: weighted_asymmetric\n",
      "    subrun_name: null\n",
      "    time-start-environment: 25\n",
      "    timesteps-per-day: 1000\n",
      "    velocity: 1\n",
      "\n",
      "Results file already exists:\n",
      "C:\\Users\\lboloni\\Documents\\Code\\_TempData\\WBF\\ExperimentData\\mrmr\\mrmr-unclustered-1pio-2con\\results.pickle\n"
     ]
    }
   ],
   "source": [
    "# the experiment for this notebook\n",
    "expall = Config().get_experiment(experiment, \"mrmr_all\")\n",
    "\n",
    "for run in expall[\"allruns\"]:\n",
    "    exp = Config().get_experiment(experiment, run)\n",
    "    pprint(exp)\n",
    "    run_nrobot1day(exp)"
   ]
  },
  {
   "cell_type": "code",
   "execution_count": 4,
   "id": "af084a88",
   "metadata": {},
   "outputs": [
    {
     "data": {
      "text/plain": [
       "['mrmr-clustered-3random',\n",
       " 'mrmr-clustered-3lawnmowers',\n",
       " 'mrmr-clustered-1pio-2con',\n",
       " 'mrmr-unclustered-3random',\n",
       " 'mrmr-unclustered-3lawnmowers',\n",
       " 'mrmr-unclustered-1pio-2con']"
      ]
     },
     "execution_count": 4,
     "metadata": {},
     "output_type": "execute_result"
    }
   ],
   "source": [
    "expall[\"allruns\"]"
   ]
  },
  {
   "cell_type": "code",
   "execution_count": 5,
   "id": "d221fdf4",
   "metadata": {},
   "outputs": [
    {
     "name": "stderr",
     "output_type": "stream",
     "text": [
      "  0%|          | 0/6 [00:00<?, ?it/s]"
     ]
    },
    {
     "name": "stdout",
     "output_type": "stream",
     "text": [
      "***ExpRun**: Configuration for exp/run: mrmr/mrmr-clustered-3random successfully loaded\n"
     ]
    },
    {
     "name": "stderr",
     "output_type": "stream",
     "text": [
      " 17%|█▋        | 1/6 [00:00<00:00,  8.02it/s]"
     ]
    },
    {
     "name": "stdout",
     "output_type": "stream",
     "text": [
      "***ExpRun**: Configuration for exp/run: mrmr/mrmr-clustered-3lawnmowers successfully loaded\n"
     ]
    },
    {
     "name": "stderr",
     "output_type": "stream",
     "text": [
      " 33%|███▎      | 2/6 [00:00<00:00,  5.38it/s]"
     ]
    },
    {
     "name": "stdout",
     "output_type": "stream",
     "text": [
      "***ExpRun**: Configuration for exp/run: mrmr/mrmr-clustered-1pio-2con successfully loaded\n"
     ]
    },
    {
     "name": "stderr",
     "output_type": "stream",
     "text": [
      " 50%|█████     | 3/6 [00:00<00:00,  6.02it/s]"
     ]
    },
    {
     "name": "stdout",
     "output_type": "stream",
     "text": [
      "***ExpRun**: Configuration for exp/run: mrmr/mrmr-unclustered-3random successfully loaded\n"
     ]
    },
    {
     "name": "stderr",
     "output_type": "stream",
     "text": [
      " 67%|██████▋   | 4/6 [00:00<00:00,  6.87it/s]"
     ]
    },
    {
     "name": "stdout",
     "output_type": "stream",
     "text": [
      "***ExpRun**: Configuration for exp/run: mrmr/mrmr-unclustered-3lawnmowers successfully loaded\n"
     ]
    },
    {
     "name": "stderr",
     "output_type": "stream",
     "text": [
      " 83%|████████▎ | 5/6 [00:00<00:00,  6.53it/s]"
     ]
    },
    {
     "name": "stdout",
     "output_type": "stream",
     "text": [
      "***ExpRun**: Configuration for exp/run: mrmr/mrmr-unclustered-1pio-2con successfully loaded\n"
     ]
    },
    {
     "name": "stderr",
     "output_type": "stream",
     "text": [
      "100%|██████████| 6/6 [00:01<00:00,  5.38it/s]\n"
     ]
    },
    {
     "data": {
      "text/plain": [
       "dict_keys(['mrmr-clustered-3random', 'mrmr-clustered-3lawnmowers', 'mrmr-clustered-1pio-2con', 'mrmr-unclustered-3random', 'mrmr-unclustered-3lawnmowers', 'mrmr-unclustered-1pio-2con'])"
      ]
     },
     "execution_count": 5,
     "metadata": {},
     "output_type": "execute_result"
    }
   ],
   "source": [
    "all_results = load_back_results(experiment, expall[\"allruns\"])\n",
    "all_results.keys()"
   ]
  },
  {
   "cell_type": "markdown",
   "id": "6f2f8a71",
   "metadata": {},
   "source": [
    "### Visualize the replanning process\n",
    "* for all the mrmr scenarios, for the contractor agents\n",
    "* for all the replanning points (which are the indexes of the oldplans dictionary)\n",
    "* create a figure\n",
    "* visualize the observations to that time with a continuous line\n",
    "* visualize the rest of the plan from the oldplans\n"
   ]
  },
  {
   "cell_type": "code",
   "execution_count": 6,
   "id": "8b4611db",
   "metadata": {},
   "outputs": [
    {
     "name": "stdout",
     "output_type": "stream",
     "text": [
      "Last observations: {'x': 30, 'y': 31, 'time': 645, 'TYLCV': {'x': 30, 'y': 31, 'time': 645, 'value': np.float64(1.0)}, 'CCR': {'x': 30, 'y': 31, 'time': 645, 'value': np.float64(0.0)}, 'Soil': {'x': 30, 'y': 31, 'time': 645, 'value': np.float64(0.0)}, 'name': 'mrmr-contractor-2'}\n",
      "Done saving to C:\\Users\\lboloni\\Documents\\Code\\_TempData\\WBF\\ExperimentData\\mrmr\\mrmr_all\\plans_mrmr-clustered-1pio-2con_con-2_646.0.pdf\n"
     ]
    },
    {
     "data": {
      "image/png": "[encoded data removed]",
      "text/plain": [
       "<Figure size 300x300 with 1 Axes>"
      ]
     },
     "metadata": {},
     "output_type": "display_data"
    }
   ],
   "source": [
    "scenario = \"mrmr-clustered-1pio-2con\"\n",
    "results = all_results[scenario]\n",
    "robotno = 2\n",
    "oldplans = results[\"robots\"][robotno].oldplans\n",
    "#for t in oldplans:\n",
    "#    print(t)\n",
    "show_robot_with_plan(expall, scenario, results, robotno, 646.0)"
   ]
  },
  {
   "cell_type": "code",
   "execution_count": null,
   "id": "2f7d8757",
   "metadata": {},
   "outputs": [
    {
     "name": "stdout",
     "output_type": "stream",
     "text": [
      "con-1\n"
     ]
    },
    {
     "ename": "AttributeError",
     "evalue": "'dict' object has no attribute 'append'",
     "output_type": "error",
     "traceback": [
      "\u001b[1;31m---------------------------------------------------------------------------\u001b[0m",
      "\u001b[1;31mAttributeError\u001b[0m                            Traceback (most recent call last)",
      "Cell \u001b[1;32mIn[7], line 9\u001b[0m\n\u001b[0;32m      7\u001b[0m \u001b[38;5;66;03m# show the robot at every\u001b[39;00m\n\u001b[0;32m      8\u001b[0m oldplans \u001b[38;5;241m=\u001b[39m copy\u001b[38;5;241m.\u001b[39mcopy(robot\u001b[38;5;241m.\u001b[39moldplans)\n\u001b[1;32m----> 9\u001b[0m \u001b[43moldplans\u001b[49m\u001b[38;5;241;43m.\u001b[39;49m\u001b[43mappend\u001b[49m(\u001b[38;5;241m1\u001b[39m)\n\u001b[0;32m     10\u001b[0m \u001b[38;5;28;01mfor\u001b[39;00m t \u001b[38;5;129;01min\u001b[39;00m oldplans:\n\u001b[0;32m     11\u001b[0m     \u001b[38;5;28mprint\u001b[39m(t)\n",
      "\u001b[1;31mAttributeError\u001b[0m: 'dict' object has no attribute 'append'"
     ]
    }
   ],
   "source": [
    "for scenario in all_results:\n",
    "    if \"1pio\" not in scenario: continue\n",
    "    results = all_results[scenario]\n",
    "    for i, robot in enumerate(results[\"robots\"]):\n",
    "        if \"con\" in robot.name:\n",
    "            print(robot.name)\n",
    "            # show the robot at every\n",
    "            oldplans = copy.copy(robot.oldplans)\n",
    "            for t in oldplans:\n",
    "                print(t)\n",
    "                show_robot_with_plan(expall, scenario, results, i, t)"
   ]
  },
  {
   "cell_type": "markdown",
   "id": "c01e9bbf",
   "metadata": {},
   "source": [
    "### Figures for detections\n",
    "For all the values in all_results, create a visual graph with the detections, and a bar graph with all the agents"
   ]
  },
  {
   "cell_type": "code",
   "execution_count": null,
   "id": "755d2872",
   "metadata": {},
   "outputs": [
    {
     "data": {
      "image/png": "[encoded data removed]",
      "text/plain": [
       "<Figure size 300x140 with 1 Axes>"
      ]
     },
     "metadata": {},
     "output_type": "display_data"
    },
    {
     "data": {
      "image/png": "[encoded data removed]",
      "text/plain": [
       "<Figure size 300x140 with 1 Axes>"
      ]
     },
     "metadata": {},
     "output_type": "display_data"
    },
    {
     "data": {
      "image/png": "[encoded data removed]",
      "text/plain": [
       "<Figure size 300x140 with 1 Axes>"
      ]
     },
     "metadata": {},
     "output_type": "display_data"
    },
    {
     "data": {
      "image/png": "[encoded data removed]",
      "text/plain": [
       "<Figure size 300x140 with 1 Axes>"
      ]
     },
     "metadata": {},
     "output_type": "display_data"
    },
    {
     "data": {
      "image/png": "[encoded data removed]",
      "text/plain": [
       "<Figure size 300x140 with 1 Axes>"
      ]
     },
     "metadata": {},
     "output_type": "display_data"
    },
    {
     "data": {
      "image/png": "[encoded data removed]",
      "text/plain": [
       "<Figure size 300x140 with 1 Axes>"
      ]
     },
     "metadata": {},
     "output_type": "display_data"
    }
   ],
   "source": [
    "#ROBOT_COLORS = [\"red\", \"blue\", \"green\"]\n",
    "ROBOT_COLORS = [\"#E69F00\", \"#56B4E9\", \"#009E73\"]\n",
    "for scenario in all_results:\n",
    "    results = all_results[scenario]\n",
    "    name = scenario\n",
    "    show_robot_trajectories_and_detections(expall, name, results, robot_colors=ROBOT_COLORS, lookup=lookup)    \n",
    "    show_agentwise_detections(expall, name, results, robot_colors = ROBOT_COLORS)"
   ]
  },
  {
   "cell_type": "markdown",
   "id": "f9a76af0",
   "metadata": {},
   "source": [
    "### Comparison bar graphs \n",
    "* compare the unclustered and clustered cases \n",
    "* create comparison graphs"
   ]
  },
  {
   "cell_type": "code",
   "execution_count": null,
   "id": "5769ff9f",
   "metadata": {},
   "outputs": [
    {
     "data": {
      "image/png": "[encoded data removed]",
      "text/plain": [
       "<Figure size 300x300 with 1 Axes>"
      ]
     },
     "metadata": {},
     "output_type": "display_data"
    },
    {
     "data": {
      "image/png": "[encoded data removed]",
      "text/plain": [
       "<Figure size 300x300 with 1 Axes>"
      ]
     },
     "metadata": {},
     "output_type": "display_data"
    }
   ],
   "source": [
    "name_colors = [\"#CC6666\", \"#9999CC\", \"#66CC99\"]\n",
    "for group in [\"clustered-runs\", \"unclustered-runs\"]:\n",
    "    values = {}\n",
    "    for scenario in expall[group]:\n",
    "        results = all_results[scenario]\n",
    "        total = 0\n",
    "        for i, robot in enumerate(results[\"robots\"]):\n",
    "            detections = count_detections(results, i)\n",
    "            total += detections\n",
    "        values[scenario] = total\n",
    "    show_comparative_detections(expall, f\"comparative-{group}\", values, lookup, name_colors)"
   ]
  },
  {
   "cell_type": "code",
   "execution_count": null,
   "id": "cd0b3974",
   "metadata": {},
   "outputs": [],
   "source": []
  }
 ],
 "metadata": {
  "kernelspec": {
   "display_name": "WBF-venv",
   "language": "python",
   "name": "python3"
  },
  "language_info": {
   "codemirror_mode": {
    "name": "ipython",
    "version": 3
   },
   "file_extension": ".py",
   "mimetype": "text/x-python",
   "name": "python",
   "nbconvert_exporter": "python",
   "pygments_lexer": "ipython3",
   "version": "3.11.4"
  }
 },
 "nbformat": 4,
 "nbformat_minor": 5
}
