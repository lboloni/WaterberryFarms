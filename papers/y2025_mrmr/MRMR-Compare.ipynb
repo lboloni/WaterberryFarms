{
 "cells": [
  {
   "cell_type": "markdown",
   "id": "dd134b82",
   "metadata": {},
   "source": [
    "# MRMR: multiresolution multi-robot comparison graphs\n",
    "\n",
    "Code for the comparative analysis of experiments for this paper. It is assumed that the experiments had been run with nRobot1Day-Run. \n",
    "\n",
    "This code runs on an experiment under the type nrobot1day which specifies multiple subexperiments which has a prefix comp_xxx. The sub-experiments are listed in that exp/run file. \n",
    "\n",
    "The assumption is that those experiments had been already run and their results had been stored in the results.pickle files in the corresponding data dirs. \n",
    "\n",
    "This code follows the pattern of the one from 1Robot1Day-Compare\n",
    "\n"
   ]
  },
  {
   "cell_type": "code",
   "execution_count": 4,
   "id": "f1be78a9",
   "metadata": {},
   "outputs": [],
   "source": [
    "import sys\n",
    "sys.path.append(\"../..\")\n",
    "from exp_run_config import Config\n",
    "Config.PROJECTNAME = \"WaterBerryFarms\"\n",
    "import pathlib\n",
    "from pprint import pprint\n",
    "import gzip as compress\n",
    "import copy\n",
    "import pickle\n",
    "import matplotlib.pyplot as plt\n",
    "import numpy as np\n",
    "\n",
    "from information_model import StoredObservationIM\n"
   ]
  },
  {
   "cell_type": "code",
   "execution_count": 5,
   "id": "096a6a77",
   "metadata": {},
   "outputs": [
    {
     "name": "stdout",
     "output_type": "stream",
     "text": [
      "***ExpRun**: No system dependent experiment file\n",
      "\t G:\\My Drive\\LotziStudy\\Code\\PackageTracking\\WaterBerryFarms\\settings\\experiment-config\\LotziYoga\\nrobot1day\\mrmr-comp_sysdep.yaml,\n",
      "\t that is ok, proceeding.\n",
      "***ExpRun**: Configuration for exp/run: nrobot1day/mrmr-comp successfully loaded\n",
      "***ExpRun**: No system dependent experiment file\n",
      "\t G:\\My Drive\\LotziStudy\\Code\\PackageTracking\\WaterBerryFarms\\settings\\experiment-config\\LotziYoga\\nrobot1day\\mrmr-3random_sysdep.yaml,\n",
      "\t that is ok, proceeding.\n",
      "***ExpRun**: Configuration for exp/run: nrobot1day/mrmr-3random successfully loaded\n"
     ]
    },
    {
     "ename": "SyntaxError",
     "evalue": "invalid syntax (wbf_helper.py, line 11)",
     "output_type": "error",
     "traceback": [
      "Traceback \u001b[1;36m(most recent call last)\u001b[0m:\n",
      "\u001b[0m  File \u001b[0;32mc:\\Users\\lboloni\\Documents\\Code\\_VirtualEnvironments\\WBF\\WBF-venv\\Lib\\site-packages\\IPython\\core\\interactiveshell.py:3577\u001b[0m in \u001b[0;35mrun_code\u001b[0m\n    exec(code_obj, self.user_global_ns, self.user_ns)\u001b[0m\n",
      "\u001b[0m  Cell \u001b[0;32mIn[5], line 26\u001b[0m\n    results = pickle.load(f)\u001b[0m\n",
      "\u001b[1;36m  File \u001b[1;32mc:\\Users\\lboloni\\Documents\\Code\\_Checkouts\\WBF\\WaterBerryFarms\\papers\\2025-mrmr\\../..\\wbf_simulate.py:22\u001b[1;36m\n\u001b[1;33m    from wbf_helper import get_geometry, create_wbfe, create_policy, create_estimator, create_score\u001b[1;36m\n",
      "\u001b[1;36m  File \u001b[1;32mc:\\Users\\lboloni\\Documents\\Code\\_Checkouts\\WBF\\WaterBerryFarms\\papers\\2025-mrmr\\../..\\wbf_helper.py:11\u001b[1;36m\u001b[0m\n\u001b[1;33m    from papers.2025-mrmr.mrmr_policies import MRMR_Pioneer, MRMR_Contractor\u001b[0m\n\u001b[1;37m               ^\u001b[0m\n\u001b[1;31mSyntaxError\u001b[0m\u001b[1;31m:\u001b[0m invalid syntax\n"
     ]
    }
   ],
   "source": [
    "experiment = \"nrobot1day\"\n",
    "\n",
    "# the lead run is the one that will provide the test data.\n",
    "# also the directory of this run is where the graphs will be saved.\n",
    "\n",
    "# leadrun = \"comp_all\"\n",
    "leadrun = \"mrmr-comp\"\n",
    "\n",
    "# now load them\n",
    "\n",
    "leadexp = Config().get_experiment(experiment, leadrun)\n",
    "\n",
    "runs = leadexp[\"tocompare\"]\n",
    "\n",
    "exps = []\n",
    "allresults = [ ]\n",
    "for run in runs:\n",
    "    exp = Config().get_experiment(experiment, run)\n",
    "    exps.append(exp)\n",
    "    resultsfile = pathlib.Path(exp[\"data_dir\"], \"results.pickle\")\n",
    "    if not resultsfile.exists():\n",
    "        print(f\"Results file does not exist:\\n{resultsfile}\")\n",
    "        print(\"Run the notebook Run-1Robot1Day with the same exp/run to create it.\")\n",
    "        raise Exception(\"Nothing to do.\")\n",
    "    with compress.open(resultsfile, \"rb\") as f:\n",
    "        results = pickle.load(f)\n",
    "    allresults.append(results)"
   ]
  },
  {
   "cell_type": "code",
   "execution_count": null,
   "id": "9366651a",
   "metadata": {},
   "outputs": [],
   "source": [
    "def count_detections(results, robotno, field = \"TYLCV\"):\n",
    "    \"\"\"Returns the number of detections for the specified robot, adapted from wbf_figures.show_detections\"\"\"\n",
    "    obs = np.array(results[\"observations\"])[:, robotno]\n",
    "    detections = [[a[StoredObservationIM.X], a[StoredObservationIM.Y]] for a in obs if a[field][StoredObservationIM.VALUE] == 0.0]\n",
    "    return len(detections)"
   ]
  },
  {
   "cell_type": "code",
   "execution_count": null,
   "id": "d9af5bd6",
   "metadata": {},
   "outputs": [],
   "source": [
    "fig, ax = plt.subplots(1,1)\n",
    "for exp, results in zip(exps, allresults):\n",
    "    total = 0\n",
    "    for i, robot in enumerate(results[\"robots\"]):\n",
    "        detections = count_detections(results, i)\n",
    "        total += detections\n",
    "    ax.bar(exp[\"name\"], total)\n",
    "plt.savefig(pathlib.Path(leadexp[\"data_dir\"], \"detections-compare-bar.pdf\"))"
   ]
  },
  {
   "cell_type": "code",
   "execution_count": null,
   "id": "f06b04ca",
   "metadata": {},
   "outputs": [],
   "source": []
  }
 ],
 "metadata": {
  "kernelspec": {
   "display_name": "WBF-venv",
   "language": "python",
   "name": "python3"
  },
  "language_info": {
   "codemirror_mode": {
    "name": "ipython",
    "version": 3
   },
   "file_extension": ".py",
   "mimetype": "text/x-python",
   "name": "python",
   "nbconvert_exporter": "python",
   "pygments_lexer": "ipython3",
   "version": "3.11.4"
  }
 },
 "nbformat": 4,
 "nbformat_minor": 5
}
