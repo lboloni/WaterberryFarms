{
 "cells": [
  {
   "cell_type": "markdown",
   "id": "f08a23bc",
   "metadata": {},
   "source": [
    "# MRMR: multiresolution multi-robot visualization\n",
    "\n",
    "Code for the visual analysis of an experiment for this paper. It is assumed that the experiments had been run with nRobot1Day-Run. \n",
    "\n",
    "This notebook creates the specific type of visualizations for this paper. "
   ]
  },
  {
   "cell_type": "code",
   "execution_count": null,
   "id": "7639d0eb",
   "metadata": {},
   "outputs": [],
   "source": [
    "import sys\n",
    "sys.path.append(\"../..\")\n",
    "from exp_run_config import Config\n",
    "Config.PROJECTNAME = \"WaterBerryFarms\"\n",
    "import pathlib\n",
    "from pprint import pprint\n",
    "import gzip as compress\n",
    "import pickle\n",
    "\n",
    "import matplotlib.pyplot as plt\n",
    "from matplotlib.lines import Line2D\n",
    "# import matplotlib\n",
    "import numpy as np\n",
    "\n",
    "from information_model import StoredObservationIM\n",
    "\n",
    "import wbf_figures"
   ]
  },
  {
   "cell_type": "code",
   "execution_count": 5,
   "id": "5bf40d6a",
   "metadata": {},
   "outputs": [
    {
     "name": "stdout",
     "output_type": "stream",
     "text": [
      "***ExpRun**: No system dependent experiment file\n",
      "\t G:\\My Drive\\LotziStudy\\Code\\PackageTracking\\WaterBerryFarms\\settings\\experiment-config\\LotziYoga\\mrmr\\mrmr-clustered-3lawnmowers_sysdep.yaml,\n",
      "\t that is ok, proceeding.\n",
      "***ExpRun**: Configuration for exp/run: mrmr/mrmr-clustered-3lawnmowers successfully loaded\n",
      "Experiment: {'velocity': 1, 'timesteps-per-day': 500, 'time-start-environment': 15, 'im_resolution': 10, 'experiment_name': 'mrmr', 'name': '3 lawnmowers', 'exp_environment': 'mrmr-custom-clustered', 'exp_estimator': 'adaptive-disk', 'exp_score': 'weighted_asymmetric', 'robots': [{'name': 'robot-1', 'exp-policy': 'fixed-budget-lawnmower', 'exp-policy-extra-parameters': {'area': '[5, 5, 95, 30]', 'policy-name': 'lawn-bottom'}}, {'name': 'robot-2', 'exp-policy': 'fixed-budget-lawnmower', 'exp-policy-extra-parameters': {'area': '[5, 35, 95, 60]', 'policy-name': 'lawn-middle'}}, {'name': 'robot-3', 'exp-policy': 'fixed-budget-lawnmower', 'exp-policy-extra-parameters': {'area': '[5, 65, 95, 95]', 'policy-name': 'lawn-top'}}], 'run_name': 'mrmr-clustered-3lawnmowers', 'exp_run_sys_indep_file': 'C:\\\\Users\\\\lboloni\\\\Documents\\\\Code\\\\_Checkouts\\\\WBF\\\\WaterberryFarms\\\\experiment_configs\\\\mrmr\\\\mrmr-clustered-3lawnmowers.yaml', 'data_dir': 'C:\\\\Users\\\\lboloni\\\\Documents\\\\Code\\\\_TempData\\\\WBF\\\\ExperimentData\\\\mrmr\\\\mrmr-clustered-3lawnmowers', 'subrun_name': None, 'time_started': '2025-04-30 20:38:38'}\n"
     ]
    }
   ],
   "source": [
    "# the experiment for the robot run\n",
    "experiment = \"mrmr\"\n",
    "\n",
    "# run = \"mrmr-3random\"\n",
    "# run = \"mrmr-3lawnmowers\"\n",
    "# run = \"mrmr-1pioneer-2contractors\"\n",
    "# run = \"mrmr-clustered-1pio-2con\"\n",
    "run = \"mrmr-clustered-3lawnmowers\"\n",
    "\n",
    "exp = Config().get_experiment(experiment, run)\n",
    "pprint(exp)\n",
    "\n",
    "resultsfile = pathlib.Path(exp[\"data_dir\"], \"results.pickle\")\n",
    "if not resultsfile.exists():\n",
    "    print(f\"Results file does not exist:\\n{resultsfile}\")\n",
    "    print(\"Run the notebook Run-1Robot1Day with the same exp/run to create it.\")\n",
    "    raise Exception(\"Nothing to do.\")\n",
    "\n",
    "# load the results file\n",
    "with compress.open(resultsfile, \"rb\") as f:\n",
    "    results = pickle.load(f)"
   ]
  },
  {
   "cell_type": "markdown",
   "id": "10c1d466",
   "metadata": {},
   "source": [
    "### Map with detections\n",
    "Creates a graph which shows the tylcv ground truth, the robot path and the detections. \n",
    "\n",
    "FIXME: we will need to deal with the multiple detections and priority etc."
   ]
  },
  {
   "cell_type": "code",
   "execution_count": null,
   "id": "565b24ad",
   "metadata": {},
   "outputs": [
    {
     "name": "stderr",
     "output_type": "stream",
     "text": [
      "INFO:fontTools.subset:maxp pruned\n",
      "INFO:fontTools.subset:cmap pruned\n",
      "INFO:fontTools.subset:kern dropped\n",
      "INFO:fontTools.subset:post pruned\n",
      "INFO:fontTools.subset:FFTM dropped\n",
      "INFO:fontTools.subset:GPOS pruned\n",
      "INFO:fontTools.subset:GSUB pruned\n",
      "INFO:fontTools.subset:glyf pruned\n",
      "INFO:fontTools.subset:Added gid0 to subset\n",
      "INFO:fontTools.subset:Added first four glyphs to subset\n",
      "INFO:fontTools.subset:Closing glyph list over 'MATH': 27 glyphs before\n",
      "INFO:fontTools.subset:Glyph names: ['.notdef', '.null', 'C', 'E', 'L', 'T', 'V', 'Y', 'b', 'eight', 'five', 'four', 'hyphen', 'n', 'nonmarkingreturn', 'o', 'one', 'period', 'r', 'seven', 'six', 'space', 't', 'three', 'two', 'v', 'zero']\n",
      "INFO:fontTools.subset:Glyph IDs:   [0, 1, 2, 3, 16, 17, 19, 20, 21, 22, 23, 24, 25, 26, 27, 38, 40, 47, 55, 57, 60, 69, 81, 82, 85, 87, 89]\n",
      "INFO:fontTools.subset:Closed glyph list over 'MATH': 27 glyphs after\n",
      "INFO:fontTools.subset:Glyph names: ['.notdef', '.null', 'C', 'E', 'L', 'T', 'V', 'Y', 'b', 'eight', 'five', 'four', 'hyphen', 'n', 'nonmarkingreturn', 'o', 'one', 'period', 'r', 'seven', 'six', 'space', 't', 'three', 'two', 'v', 'zero']\n",
      "INFO:fontTools.subset:Glyph IDs:   [0, 1, 2, 3, 16, 17, 19, 20, 21, 22, 23, 24, 25, 26, 27, 38, 40, 47, 55, 57, 60, 69, 81, 82, 85, 87, 89]\n",
      "INFO:fontTools.subset:Closing glyph list over 'GSUB': 27 glyphs before\n",
      "INFO:fontTools.subset:Glyph names: ['.notdef', '.null', 'C', 'E', 'L', 'T', 'V', 'Y', 'b', 'eight', 'five', 'four', 'hyphen', 'n', 'nonmarkingreturn', 'o', 'one', 'period', 'r', 'seven', 'six', 'space', 't', 'three', 'two', 'v', 'zero']\n",
      "INFO:fontTools.subset:Glyph IDs:   [0, 1, 2, 3, 16, 17, 19, 20, 21, 22, 23, 24, 25, 26, 27, 38, 40, 47, 55, 57, 60, 69, 81, 82, 85, 87, 89]\n",
      "INFO:fontTools.subset:Closed glyph list over 'GSUB': 27 glyphs after\n",
      "INFO:fontTools.subset:Glyph names: ['.notdef', '.null', 'C', 'E', 'L', 'T', 'V', 'Y', 'b', 'eight', 'five', 'four', 'hyphen', 'n', 'nonmarkingreturn', 'o', 'one', 'period', 'r', 'seven', 'six', 'space', 't', 'three', 'two', 'v', 'zero']\n",
      "INFO:fontTools.subset:Glyph IDs:   [0, 1, 2, 3, 16, 17, 19, 20, 21, 22, 23, 24, 25, 26, 27, 38, 40, 47, 55, 57, 60, 69, 81, 82, 85, 87, 89]\n",
      "INFO:fontTools.subset:Closing glyph list over 'glyf': 27 glyphs before\n",
      "INFO:fontTools.subset:Glyph names: ['.notdef', '.null', 'C', 'E', 'L', 'T', 'V', 'Y', 'b', 'eight', 'five', 'four', 'hyphen', 'n', 'nonmarkingreturn', 'o', 'one', 'period', 'r', 'seven', 'six', 'space', 't', 'three', 'two', 'v', 'zero']\n",
      "INFO:fontTools.subset:Glyph IDs:   [0, 1, 2, 3, 16, 17, 19, 20, 21, 22, 23, 24, 25, 26, 27, 38, 40, 47, 55, 57, 60, 69, 81, 82, 85, 87, 89]\n",
      "INFO:fontTools.subset:Closed glyph list over 'glyf': 27 glyphs after\n",
      "INFO:fontTools.subset:Glyph names: ['.notdef', '.null', 'C', 'E', 'L', 'T', 'V', 'Y', 'b', 'eight', 'five', 'four', 'hyphen', 'n', 'nonmarkingreturn', 'o', 'one', 'period', 'r', 'seven', 'six', 'space', 't', 'three', 'two', 'v', 'zero']\n",
      "INFO:fontTools.subset:Glyph IDs:   [0, 1, 2, 3, 16, 17, 19, 20, 21, 22, 23, 24, 25, 26, 27, 38, 40, 47, 55, 57, 60, 69, 81, 82, 85, 87, 89]\n",
      "INFO:fontTools.subset:Retaining 27 glyphs\n",
      "INFO:fontTools.subset:head subsetting not needed\n",
      "INFO:fontTools.subset:hhea subsetting not needed\n",
      "INFO:fontTools.subset:maxp subsetting not needed\n",
      "INFO:fontTools.subset:OS/2 subsetting not needed\n",
      "INFO:fontTools.subset:hmtx subsetted\n",
      "INFO:fontTools.subset:cmap subsetted\n",
      "INFO:fontTools.subset:fpgm subsetting not needed\n",
      "INFO:fontTools.subset:prep subsetting not needed\n",
      "INFO:fontTools.subset:cvt  subsetting not needed\n",
      "INFO:fontTools.subset:loca subsetting not needed\n",
      "INFO:fontTools.subset:post subsetted\n",
      "INFO:fontTools.subset:gasp subsetting not needed\n",
      "INFO:fontTools.subset:MATH subsetted\n",
      "INFO:fontTools.subset:GDEF subsetted\n",
      "INFO:fontTools.subset:GPOS subsetted\n",
      "INFO:fontTools.subset:GSUB subsetted\n",
      "INFO:fontTools.subset:name subsetting not needed\n",
      "INFO:fontTools.subset:glyf subsetted\n",
      "INFO:fontTools.subset:head pruned\n",
      "INFO:fontTools.subset:OS/2 Unicode ranges pruned: [0]\n",
      "INFO:fontTools.subset:OS/2 CodePage ranges pruned: [0]\n",
      "INFO:fontTools.subset:glyf pruned\n",
      "INFO:fontTools.subset:GDEF pruned\n",
      "INFO:fontTools.subset:GPOS pruned\n",
      "INFO:fontTools.subset:GSUB pruned\n",
      "INFO:fontTools.subset:name pruned\n"
     ]
    },
    {
     "data": {
      "image/png": "[encoded data removed]",
      "text/plain": [
       "<Figure size 300x300 with 1 Axes>"
      ]
     },
     "metadata": {},
     "output_type": "display_data"
    }
   ],
   "source": [
    "\n",
    "\n",
    "ROBOT_COLORS = [\"red\", \"blue\", \"green\"]\n",
    "fig, ax = plt.subplots(1,1, figsize=(3, 3))\n",
    "wbf_figures.show_env_tylcv(results, ax)\n",
    "\n",
    "custom_lines = []\n",
    "labels = []\n",
    "\n",
    "for i, robot in enumerate(results[\"robots\"]):\n",
    "    color = ROBOT_COLORS[i % len(results[\"robots\"])]\n",
    "    observations = [o[i] for o in results[\"observations\"]]\n",
    "    wbf_figures.show_individual_robot_path(results, ax, robot=robot, observations=observations, pathcolor=color, draw_robot=False)\n",
    "    wbf_figures.show_individual_robot_detections(results, ax, robotno=i, detection_color=color, radius=0.5)\n",
    "    # adding to the legend\n",
    "    custom_lines.append(Line2D([0], [0], color=color, lw=2))\n",
    "    labels.append(robot.name)\n",
    "\n",
    "\n",
    "# Add both automatic and manual entries to the legend\n",
    "ax.legend(handles=[*custom_lines],\n",
    "          labels=labels)    \n",
    "\n",
    "plt.savefig(pathlib.Path(exp.data_dir(), \"detections-map.pdf\"))"
   ]
  },
  {
   "cell_type": "markdown",
   "id": "a6361284",
   "metadata": {},
   "source": [
    "### Graph with detections\n",
    "\n",
    "Count the detections on an agent by agent basis, and create a plot for each of the agents and a sum. "
   ]
  },
  {
   "cell_type": "code",
   "execution_count": 7,
   "id": "e6850f83",
   "metadata": {},
   "outputs": [],
   "source": [
    "def count_detections(results, robotno, field = \"TYLCV\"):\n",
    "    \"\"\"Returns the number of detections for the specified robot, adapted from wbf_figures.show_detections\"\"\"\n",
    "    obs = np.array(results[\"observations\"])[:, robotno]\n",
    "    detections = [[a[StoredObservationIM.X], a[StoredObservationIM.Y]] for a in obs if a[field][StoredObservationIM.VALUE] == 0.0]\n",
    "    return len(detections)"
   ]
  },
  {
   "cell_type": "code",
   "execution_count": 8,
   "id": "60914a09",
   "metadata": {},
   "outputs": [
    {
     "name": "stderr",
     "output_type": "stream",
     "text": [
      "INFO:fontTools.subset:maxp pruned\n",
      "INFO:fontTools.subset:cmap pruned\n",
      "INFO:fontTools.subset:kern dropped\n",
      "INFO:fontTools.subset:post pruned\n",
      "INFO:fontTools.subset:FFTM dropped\n",
      "INFO:fontTools.subset:GPOS pruned\n",
      "INFO:fontTools.subset:GSUB pruned\n",
      "INFO:fontTools.subset:glyf pruned\n",
      "INFO:fontTools.subset:Added gid0 to subset\n",
      "INFO:fontTools.subset:Added first four glyphs to subset\n",
      "INFO:fontTools.subset:Closing glyph list over 'MATH': 20 glyphs before\n",
      "INFO:fontTools.subset:Glyph names: ['.notdef', '.null', 'T', 'a', 'b', 'five', 'four', 'hyphen', 'l', 'nonmarkingreturn', 'o', 'one', 'r', 'seven', 'six', 'space', 't', 'three', 'two', 'zero']\n",
      "INFO:fontTools.subset:Glyph IDs:   [0, 1, 2, 3, 16, 19, 20, 21, 22, 23, 24, 25, 26, 55, 68, 69, 79, 82, 85, 87]\n",
      "INFO:fontTools.subset:Closed glyph list over 'MATH': 20 glyphs after\n",
      "INFO:fontTools.subset:Glyph names: ['.notdef', '.null', 'T', 'a', 'b', 'five', 'four', 'hyphen', 'l', 'nonmarkingreturn', 'o', 'one', 'r', 'seven', 'six', 'space', 't', 'three', 'two', 'zero']\n",
      "INFO:fontTools.subset:Glyph IDs:   [0, 1, 2, 3, 16, 19, 20, 21, 22, 23, 24, 25, 26, 55, 68, 69, 79, 82, 85, 87]\n",
      "INFO:fontTools.subset:Closing glyph list over 'GSUB': 20 glyphs before\n",
      "INFO:fontTools.subset:Glyph names: ['.notdef', '.null', 'T', 'a', 'b', 'five', 'four', 'hyphen', 'l', 'nonmarkingreturn', 'o', 'one', 'r', 'seven', 'six', 'space', 't', 'three', 'two', 'zero']\n",
      "INFO:fontTools.subset:Glyph IDs:   [0, 1, 2, 3, 16, 19, 20, 21, 22, 23, 24, 25, 26, 55, 68, 69, 79, 82, 85, 87]\n",
      "INFO:fontTools.subset:Closed glyph list over 'GSUB': 20 glyphs after\n",
      "INFO:fontTools.subset:Glyph names: ['.notdef', '.null', 'T', 'a', 'b', 'five', 'four', 'hyphen', 'l', 'nonmarkingreturn', 'o', 'one', 'r', 'seven', 'six', 'space', 't', 'three', 'two', 'zero']\n",
      "INFO:fontTools.subset:Glyph IDs:   [0, 1, 2, 3, 16, 19, 20, 21, 22, 23, 24, 25, 26, 55, 68, 69, 79, 82, 85, 87]\n",
      "INFO:fontTools.subset:Closing glyph list over 'glyf': 20 glyphs before\n",
      "INFO:fontTools.subset:Glyph names: ['.notdef', '.null', 'T', 'a', 'b', 'five', 'four', 'hyphen', 'l', 'nonmarkingreturn', 'o', 'one', 'r', 'seven', 'six', 'space', 't', 'three', 'two', 'zero']\n",
      "INFO:fontTools.subset:Glyph IDs:   [0, 1, 2, 3, 16, 19, 20, 21, 22, 23, 24, 25, 26, 55, 68, 69, 79, 82, 85, 87]\n",
      "INFO:fontTools.subset:Closed glyph list over 'glyf': 20 glyphs after\n",
      "INFO:fontTools.subset:Glyph names: ['.notdef', '.null', 'T', 'a', 'b', 'five', 'four', 'hyphen', 'l', 'nonmarkingreturn', 'o', 'one', 'r', 'seven', 'six', 'space', 't', 'three', 'two', 'zero']\n",
      "INFO:fontTools.subset:Glyph IDs:   [0, 1, 2, 3, 16, 19, 20, 21, 22, 23, 24, 25, 26, 55, 68, 69, 79, 82, 85, 87]\n",
      "INFO:fontTools.subset:Retaining 20 glyphs\n",
      "INFO:fontTools.subset:head subsetting not needed\n",
      "INFO:fontTools.subset:hhea subsetting not needed\n",
      "INFO:fontTools.subset:maxp subsetting not needed\n",
      "INFO:fontTools.subset:OS/2 subsetting not needed\n",
      "INFO:fontTools.subset:hmtx subsetted\n",
      "INFO:fontTools.subset:cmap subsetted\n",
      "INFO:fontTools.subset:fpgm subsetting not needed\n",
      "INFO:fontTools.subset:prep subsetting not needed\n",
      "INFO:fontTools.subset:cvt  subsetting not needed\n",
      "INFO:fontTools.subset:loca subsetting not needed\n",
      "INFO:fontTools.subset:post subsetted\n",
      "INFO:fontTools.subset:gasp subsetting not needed\n",
      "INFO:fontTools.subset:MATH subsetted\n",
      "INFO:fontTools.subset:GDEF subsetted\n",
      "INFO:fontTools.subset:GPOS subsetted\n",
      "INFO:fontTools.subset:GSUB subsetted\n",
      "INFO:fontTools.subset:name subsetting not needed\n",
      "INFO:fontTools.subset:glyf subsetted\n",
      "INFO:fontTools.subset:head pruned\n",
      "INFO:fontTools.subset:OS/2 Unicode ranges pruned: [0]\n",
      "INFO:fontTools.subset:OS/2 CodePage ranges pruned: [0]\n",
      "INFO:fontTools.subset:glyf pruned\n",
      "INFO:fontTools.subset:GDEF pruned\n",
      "INFO:fontTools.subset:GPOS pruned\n",
      "INFO:fontTools.subset:GSUB pruned\n",
      "INFO:fontTools.subset:name pruned\n"
     ]
    },
    {
     "data": {
      "image/png": "[encoded data removed]",
      "text/plain": [
       "<Figure size 640x480 with 1 Axes>"
      ]
     },
     "metadata": {},
     "output_type": "display_data"
    }
   ],
   "source": [
    "fig, ax = plt.subplots(1,1)\n",
    "total = 0\n",
    "for i, robot in enumerate(results[\"robots\"]):\n",
    "    detections = count_detections(results, i)\n",
    "    total += detections\n",
    "    br = ax.bar(robot.name, detections)\n",
    "ax.bar(\"Total\", total)\n",
    "plt.savefig(pathlib.Path(exp[\"data_dir\"], \"detections-bar.pdf\"))"
   ]
  },
  {
   "cell_type": "code",
   "execution_count": null,
   "id": "a4161e56",
   "metadata": {},
   "outputs": [],
   "source": []
  }
 ],
 "metadata": {
  "kernelspec": {
   "display_name": "WBF-venv",
   "language": "python",
   "name": "python3"
  },
  "language_info": {
   "codemirror_mode": {
    "name": "ipython",
    "version": 3
   },
   "file_extension": ".py",
   "mimetype": "text/x-python",
   "name": "python",
   "nbconvert_exporter": "python",
   "pygments_lexer": "ipython3",
   "version": "3.11.4"
  }
 },
 "nbformat": 4,
 "nbformat_minor": 5
}
