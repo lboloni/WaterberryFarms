{
 "cells": [
  {
   "cell_type": "markdown",
   "id": "f08a23bc",
   "metadata": {},
   "source": [
    "# MRMR: multiresolution multi-robot visualization\n",
    "\n",
    "Code for the visual analysis of an experiment for this paper. It is assumed that the experiments had been run with nRobot1Day-Run. \n",
    "\n",
    "This notebook creates the specific type of visualizations for this paper. "
   ]
  },
  {
   "cell_type": "code",
   "execution_count": 1,
   "id": "7639d0eb",
   "metadata": {},
   "outputs": [],
   "source": [
    "import sys\n",
    "sys.path.append(\"../..\")\n",
    "from exp_run_config import Config\n",
    "Config.PROJECTNAME = \"WaterBerryFarms\"\n",
    "import pathlib\n",
    "from pprint import pprint\n",
    "import gzip as compress\n",
    "import pickle\n",
    "\n",
    "import matplotlib.pyplot as plt\n",
    "from matplotlib.lines import Line2D\n",
    "# import matplotlib\n",
    "import numpy as np\n",
    "\n",
    "from information_model import StoredObservationIM\n",
    "\n",
    "import wbf_figures"
   ]
  },
  {
   "cell_type": "code",
   "execution_count": 2,
   "id": "5bf40d6a",
   "metadata": {},
   "outputs": [
    {
     "name": "stdout",
     "output_type": "stream",
     "text": [
      "***ExpRun**: Loading pointer config file:\n",
      "\t/Users/lboloni/.config/WaterBerryFarms/mainsettings.yaml\n",
      "***ExpRun**: Loading machine-specific config file:\n",
      "\t/Users/lboloni/Google Drive/My Drive/LotziStudy/Code/PackageTracking/WaterBerryFarms/settings/WBF-config-szenes.yaml\n",
      "***ExpRun**: Configuration for exp/run: mrmr/mrmr-clustered-3lawnmowers successfully loaded\n",
      "Experiment:\n",
      "    data_dir: /Users/lboloni/Documents/Develop/Data/WBF/mrmr/mrmr-clustered-3lawnmowers\n",
      "    exp_environment: mrmr-custom-clustered\n",
      "    exp_estimator: adaptive-disk\n",
      "    exp_run_sys_indep_file: /Users/lboloni/Documents/Develop/Github/WBF/WaterberryFarms/experiment_configs/mrmr/mrmr-clustered-3lawnmowers.yaml\n",
      "    exp_score: weighted_asymmetric\n",
      "    experiment_name: mrmr\n",
      "    im_resolution: 10\n",
      "    name: 3 lawnmowers\n",
      "    robots:\n",
      "    - exp-policy: fixed-budget-lawnmower\n",
      "      exp-policy-extra-parameters:\n",
      "        area: '[5, 5, 95, 30]'\n",
      "        budget: 1000\n",
      "        policy-name: lawn-bottom\n",
      "      name: lawn-1\n",
      "    - exp-policy: fixed-budget-lawnmower\n",
      "      exp-policy-extra-parameters:\n",
      "        area: '[5, 35, 95, 60]'\n",
      "        budget: 1000\n",
      "        policy-name: lawn-middle\n",
      "      name: lawn-2\n",
      "    - exp-policy: fixed-budget-lawnmower\n",
      "      exp-policy-extra-parameters:\n",
      "        area: '[5, 65, 95, 95]'\n",
      "        budget: 1000\n",
      "        policy-name: lawn-top\n",
      "      name: lawn-3\n",
      "    run_name: mrmr-clustered-3lawnmowers\n",
      "    subrun_name: null\n",
      "    time-start-environment: 15\n",
      "    time_started: '2025-07-19 18:13:27.562535'\n",
      "    timesteps-per-day: 1000\n",
      "    velocity: 1\n",
      "\n",
      "Results file does not exist:\n",
      "/Users/lboloni/Documents/Develop/Data/WBF/mrmr/mrmr-clustered-3lawnmowers/results.pickle\n",
      "Run the notebook Run-1Robot1Day with the same exp/run to create it.\n"
     ]
    },
    {
     "ename": "Exception",
     "evalue": "Nothing to do.",
     "output_type": "error",
     "traceback": [
      "\u001b[31m---------------------------------------------------------------------------\u001b[39m",
      "\u001b[31mException\u001b[39m                                 Traceback (most recent call last)",
      "\u001b[36mCell\u001b[39m\u001b[36m \u001b[39m\u001b[32mIn[2]\u001b[39m\u001b[32m, line 17\u001b[39m\n\u001b[32m     15\u001b[39m     \u001b[38;5;28mprint\u001b[39m(\u001b[33mf\u001b[39m\u001b[33m\"\u001b[39m\u001b[33mResults file does not exist:\u001b[39m\u001b[38;5;130;01m\\n\u001b[39;00m\u001b[38;5;132;01m{\u001b[39;00mresultsfile\u001b[38;5;132;01m}\u001b[39;00m\u001b[33m\"\u001b[39m)\n\u001b[32m     16\u001b[39m     \u001b[38;5;28mprint\u001b[39m(\u001b[33m\"\u001b[39m\u001b[33mRun the notebook Run-1Robot1Day with the same exp/run to create it.\u001b[39m\u001b[33m\"\u001b[39m)\n\u001b[32m---> \u001b[39m\u001b[32m17\u001b[39m     \u001b[38;5;28;01mraise\u001b[39;00m \u001b[38;5;167;01mException\u001b[39;00m(\u001b[33m\"\u001b[39m\u001b[33mNothing to do.\u001b[39m\u001b[33m\"\u001b[39m)\n\u001b[32m     19\u001b[39m \u001b[38;5;66;03m# load the results file\u001b[39;00m\n\u001b[32m     20\u001b[39m \u001b[38;5;28;01mwith\u001b[39;00m compress.open(resultsfile, \u001b[33m\"\u001b[39m\u001b[33mrb\u001b[39m\u001b[33m\"\u001b[39m) \u001b[38;5;28;01mas\u001b[39;00m f:\n",
      "\u001b[31mException\u001b[39m: Nothing to do."
     ]
    }
   ],
   "source": [
    "# the experiment for the robot run\n",
    "experiment = \"mrmr\"\n",
    "\n",
    "# run = \"mrmr-3random\"\n",
    "# run = \"mrmr-3lawnmowers\"\n",
    "# run = \"mrmr-1pioneer-2contractors\"\n",
    "# run = \"mrmr-clustered-1pio-2con\"\n",
    "run = \"mrmr-clustered-3lawnmowers\"\n",
    "\n",
    "exp = Config().get_experiment(experiment, run)\n",
    "pprint(exp)\n",
    "\n",
    "resultsfile = pathlib.Path(exp[\"data_dir\"], \"results.pickle\")\n",
    "if not resultsfile.exists():\n",
    "    print(f\"Results file does not exist:\\n{resultsfile}\")\n",
    "    print(\"Run the notebook Run-1Robot1Day with the same exp/run to create it.\")\n",
    "    raise Exception(\"Nothing to do.\")\n",
    "\n",
    "# load the results file\n",
    "with compress.open(resultsfile, \"rb\") as f:\n",
    "    results = pickle.load(f)"
   ]
  },
  {
   "cell_type": "markdown",
   "id": "10c1d466",
   "metadata": {},
   "source": [
    "### Map with detections\n",
    "Creates a graph which shows the tylcv ground truth, the robot path and the detections. \n",
    "\n",
    "FIXME: we will need to deal with the multiple detections and priority etc."
   ]
  },
  {
   "cell_type": "code",
   "execution_count": null,
   "id": "565b24ad",
   "metadata": {},
   "outputs": [],
   "source": [
    "\n",
    "\n",
    "ROBOT_COLORS = [\"red\", \"blue\", \"green\"]\n",
    "fig, ax = plt.subplots(1,1, figsize=(3, 3))\n",
    "wbf_figures.show_env_tylcv(results, ax)\n",
    "\n",
    "custom_lines = []\n",
    "labels = []\n",
    "\n",
    "for i, robot in enumerate(results[\"robots\"]):\n",
    "    color = ROBOT_COLORS[i % len(results[\"robots\"])]\n",
    "    observations = [o[i] for o in results[\"observations\"]]\n",
    "    wbf_figures.show_individual_robot_path(results, ax, robot=robot, observations=observations, pathcolor=color, draw_robot=False)\n",
    "    wbf_figures.show_individual_robot_detections(results, ax, robotno=i, detection_color=color, radius=0.5)\n",
    "    # adding to the legend\n",
    "    custom_lines.append(Line2D([0], [0], color=color, lw=2))\n",
    "    labels.append(robot.name)\n",
    "\n",
    "\n",
    "# Add both automatic and manual entries to the legend\n",
    "ax.legend(handles=[*custom_lines],\n",
    "          labels=labels)    \n",
    "\n",
    "plt.savefig(pathlib.Path(exp.data_dir(), \"detections-map.pdf\"))"
   ]
  },
  {
   "cell_type": "markdown",
   "id": "a6361284",
   "metadata": {},
   "source": [
    "### Graph with detections\n",
    "\n",
    "Count the detections on an agent by agent basis, and create a plot for each of the agents and a sum. "
   ]
  },
  {
   "cell_type": "code",
   "execution_count": null,
   "id": "e6850f83",
   "metadata": {},
   "outputs": [],
   "source": [
    "def count_detections(results, robotno, field = \"TYLCV\"):\n",
    "    \"\"\"Returns the number of detections for the specified robot, adapted from wbf_figures.show_detections\"\"\"\n",
    "    obs = np.array(results[\"observations\"])[:, robotno]\n",
    "    detections = [[a[StoredObservationIM.X], a[StoredObservationIM.Y]] for a in obs if a[field][StoredObservationIM.VALUE] == 0.0]\n",
    "    return len(detections)"
   ]
  },
  {
   "cell_type": "code",
   "execution_count": null,
   "id": "60914a09",
   "metadata": {},
   "outputs": [],
   "source": [
    "fig, ax = plt.subplots(1,1)\n",
    "total = 0\n",
    "for i, robot in enumerate(results[\"robots\"]):\n",
    "    detections = count_detections(results, i)\n",
    "    total += detections\n",
    "    br = ax.bar(robot.name, detections)\n",
    "ax.bar(\"Total\", total)\n",
    "plt.savefig(pathlib.Path(exp[\"data_dir\"], \"detections-bar.pdf\"))"
   ]
  },
  {
   "cell_type": "code",
   "execution_count": null,
   "id": "a4161e56",
   "metadata": {},
   "outputs": [],
   "source": []
  }
 ],
 "metadata": {
  "kernelspec": {
   "display_name": "WBF",
   "language": "python",
   "name": "python3"
  },
  "language_info": {
   "codemirror_mode": {
    "name": "ipython",
    "version": 3
   },
   "file_extension": ".py",
   "mimetype": "text/x-python",
   "name": "python",
   "nbconvert_exporter": "python",
   "pygments_lexer": "ipython3",
   "version": "3.13.5"
  }
 },
 "nbformat": 4,
 "nbformat_minor": 5
}
