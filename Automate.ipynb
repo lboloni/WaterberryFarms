{
 "cells": [
  {
   "cell_type": "markdown",
   "id": "74b1d431",
   "metadata": {},
   "source": [
    "# Automation of the running of a certain process flow\n",
    "\n",
    "Running a certain process flow, for instance a series of Train_... notebooks, using papermill. \n",
    "\n",
    "In order for this to work well, the notebooks have to:\n",
    "* Have a cell tagged \"parameters\" in which the primary parameters are set.\n",
    "* The notebook should be set up in such a way, that after a successful run, the next time just verifies that all the computation had been done.\n",
    "* Functionality for resuming from an interrupted computation should also be supported. "
   ]
  },
  {
   "cell_type": "code",
   "execution_count": null,
   "id": "174382e2",
   "metadata": {},
   "outputs": [],
   "source": [
    "from exp_run_config import Config, Experiment\n",
    "Config.PROJECTNAME = \"WaterBerryFarms\"\n",
    "\n",
    "import pathlib\n",
    "import papermill as pm\n",
    "from tqdm import tqdm"
   ]
  },
  {
   "cell_type": "markdown",
   "id": "13f16d37",
   "metadata": {},
   "source": [
    "## Run the training of the convnet on an external setup"
   ]
  },
  {
   "cell_type": "code",
   "execution_count": 2,
   "id": "beb9410d",
   "metadata": {},
   "outputs": [],
   "source": [
    "def automate_exprun(notebook, name, params):\n",
    "   \"\"\"Automates the execution of a notebook. It is assumed that in the notebook there is cell tagged \"parameters\", and in general that the notebook is idempotent.\"\"\"\n",
    "\n",
    "   ext_path = pathlib.Path(Config()[\"experiment_external\"])\n",
    "   params[\"external_path\"] = str(pathlib.Path(ext_path, \"_automate\").resolve())\n",
    "   notebook_path = pathlib.Path(notebook)\n",
    "   output_path = pathlib.Path(ext_path, \"_automation_output\")\n",
    "   output_filename = f\"{notebook_path.stem}_{name}_output{ notebook_path.suffix}\"\n",
    "   output = pathlib.Path(output_path, notebook_path.parent, output_filename)\n",
    "   output.parent.mkdir(exist_ok=True)\n",
    "   print(output)\n",
    "\n",
    "   try:\n",
    "      pm.execute_notebook(\n",
    "         notebook,\n",
    "         output.absolute(),\n",
    "         cwd=notebook_path.parent,\n",
    "         parameters=params\n",
    "      )\n",
    "   except Exception as e:\n",
    "      print(f\"There was an exception {e}\")\n"
   ]
  },
  {
   "cell_type": "code",
   "execution_count": 3,
   "id": "76b65bff",
   "metadata": {},
   "outputs": [
    {
     "name": "stdout",
     "output_type": "stream",
     "text": [
      "***ExpRun**: Loading pointer config file:\n",
      "\tC:\\Users\\lboloni\\.config\\BerryPicker\\mainsettings.yaml\n",
      "***ExpRun**: Loading machine-specific config file:\n",
      "\tG:\\My Drive\\LotziStudy\\Code\\PackageTracking\\BerryPicker\\settings\\settings-LotziYoga.yaml\n",
      "***ExpRun**: Experiment default config C:\\Users\\lboloni\\Documents\\Code\\_Checkouts\\BerryPicker\\src\\experiment_configs\\automate\\_defaults_automate.yaml was empty, ok.\n",
      "***ExpRun**: Configuration for exp/run: automate/automate_short successfully loaded\n"
     ]
    },
    {
     "name": "stderr",
     "output_type": "stream",
     "text": [
      "  0%|          | 0/2 [00:00<?, ?it/s]Passed unknown parameter: epochs\n",
      "c:\\Users\\lboloni\\Documents\\Code\\_VirtualEnvironments\\Robot\\Robot-venv\\Lib\\site-packages\\tqdm\\auto.py:21: TqdmWarning: IProgress not found. Please update jupyter and ipywidgets. See https://ipywidgets.readthedocs.io/en/stable/user_install.html\n",
      "  from .autonotebook import tqdm as notebook_tqdm\n"
     ]
    },
    {
     "name": "stdout",
     "output_type": "stream",
     "text": [
      "***Automating VerifyConvVAE-128\n",
      "c:\\Users\\lboloni\\Documents\\Code\\_TempData\\BerryPicker-external\\_automation_output\\sensorprocessing\\Verify_Conv_VAE_VerifyConvVAE-128_output.ipynb\n"
     ]
    },
    {
     "name": "stderr",
     "output_type": "stream",
     "text": [
      "Executing: 100%|██████████| 18/18 [00:45<00:00,  2.51s/cell]\n",
      " 50%|█████     | 1/2 [00:45<00:45, 45.50s/it]Passed unknown parameter: epochs\n"
     ]
    },
    {
     "name": "stdout",
     "output_type": "stream",
     "text": [
      "***Automating VerifyResNet50-128\n",
      "c:\\Users\\lboloni\\Documents\\Code\\_TempData\\BerryPicker-external\\_automation_output\\sensorprocessing\\Verify_Propriotuned_CNN_VerifyResNet50-128_output.ipynb\n"
     ]
    },
    {
     "name": "stderr",
     "output_type": "stream",
     "text": [
      "Executing:  75%|███████▌  | 9/12 [00:13<00:04,  1.48s/cell]\n",
      "100%|██████████| 2/2 [00:58<00:00, 29.42s/it]"
     ]
    },
    {
     "name": "stdout",
     "output_type": "stream",
     "text": [
      "There was an exception \n",
      "---------------------------------------------------------------------------\n",
      "Exception encountered at \"In [6]\":\n",
      "---------------------------------------------------------------------------\n",
      "KeyError                                  Traceback (most recent call last)\n",
      "Cell In[6], line 6\n",
      "      3 transform = sp_helper.get_transform_to_sp(exp)\n",
      "      5 with torch.no_grad():\n",
      "----> 6     for val in exp[\"testing_data\"]:\n",
      "      7         run, demo_name, camera = val\n",
      "      8         exp_demo = Config().get_experiment(\"demonstration\", run)\n",
      "\n",
      "File c:\\Users\\lboloni\\Documents\\Code\\_Checkouts\\BerryPicker\\src\\sensorprocessing\\..\\exp_run_config.py:46, in Experiment.__getitem__(self, key)\n",
      "     45 def __getitem__(self, key):\n",
      "---> 46     return self.values[key]\n",
      "\n",
      "KeyError: 'testing_data'\n",
      "\n"
     ]
    },
    {
     "name": "stderr",
     "output_type": "stream",
     "text": [
      "\n"
     ]
    }
   ],
   "source": [
    "experiment = \"automate\"\n",
    "run = \"automate_short\"\n",
    "exp = Config().get_experiment(experiment, run)\n",
    "\n",
    "for item in tqdm(exp[\"exps_to_run\"]):\n",
    "    print(f\"***Automating {item['name']}\")\n",
    "    #notebook = params[\"notebook\"]\n",
    "    automate_exprun(item[\"notebook\"], item[\"name\"], item[\"params\"])"
   ]
  },
  {
   "cell_type": "code",
   "execution_count": null,
   "id": "b04895a0",
   "metadata": {},
   "outputs": [],
   "source": []
  }
 ],
 "metadata": {
  "kernelspec": {
   "display_name": "Robot-venv",
   "language": "python",
   "name": "python3"
  },
  "language_info": {
   "codemirror_mode": {
    "name": "ipython",
    "version": 3
   },
   "file_extension": ".py",
   "mimetype": "text/x-python",
   "name": "python",
   "nbconvert_exporter": "python",
   "pygments_lexer": "ipython3",
   "version": "3.11.4"
  }
 },
 "nbformat": 4,
 "nbformat_minor": 5
}
