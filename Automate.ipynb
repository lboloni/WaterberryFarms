{
 "cells": [
  {
   "cell_type": "markdown",
   "id": "74b1d431",
   "metadata": {},
   "source": [
    "# Automation of the running of a certain process flow\n",
    "\n",
    "Running a certain process flow, for instance a series of Train_... notebooks, using papermill. \n",
    "\n",
    "In order for this to work well, the notebooks have to:\n",
    "* Have a cell tagged \"parameters\" in which the primary parameters are set.\n",
    "* The notebook should be set up in such a way, that after a successful run, the next time just verifies that all the computation had been done.\n",
    "* Functionality for resuming from an interrupted computation should also be supported. "
   ]
  },
  {
   "cell_type": "code",
   "execution_count": 1,
   "id": "174382e2",
   "metadata": {},
   "outputs": [],
   "source": [
    "from exp_run_config import Config, Experiment\n",
    "Config.PROJECTNAME = \"WaterBerryFarms\"\n",
    "\n",
    "import pathlib\n",
    "import papermill as pm\n",
    "from tqdm import tqdm\n",
    "from automate import automate_exprun"
   ]
  },
  {
   "cell_type": "markdown",
   "id": "13f16d37",
   "metadata": {},
   "source": [
    "## Run the training of the convnet on an external setup"
   ]
  },
  {
   "cell_type": "code",
   "execution_count": 2,
   "id": "76b65bff",
   "metadata": {},
   "outputs": [
    {
     "name": "stdout",
     "output_type": "stream",
     "text": [
      "***ExpRun**: Loading pointer config file:\n",
      "\tC:\\Users\\lboloni\\.config\\WaterBerryFarms\\mainsettings.yaml\n",
      "***ExpRun**: Loading machine-specific config file:\n",
      "\tG:\\My Drive\\LotziStudy\\Code\\PackageTracking\\WaterBerryFarms\\settings\\WBF-config-LotziYoga.yaml\n",
      "***ExpRun**: Experiment default config C:\\Users\\lboloni\\Documents\\Code\\_Checkouts\\WBF\\WaterberryFarms\\experiment_configs\\automate\\_defaults_automate.yaml was empty, ok.\n",
      "***ExpRun**: Configuration for exp/run: automate/automate_short successfully loaded\n"
     ]
    },
    {
     "name": "stderr",
     "output_type": "stream",
     "text": [
      "  0%|          | 0/2 [00:00<?, ?it/s]"
     ]
    },
    {
     "name": "stdout",
     "output_type": "stream",
     "text": [
      "***Automating glr-eop-ad-2-2\n",
      "c:\\Users\\lboloni\\Documents\\Code\\_TempData\\WBF-external\\_automation_output\\notebooks\\1Robot1Day-Run_glr-eop-ad-2-2_output.ipynb\n"
     ]
    },
    {
     "data": {
      "application/vnd.jupyter.widget-view+json": {
       "model_id": "46330039189444168bc9d51ed5b73ccb",
       "version_major": 2,
       "version_minor": 0
      },
      "text/plain": [
       "Executing:   0%|          | 0/6 [00:00<?, ?cell/s]"
      ]
     },
     "metadata": {},
     "output_type": "display_data"
    },
    {
     "name": "stderr",
     "output_type": "stream",
     "text": [
      " 50%|█████     | 1/2 [00:03<00:03,  3.78s/it]"
     ]
    },
    {
     "name": "stdout",
     "output_type": "stream",
     "text": [
      "***Automating glr-eop-ad-4-4\n",
      "c:\\Users\\lboloni\\Documents\\Code\\_TempData\\WBF-external\\_automation_output\\notebooks\\1Robot1Day-Run_glr-eop-ad-4-4_output.ipynb\n"
     ]
    },
    {
     "data": {
      "application/vnd.jupyter.widget-view+json": {
       "model_id": "aa0f99d4fff941929fb95b98216c7f4c",
       "version_major": 2,
       "version_minor": 0
      },
      "text/plain": [
       "Executing:   0%|          | 0/6 [00:00<?, ?cell/s]"
      ]
     },
     "metadata": {},
     "output_type": "display_data"
    },
    {
     "name": "stderr",
     "output_type": "stream",
     "text": [
      "100%|██████████| 2/2 [00:07<00:00,  3.70s/it]\n"
     ]
    }
   ],
   "source": [
    "experiment = \"automate\"\n",
    "run = \"automate_short\"\n",
    "exp = Config().get_experiment(experiment, run)\n",
    "\n",
    "for item in tqdm(exp[\"exps_to_run\"]):\n",
    "    print(f\"***Automating {item['name']}\")\n",
    "    #notebook = params[\"notebook\"]\n",
    "    automate_exprun(item[\"notebook\"], item[\"name\"], item[\"params\"])"
   ]
  },
  {
   "cell_type": "code",
   "execution_count": null,
   "id": "b04895a0",
   "metadata": {},
   "outputs": [],
   "source": []
  }
 ],
 "metadata": {
  "kernelspec": {
   "display_name": "WBF-venv",
   "language": "python",
   "name": "python3"
  },
  "language_info": {
   "codemirror_mode": {
    "name": "ipython",
    "version": 3
   },
   "file_extension": ".py",
   "mimetype": "text/x-python",
   "name": "python",
   "nbconvert_exporter": "python",
   "pygments_lexer": "ipython3",
   "version": "3.11.4"
  }
 },
 "nbformat": 4,
 "nbformat_minor": 5
}
