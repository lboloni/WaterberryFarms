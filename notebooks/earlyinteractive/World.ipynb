{
 "cells": [
  {
   "cell_type": "markdown",
   "id": "6650bcf2",
   "metadata": {},
   "source": [
    "# World\n",
    "Implements a world class which integrates an environment with one or more observables and several robots.\n",
    "\n",
    "Also provides a WorldFactory class that implements a number of standard environments."
   ]
  },
  {
   "cell_type": "code",
   "execution_count": null,
   "id": "4db058b3",
   "metadata": {},
   "outputs": [],
   "source": [
    "# allow imports from the main source directory\n",
    "import sys\n",
    "sys.path.append('../..')\n",
    "\n",
    "import LoggingSetup\n",
    "\n",
    "from Environment import Environment, DissipationModelEnvironment, EpidemicSpreadEnvironment\n",
    "from InformationModel import InformationModel, DiskEstimateScalarFieldIM\n",
    "from Robot import Robot\n",
    "from Policy import GoToLocationPolicy, FollowPathPolicy, RandomWaypointPolicy"
   ]
  },
  {
   "cell_type": "code",
   "execution_count": 2,
   "id": "56b2d414",
   "metadata": {},
   "outputs": [],
   "source": [
    "class World:\n",
    "    def __init__(self, env, im):\n",
    "        self.env = env\n",
    "        self.im = im\n",
    "        self.width, self.height = env.width, env.height\n",
    "        self.time = 0\n",
    "        self.robots = []\n",
    "                \n",
    "    def add_robot(self, robot):\n",
    "        self.robots.append(robot)\n",
    "        \n",
    "    def enact_policy(self, delta_t = 1.0):\n",
    "        \"\"\"For all the agents in the environment, it calls \n",
    "        their policies to allow for the scheduling of the actions.\"\"\"\n",
    "        for robot in self.robots:\n",
    "            robot.enact_policy(delta_t)\n",
    "        \n",
    "    def proceed(self, delta_t = 1.0):\n",
    "        \"\"\"Implements the passing of time\"\"\"\n",
    "        for robot in self.robots:\n",
    "            robot.proceed(delta_t)\n",
    "        self.env.proceed(delta_t)\n",
    "        self.im.proceed(delta_t)\n",
    "        self.time = self.time + delta_t"
   ]
  },
  {
   "cell_type": "markdown",
   "id": "absent-range",
   "metadata": {},
   "source": [
    "# World factory\n",
    "A utility class for creating worlds for experimentation and papers"
   ]
  },
  {
   "cell_type": "code",
   "execution_count": 3,
   "id": "superior-publication",
   "metadata": {},
   "outputs": [],
   "source": [
    "class WorldFactory:\n",
    "    @staticmethod\n",
    "    def generate_environment_pretrained_static_pollution(width = 10, height = 10, seed = 1):\n",
    "        \"\"\"Generates a pollution model that had some polution but now it is static\"\"\"\n",
    "        env = DissipationModelEnvironment(\"noname\", width, height, seed)\n",
    "        env.evolve_speed = 1\n",
    "        env.p_pollution = 0.1\n",
    "        for i in range(100):\n",
    "            env.proceed(1.0)\n",
    "        # setting it to unchanging\n",
    "        env.evolve_speed = 0\n",
    "        env.p_pollution = 0.0\n",
    "        return env\n",
    "    \n",
    "    @staticmethod\n",
    "    def generate_im(env, settings):\n",
    "        \"\"\"Generates an information model appropriate to the environment and the estimation \n",
    "        type described by the settings\"\"\"\n",
    "        im = DiskEstimateScalarFieldIM(env.width, env.height)\n",
    "        return im\n",
    "\n",
    "    @staticmethod\n",
    "    def generate_world_pretrained_static_pollution(width = 10, height = 10, \n",
    "                                                   seed = 1, estimation_type = \"gaussian-process\"):\n",
    "        env = WorldFactory.generate_environment_pretrained_static_pollution(width, height, seed)\n",
    "        settings = {\"estimation_type\": estimation_type}\n",
    "        im = WorldFactory.generate_im(env, settings)\n",
    "        world = World(env, im)\n",
    "        return world"
   ]
  },
  {
   "cell_type": "code",
   "execution_count": 4,
   "id": "expanded-customer",
   "metadata": {},
   "outputs": [],
   "source": [
    "world = WorldFactory.generate_world_pretrained_static_pollution()"
   ]
  },
  {
   "cell_type": "markdown",
   "id": "preliminary-parameter",
   "metadata": {},
   "source": [
    "# A number of experimental work for creating environments, etc. \n",
    "Probably obsolete as of August 20, 2021"
   ]
  },
  {
   "cell_type": "code",
   "execution_count": 5,
   "id": "speaking-brand",
   "metadata": {},
   "outputs": [],
   "source": [
    "def generate_robots(settings, world):\n",
    "    \"\"\"Generate the robots and their policies according to the settings. \n",
    "    Current version generate n robots with random waypoint behavior\"\"\"\n",
    "    count = settings[\"count\"]\n",
    "    for ib in range(count):\n",
    "        robot = Robot(f\"Robot-{i}\", 0, 0, 0, env=world.env, im=world.im)\n",
    "        robot.policy = RandomWaypointPolicy(None, robot, 1, [0,0], [9, 9])\n",
    "        world.add_robot(robot)"
   ]
  },
  {
   "cell_type": "code",
   "execution_count": 6,
   "id": "adequate-utility",
   "metadata": {},
   "outputs": [],
   "source": [
    "def run_experiment(genenv, genim, genrob):\n",
    "    \"\"\"Generates the environment, the model and the robots\"\"\"\n",
    "    env = genenv()\n",
    "    im = genim(env)\n",
    "    world = World(env, im)\n",
    "    genrob(world)\n",
    "    record = []\n",
    "    for t in range(100):\n",
    "        world.enact_policy(1)\n",
    "        world.proceed(1)\n",
    "        ## this is where we get some kind of metric\n",
    "        record.append(im.score(env))\n",
    "    return record"
   ]
  },
  {
   "cell_type": "code",
   "execution_count": 7,
   "id": "9fbb3730",
   "metadata": {},
   "outputs": [],
   "source": [
    "# environment model\n",
    "env = DissipationModelEnvironment(\"water\", 10, 10, seed=1)\n",
    "env.evolve_speed = 1\n",
    "env.p_pollution = 0.1\n",
    "for i in range(100):\n",
    "    env.proceed(1.0)\n",
    "# setting it to unchanging\n",
    "env.evolve_speed = 0\n",
    "env.p_pollution = 0.0\n",
    "im = DiskEstimateScalarFieldIM(env.width, env.height)\n",
    "im.proceed(0)\n",
    "\n",
    "world = World(env, im)\n",
    "robi = Robot(\"Robi\", 2, 3, 0, env=env, im=im)\n",
    "# robot.policy = GoToLocationPolicy(None, robot, 9, 9, 0.2)\n",
    "world.add_robot(robi)\n",
    "robur = Robot(\"Robur\", 4, 8, 0, env=env, im=im)\n",
    "robur_policy = RandomWaypointPolicy(1, [0,0], [9, 9], seed=1)\n",
    "robur.assign_policy(robur_policy)\n",
    "world.add_robot(robur)\n",
    "r2d3 = Robot(\"R2D3\", 5, 9, 0, env=env, im=im)\n",
    "r2d3_policy = FollowPathPolicy(1, [[0,0], [5, 5], [9,0]], repeat = True)\n",
    "r2d3.assign_policy(r2d3_policy)\n",
    "world.add_robot(r2d3)"
   ]
  },
  {
   "cell_type": "code",
   "execution_count": 8,
   "id": "1516662e",
   "metadata": {},
   "outputs": [
    {
     "ename": "TypeError",
     "evalue": "slice indices must be integers or None or have an __index__ method",
     "output_type": "error",
     "traceback": [
      "\u001b[1;31m---------------------------------------------------------------------------\u001b[0m",
      "\u001b[1;31mTypeError\u001b[0m                                 Traceback (most recent call last)",
      "Cell \u001b[1;32mIn[8], line 3\u001b[0m\n\u001b[0;32m      1\u001b[0m \u001b[38;5;28;01mfor\u001b[39;00m i \u001b[38;5;129;01min\u001b[39;00m \u001b[38;5;28mrange\u001b[39m(\u001b[38;5;241m10\u001b[39m):\n\u001b[0;32m      2\u001b[0m     world\u001b[38;5;241m.\u001b[39menact_policy(\u001b[38;5;241m1\u001b[39m)\n\u001b[1;32m----> 3\u001b[0m     \u001b[43mworld\u001b[49m\u001b[38;5;241;43m.\u001b[39;49m\u001b[43mproceed\u001b[49m\u001b[43m(\u001b[49m\u001b[38;5;241;43m1\u001b[39;49m\u001b[43m)\u001b[49m\n\u001b[0;32m      4\u001b[0m \u001b[38;5;28mprint\u001b[39m(robur\u001b[38;5;241m.\u001b[39mlocation_history)\n",
      "Cell \u001b[1;32mIn[2], line 23\u001b[0m, in \u001b[0;36mWorld.proceed\u001b[1;34m(self, delta_t)\u001b[0m\n\u001b[0;32m     21\u001b[0m     robot\u001b[38;5;241m.\u001b[39mproceed(delta_t)\n\u001b[0;32m     22\u001b[0m \u001b[38;5;28mself\u001b[39m\u001b[38;5;241m.\u001b[39menv\u001b[38;5;241m.\u001b[39mproceed(delta_t)\n\u001b[1;32m---> 23\u001b[0m \u001b[38;5;28;43mself\u001b[39;49m\u001b[38;5;241;43m.\u001b[39;49m\u001b[43mim\u001b[49m\u001b[38;5;241;43m.\u001b[39;49m\u001b[43mproceed\u001b[49m\u001b[43m(\u001b[49m\u001b[43mdelta_t\u001b[49m\u001b[43m)\u001b[49m\n\u001b[0;32m     24\u001b[0m \u001b[38;5;28mself\u001b[39m\u001b[38;5;241m.\u001b[39mtime \u001b[38;5;241m=\u001b[39m \u001b[38;5;28mself\u001b[39m\u001b[38;5;241m.\u001b[39mtime \u001b[38;5;241m+\u001b[39m delta_t\n",
      "File \u001b[1;32mc:\\Users\\lboloni\\Documents\\Code\\_Checkouts\\WBF\\WaterBerryFarms\\notebooks\\..\\InformationModel.py:79\u001b[0m, in \u001b[0;36mAbstractScalarFieldIM.proceed\u001b[1;34m(self, delta_t)\u001b[0m\n\u001b[0;32m     76\u001b[0m \u001b[38;5;28;01mdef\u001b[39;00m \u001b[38;5;21mproceed\u001b[39m(\u001b[38;5;28mself\u001b[39m, delta_t):\n\u001b[0;32m     77\u001b[0m \u001b[38;5;250m    \u001b[39m\u001b[38;5;124;03m\"\"\"Proceeds a step in time. At the current point, this basically performs an estimation, based on the observations. \u001b[39;00m\n\u001b[0;32m     78\u001b[0m \u001b[38;5;124;03m    None of the currently used estimators have the ability to make predictions, but this might be the case later on\"\"\"\u001b[39;00m\n\u001b[1;32m---> 79\u001b[0m     \u001b[38;5;28mself\u001b[39m\u001b[38;5;241m.\u001b[39mvalue, \u001b[38;5;28mself\u001b[39m\u001b[38;5;241m.\u001b[39muncertainty \u001b[38;5;241m=\u001b[39m \u001b[38;5;28;43mself\u001b[39;49m\u001b[38;5;241;43m.\u001b[39;49m\u001b[43mestimate\u001b[49m\u001b[43m(\u001b[49m\u001b[38;5;28;43mself\u001b[39;49m\u001b[38;5;241;43m.\u001b[39;49m\u001b[43mobservations\u001b[49m\u001b[43m,\u001b[49m\u001b[43m \u001b[49m\u001b[38;5;28;43;01mNone\u001b[39;49;00m\u001b[43m,\u001b[49m\u001b[43m \u001b[49m\u001b[38;5;28;43;01mNone\u001b[39;49;00m\u001b[43m)\u001b[49m\n",
      "File \u001b[1;32mc:\\Users\\lboloni\\Documents\\Code\\_Checkouts\\WBF\\WaterBerryFarms\\notebooks\\..\\InformationModel.py:191\u001b[0m, in \u001b[0;36mDiskEstimateScalarFieldIM.estimate\u001b[1;34m(self, observations, prior_value, prior_uncertainty, radius)\u001b[0m\n\u001b[0;32m    187\u001b[0m             \u001b[38;5;28mself\u001b[39m\u001b[38;5;241m.\u001b[39mmask[i \u001b[38;5;241m+\u001b[39m radius, j \u001b[38;5;241m+\u001b[39m radius] \u001b[38;5;241m=\u001b[39m \u001b[38;5;28;01mTrue\u001b[39;00m\n\u001b[0;32m    189\u001b[0m \u001b[38;5;28;01mfor\u001b[39;00m obs \u001b[38;5;129;01min\u001b[39;00m observations:\n\u001b[0;32m    190\u001b[0m     \u001b[38;5;66;03m#self.apply_value_iterate(value, obs[self.X], obs[self.Y], obs[self.VALUE], radius)\u001b[39;00m\n\u001b[1;32m--> 191\u001b[0m     \u001b[38;5;28;43mself\u001b[39;49m\u001b[38;5;241;43m.\u001b[39;49m\u001b[43mapply_value_mask\u001b[49m\u001b[43m(\u001b[49m\u001b[43mvalue\u001b[49m\u001b[43m,\u001b[49m\u001b[43m \u001b[49m\u001b[43muncertainty\u001b[49m\u001b[43m,\u001b[49m\u001b[43m \u001b[49m\u001b[43mobs\u001b[49m\u001b[43m[\u001b[49m\u001b[38;5;28;43mself\u001b[39;49m\u001b[38;5;241;43m.\u001b[39;49m\u001b[43mX\u001b[49m\u001b[43m]\u001b[49m\u001b[43m,\u001b[49m\u001b[43m \u001b[49m\u001b[43mobs\u001b[49m\u001b[43m[\u001b[49m\u001b[38;5;28;43mself\u001b[39;49m\u001b[38;5;241;43m.\u001b[39;49m\u001b[43mY\u001b[49m\u001b[43m]\u001b[49m\u001b[43m,\u001b[49m\u001b[43m \u001b[49m\u001b[43mobs\u001b[49m\u001b[43m[\u001b[49m\u001b[38;5;28;43mself\u001b[39;49m\u001b[38;5;241;43m.\u001b[39;49m\u001b[43mVALUE\u001b[49m\u001b[43m]\u001b[49m\u001b[43m)\u001b[49m            \n\u001b[0;32m    192\u001b[0m \u001b[38;5;28;01mreturn\u001b[39;00m value, uncertainty\n",
      "File \u001b[1;32mc:\\Users\\lboloni\\Documents\\Code\\_Checkouts\\WBF\\WaterBerryFarms\\notebooks\\..\\InformationModel.py:201\u001b[0m, in \u001b[0;36mDiskEstimateScalarFieldIM.apply_value_mask\u001b[1;34m(self, value, uncertainty, x, y, new_value)\u001b[0m\n\u001b[0;32m    199\u001b[0m dimy \u001b[38;5;241m=\u001b[39m \u001b[38;5;28mint\u001b[39m(\u001b[38;5;28mself\u001b[39m\u001b[38;5;241m.\u001b[39mheight)        \n\u001b[0;32m    200\u001b[0m mask2 \u001b[38;5;241m=\u001b[39m np\u001b[38;5;241m.\u001b[39mfull((dimx, dimy), \u001b[38;5;28;01mFalse\u001b[39;00m, dtype\u001b[38;5;241m=\u001b[39m\u001b[38;5;28mbool\u001b[39m)\n\u001b[1;32m--> 201\u001b[0m maskp \u001b[38;5;241m=\u001b[39m \u001b[38;5;28;43mself\u001b[39;49m\u001b[38;5;241;43m.\u001b[39;49m\u001b[43mmask\u001b[49m\u001b[43m[\u001b[49m\u001b[38;5;28;43mmax\u001b[39;49m\u001b[43m(\u001b[49m\u001b[38;5;241;43m0\u001b[39;49m\u001b[43m,\u001b[49m\u001b[43m \u001b[49m\u001b[38;5;241;43m-\u001b[39;49m\u001b[43mx\u001b[49m\u001b[43m)\u001b[49m\u001b[43m:\u001b[49m\u001b[38;5;28;43mmin\u001b[39;49m\u001b[43m(\u001b[49m\u001b[38;5;28;43mself\u001b[39;49m\u001b[38;5;241;43m.\u001b[39;49m\u001b[43mmaskdim\u001b[49m\u001b[43m,\u001b[49m\u001b[43m \u001b[49m\u001b[43mdimx\u001b[49m\u001b[38;5;241;43m-\u001b[39;49m\u001b[43mx\u001b[49m\u001b[43m)\u001b[49m\u001b[43m,\u001b[49m\u001b[43m \u001b[49m\u001b[38;5;28;43mmax\u001b[39;49m\u001b[43m(\u001b[49m\u001b[38;5;241;43m0\u001b[39;49m\u001b[43m,\u001b[49m\u001b[43m \u001b[49m\u001b[38;5;241;43m-\u001b[39;49m\u001b[43my\u001b[49m\u001b[43m)\u001b[49m\u001b[43m:\u001b[49m\u001b[38;5;28;43mmin\u001b[39;49m\u001b[43m(\u001b[49m\u001b[38;5;28;43mself\u001b[39;49m\u001b[38;5;241;43m.\u001b[39;49m\u001b[43mmaskdim\u001b[49m\u001b[43m,\u001b[49m\u001b[43mdimy\u001b[49m\u001b[38;5;241;43m-\u001b[39;49m\u001b[43my\u001b[49m\u001b[43m)\u001b[49m\u001b[43m]\u001b[49m\n\u001b[0;32m    202\u001b[0m mask2[\u001b[38;5;28mmax\u001b[39m(\u001b[38;5;241m0\u001b[39m, x):\u001b[38;5;28mmin\u001b[39m(dimx, x\u001b[38;5;241m+\u001b[39m\u001b[38;5;28mself\u001b[39m\u001b[38;5;241m.\u001b[39mmaskdim), \u001b[38;5;28mmax\u001b[39m(\u001b[38;5;241m0\u001b[39m, y):\u001b[38;5;28mmin\u001b[39m(dimy,y\u001b[38;5;241m+\u001b[39m\u001b[38;5;28mself\u001b[39m\u001b[38;5;241m.\u001b[39mmaskdim)] \u001b[38;5;241m=\u001b[39m maskp\n\u001b[0;32m    203\u001b[0m \u001b[38;5;66;03m# and now we are assigning the new value for the part covered by the mask\u001b[39;00m\n",
      "\u001b[1;31mTypeError\u001b[0m: slice indices must be integers or None or have an __index__ method"
     ]
    }
   ],
   "source": [
    "for i in range(10):\n",
    "    world.enact_policy(1)\n",
    "    world.proceed(1)\n",
    "print(robur.location_history)"
   ]
  },
  {
   "cell_type": "code",
   "execution_count": null,
   "id": "d42e5cd3",
   "metadata": {},
   "outputs": [],
   "source": [
    "[x[0] for x in robur.location_history]"
   ]
  },
  {
   "cell_type": "code",
   "execution_count": null,
   "id": "306206cb",
   "metadata": {},
   "outputs": [],
   "source": []
  }
 ],
 "metadata": {
  "kernelspec": {
   "display_name": "WBF-venv",
   "language": "python",
   "name": "python3"
  },
  "language_info": {
   "codemirror_mode": {
    "name": "ipython",
    "version": 3
   },
   "file_extension": ".py",
   "mimetype": "text/x-python",
   "name": "python",
   "nbconvert_exporter": "python",
   "pygments_lexer": "ipython3",
   "version": "3.11.4"
  }
 },
 "nbformat": 4,
 "nbformat_minor": 5
}
