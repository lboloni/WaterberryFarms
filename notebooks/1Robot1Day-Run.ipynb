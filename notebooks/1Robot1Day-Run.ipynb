{
 "cells": [
  {
   "cell_type": "markdown",
   "metadata": {},
   "source": [
    "# Run one robot for one day\n",
    "\n",
    "Run an experiment with a single robot exploring an environment during the course of one day.\n",
    "\n",
    "The specification of the experiment is fully determined by the exp/run of type __1robot1day__. This exp/run will refer to other exp/runs to specify the environment, the robot policy, the estimator and the scoring function. \n",
    "\n",
    "The result of running this notebook is to run the experiment and save the results into the exp/run datadir in a file called \"results.pickle\". "
   ]
  },
  {
   "cell_type": "code",
   "execution_count": 1,
   "metadata": {},
   "outputs": [],
   "source": [
    "import sys\n",
    "sys.path.append(\"..\")\n",
    "from exp_run_config import Config\n",
    "Config.PROJECTNAME = \"WaterBerryFarms\"\n",
    "import pathlib\n",
    "from pprint import pprint\n",
    "import gzip as compress\n",
    "import copy\n",
    "import pickle\n",
    "\n",
    "from wbf_simulate import simulate_1day, save_simulation_results\n",
    "from wbf_helper import get_geometry, create_wbfe, create_policy, create_estimator, create_score\n",
    "\n",
    "from robot import Robot\n"
   ]
  },
  {
   "cell_type": "code",
   "execution_count": 2,
   "metadata": {},
   "outputs": [
    {
     "name": "stdout",
     "output_type": "stream",
     "text": [
      "***ExpRun**: Loading pointer config file:\n",
      "\tC:\\Users\\lboloni\\.config\\WaterBerryFarms\\mainsettings.yaml\n",
      "***ExpRun**: Loading machine-specific config file:\n",
      "\tG:\\My Drive\\LotziStudy\\Code\\PackageTracking\\WaterBerryFarms\\settings\\WBF-config-LotziYoga.yaml\n",
      "***ExpRun**: No system dependent experiment file\n",
      "\t G:\\My Drive\\LotziStudy\\Code\\PackageTracking\\WaterBerryFarms\\settings\\experiment-config\\LotziYoga\\1robot1day\\rwp-ad-30_sysdep.yaml,\n",
      "\t that is ok, proceeding.\n",
      "***ExpRun**: Configuration for exp/run: 1robot1day/rwp-ad-30 successfully loaded\n",
      "***ExpRun**: Experiment default config C:\\Users\\lboloni\\Documents\\Code\\_Checkouts\\WBF\\WaterberryFarms\\experiment_configs\\environment\\_environment.yaml was empty, ok.\n",
      "***ExpRun**: No system dependent experiment file\n",
      "\t G:\\My Drive\\LotziStudy\\Code\\PackageTracking\\WaterBerryFarms\\settings\\experiment-config\\LotziYoga\\environment\\miniberry-30_sysdep.yaml,\n",
      "\t that is ok, proceeding.\n",
      "***ExpRun**: Configuration for exp/run: environment/miniberry-30 successfully loaded\n",
      "Experiment: {'experiment_name': 'environment', 'typename': 'Miniberry-30', 'precompute-time': 10, 'run_name': 'miniberry-30', 'exp_run_sys_indep_file': 'C:\\\\Users\\\\lboloni\\\\Documents\\\\Code\\\\_Checkouts\\\\WBF\\\\WaterberryFarms\\\\experiment_configs\\\\environment\\\\miniberry-30.yaml', 'data_dir': 'C:\\\\Users\\\\lboloni\\\\Documents\\\\Code\\\\_TempData\\\\WBF\\\\ExperimentData\\\\environment\\\\miniberry-30', 'subrun_name': None, 'time_started': '2025-04-19 12:14:37'}\n",
      "***ExpRun**: Experiment default config C:\\Users\\lboloni\\Documents\\Code\\_Checkouts\\WBF\\WaterberryFarms\\experiment_configs\\policy\\_policy.yaml was empty, ok.\n",
      "***ExpRun**: No system dependent experiment file\n",
      "\t G:\\My Drive\\LotziStudy\\Code\\PackageTracking\\WaterBerryFarms\\settings\\experiment-config\\LotziYoga\\policy\\random-waypoint_sysdep.yaml,\n",
      "\t that is ok, proceeding.\n",
      "***ExpRun**: Configuration for exp/run: policy/random-waypoint successfully loaded\n",
      "Experiment: {'experiment_name': 'policy', 'policy-name': 'RandomWaypointPolicy', 'policy-code': 'RandomWaypointPolicy', 'seed': 0, 'run_name': 'random-waypoint', 'exp_run_sys_indep_file': 'C:\\\\Users\\\\lboloni\\\\Documents\\\\Code\\\\_Checkouts\\\\WBF\\\\WaterberryFarms\\\\experiment_configs\\\\policy\\\\random-waypoint.yaml', 'data_dir': 'C:\\\\Users\\\\lboloni\\\\Documents\\\\Code\\\\_TempData\\\\WBF\\\\ExperimentData\\\\policy\\\\random-waypoint', 'subrun_name': None, 'time_started': '2025-04-19 12:14:37'}\n",
      "***ExpRun**: Experiment default config C:\\Users\\lboloni\\Documents\\Code\\_Checkouts\\WBF\\WaterberryFarms\\experiment_configs\\estimator\\_estimator.yaml was empty, ok.\n",
      "***ExpRun**: No system dependent experiment file\n",
      "\t G:\\My Drive\\LotziStudy\\Code\\PackageTracking\\WaterBerryFarms\\settings\\experiment-config\\LotziYoga\\estimator\\adaptive-disk_sysdep.yaml,\n",
      "\t that is ok, proceeding.\n",
      "***ExpRun**: Configuration for exp/run: estimator/adaptive-disk successfully loaded\n",
      "Experiment: {'experiment_name': 'estimator', 'estimator-code': 'WBF_IM_DiskEstimator', 'estimator-name': 'AD', 'run_name': 'adaptive-disk', 'exp_run_sys_indep_file': 'C:\\\\Users\\\\lboloni\\\\Documents\\\\Code\\\\_Checkouts\\\\WBF\\\\WaterberryFarms\\\\experiment_configs\\\\estimator\\\\adaptive-disk.yaml', 'data_dir': 'C:\\\\Users\\\\lboloni\\\\Documents\\\\Code\\\\_TempData\\\\WBF\\\\ExperimentData\\\\estimator\\\\adaptive-disk', 'subrun_name': None, 'time_started': '2025-04-19 12:14:37'}\n",
      "***ExpRun**: Experiment default config C:\\Users\\lboloni\\Documents\\Code\\_Checkouts\\WBF\\WaterberryFarms\\experiment_configs\\score\\_score.yaml was empty, ok.\n",
      "***ExpRun**: No system dependent experiment file\n",
      "\t G:\\My Drive\\LotziStudy\\Code\\PackageTracking\\WaterBerryFarms\\settings\\experiment-config\\LotziYoga\\score\\weighted_asymmetric_sysdep.yaml,\n",
      "\t that is ok, proceeding.\n",
      "***ExpRun**: Configuration for exp/run: score/weighted_asymmetric successfully loaded\n",
      "Experiment: {'experiment_name': 'score', 'score-code': 'WBF_Score_WeightedAsymmetric', 'score-name': 'weighted-assymmetric', 'run_name': 'weighted_asymmetric', 'exp_run_sys_indep_file': 'C:\\\\Users\\\\lboloni\\\\Documents\\\\Code\\\\_Checkouts\\\\WBF\\\\WaterberryFarms\\\\experiment_configs\\\\score\\\\weighted_asymmetric.yaml', 'data_dir': 'C:\\\\Users\\\\lboloni\\\\Documents\\\\Code\\\\_TempData\\\\WBF\\\\ExperimentData\\\\score\\\\weighted_asymmetric', 'subrun_name': None, 'time_started': '2025-04-19 12:14:37'}\n"
     ]
    }
   ],
   "source": [
    "\n",
    "# the experiment for the robot run\n",
    "experiment = \"1robot1day\"\n",
    "run = \"rwp-ad-30\"\n",
    "# run = \"fblm-ad-30\"\n",
    "# run = \"fblm-gp-30\" # this one with GP takes about 10 minutes to run (1 min office machine, 500 steps)\n",
    "\n",
    "exp = Config().get_experiment(experiment, run)\n",
    "# print(exp.experiment())\n",
    "# print(exp.run())\n",
    "# print(exp.subrun())\n",
    "# pprint(exp)\n",
    "\n",
    "resultsfile = pathlib.Path(exp.data_dir(), \"results.pickle\")\n",
    "if resultsfile.exists():\n",
    "    print(f\"Results file already exists:\\n{resultsfile}\")\n",
    "    print(f\"Delete this file if re-running is desired.\")\n",
    "    raise Exception(\"Nothing to do.\")\n",
    "\n",
    "# the exp for the environment\n",
    "exp_env = Config().get_experiment(\"environment\", exp[\"exp_environment\"])\n",
    "pprint(exp_env)\n",
    "# the exp for policy\n",
    "exp_policy = Config().get_experiment(\"policy\", exp[\"exp_policy\"])\n",
    "pprint(exp_policy)\n",
    "# the exp for estimator\n",
    "exp_estimator = Config().get_experiment(\"estimator\", exp[\"exp_estimator\"])\n",
    "pprint(exp_estimator)\n",
    "# the exp for the score\n",
    "exp_score = Config().get_experiment(\"score\", exp[\"exp_score\"])\n",
    "pprint(exp_score)"
   ]
  },
  {
   "cell_type": "code",
   "execution_count": 3,
   "metadata": {},
   "outputs": [
    {
     "name": "stderr",
     "output_type": "stream",
     "text": [
      "INFO:root:Environment.proceed - calling the inner_proceed\n",
      "INFO:root:Environment.proceed - calling the inner_proceed\n",
      "INFO:root:PrecalculatedEnvironment at timestamp 6\n",
      "INFO:root:Loading from gz C:\\Users\\lboloni\\Documents\\Code\\_TempData\\WBF\\ExperimentData\\environment\\miniberry-30\\precalc_tylcv\\env_value_00006.gz\n",
      "INFO:root:Loading from gz C:\\Users\\lboloni\\Documents\\Code\\_TempData\\WBF\\ExperimentData\\environment\\miniberry-30\\precalc_tylcv\\env_value_00006.gz done\n",
      "INFO:root:Environment.proceed - calling the inner_proceed\n",
      "INFO:root:PrecalculatedEnvironment at timestamp 6\n",
      "INFO:root:Loading from gz C:\\Users\\lboloni\\Documents\\Code\\_TempData\\WBF\\ExperimentData\\environment\\miniberry-30\\precalc_ccr\\env_value_00006.gz\n",
      "INFO:root:Loading from gz C:\\Users\\lboloni\\Documents\\Code\\_TempData\\WBF\\ExperimentData\\environment\\miniberry-30\\precalc_ccr\\env_value_00006.gz done\n",
      "INFO:root:Environment.proceed - calling the inner_proceed\n",
      "INFO:root:PrecalculatedEnvironment at timestamp 6\n",
      "INFO:root:Loading from gz C:\\Users\\lboloni\\Documents\\Code\\_TempData\\WBF\\ExperimentData\\environment\\miniberry-30\\precalc_soil\\env_value_00006.gz\n",
      "INFO:root:Loading from gz C:\\Users\\lboloni\\Documents\\Code\\_TempData\\WBF\\ExperimentData\\environment\\miniberry-30\\precalc_soil\\env_value_00006.gz done\n"
     ]
    },
    {
     "name": "stdout",
     "output_type": "stream",
     "text": [
      "loading the geometry and environment from saved data\n",
      "loading done\n",
      "Saving results to: C:\\Users\\lboloni\\Documents\\Code\\_TempData\\WBF\\ExperimentData\\1robot1day\\rwp-ad-30\\results.pickle\n"
     ]
    }
   ],
   "source": [
    "\n",
    "# not clear what the picture paths do here\n",
    "picture_paths = []\n",
    "\n",
    "results = {}\n",
    "\n",
    "if exp_policy[\"policy-code\"] == \"-\":\n",
    "    generator = exp_policy[\"policy-code-generator\"]        \n",
    "    policy = eval(generator)(exp_policy, exp_env)\n",
    "else:\n",
    "    policy = create_policy(exp_policy, exp_env)\n",
    "results[\"policy-code\"] = policy\n",
    "results[\"policy-name\"] = results[\"policy-code\"].name\n",
    "\n",
    "results[\"estimator-CODE\"] = create_estimator(exp_estimator, exp_env)\n",
    "results[\"estimator-name\"] = results[\"estimator-CODE\"].name\n",
    "\n",
    "results[\"score-code\"] = create_score(exp_score, exp_env)\n",
    "results[\"score-name\"] = results[\"score-code\"].name\n",
    "\n",
    "results[\"velocity\"] = exp[\"velocity\"]\n",
    "results[\"timesteps-per-day\"] = exp[\"timesteps-per-day\"]\n",
    "results[\"time-start-environment\"] = exp[\"time-start-environment\"]\n",
    "results[\"im_resolution\"] = exp[\"im_resolution\"]\n",
    "results[\"results-basedir\"] = exp[\"data_dir\"]\n",
    "results[\"action\"] = \"run-one-day\"\n",
    "results[\"typename\"] = exp_env[\"typename\"]\n",
    "wbf, wbfe = create_wbfe(exp_env)\n",
    "# move ahead to the starting point of the environment\n",
    "wbfe.proceed(results[\"time-start-environment\"])\n",
    "results[\"wbf\"] = wbf\n",
    "results[\"wbfe\"] = wbfe\n",
    "results[\"days\"] = 1\n",
    "get_geometry(results[\"typename\"], results)\n",
    "# create the robot and set the policy\n",
    "results[\"robot\"] = Robot(\"Rob\", 0, 0, 0, env=None, im=None)\n",
    "results[\"robot\"].assign_policy(results[\"policy-code\"])\n",
    "# \n",
    "# This is where we actually calling the simulation\n",
    "#\n",
    "simulate_1day(results)\n",
    "#print(f\"Saving results to: {resultsfile}\")\n",
    "#with compress.open(resultsfile, \"wb\") as f:\n",
    "#    pickle.dump(results, f)\n",
    "save_simulation_results(resultsfile, results)\n",
    "exp.done()"
   ]
  }
 ],
 "metadata": {
  "kernelspec": {
   "display_name": "WBF-venv",
   "language": "python",
   "name": "python3"
  },
  "language_info": {
   "codemirror_mode": {
    "name": "ipython",
    "version": 3
   },
   "file_extension": ".py",
   "mimetype": "text/x-python",
   "name": "python",
   "nbconvert_exporter": "python",
   "pygments_lexer": "ipython3",
   "version": "3.11.4"
  }
 },
 "nbformat": 4,
 "nbformat_minor": 2
}
