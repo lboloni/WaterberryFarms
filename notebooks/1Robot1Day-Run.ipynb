{
 "cells": [
  {
   "cell_type": "markdown",
   "metadata": {},
   "source": [
    "# Run one robot for one day\n",
    "\n",
    "Run an experiment with a single robot exploring an environment during the course of one day.\n",
    "\n",
    "The specification of the experiment is fully determined by the exp/run of type __1robot1day__. This exp/run will refer to other exp/runs to specify the environment, the robot policy, the estimator and the scoring function. \n",
    "\n",
    "The result of running this notebook is to run the experiment and save the results into the exp/run datadir in a file called \"results.pickle\". "
   ]
  },
  {
   "cell_type": "code",
   "execution_count": 1,
   "metadata": {},
   "outputs": [],
   "source": [
    "import sys\n",
    "sys.path.append(\"..\")\n",
    "from exp_run_config import Config\n",
    "Config.PROJECTNAME = \"WaterBerryFarms\"\n",
    "\n",
    "from wbf_simulate import run_1robot1day\n",
    "\n",
    "from wbf_helper import generate_fixed_budget_lawnmower\n",
    "from papers.y2023_confidenceguided.confidence_guided_ipp_policy import generate_confidence_guided_ipp_policy"
   ]
  },
  {
   "cell_type": "code",
   "execution_count": 2,
   "metadata": {},
   "outputs": [
    {
     "name": "stdout",
     "output_type": "stream",
     "text": [
      "***ExpRun**: Loading pointer config file:\n",
      "\t/Users/lboloni/.config/WaterBerryFarms/mainsettings.yaml\n",
      "***ExpRun**: Loading machine-specific config file:\n",
      "\t/Users/lboloni/Google Drive/My Drive/LotziStudy/Code/PackageTracking/WaterBerryFarms/settings/WBF-config-szenes.yaml\n",
      "***ExpRun**: Configuration for exp/run: 1robot1day/rwp-ad-30 successfully loaded\n",
      "***ExpRun**: Removing existing experiment directory /Users/lboloni/Documents/Develop/Data/WBF/1robot1day/rwp-ad-30\n",
      "***ExpRun**: Experiment default config /Users/lboloni/Documents/Develop/Github/WBF/WaterberryFarms/experiment_configs/environment/_defaults_environment.yaml was empty, ok.\n",
      "***ExpRun**: Configuration for exp/run: environment/miniberry-30 successfully loaded\n",
      "Experiment:\n",
      "    data_dir: /Users/lboloni/Documents/Develop/Data/WBF/environment/miniberry-30\n",
      "    exp_run_sys_indep_file: /Users/lboloni/Documents/Develop/Github/WBF/WaterberryFarms/experiment_configs/environment/miniberry-30.yaml\n",
      "    experiment_name: environment\n",
      "    precompute-time: 10\n",
      "    run_name: miniberry-30\n",
      "    subrun_name: null\n",
      "    typename: Miniberry-30\n",
      "\n",
      "***ExpRun**: Experiment default config /Users/lboloni/Documents/Develop/Github/WBF/WaterberryFarms/experiment_configs/policy/_defaults_policy.yaml was empty, ok.\n",
      "***ExpRun**: Configuration for exp/run: policy/random-waypoint successfully loaded\n",
      "Experiment:\n",
      "    data_dir: /Users/lboloni/Documents/Develop/Data/WBF/policy/random-waypoint\n",
      "    exp_run_sys_indep_file: /Users/lboloni/Documents/Develop/Github/WBF/WaterberryFarms/experiment_configs/policy/random-waypoint.yaml\n",
      "    experiment_name: policy\n",
      "    policy-code: RandomWaypointPolicy\n",
      "    policy-name: RandomWaypointPolicy\n",
      "    run_name: random-waypoint\n",
      "    seed: 0\n",
      "    subrun_name: null\n",
      "\n",
      "***ExpRun**: Experiment default config /Users/lboloni/Documents/Develop/Github/WBF/WaterberryFarms/experiment_configs/estimator/_defaults_estimator.yaml was empty, ok.\n",
      "***ExpRun**: Configuration for exp/run: estimator/adaptive-disk successfully loaded\n",
      "Experiment:\n",
      "    data_dir: /Users/lboloni/Documents/Develop/Data/WBF/estimator/adaptive-disk\n",
      "    estimator-code: WBF_IM_DiskEstimator\n",
      "    estimator-name: AD\n",
      "    exp_run_sys_indep_file: /Users/lboloni/Documents/Develop/Github/WBF/WaterberryFarms/experiment_configs/estimator/adaptive-disk.yaml\n",
      "    experiment_name: estimator\n",
      "    run_name: adaptive-disk\n",
      "    subrun_name: null\n",
      "\n",
      "***ExpRun**: Experiment default config /Users/lboloni/Documents/Develop/Github/WBF/WaterberryFarms/experiment_configs/score/_defaults_score.yaml was empty, ok.\n",
      "***ExpRun**: Configuration for exp/run: score/weighted_asymmetric successfully loaded\n"
     ]
    },
    {
     "name": "stderr",
     "output_type": "stream",
     "text": [
      "INFO:root:Environment.proceed - calling the inner_proceed\n",
      "INFO:root:Environment.proceed - calling the inner_proceed\n",
      "INFO:root:PrecalculatedEnvironment at timestamp 6\n",
      "INFO:root:Loading from gz /Users/lboloni/Documents/Develop/Data/WBF/environment/miniberry-30/precalc_tylcv/env_value_00006.gz\n",
      "INFO:root:Loading from gz /Users/lboloni/Documents/Develop/Data/WBF/environment/miniberry-30/precalc_tylcv/env_value_00006.gz done\n",
      "INFO:root:Environment.proceed - calling the inner_proceed\n",
      "INFO:root:PrecalculatedEnvironment at timestamp 6\n",
      "INFO:root:Loading from gz /Users/lboloni/Documents/Develop/Data/WBF/environment/miniberry-30/precalc_ccr/env_value_00006.gz\n",
      "INFO:root:Loading from gz /Users/lboloni/Documents/Develop/Data/WBF/environment/miniberry-30/precalc_ccr/env_value_00006.gz done\n",
      "INFO:root:Environment.proceed - calling the inner_proceed\n",
      "INFO:root:PrecalculatedEnvironment at timestamp 6\n",
      "INFO:root:Loading from gz /Users/lboloni/Documents/Develop/Data/WBF/environment/miniberry-30/precalc_soil/env_value_00006.gz\n",
      "INFO:root:Loading from gz /Users/lboloni/Documents/Develop/Data/WBF/environment/miniberry-30/precalc_soil/env_value_00006.gz done\n"
     ]
    },
    {
     "name": "stdout",
     "output_type": "stream",
     "text": [
      "Experiment:\n",
      "    data_dir: /Users/lboloni/Documents/Develop/Data/WBF/score/weighted_asymmetric\n",
      "    exp_run_sys_indep_file: /Users/lboloni/Documents/Develop/Github/WBF/WaterberryFarms/experiment_configs/score/weighted_asymmetric.yaml\n",
      "    experiment_name: score\n",
      "    run_name: weighted_asymmetric\n",
      "    score-code: WBF_Score_WeightedAsymmetric\n",
      "    score-name: weighted-assymmetric\n",
      "    subrun_name: null\n",
      "\n",
      "loading the geometry and environment from saved data\n",
      "loading done\n",
      "Saving results to: /Users/lboloni/Documents/Develop/Data/WBF/1robot1day/rwp-ad-30/results.pickle\n"
     ]
    }
   ],
   "source": [
    "\n",
    "# the experiment for the robot run\n",
    "experiment = \"1robot1day\"\n",
    "run = \"rwp-ad-30\"\n",
    "# run = \"fblm-ad-30\"\n",
    "# run = \"fblm-gp-30\" # this one with GP takes about 10 minutes to run (1 min office machine, 500 steps)\n",
    "# run = \"fblm-generator-gp-30\"\n",
    "# run = \"confidence-guided-ipp-01\"\n",
    "\n",
    "# exp = Config().get_experiment(experiment, run)\n",
    "exp = Config().get_experiment(experiment, run, creation_style = \"discard-old\")\n",
    "\n",
    "run_1robot1day(exp)\n"
   ]
  },
  {
   "cell_type": "code",
   "execution_count": null,
   "metadata": {},
   "outputs": [],
   "source": []
  }
 ],
 "metadata": {
  "kernelspec": {
   "display_name": "WBF",
   "language": "python",
   "name": "python3"
  },
  "language_info": {
   "codemirror_mode": {
    "name": "ipython",
    "version": 3
   },
   "file_extension": ".py",
   "mimetype": "text/x-python",
   "name": "python",
   "nbconvert_exporter": "python",
   "pygments_lexer": "ipython3",
   "version": "3.13.5"
  }
 },
 "nbformat": 4,
 "nbformat_minor": 2
}
