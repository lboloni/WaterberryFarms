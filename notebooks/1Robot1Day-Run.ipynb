{
 "cells": [
  {
   "cell_type": "markdown",
   "metadata": {},
   "source": [
    "# Run one robot for one day\n",
    "\n",
    "Run an experiment with a single robot exploring an environment during the course of one day.\n",
    "\n",
    "The specification of the experiment is fully determined by the exp/run of type __1robot1day__. This exp/run will refer to other exp/runs to specify the environment, the robot policy, the estimator and the scoring function. \n",
    "\n",
    "The result of running this notebook is to run the experiment and save the results into the exp/run datadir in a file called \"results.pickle\". "
   ]
  },
  {
   "cell_type": "code",
   "execution_count": 1,
   "metadata": {},
   "outputs": [],
   "source": [
    "import sys\n",
    "sys.path.append(\"..\")\n",
    "from exp_run_config import Config\n",
    "Config.PROJECTNAME = \"WaterBerryFarms\"\n",
    "\n",
    "from wbf_simulate import run_1robot1day\n",
    "\n",
    "from wbf_helper import generate_fixed_budget_lawnmower"
   ]
  },
  {
   "cell_type": "code",
   "execution_count": null,
   "metadata": {},
   "outputs": [
    {
     "name": "stdout",
     "output_type": "stream",
     "text": [
      "***ExpRun**: Loading pointer config file:\n",
      "\t/Users/lboloni/.config/WaterBerryFarms/mainsettings.yaml\n",
      "***ExpRun**: Loading machine-specific config file:\n",
      "\t/Users/lboloni/Google Drive/My Drive/LotziStudy/Code/PackageTracking/WaterBerryFarms/settings/WBF-config-szenes.yaml\n"
     ]
    },
    {
     "ename": "Exception",
     "evalue": "Missing experiment file\n /Users/lboloni/Documents/Develop/Github/WBF/WaterberryFarms/experiment_configs/1robot1day/_example_generator_fblm.yaml",
     "output_type": "error",
     "traceback": [
      "\u001b[31m---------------------------------------------------------------------------\u001b[39m",
      "\u001b[31mException\u001b[39m                                 Traceback (most recent call last)",
      "\u001b[36mCell\u001b[39m\u001b[36m \u001b[39m\u001b[32mIn[2]\u001b[39m\u001b[32m, line 8\u001b[39m\n\u001b[32m      3\u001b[39m \u001b[38;5;66;03m# run = \"rwp-ad-30\"\u001b[39;00m\n\u001b[32m      4\u001b[39m \u001b[38;5;66;03m# run = \"fblm-ad-30\"\u001b[39;00m\n\u001b[32m      5\u001b[39m \u001b[38;5;66;03m# run = \"fblm-gp-30\" # this one with GP takes about 10 minutes to run (1 min office machine, 500 steps)\u001b[39;00m\n\u001b[32m      6\u001b[39m run = \u001b[33m\"\u001b[39m\u001b[33m_example_generator_fblm\u001b[39m\u001b[33m\"\u001b[39m\n\u001b[32m----> \u001b[39m\u001b[32m8\u001b[39m exp = \u001b[43mConfig\u001b[49m\u001b[43m(\u001b[49m\u001b[43m)\u001b[49m\u001b[43m.\u001b[49m\u001b[43mget_experiment\u001b[49m\u001b[43m(\u001b[49m\u001b[43mexperiment\u001b[49m\u001b[43m,\u001b[49m\u001b[43m \u001b[49m\u001b[43mrun\u001b[49m\u001b[43m)\u001b[49m\n\u001b[32m      9\u001b[39m run_1robot1day(exp)\n",
      "\u001b[36mFile \u001b[39m\u001b[32m~/Documents/Develop/Github/WBF/WaterberryFarms/notebooks/../exp_run_config.py:285\u001b[39m, in \u001b[36mConfig.get_experiment\u001b[39m\u001b[34m(self, experiment_name, run_name, subrun_name, creation_style)\u001b[39m\n\u001b[32m    283\u001b[39m experiment_run_indep = pathlib.Path(\u001b[38;5;28mself\u001b[39m.experiment_path, experiment_name, run_name + \u001b[33m\"\u001b[39m\u001b[33m.yaml\u001b[39m\u001b[33m\"\u001b[39m)\n\u001b[32m    284\u001b[39m \u001b[38;5;28;01mif\u001b[39;00m \u001b[38;5;129;01mnot\u001b[39;00m experiment_run_indep.exists():\n\u001b[32m--> \u001b[39m\u001b[32m285\u001b[39m     \u001b[38;5;28;01mraise\u001b[39;00m \u001b[38;5;167;01mException\u001b[39;00m(\u001b[33mf\u001b[39m\u001b[33m\"\u001b[39m\u001b[33mMissing experiment file\u001b[39m\u001b[38;5;130;01m\\n\u001b[39;00m\u001b[33m \u001b[39m\u001b[38;5;132;01m{\u001b[39;00mexperiment_run_indep\u001b[38;5;132;01m}\u001b[39;00m\u001b[33m\"\u001b[39m)\n\u001b[32m    286\u001b[39m \u001b[38;5;28;01mwith\u001b[39;00m experiment_run_indep.open(\u001b[33m\"\u001b[39m\u001b[33mrt\u001b[39m\u001b[33m\"\u001b[39m) \u001b[38;5;28;01mas\u001b[39;00m handle:\n\u001b[32m    287\u001b[39m     indep_config = yaml.safe_load(handle)\n",
      "\u001b[31mException\u001b[39m: Missing experiment file\n /Users/lboloni/Documents/Develop/Github/WBF/WaterberryFarms/experiment_configs/1robot1day/_example_generator_fblm.yaml"
     ]
    }
   ],
   "source": [
    "\n",
    "# the experiment for the robot run\n",
    "experiment = \"1robot1day\"\n",
    "# run = \"rwp-ad-30\"\n",
    "# run = \"fblm-ad-30\"\n",
    "# run = \"fblm-gp-30\" # this one with GP takes about 10 minutes to run (1 min office machine, 500 steps)\n",
    "run = \"fblm-generator-gp-30\"\n",
    "\n",
    "exp = Config().get_experiment(experiment, run)\n",
    "run_1robot1day(exp)\n"
   ]
  },
  {
   "cell_type": "code",
   "execution_count": null,
   "metadata": {},
   "outputs": [],
   "source": []
  }
 ],
 "metadata": {
  "kernelspec": {
   "display_name": "WBF",
   "language": "python",
   "name": "python3"
  },
  "language_info": {
   "codemirror_mode": {
    "name": "ipython",
    "version": 3
   },
   "file_extension": ".py",
   "mimetype": "text/x-python",
   "name": "python",
   "nbconvert_exporter": "python",
   "pygments_lexer": "ipython3",
   "version": "3.13.5"
  }
 },
 "nbformat": 4,
 "nbformat_minor": 2
}
