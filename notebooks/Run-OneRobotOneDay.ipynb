{
 "cells": [
  {
   "cell_type": "markdown",
   "metadata": {},
   "source": [
    "# Run one robot for one day\n",
    "\n",
    "Run an experiment with a single robot exploring an environment. The environment and the robot policy is specified in experiment runs. "
   ]
  },
  {
   "cell_type": "code",
   "execution_count": null,
   "metadata": {},
   "outputs": [],
   "source": [
    "import sys\n",
    "sys.path.append(\"..\")\n",
    "from settings import Config\n",
    "import pathlib\n",
    "from pprint import pprint\n",
    "import gzip as compress\n",
    "import copy\n",
    "import pickle\n",
    "from WaterberryFarm import WaterberryFarm, MiniberryFarm, WaterberryFarmEnvironment\n",
    "\n",
    "from WbfExperiment import simulate_1day\n",
    "from wbf_helper import get_geometry, create_wbfe\n",
    "from WaterberryFarm import WaterberryFarm, MiniberryFarm, WBF_IM_DiskEstimator, WBF_IM_GaussianProcess, WBF_Score_WeightedAsymmetric, get_datadir\n",
    "\n",
    "from Policy import FollowPathPolicy, RandomWaypointPolicy\n",
    "from Robot import Robot\n",
    "from WbfFigures import graph_env_im, graph_scores, hook_create_pictures, end_of_day_graphs\n"
   ]
  },
  {
   "cell_type": "code",
   "execution_count": null,
   "metadata": {},
   "outputs": [],
   "source": [
    "\n",
    "# the experiment for the robot run\n",
    "experiment = \"1robot1day\"\n",
    "run = \"random-waypoint-miniberry-30\"\n",
    "exp = Config().get_experiment(experiment, run)\n",
    "pprint(exp)\n",
    "\n",
    "# the exp for the environment\n",
    "exp_env = Config().get_experiment(\"environment\", exp[\"exp_environment\"])\n",
    "pprint(exp_env)\n",
    "# the exp for policy\n",
    "exp_policy = Config().get_experiment(\"policy\", exp[\"exp_policy\"])\n",
    "pprint(exp_policy)\n"
   ]
  },
  {
   "cell_type": "code",
   "execution_count": null,
   "metadata": {},
   "outputs": [],
   "source": [
    "def create_policy(exp_policy, exp_env):\n",
    "    \"\"\"Generate a policy, based on the specification of the policy and the environment\"\"\"\n",
    "    if exp_policy[\"policycode\"] == \"RandomWaypointPolicy\":\n",
    "        geo = get_geometry(exp_env[\"typename\"])\n",
    "        # a random waypoint policy\n",
    "        # geo = copy.copy(geom)\n",
    "        policy = RandomWaypointPolicy(\n",
    "            vel = 1, low_point = [geo[\"xmin\"], \n",
    "            geo[\"ymin\"]], high_point = [geo[\"xmax\"], geo[\"ymax\"]], seed = exp_policy[\"seed\"])  \n",
    "        policy.name = exp_policy[\"policyname\"]\n",
    "        return policy\n",
    "    raise Exception(f\"Unsupported policy type {exp_policy['policy_code']}\")\n"
   ]
  },
  {
   "cell_type": "code",
   "execution_count": null,
   "metadata": {},
   "outputs": [],
   "source": [
    "\n",
    "picture_paths = []\n",
    "\n",
    "choices = {}\n",
    "policy = create_policy(exp_policy, exp_env)\n",
    "choices[\"policy-code\"] = policy\n",
    "choices[\"policy-name\"] = policy.name\n",
    "\n",
    "# these are the ones that need to be exp/run-ized \n",
    "choices[\"estimator-name\"] = \"AD\"\n",
    "geo = get_geometry(exp_env[\"typename\"])\n",
    "choices[\"estimator-code\"] = WBF_IM_DiskEstimator(geo[\"width\"], geo[\"height\"])\n",
    "choices[\"score-code\"] = WBF_Score_WeightedAsymmetric()\n",
    "choices[\"results_path\"] = pathlib.Path(exp[\"data_dir\"], \"results\")    \n",
    "\n",
    "if choices[\"results_path\"].exists():\n",
    "    with compress.open(choices[\"results_path\"], \"rb\") as f:\n",
    "        results = pickle.load(f)\n",
    "else:\n",
    "    choices[\"velocity\"] = exp[\"velocity\"]\n",
    "    choices[\"timesteps-per-day-override\"] = exp[\"timesteps-per-day-override\"]\n",
    "    choices[\"time-start-environment\"] = exp[\"time-start-environment\"]\n",
    "    choices[\"im_resolution\"] = exp[\"im_resolution\"]\n",
    "    choices[\"results-basedir\"] = exp[\"data_dir\"]\n",
    "    choices[\"action\"] = \"run-one-day\"\n",
    "    if \"im_resolution\" not in choices:\n",
    "        choices[\"im_resolution\"] = 1    \n",
    "    choices[\"typename\"] = exp_env[\"typename\"]\n",
    "    wbf, wbfe = create_wbfe(exp_env)\n",
    "    # move ahead to the starting point of the environment\n",
    "    wbfe.proceed(choices[\"time-start-environment\"])\n",
    "    choices[\"wbf\"] = wbf\n",
    "    choices[\"wbfe\"] = wbfe\n",
    "    # results[\"savedir\"] = exp[\"data_dir\"]\n",
    "    #results[\"exp-name\"] = results[\"typename\"] + \"_\" # name of the exp., also dir to save data\n",
    "    choices[\"days\"] = 1\n",
    "    #results[\"exp-name\"] = results[\"exp-name\"] + \"1M_\"\n",
    "    get_geometry(choices[\"typename\"], choices)\n",
    "    # override the velocity and the timesteps per day, if specified\n",
    "    if \"timesteps-per-day-override\" in choices:\n",
    "        choices[\"timesteps-per-day\"] = choices[\"timesteps-per-day-override\"]\n",
    "    if \"velocity-override\" in choices:\n",
    "        choices[\"velocity\"] = choices[\"velocity-override\"]\n",
    "    choices[\"robot\"] = Robot(\"Rob\", 0, 0, 0, env=None, im=None)\n",
    "    # Setting the policy\n",
    "    choices[\"robot\"].assign_policy(choices[\"policy-code\"])\n",
    "    # \n",
    "    # This is where we actually calling the simulation\n",
    "    #\n",
    "    results = copy.deepcopy(choices)\n",
    "    simulate_1day(results)\n",
    "    print(f\"Saving results to: {results['results_path']}\")\n",
    "    with compress.open(results[\"results_path\"], \"wb\") as f:\n",
    "        pickle.dump(results, f)\n",
    "    \n"
   ]
  },
  {
   "cell_type": "code",
   "execution_count": null,
   "metadata": {},
   "outputs": [],
   "source": [
    "if \"picture-path\" in results:\n",
    "    print(\"Picture path in results!\")\n",
    "    picture_paths.append(results[\"picture-path\"])\n",
    "\n",
    "end_of_day_graphs(results, \"daily-summary.pdf\", plot_uncertainty = False)"
   ]
  }
 ],
 "metadata": {
  "kernelspec": {
   "display_name": "WBF-venv",
   "language": "python",
   "name": "python3"
  },
  "language_info": {
   "codemirror_mode": {
    "name": "ipython",
    "version": 3
   },
   "file_extension": ".py",
   "mimetype": "text/x-python",
   "name": "python",
   "nbconvert_exporter": "python",
   "pygments_lexer": "ipython3",
   "version": "3.11.4"
  }
 },
 "nbformat": 4,
 "nbformat_minor": 2
}
