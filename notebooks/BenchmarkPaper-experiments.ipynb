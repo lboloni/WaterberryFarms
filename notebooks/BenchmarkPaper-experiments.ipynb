{
 "cells": [
  {
   "attachments": {},
   "cell_type": "markdown",
   "metadata": {},
   "source": [
    "# Waterberry Farms: a realistic benchmark for multi-robot informative path planning\n",
    "\n",
    "This notebook contains the code for generating the pictures and graphs for the paper. \n",
    "\n",
    "It illustrates various ways of running a __one day__ experiment on a __static environment__ with a __single robot__. The experiments compare estimator/path planner pairs. The path planners are simple static examples (lawnmower, spiral, random waypoint) and they are not intended to be state of the art. "
   ]
  },
  {
   "cell_type": "code",
   "execution_count": 1,
   "metadata": {},
   "outputs": [
    {
     "name": "stdout",
     "output_type": "stream",
     "text": [
      "The name of the current machine is:LotziYoga\n"
     ]
    }
   ],
   "source": [
    "# allow imports from the main source directory\n",
    "import sys\n",
    "sys.path.append('..')\n",
    "import logging\n",
    "logging.basicConfig(level=logging.WARNING)\n",
    "\n",
    "import pathlib\n",
    "import socket\n",
    "import pickle\n",
    "import gzip as compress\n",
    "import copy\n",
    "import matplotlib.pyplot as plt\n",
    "import matplotlib.lines as lines\n",
    "import matplotlib.patches as patches\n",
    "# configuring the fonts such that no Type 3 fonts are used\n",
    "# requirement for ICRA\n",
    "import matplotlib\n",
    "matplotlib.rcParams['pdf.fonttype'] = 42\n",
    "matplotlib.rcParams['ps.fonttype'] = 42\n",
    "matplotlib.rcParams[\"figure.autolayout\"] = True\n",
    "\n",
    "import numpy as np\n",
    "import timeit\n",
    "import warnings\n",
    "\n",
    "from InformationModel import StoredObservationIM\n",
    "from WaterberryFarm import create_wbfe, WaterberryFarm, MiniberryFarm, WBF_IM_DiskEstimator, WBF_IM_GaussianProcess, WBF_Score_WeightedAsymmetric, get_datadir\n",
    "from WbfExperiment import action_run_oneday, action_precompute_environment, get_geometry\n",
    "from WbfFigures import graph_env_im, graph_scores, hook_create_pictures, end_of_day_graphs\n",
    "from Policy import FollowPathPolicy, RandomWaypointPolicy\n",
    "from PathGenerators import find_fixed_budget_spiral, generate_lawnmower, find_fixed_budget_lawnmower, generate_spiral_path, find_fixed_budget_spiral\n",
    "\n",
    "logging.getLogger().setLevel(logging.WARNING)\n",
    "\n",
    "# setting the specific directories based on the current machine\n",
    "machine_name = socket.gethostname()\n",
    "print(\"The name of the current machine is:\" + machine_name)\n",
    "if (machine_name == \"DESKTOP-JK1TK38\") or (machine_name == \"LotziYoga\"):\n",
    "    TEMPORARY_DATA = pathlib.Path(\"C:\\\\Users\\\\lboloni\\\\Documents\\\\Code\\\\_TempData\\\\WBF\")\n",
    "\n",
    "# all the experiments results etc. should go into this directory\n",
    "benchmark_dir = pathlib.Path(get_datadir(), \"Benchmark-Paper\")\n",
    "benchmark_dir.mkdir(exist_ok=True)"
   ]
  },
  {
   "cell_type": "code",
   "execution_count": 2,
   "metadata": {},
   "outputs": [
    {
     "name": "stdout",
     "output_type": "stream",
     "text": [
      "We have TEMPORARY_DATA\n",
      "LotziYoga\n"
     ]
    },
    {
     "data": {
      "text/plain": [
       "{'__name__': '__main__',\n",
       " '__doc__': 'Automatically created module for IPython interactive environment',\n",
       " '__package__': None,\n",
       " '__loader__': None,\n",
       " '__spec__': None,\n",
       " '__builtin__': <module 'builtins' (built-in)>,\n",
       " '__builtins__': <module 'builtins' (built-in)>,\n",
       " '_ih': ['',\n",
       "  '# allow imports from the main source directory\\nimport sys\\nsys.path.append(\\'..\\')\\nimport logging\\nlogging.basicConfig(level=logging.WARNING)\\n\\nimport pathlib\\nimport socket\\nimport pickle\\nimport gzip as compress\\nimport copy\\nimport matplotlib.pyplot as plt\\nimport matplotlib.lines as lines\\nimport matplotlib.patches as patches\\n# configuring the fonts such that no Type 3 fonts are used\\n# requirement for ICRA\\nimport matplotlib\\nmatplotlib.rcParams[\\'pdf.fonttype\\'] = 42\\nmatplotlib.rcParams[\\'ps.fonttype\\'] = 42\\nmatplotlib.rcParams[\"figure.autolayout\"] = True\\n\\nimport numpy as np\\nimport timeit\\nimport warnings\\n\\nfrom InformationModel import StoredObservationIM\\nfrom WaterberryFarm import create_wbfe, WaterberryFarm, MiniberryFarm, WBF_IM_DiskEstimator, WBF_IM_GaussianProcess, WBF_Score_WeightedAsymmetric, get_datadir\\nfrom WbfExperiment import action_run_oneday, action_precompute_environment, get_geometry\\nfrom WbfFigures import graph_env_im, graph_scores, hook_create_pictures, end_of_day_graphs\\nfrom Policy import FollowPathPolicy, RandomWaypointPolicy\\nfrom PathGenerators import find_fixed_budget_spiral, generate_lawnmower, find_fixed_budget_lawnmower, generate_spiral_path, find_fixed_budget_spiral\\n\\nlogging.getLogger().setLevel(logging.WARNING)\\n\\n# setting the specific directories based on the current machine\\nmachine_name = socket.gethostname()\\nprint(\"The name of the current machine is:\" + machine_name)\\nif (machine_name == \"DESKTOP-JK1TK38\") or (machine_name == \"LotziYoga\"):\\n    TEMPORARY_DATA = pathlib.Path(\"C:\\\\\\\\Users\\\\\\\\lboloni\\\\\\\\Documents\\\\\\\\Code\\\\\\\\_TempData\\\\\\\\WBF\")\\n\\n# all the experiments results etc. should go into this directory\\nbenchmark_dir = pathlib.Path(get_datadir(), \"Benchmark-Paper\")\\nbenchmark_dir.mkdir(exist_ok=True)',\n",
       "  'if \"TEMPORARY_DATA\" in globals():\\n    print(\"We have TEMPORARY_DATA\")\\nelse:\\n    print(\"We don\\'t have TEMPORARY_DATA\")\\n\\nmachine_name = socket.gethostname()\\nprint(machine_name)\\n\\nsys.modules[\\'__main__\\'].__dict__'],\n",
       " '_oh': {},\n",
       " '_dh': [WindowsPath('c:/Users/lboloni/Documents/Code/_Checkouts/WBF/WaterBerryFarms/notebooks')],\n",
       " 'In': ['',\n",
       "  '# allow imports from the main source directory\\nimport sys\\nsys.path.append(\\'..\\')\\nimport logging\\nlogging.basicConfig(level=logging.WARNING)\\n\\nimport pathlib\\nimport socket\\nimport pickle\\nimport gzip as compress\\nimport copy\\nimport matplotlib.pyplot as plt\\nimport matplotlib.lines as lines\\nimport matplotlib.patches as patches\\n# configuring the fonts such that no Type 3 fonts are used\\n# requirement for ICRA\\nimport matplotlib\\nmatplotlib.rcParams[\\'pdf.fonttype\\'] = 42\\nmatplotlib.rcParams[\\'ps.fonttype\\'] = 42\\nmatplotlib.rcParams[\"figure.autolayout\"] = True\\n\\nimport numpy as np\\nimport timeit\\nimport warnings\\n\\nfrom InformationModel import StoredObservationIM\\nfrom WaterberryFarm import create_wbfe, WaterberryFarm, MiniberryFarm, WBF_IM_DiskEstimator, WBF_IM_GaussianProcess, WBF_Score_WeightedAsymmetric, get_datadir\\nfrom WbfExperiment import action_run_oneday, action_precompute_environment, get_geometry\\nfrom WbfFigures import graph_env_im, graph_scores, hook_create_pictures, end_of_day_graphs\\nfrom Policy import FollowPathPolicy, RandomWaypointPolicy\\nfrom PathGenerators import find_fixed_budget_spiral, generate_lawnmower, find_fixed_budget_lawnmower, generate_spiral_path, find_fixed_budget_spiral\\n\\nlogging.getLogger().setLevel(logging.WARNING)\\n\\n# setting the specific directories based on the current machine\\nmachine_name = socket.gethostname()\\nprint(\"The name of the current machine is:\" + machine_name)\\nif (machine_name == \"DESKTOP-JK1TK38\") or (machine_name == \"LotziYoga\"):\\n    TEMPORARY_DATA = pathlib.Path(\"C:\\\\\\\\Users\\\\\\\\lboloni\\\\\\\\Documents\\\\\\\\Code\\\\\\\\_TempData\\\\\\\\WBF\")\\n\\n# all the experiments results etc. should go into this directory\\nbenchmark_dir = pathlib.Path(get_datadir(), \"Benchmark-Paper\")\\nbenchmark_dir.mkdir(exist_ok=True)',\n",
       "  'if \"TEMPORARY_DATA\" in globals():\\n    print(\"We have TEMPORARY_DATA\")\\nelse:\\n    print(\"We don\\'t have TEMPORARY_DATA\")\\n\\nmachine_name = socket.gethostname()\\nprint(machine_name)\\n\\nsys.modules[\\'__main__\\'].__dict__'],\n",
       " 'Out': {},\n",
       " 'get_ipython': <bound method InteractiveShell.get_ipython of <ipykernel.zmqshell.ZMQInteractiveShell object at 0x000001890A680950>>,\n",
       " 'exit': <IPython.core.autocall.ZMQExitAutocall at 0x1890a695610>,\n",
       " 'quit': <IPython.core.autocall.ZMQExitAutocall at 0x1890a695610>,\n",
       " 'open': <function io.open(file, mode='r', buffering=-1, encoding=None, errors=None, newline=None, closefd=True, opener=None)>,\n",
       " '_': '',\n",
       " '__': '',\n",
       " '___': '',\n",
       " '__vsc_ipynb_file__': 'c:\\\\Users\\\\lboloni\\\\Documents\\\\Code\\\\_Checkouts\\\\WBF\\\\WaterBerryFarms\\\\notebooks\\\\BenchmarkPaper-experiments.ipynb',\n",
       " '_i': '# allow imports from the main source directory\\nimport sys\\nsys.path.append(\\'..\\')\\nimport logging\\nlogging.basicConfig(level=logging.WARNING)\\n\\nimport pathlib\\nimport socket\\nimport pickle\\nimport gzip as compress\\nimport copy\\nimport matplotlib.pyplot as plt\\nimport matplotlib.lines as lines\\nimport matplotlib.patches as patches\\n# configuring the fonts such that no Type 3 fonts are used\\n# requirement for ICRA\\nimport matplotlib\\nmatplotlib.rcParams[\\'pdf.fonttype\\'] = 42\\nmatplotlib.rcParams[\\'ps.fonttype\\'] = 42\\nmatplotlib.rcParams[\"figure.autolayout\"] = True\\n\\nimport numpy as np\\nimport timeit\\nimport warnings\\n\\nfrom InformationModel import StoredObservationIM\\nfrom WaterberryFarm import create_wbfe, WaterberryFarm, MiniberryFarm, WBF_IM_DiskEstimator, WBF_IM_GaussianProcess, WBF_Score_WeightedAsymmetric, get_datadir\\nfrom WbfExperiment import action_run_oneday, action_precompute_environment, get_geometry\\nfrom WbfFigures import graph_env_im, graph_scores, hook_create_pictures, end_of_day_graphs\\nfrom Policy import FollowPathPolicy, RandomWaypointPolicy\\nfrom PathGenerators import find_fixed_budget_spiral, generate_lawnmower, find_fixed_budget_lawnmower, generate_spiral_path, find_fixed_budget_spiral\\n\\nlogging.getLogger().setLevel(logging.WARNING)\\n\\n# setting the specific directories based on the current machine\\nmachine_name = socket.gethostname()\\nprint(\"The name of the current machine is:\" + machine_name)\\nif (machine_name == \"DESKTOP-JK1TK38\") or (machine_name == \"LotziYoga\"):\\n    TEMPORARY_DATA = pathlib.Path(\"C:\\\\\\\\Users\\\\\\\\lboloni\\\\\\\\Documents\\\\\\\\Code\\\\\\\\_TempData\\\\\\\\WBF\")\\n\\n# all the experiments results etc. should go into this directory\\nbenchmark_dir = pathlib.Path(get_datadir(), \"Benchmark-Paper\")\\nbenchmark_dir.mkdir(exist_ok=True)',\n",
       " '_ii': '',\n",
       " '_iii': '',\n",
       " '_i1': '# allow imports from the main source directory\\nimport sys\\nsys.path.append(\\'..\\')\\nimport logging\\nlogging.basicConfig(level=logging.WARNING)\\n\\nimport pathlib\\nimport socket\\nimport pickle\\nimport gzip as compress\\nimport copy\\nimport matplotlib.pyplot as plt\\nimport matplotlib.lines as lines\\nimport matplotlib.patches as patches\\n# configuring the fonts such that no Type 3 fonts are used\\n# requirement for ICRA\\nimport matplotlib\\nmatplotlib.rcParams[\\'pdf.fonttype\\'] = 42\\nmatplotlib.rcParams[\\'ps.fonttype\\'] = 42\\nmatplotlib.rcParams[\"figure.autolayout\"] = True\\n\\nimport numpy as np\\nimport timeit\\nimport warnings\\n\\nfrom InformationModel import StoredObservationIM\\nfrom WaterberryFarm import create_wbfe, WaterberryFarm, MiniberryFarm, WBF_IM_DiskEstimator, WBF_IM_GaussianProcess, WBF_Score_WeightedAsymmetric, get_datadir\\nfrom WbfExperiment import action_run_oneday, action_precompute_environment, get_geometry\\nfrom WbfFigures import graph_env_im, graph_scores, hook_create_pictures, end_of_day_graphs\\nfrom Policy import FollowPathPolicy, RandomWaypointPolicy\\nfrom PathGenerators import find_fixed_budget_spiral, generate_lawnmower, find_fixed_budget_lawnmower, generate_spiral_path, find_fixed_budget_spiral\\n\\nlogging.getLogger().setLevel(logging.WARNING)\\n\\n# setting the specific directories based on the current machine\\nmachine_name = socket.gethostname()\\nprint(\"The name of the current machine is:\" + machine_name)\\nif (machine_name == \"DESKTOP-JK1TK38\") or (machine_name == \"LotziYoga\"):\\n    TEMPORARY_DATA = pathlib.Path(\"C:\\\\\\\\Users\\\\\\\\lboloni\\\\\\\\Documents\\\\\\\\Code\\\\\\\\_TempData\\\\\\\\WBF\")\\n\\n# all the experiments results etc. should go into this directory\\nbenchmark_dir = pathlib.Path(get_datadir(), \"Benchmark-Paper\")\\nbenchmark_dir.mkdir(exist_ok=True)',\n",
       " 'sys': <module 'sys' (built-in)>,\n",
       " 'logging': <module 'logging' from 'C:\\\\Users\\\\lboloni\\\\AppData\\\\Local\\\\Programs\\\\Python\\\\Python311\\\\Lib\\\\logging\\\\__init__.py'>,\n",
       " 'pathlib': <module 'pathlib' from 'C:\\\\Users\\\\lboloni\\\\AppData\\\\Local\\\\Programs\\\\Python\\\\Python311\\\\Lib\\\\pathlib.py'>,\n",
       " 'socket': <module 'socket' from 'C:\\\\Users\\\\lboloni\\\\AppData\\\\Local\\\\Programs\\\\Python\\\\Python311\\\\Lib\\\\socket.py'>,\n",
       " 'pickle': <module 'pickle' from 'C:\\\\Users\\\\lboloni\\\\AppData\\\\Local\\\\Programs\\\\Python\\\\Python311\\\\Lib\\\\pickle.py'>,\n",
       " 'compress': <module 'gzip' from 'C:\\\\Users\\\\lboloni\\\\AppData\\\\Local\\\\Programs\\\\Python\\\\Python311\\\\Lib\\\\gzip.py'>,\n",
       " 'copy': <module 'copy' from 'C:\\\\Users\\\\lboloni\\\\AppData\\\\Local\\\\Programs\\\\Python\\\\Python311\\\\Lib\\\\copy.py'>,\n",
       " 'plt': <module 'matplotlib.pyplot' from 'c:\\\\Users\\\\lboloni\\\\Documents\\\\Code\\\\_VirtualEnvironments\\\\WBF\\\\WBF-venv\\\\Lib\\\\site-packages\\\\matplotlib\\\\pyplot.py'>,\n",
       " 'lines': <module 'matplotlib.lines' from 'c:\\\\Users\\\\lboloni\\\\Documents\\\\Code\\\\_VirtualEnvironments\\\\WBF\\\\WBF-venv\\\\Lib\\\\site-packages\\\\matplotlib\\\\lines.py'>,\n",
       " 'patches': <module 'matplotlib.patches' from 'c:\\\\Users\\\\lboloni\\\\Documents\\\\Code\\\\_VirtualEnvironments\\\\WBF\\\\WBF-venv\\\\Lib\\\\site-packages\\\\matplotlib\\\\patches.py'>,\n",
       " 'matplotlib': <module 'matplotlib' from 'c:\\\\Users\\\\lboloni\\\\Documents\\\\Code\\\\_VirtualEnvironments\\\\WBF\\\\WBF-venv\\\\Lib\\\\site-packages\\\\matplotlib\\\\__init__.py'>,\n",
       " 'np': <module 'numpy' from 'c:\\\\Users\\\\lboloni\\\\Documents\\\\Code\\\\_VirtualEnvironments\\\\WBF\\\\WBF-venv\\\\Lib\\\\site-packages\\\\numpy\\\\__init__.py'>,\n",
       " 'timeit': <module 'timeit' from 'C:\\\\Users\\\\lboloni\\\\AppData\\\\Local\\\\Programs\\\\Python\\\\Python311\\\\Lib\\\\timeit.py'>,\n",
       " 'warnings': <module 'warnings' from 'C:\\\\Users\\\\lboloni\\\\AppData\\\\Local\\\\Programs\\\\Python\\\\Python311\\\\Lib\\\\warnings.py'>,\n",
       " 'StoredObservationIM': InformationModel.StoredObservationIM,\n",
       " 'create_wbfe': <function WaterberryFarm.create_wbfe(saved: bool, wbf_prec=None, typename='Miniberry-10')>,\n",
       " 'WaterberryFarm': WaterberryFarm.WaterberryFarm,\n",
       " 'MiniberryFarm': WaterberryFarm.MiniberryFarm,\n",
       " 'WBF_IM_DiskEstimator': WaterberryFarm.WBF_IM_DiskEstimator,\n",
       " 'WBF_IM_GaussianProcess': WaterberryFarm.WBF_IM_GaussianProcess,\n",
       " 'WBF_Score_WeightedAsymmetric': WaterberryFarm.WBF_Score_WeightedAsymmetric,\n",
       " 'get_datadir': <function WaterberryFarm.get_datadir()>,\n",
       " 'action_run_oneday': <function WbfExperiment.action_run_oneday(choices)>,\n",
       " 'action_precompute_environment': <function WbfExperiment.action_precompute_environment(choices)>,\n",
       " 'get_geometry': <function WbfExperiment.get_geometry(typename, geo=None)>,\n",
       " 'graph_env_im': <function WbfFigures.graph_env_im(wbfe, wbfim, title_string='{label}', ax_env_tylcv=None, ax_im_tylcv=None, ax_env_ccr=None, ax_im_ccr=None, ax_env_soil=None, ax_im_soil=None, ax_unc_tylcv=None, ax_unc_ccr=None, ax_unc_soil=None, cmap='gray')>,\n",
       " 'graph_scores': <function WbfFigures.graph_scores(results, ax, label=None)>,\n",
       " 'hook_create_pictures': <function WbfFigures.hook_create_pictures(results, figsize=(3, 3), draw_robot_path=True)>,\n",
       " 'end_of_day_graphs': <function WbfFigures.end_of_day_graphs(results, graphfilename='EndOfDayGraph.pdf', title=None, plot_uncertainty=True, ground_truth='est+gt', score=None)>,\n",
       " 'FollowPathPolicy': Policy.FollowPathPolicy,\n",
       " 'RandomWaypointPolicy': Policy.RandomWaypointPolicy,\n",
       " 'find_fixed_budget_spiral': <function PathGenerators.find_fixed_budget_spiral(starting_point, x_min, x_max, y_min, y_max, velocity, time)>,\n",
       " 'generate_lawnmower': <function PathGenerators.generate_lawnmower(x_min, x_max, y_min, y_max, winds)>,\n",
       " 'find_fixed_budget_lawnmower': <function PathGenerators.find_fixed_budget_lawnmower(starting_point, x_min, x_max, y_min, y_max, velocity, time)>,\n",
       " 'generate_spiral_path': <function PathGenerators.generate_spiral_path(x_min, x_max, y_min, y_max, step=1)>,\n",
       " 'machine_name': 'LotziYoga',\n",
       " 'TEMPORARY_DATA': WindowsPath('C:/Users/lboloni/Documents/Code/_TempData/WBF'),\n",
       " 'benchmark_dir': WindowsPath('C:/Users/lboloni/Documents/Code/_TempData/WBF/Benchmark-Paper'),\n",
       " '_i2': 'if \"TEMPORARY_DATA\" in globals():\\n    print(\"We have TEMPORARY_DATA\")\\nelse:\\n    print(\"We don\\'t have TEMPORARY_DATA\")\\n\\nmachine_name = socket.gethostname()\\nprint(machine_name)\\n\\nsys.modules[\\'__main__\\'].__dict__'}"
      ]
     },
     "execution_count": 2,
     "metadata": {},
     "output_type": "execute_result"
    }
   ],
   "source": [
    "if \"TEMPORARY_DATA\" in globals():\n",
    "    print(\"We have TEMPORARY_DATA\")\n",
    "else:\n",
    "    print(\"We don't have TEMPORARY_DATA\")\n",
    "\n",
    "machine_name = socket.gethostname()\n",
    "print(machine_name)\n",
    "\n",
    "sys.modules['__main__'].__dict__"
   ]
  },
  {
   "cell_type": "markdown",
   "metadata": {},
   "source": [
    "## General settings\n",
    "The choices used here apply to all the components and might make them faster"
   ]
  },
  {
   "cell_type": "code",
   "execution_count": 3,
   "metadata": {},
   "outputs": [],
   "source": [
    "\n",
    "default_choices = {\"geometry\": \"Miniberry-30\", \"action\": \"run\", \"scenario\": \"one-day-single-value\", \"visualize\": 0,  \"results-basedir\": benchmark_dir}\n",
    "default_choices[\"velocity\"] = 1\n",
    "default_choices[\"timesteps-per-day-override\"] = 500 # 1000\n",
    "default_choices[\"time-start-environment\"] = 6\n",
    "# uncomment or change this to a lower number to run the estimator more often\n",
    "default_choices[\"im_resolution\"] = 10\n",
    "# uncomment this to generate pictures. WARNING: takes longer!\n",
    "# default_choices[\"hook-after-day\"] = hook_create_pictures"
   ]
  },
  {
   "cell_type": "markdown",
   "metadata": {},
   "source": [
    "# Precompute environments\n",
    "* Precompute the evaluation of the environments. This allows the following simulations to run faster and to use the same environment for different path planning algorithms. \n",
    "* The precomputed data is saved into TEMPORARY_DATA into the corresponding directory under ```__Temporary/2024-03-07-WaterberryFarms_data```. Substitute for ```2024-03-07-WaterberryFarms``` whatever is the name of the directory above the github one. \n",
    "\n",
    "__Delete that directory if you want to run the simulation with differently parameterized environments.__\n",
    "\n",
    "* This precalculates 50 days of evolution for all four environments. This is sufficient for the standard benchmark settings. \n",
    "* As this simulation is expensive for the large environments, be patient, it takes about __30 minutes__ on a fast machine if Waterberry is part of the environments. \n"
   ]
  },
  {
   "cell_type": "code",
   "execution_count": 4,
   "metadata": {},
   "outputs": [
    {
     "name": "stdout",
     "output_type": "stream",
     "text": [
      "Data directory specified by TEMPORARY_DATA\n",
      "Data directory specified by TEMPORARY_DATA\n",
      "Data directory specified by TEMPORARY_DATA\n"
     ]
    }
   ],
   "source": [
    "precompute = 50\n",
    "# typenames = [\"Miniberry-10\", \"Miniberry-30\", \"Miniberry-100\", \"Waterberry\"]\n",
    "typenames = [\"Miniberry-10\",\"Miniberry-30\", \"Miniberry-100\"]\n",
    "time_start_environment = 6\n",
    "\n",
    "# typenames = [\"Waterberry\"]\n",
    "# typenames = [\"Miniberry-100\"]\n",
    "for typename in typenames:\n",
    "    action_precompute_environment({\"geometry\": typename, \"precompute-time\": precompute})"
   ]
  },
  {
   "attachments": {},
   "cell_type": "markdown",
   "metadata": {},
   "source": [
    "# Generate pictures of the geometry. \n",
    "Generates pictures for the geometry of the various benchmark configurations (Miniberry-10,30,100 and Waterberry), and saves them into files $data/geometry_Miniberry-10.pdf etc.\n",
    "\n",
    "FIXME: This could have been implemented with action load-environment\n",
    "NOTE: Disabled, as it takes too much time for smooth experimentation."
   ]
  },
  {
   "cell_type": "raw",
   "metadata": {
    "vscode": {
     "languageId": "raw"
    }
   },
   "source": [
    "timepoints = [1, 3, 5, 10]\n",
    "# typename = \"Miniberry-10\"\n",
    "\n",
    "typenames_1 = [\"Miniberry-10\", \"Miniberry-30\", \"Miniberry-100\", \"Waterberry\"]\n",
    "for typename in typenames_1:\n",
    "    _, wbfe, _ = create_wbfe(saved = True, wbf_prec = None, typename = typename)\n",
    "    geom = wbfe.geometry\n",
    "    fig, ax = plt.subplots(1, figsize=(5,4))\n",
    "    wbfe.geometry.visualize(ax)\n",
    "    fig.tight_layout()\n",
    "    plt.savefig(pathlib.Path(benchmark_dir, f\"geometry_{typename}.pdf\"))\n",
    "    plt.savefig(pathlib.Path(benchmark_dir, f\"geometry_{typename}.jpg\"))"
   ]
  },
  {
   "attachments": {},
   "cell_type": "markdown",
   "metadata": {},
   "source": [
    "## Compare movement policies with the same estimator\n",
    "Run one day experiments for comparing different policies with the same estimator. Visualize the results for each policy."
   ]
  },
  {
   "cell_type": "code",
   "execution_count": 5,
   "metadata": {},
   "outputs": [],
   "source": [
    "def create_policies(geom):\n",
    "    policies = []\n",
    "    # a random waypoint policy\n",
    "    geo = copy.copy(geom)\n",
    "    policy = RandomWaypointPolicy(vel = 1, low_point = [geo[\"xmin\"], geo[\"ymin\"]], high_point = [geo[\"xmax\"], geo[\"ymax\"]], seed = 0)  \n",
    "    policy.name = \"RandomWaypoint-Seed0\"\n",
    "    policies.append(policy)\n",
    "\n",
    "    # a lawnmower policy that covers the target area in one day uniformly\n",
    "    geo = copy.copy(geom)\n",
    "    path = find_fixed_budget_lawnmower([0,0], geo[\"xmin\"], geo[\"xmax\"], geo[\"ymin\"], geo[\"ymax\"], geo[\"velocity\"], time = geo[\"timesteps-per-day\"])\n",
    "    policy = FollowPathPolicy(vel = geo[\"velocity\"], waypoints = path, repeat = True)\n",
    "    policy.name = \"FixedBudgetLawnmower\"\n",
    "    policies.append(policy)\n",
    "\n",
    "    # a lawnmower policy that covers the tomatoes more densely than the strawberries\n",
    "    geo = copy.copy(geom)\n",
    "    height = geo[\"ymax\"] - geo[\"ymin\"]\n",
    "    time = float(geo[\"timesteps-per-day\"])\n",
    "    ## FIXME: this has to search for a plan that can be executed in the time\n",
    "    time_safety = time / 10.0\n",
    "    time_strawberry = time / 3.0 - time_safety\n",
    "    time_tomato = time - time_strawberry - time_safety\n",
    "    path1 = find_fixed_budget_lawnmower([0, 0], geo[\"xmin\"], geo[\"xmax\"], geo[\"ymin\"] + height//2, geo[\"ymin\"] + height, geo[\"velocity\"], time_tomato)\n",
    "    path2 = find_fixed_budget_lawnmower(path1[-1], geo[\"xmin\"], geo[\"xmax\"], geo[\"ymin\"], geo[\"ymin\"] + height // 2, geo[\"velocity\"], time_strawberry)\n",
    "    # second path is supposed to start from the last of first\n",
    "    path = np.append(path1, path2, axis=0)           \n",
    "    policy = FollowPathPolicy(vel = geo[\"velocity\"], waypoints = path, repeat = True)            \n",
    "    policy.name = \"AdaptiveLawnMower\"\n",
    "    policies.append(policy)\n",
    "\n",
    "    # a spiral policy \n",
    "    geo = copy.copy(geom)\n",
    "    path = find_fixed_budget_spiral([0,0], x_min = geo[\"xmin\"], x_max = geo[\"xmax\"], y_min = geo[\"ymin\"], y_max = geo[\"ymax\"], velocity = geo[\"velocity\"], time = geo[\"timesteps-per-day\"])\n",
    "    policy = FollowPathPolicy(vel = geo[\"velocity\"], waypoints = path, repeat = True) \n",
    "    policy.name = \"Spiral\"    \n",
    "    policies.append(policy)\n",
    "    return policies"
   ]
  },
  {
   "cell_type": "code",
   "execution_count": 6,
   "metadata": {},
   "outputs": [
    {
     "name": "stdout",
     "output_type": "stream",
     "text": [
      "Data directory specified by TEMPORARY_DATA\n",
      "C:\\Users\\lboloni\\Documents\\Code\\_TempData\\WBF\\Benchmark-Paper\\res_Miniberry-30_1M_RandomWaypoint-Seed0\n",
      "Data directory specified by TEMPORARY_DATA\n",
      "Data directory specified by TEMPORARY_DATA\n",
      "C:\\Users\\lboloni\\Documents\\Code\\_TempData\\WBF\\Benchmark-Paper\\res_Miniberry-30_1M_FixedBudgetLawnmower\n",
      "Data directory specified by TEMPORARY_DATA\n",
      "Data directory specified by TEMPORARY_DATA\n",
      "C:\\Users\\lboloni\\Documents\\Code\\_TempData\\WBF\\Benchmark-Paper\\res_Miniberry-30_1M_AdaptiveLawnMower\n",
      "Data directory specified by TEMPORARY_DATA\n",
      "Data directory specified by TEMPORARY_DATA\n",
      "C:\\Users\\lboloni\\Documents\\Code\\_TempData\\WBF\\Benchmark-Paper\\res_Miniberry-30_1M_Spiral\n",
      "Data directory specified by TEMPORARY_DATA\n"
     ]
    }
   ],
   "source": [
    "\n",
    "# if force_run is false, we do not re-run an already run policy \n",
    "force_run = False\n",
    "geo = get_geometry(default_choices[\"geometry\"])\n",
    "policies = create_policies(geo)\n",
    "picture_paths = []\n",
    "\n",
    "for policy in policies:\n",
    "    # do a dryrun, to get the path to the cached values\n",
    "    choices = copy.copy(default_choices)\n",
    "    choices[\"policy-code\"] = policy\n",
    "    choices[\"policy-name\"] = policy.name\n",
    "    choices[\"dryrun\"] = True\n",
    "    choices[\"estimator-name\"] = \"AD\"\n",
    "    choices[\"estimator-code\"] = WBF_IM_DiskEstimator(geo[\"width\"], geo[\"height\"])\n",
    "    choices[\"score-code\"] = WBF_Score_WeightedAsymmetric()\n",
    "\n",
    "    results = action_run_oneday(choices)\n",
    "    path = results[\"results-path\"]\n",
    "    print(path)\n",
    "    # print(results.keys())\n",
    "    # avoid re-running experiments\n",
    "    if not path.exists() or force_run:\n",
    "        choices[\"dryrun\"] = False\n",
    "        results = action_run_oneday(choices)\n",
    "    else:\n",
    "        with compress.open(path, \"rb\") as f:\n",
    "            results = pickle.load(f)\n",
    "    if \"picture-path\" in results:\n",
    "        print(\"Picture path in results!\")\n",
    "        picture_paths.append(results[\"picture-path\"])\n",
    "    end_of_day_graphs(results, f\"daily-summary-{results['policy-name']}-{results['estimator-name']}.pdf\", plot_uncertainty = False)"
   ]
  },
  {
   "attachments": {},
   "cell_type": "markdown",
   "metadata": {},
   "source": [
    "## Compare estimators in experiments\n",
    "Run experiments to compare the estimators - the adaptive disk (AD) vs the Gaussian Process (GP). The Gaussian process is much slower, so it will take a quite longer time."
   ]
  },
  {
   "cell_type": "code",
   "execution_count": 7,
   "metadata": {},
   "outputs": [
    {
     "name": "stdout",
     "output_type": "stream",
     "text": [
      "Data directory specified by TEMPORARY_DATA\n",
      "C:\\Users\\lboloni\\Documents\\Code\\_TempData\\WBF\\Benchmark-Paper\\res_Miniberry-30_1M_RandomWaypoint-Seed0-AD\n",
      "Data directory specified by TEMPORARY_DATA\n",
      "Data directory specified by TEMPORARY_DATA\n",
      "C:\\Users\\lboloni\\Documents\\Code\\_TempData\\WBF\\Benchmark-Paper\\res_Miniberry-30_1M_RandomWaypoint-Seed0-GP\n",
      "Data directory specified by TEMPORARY_DATA\n",
      "At 179 / 500 elapsed 10 seconds\n",
      "At 239 / 500 elapsed 22 seconds\n",
      "At 269 / 500 elapsed 40 seconds\n",
      "At 289 / 500 elapsed 52 seconds\n",
      "At 309 / 500 elapsed 64 seconds\n",
      "At 319 / 500 elapsed 75 seconds\n",
      "At 339 / 500 elapsed 94 seconds\n",
      "At 359 / 500 elapsed 111 seconds\n",
      "At 379 / 500 elapsed 130 seconds\n",
      "At 389 / 500 elapsed 141 seconds\n",
      "At 399 / 500 elapsed 155 seconds\n",
      "At 409 / 500 elapsed 171 seconds\n",
      "At 419 / 500 elapsed 188 seconds\n",
      "At 429 / 500 elapsed 209 seconds\n",
      "At 439 / 500 elapsed 233 seconds\n",
      "At 449 / 500 elapsed 259 seconds\n",
      "At 459 / 500 elapsed 293 seconds\n",
      "At 469 / 500 elapsed 329 seconds\n",
      "At 479 / 500 elapsed 352 seconds\n",
      "At 489 / 500 elapsed 386 seconds\n",
      "At 499 / 500 elapsed 418 seconds\n",
      "Data directory specified by TEMPORARY_DATA\n",
      "C:\\Users\\lboloni\\Documents\\Code\\_TempData\\WBF\\Benchmark-Paper\\res_Miniberry-30_1M_RandomWaypoint-Seed0-DE-10\n",
      "Data directory specified by TEMPORARY_DATA\n"
     ]
    }
   ],
   "source": [
    "# cleaning up the warnings from the GP estimator\n",
    "# logging.getLogger().setLevel(logging.ERROR)\n",
    "warnings.simplefilter(\"ignore\")\n",
    "#warnings.filterwarnings(warnings.Warning, \"ignore\")\n",
    "\n",
    "# if force_run is false, we do not re-run an already run policy \n",
    "force_run = False\n",
    "for estimator in [\"AD\", \"GP\", \"DE-10\"]:\n",
    "# for estimator in [\"GP\"]:\n",
    "    # do a dryrun, to get the path to the cached values\n",
    "    choices = copy.copy(default_choices)\n",
    "    choices[\"dryrun\"] = True\n",
    "\n",
    "    geo = get_geometry(default_choices[\"geometry\"])\n",
    "    policy = RandomWaypointPolicy(vel = 1, low_point = [geo[\"xmin\"], geo[\"ymin\"]], high_point = [geo[\"xmax\"], geo[\"ymax\"]], seed = 0)  \n",
    "    policy.name = \"RandomWaypoint-Seed0\"\n",
    "    choices[\"policy-code\"] = policy\n",
    "    choices[\"policy-name\"] = f\"{policy.name}-{estimator}\"\n",
    "    choices[\"score-code\"] = WBF_Score_WeightedAsymmetric()\n",
    "\n",
    "    if estimator == \"AD\":\n",
    "        choices[\"estimator-name\"]  = \"AD\"\n",
    "        choices[\"estimator-code\"] = WBF_IM_DiskEstimator(geo[\"width\"], geo[\"height\"])\n",
    "    elif estimator == \"GP\":\n",
    "        choices[\"estimator-name\"]  = \"GP\"\n",
    "        choices[\"estimator-code\"] = WBF_IM_GaussianProcess(geo[\"width\"], geo[\"height\"])        \n",
    "    elif estimator == \"DE-10\":\n",
    "        choices[\"estimator-name\"]  = \"DE-10\"\n",
    "        choices[\"estimator-code\"] = WBF_IM_DiskEstimator(geo[\"width\"], geo[\"height\"], disk_radius=10)        \n",
    "\n",
    "    results = action_run_oneday(choices)\n",
    "    path = results[\"results-path\"]\n",
    "    print(path)\n",
    "    # avoid re-running experiments\n",
    "    if not path.exists() or force_run:\n",
    "        choices[\"dryrun\"] = False\n",
    "        results = action_run_oneday(choices)\n",
    "    else:\n",
    "        with compress.open(path, \"rb\") as f:\n",
    "            results = pickle.load(f)\n",
    "    end_of_day_graphs(results, f\"daily-summary-{results['policy-name']}.pdf\", plot_uncertainty = False)"
   ]
  },
  {
   "cell_type": "markdown",
   "metadata": {},
   "source": [
    "## Compare the performance of various combinations of path planner and estimator"
   ]
  },
  {
   "cell_type": "code",
   "execution_count": null,
   "metadata": {},
   "outputs": [],
   "source": [
    "# gather all the results. As I am reading them in, generate the graphs.\n",
    "allresults = []\n",
    "for a in benchmark_dir.iterdir():\n",
    "    if a.name.startswith(\"res_\"):\n",
    "        print(a)\n",
    "        with compress.open(a, \"rb\") as f:\n",
    "            results = pickle.load(f)\n",
    "            allresults.append(results)\n",
    "\n",
    "fig, ax_scores = plt.subplots(1, figsize=(6,4))\n",
    "for results in allresults:\n",
    "    ax_scores.plot(results[\"scores\"], label = f'{results[\"policy-name\"][len(\"benchmarkpaper-\"):]}+{results[\"estimator-name\"]}')\n",
    "ax_scores.set_ylim(top=0)\n",
    "ax_scores.set_xlabel(\"Time\")\n",
    "ax_scores.set_ylabel(\"Score\")\n",
    "ax_scores.set_title(\"Scores\")\n",
    "ax_scores.legend()\n",
    "fig.tight_layout()\n"
   ]
  },
  {
   "attachments": {},
   "cell_type": "markdown",
   "metadata": {},
   "source": [
    "## Compare the results of different score functions\n",
    "Verifying that different scoring functions are called"
   ]
  },
  {
   "cell_type": "code",
   "execution_count": null,
   "metadata": {},
   "outputs": [],
   "source": [
    "default_choices = {\"geometry\": \"Miniberry-30\", \"action\": \"run\", \"scenario\": \"one-day-single-value\", \"visualize\": 0,  \"results-basedir\": benchmark_dir}\n",
    "default_choices[\"velocity\"] = 1\n",
    "default_choices[\"timesteps-per-day-override\"] = 500 # 1000\n",
    "default_choices[\"time-start-environment\"] = 6\n",
    "\n",
    "# a random waypoint policy\n",
    "geo = get_geometry(default_choices[\"geometry\"])\n",
    "policy = RandomWaypointPolicy(vel = 1, low_point = [geo[\"xmin\"], geo[\"ymin\"]], high_point = [geo[\"xmax\"], geo[\"ymax\"]], seed = 0)  \n",
    "\n",
    "# create a set of score functions\n",
    "scores = {}\n",
    "scores[\"default\"] = WBF_Score_WeightedAsymmetric()\n",
    "scores[\"only-strawberry\"] = WBF_Score_WeightedAsymmetric(strawberry_importance=1.0, strawberry_negative_importance=10.0, tomato_importance=0.0, tomato_negative_importance=10.0, soil_importance=0.0)\n",
    "scores[\"only-tomato\"] = WBF_Score_WeightedAsymmetric(strawberry_importance=0.0, strawberry_negative_importance=10.0, tomato_importance=1.0, tomato_negative_importance=10.0, soil_importance=0.0)\n",
    "scores[\"only-soil\"] = WBF_Score_WeightedAsymmetric(strawberry_importance=0.0, strawberry_negative_importance=10.0, tomato_importance=0.0, tomato_negative_importance=10.0, soil_importance=1.0)\n",
    "\n",
    "for scorename, scorecode in scores.items():\n",
    "    # do a dryrun, to get the path to the cached values\n",
    "    choices = copy.copy(default_choices)\n",
    "    choices[\"policy-code\"] = policy\n",
    "    choices[\"policy-name\"] = f\"random-{scorename}\"\n",
    "    choices[\"estimator-name\"] = \"AD\"\n",
    "    choices[\"estimator-code\"] = WBF_IM_DiskEstimator(geo[\"width\"], geo[\"height\"])\n",
    "    choices[\"score-code\"] = scorecode\n",
    "\n",
    "    choices[\"dryrun\"] = True\n",
    "    results = action_run_oneday(choices)\n",
    "    path = results[\"results-path\"]\n",
    "    print(path)\n",
    "    # avoid re-running experiments\n",
    "    if not path.exists() or force_run:\n",
    "        choices[\"dryrun\"] = False\n",
    "        results = action_run_oneday(choices)\n",
    "    else:\n",
    "        with compress.open(path, \"rb\") as f:\n",
    "            results = pickle.load(f)\n",
    "    end_of_day_graphs(results, f\"daily-summary-{results['policy-name']}-{results['estimator-name']}.pdf\", plot_uncertainty = False)"
   ]
  },
  {
   "attachments": {},
   "cell_type": "markdown",
   "metadata": {},
   "source": [
    "# Comparing the computational cost of different estimators\n",
    "This code calculates the computational cost for different estimators (current GP and adaptive disk). This code takes about 10 min to run. "
   ]
  },
  {
   "cell_type": "code",
   "execution_count": null,
   "metadata": {},
   "outputs": [],
   "source": [
    "from logging import getLogger\n",
    "\n",
    "logging.getLogger().setLevel(logging.INFO)\n",
    "warnings.simplefilter(\"ignore\")\n",
    "\n",
    "typenames = [\"Miniberry-10\", \"Miniberry-30\", \"Miniberry-100\", \"Waterberry\"]\n",
    "\n",
    "file = pathlib.Path(benchmark_dir, \"timecomp\")\n",
    "totaltime = 500 # the time we extend if \n",
    "timestep = 10 # at what timesteps we do a measurement\n",
    "stop_at = 10.0 # if a single estimate takes longer than this, we stop\n",
    "\n",
    "if file.exists():\n",
    "    with open(file, \"rb\") as f:\n",
    "        res = pickle.load(f)\n",
    "else:\n",
    "    res = {}\n",
    "    for estimator in [\"AD\", \"GP\"]:\n",
    "        for typename in typenames:\n",
    "            # break out, as GP Waterberry 10 is 160 seconds\n",
    "            if estimator == \"GP\" and typename == \"Waterberry\":\n",
    "                break\n",
    "            wbf, wbfe, _ = create_wbfe(saved = True, wbf_prec = None, typename = typename)\n",
    "            wbfe.proceed(time_start_environment)\n",
    "            if estimator == \"GP\":\n",
    "                wbfim = WBF_IM_DiskEstimator(wbf.width, wbf.height)\n",
    "            else: \n",
    "                wbfim = WBF_IM_GaussianProcess(wbf.width, wbf.height)\n",
    "            ## create some observations and add them...\n",
    "            times = []\n",
    "            ts = []\n",
    "            t = 0\n",
    "            while t < totaltime:\n",
    "                for obs in range(timestep):\n",
    "                    t = t + 1\n",
    "                    x = np.random.random_integers(wbf.width-1)\n",
    "                    y = np.random.random_integers(wbf.height-1)\n",
    "                    position = [x, y, t] # fixme random position\n",
    "                    obs = wbfe.get_observation(position)\n",
    "                    wbfim.add_observation(obs)\n",
    "                ## measure the time it takes here\n",
    "                time = timeit.timeit(\"wbfim.proceed(1)\", number=1,  globals=globals())\n",
    "                getLogger().info(f\"{t} = {time} {estimator} {typename}\")\n",
    "                if time > stop_at:\n",
    "                    break\n",
    "                times.append(time)\n",
    "                ts.append(t)\n",
    "            res[f\"{typename}_{estimator}\"] = [ts, times]\n",
    "    with open(file, \"wb\") as f:\n",
    "        pickle.dump(res, f)"
   ]
  },
  {
   "cell_type": "code",
   "execution_count": null,
   "metadata": {},
   "outputs": [],
   "source": [
    "\n",
    "fig, ax = plt.subplots(1, 1, figsize=(6,4))\n",
    "\n",
    "for key in res:\n",
    "    ax.plot(res[key][0], res[key][1], label = key)\n",
    "#ax.set_ylim(top=0)\n",
    "ax.set_xlim(right=700)\n",
    "ax.set_xlabel(\"Observations\")\n",
    "ax.set_ylabel(\"Time (seconds)\")\n",
    "#ax_scores.set_title(\"Scores\")\n",
    "ax.legend()\n",
    "fig.tight_layout()\n",
    "plt.savefig(pathlib.Path(benchmark_dir, \"estimator_computational_cost.pdf\"))\n"
   ]
  },
  {
   "cell_type": "markdown",
   "metadata": {},
   "source": [
    "# Evolution of the environments at a list of specific timepoints\n",
    "\n",
    "Generates figures for the state of the environment components at various timepoints. The default timepoints are the 1, 5, 10, 15 that are good for visualizing what goes on in the multiday experiments. \n",
    "\n",
    "The results are saved into $data/env-dynamics-{typename}-{value} files."
   ]
  },
  {
   "cell_type": "code",
   "execution_count": null,
   "metadata": {},
   "outputs": [],
   "source": [
    "typenames = [\"Miniberry-10\", \"Miniberry-30\", \"Miniberry-100\", \"Waterberry\"]\n",
    "#typenames = [\"Miniberry-100\"]\n",
    "values = [\"tylcv\", \"ccr\", \"soil\"]\n",
    "timepoints = [1, 5, 10, 15]\n",
    "\n",
    "for value in values:\n",
    "    for typename in typenames:\n",
    "        _, wbfe, _ = create_wbfe(saved = True, wbf_prec = None, typename = typename)\n",
    "        fig, axs = plt.subplots(1, len(timepoints), figsize = (2.5 * len(timepoints), 2.5))\n",
    "        #fig.suptitle(f\"{typename} / {value}\")\n",
    "        ntt = 0\n",
    "        for t in range(timepoints[-1]+1):\n",
    "            if t >= timepoints[ntt]:\n",
    "                if value == \"tylcv\":\n",
    "                    val = wbfe.tylcv.value\n",
    "                elif value == \"ccr\":\n",
    "                    val = wbfe.ccr.value\n",
    "                elif value == \"soil\":\n",
    "                    val = wbfe.soil.value\n",
    "                axs[ntt].imshow(val.T, vmin=0, vmax=1, cmap=\"gray\", origin=\"lower\")\n",
    "                axs[ntt].set_title(f\"t={timepoints[ntt]}\")\n",
    "                ntt = ntt + 1\n",
    "            wbfe.proceed()\n",
    "        fig.tight_layout()\n",
    "        plt.savefig(pathlib.Path(benchmark_dir, f\"env-dynamics-{typename}-{value}.pdf\"))\n",
    "        plt.savefig(pathlib.Path(benchmark_dir, f\"env-dynamics-{typename}-{value}.jpg\"))\n",
    "\n"
   ]
  }
 ],
 "metadata": {
  "kernelspec": {
   "display_name": "base",
   "language": "python",
   "name": "python3"
  },
  "language_info": {
   "codemirror_mode": {
    "name": "ipython",
    "version": 3
   },
   "file_extension": ".py",
   "mimetype": "text/x-python",
   "name": "python",
   "nbconvert_exporter": "python",
   "pygments_lexer": "ipython3",
   "version": "3.11.4"
  },
  "orig_nbformat": 4,
  "vscode": {
   "interpreter": {
    "hash": "13140b3b9092b9a26a4b55ddc500d8b0c9f21b15e8ef2dd16bed19d6074a1e03"
   }
  }
 },
 "nbformat": 4,
 "nbformat_minor": 2
}
