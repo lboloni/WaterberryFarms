{
 "cells": [
  {
   "cell_type": "markdown",
   "metadata": {},
   "source": [
    "# Compare the results of various experiments involving 1 robot for 1 day\n",
    "\n",
    "This notebook creates graphs that compare the results of various experimental runs that involved running 1 robot for 1 day. \n",
    "\n",
    "This comparison is described by an exp/run of type 1robot1day, starting with the prefix comp_xxx. The sub-experiments are listed in that exp/run file.\n",
    "\n",
    "The assumption is that those experiments had been already run and their results had been stored in the results.pickle files in the corresponding data dirs. "
   ]
  },
  {
   "cell_type": "code",
   "execution_count": null,
   "metadata": {},
   "outputs": [
    {
     "ename": "ImportError",
     "evalue": "cannot import name 'add_robot_path' from 'wbf_figures' (c:\\Users\\lboloni\\Documents\\Code\\_Checkouts\\WBF\\WaterBerryFarms\\notebooks\\..\\wbf_figures.py)",
     "output_type": "error",
     "traceback": [
      "\u001b[1;31m---------------------------------------------------------------------------\u001b[0m",
      "\u001b[1;31mImportError\u001b[0m                               Traceback (most recent call last)",
      "Cell \u001b[1;32mIn[1], line 13\u001b[0m\n\u001b[0;32m     10\u001b[0m \u001b[38;5;28;01mimport\u001b[39;00m \u001b[38;5;21;01mmatplotlib\u001b[39;00m\u001b[38;5;21;01m.\u001b[39;00m\u001b[38;5;21;01mpyplot\u001b[39;00m \u001b[38;5;28;01mas\u001b[39;00m \u001b[38;5;21;01mplt\u001b[39;00m\n\u001b[0;32m     11\u001b[0m \u001b[38;5;28;01mimport\u001b[39;00m \u001b[38;5;21;01mnumpy\u001b[39;00m \u001b[38;5;28;01mas\u001b[39;00m \u001b[38;5;21;01mnp\u001b[39;00m\n\u001b[1;32m---> 13\u001b[0m \u001b[38;5;28;01mfrom\u001b[39;00m \u001b[38;5;21;01mwbf_figures\u001b[39;00m \u001b[38;5;28;01mimport\u001b[39;00m end_of_day_graphs, graph_env_im, add_robot_path\n",
      "\u001b[1;31mImportError\u001b[0m: cannot import name 'add_robot_path' from 'wbf_figures' (c:\\Users\\lboloni\\Documents\\Code\\_Checkouts\\WBF\\WaterBerryFarms\\notebooks\\..\\wbf_figures.py)"
     ]
    }
   ],
   "source": [
    "import sys\n",
    "sys.path.append(\"..\")\n",
    "from exp_run_config import Config\n",
    "Config.PROJECTNAME = \"WaterBerryFarms\"\n",
    "import pathlib\n",
    "#from pprint import pprint\n",
    "import gzip as compress\n",
    "#import copy\n",
    "import pickle\n",
    "import matplotlib.pyplot as plt\n",
    "import numpy as np\n",
    "\n",
    "import wbf_figures"
   ]
  },
  {
   "cell_type": "code",
   "execution_count": null,
   "metadata": {},
   "outputs": [],
   "source": [
    "experiment = \"1robot1day\"\n",
    "\n",
    "# the lead run is the one that will provide the test data.\n",
    "# also the directory of this run is where the graphs will be saved.\n",
    "\n",
    "# leadrun = \"comp_all\"\n",
    "leadrun = \"comp_ad\"\n",
    "\n",
    "# now load them\n",
    "\n",
    "leadexp = Config().get_experiment(experiment, leadrun)\n",
    "\n",
    "runs = leadexp[\"tocompare\"]\n",
    "\n",
    "exps = []\n",
    "allresults = [ ]\n",
    "for run in runs:\n",
    "    exp = Config().get_experiment(experiment, run)\n",
    "    exps.append(exp)\n",
    "    resultsfile = pathlib.Path(exp[\"data_dir\"], \"results.pickle\")\n",
    "    if not resultsfile.exists():\n",
    "        print(f\"Results file does not exist:\\n{resultsfile}\")\n",
    "        print(\"Run the notebook Run-1Robot1Day with the same exp/run to create it.\")\n",
    "        raise Exception(\"Nothing to do.\")\n",
    "    with compress.open(resultsfile, \"rb\") as f:\n",
    "        results = pickle.load(f)\n",
    "    allresults.append(results)"
   ]
  },
  {
   "cell_type": "code",
   "execution_count": null,
   "metadata": {},
   "outputs": [],
   "source": [
    "graphfilename = pathlib.Path(leadexp[\"data_dir\"], \"end-of-day.pdf\")\n",
    "wbf_figures.end_of_day_graphs(allresults[0], graphfilename = graphfilename, plot_uncertainty = False)"
   ]
  },
  {
   "cell_type": "code",
   "execution_count": null,
   "metadata": {},
   "outputs": [],
   "source": [
    "fig, ax_scores = plt.subplots(1, figsize=(6,4))\n",
    "for results in allresults:\n",
    "    ax_scores.plot(results[\"scores\"], label = f'{results[\"policy-code\"].name[len(\"benchmarkpaper-\"):]}+{results[\"estimator-code\"].name}')\n",
    "ax_scores.set_ylim(top=0)\n",
    "ax_scores.set_xlabel(\"Time\")\n",
    "ax_scores.set_ylabel(\"Score\")\n",
    "ax_scores.set_title(\"Scores\")\n",
    "ax_scores.legend()\n",
    "fig.tight_layout()"
   ]
  },
  {
   "cell_type": "code",
   "execution_count": null,
   "metadata": {},
   "outputs": [],
   "source": [
    "horizontal = True\n",
    "labels = [\"food\", \"bar\"]\n",
    "metric=\"tylcv\"\n",
    "uncmap = \"inferno\" # was \"grey\", \"viridis\""
   ]
  },
  {
   "cell_type": "code",
   "execution_count": null,
   "metadata": {},
   "outputs": [],
   "source": [
    "if horizontal:\n",
    "    fig, axes = plt.subplots(nrows=3, ncols=(1+len(labels)), figsize=(3*(1+len(labels)),  3*3))\n",
    "    #b = [ a[i][0] for i in range(len(a))]\n",
    "    firstax = [ axes[i][0] for i in range(len(axes))]\n",
    "else:    \n",
    "    fig, axes = plt.subplots(nrows=(1+len(labels)), ncols=3, figsize=(3*3,3*(1+len(labels))))\n",
    "    firstax = axes[0]\n",
    "# print(firstax)\n",
    "firstax[0].axis('off')\n",
    "firstax[2].axis('off')\n",
    "\n",
    "# graph_env_im(allresults[labels[0]][\"wbfe\"], allresults[labels[0]][\"estimator-code\"], ax_env_tylcv=axes[0][1])\n",
    "graph_env_im(allresults[0][\"wbfe\"], allresults[0][\"estimator-code\"], **{f\"ax_env_{metric}\":firstax[1]})\n",
    "axes[1][0].set_title(f\"Ground truth {metric}\")\n",
    "filename = f\"gt-{metric}-\"\n",
    "for i, label in enumerate(labels):        \n",
    "    results = allresults[i]\n",
    "    filename += label + \"-\"\n",
    "    if horizontal:\n",
    "        axrow = [ axes[j][i+1] for j in range(len(axes))]\n",
    "        #axrow = axes[:][i+1]\n",
    "    else:    \n",
    "        axrow = axes[i+1]\n",
    "    # empty = np.ones_like(results[\"wbfe\"].tylcv.value.T)\n",
    "    empty = np.ones_like(vars(results[\"wbfe\"])[metric].value.T)\n",
    "    image_env = axrow[0].imshow(empty, vmin=0, vmax=1, origin=\"lower\", cmap=\"gray\")    \n",
    "    wbf_figures.show_robot_path(results, axrow[0], draw_robot = False)\n",
    "    # graph_env_im(results[\"wbfe\"], results[\"estimator-code\"], ax_im_tylcv=axrow[1])\n",
    "    graph_env_im(results[\"wbfe\"], results[\"estimator-code\"], **{f\"ax_im_{metric}\" : axrow[1]})\n",
    "    # graph_env_im(results[\"wbfe\"], results[\"estimator-code\"], ax_unc_tylcv = axrow[2], cmap=uncmap)\n",
    "    graph_env_im(results[\"wbfe\"], results[\"estimator-code\"], cmap=uncmap, **{f\"ax_unc_{metric}\": axrow[2]})\n",
    "    axrow[0].set_title(f\"{label} path\")\n",
    "    axrow[1].set_title(f\"{label} estimate\")\n",
    "    axrow[2].set_title(f\"{label} uncertainty\")\n",
    "plt.tight_layout()\n",
    "filename = filename[:-1] + \".pdf\"\n",
    "plt.savefig(pathlib.Path(results[\"results-basedir\"], filename)) "
   ]
  },
  {
   "cell_type": "code",
   "execution_count": null,
   "metadata": {},
   "outputs": [],
   "source": []
  }
 ],
 "metadata": {
  "kernelspec": {
   "display_name": "WBF-venv",
   "language": "python",
   "name": "python3"
  },
  "language_info": {
   "codemirror_mode": {
    "name": "ipython",
    "version": 3
   },
   "file_extension": ".py",
   "mimetype": "text/x-python",
   "name": "python",
   "nbconvert_exporter": "python",
   "pygments_lexer": "ipython3",
   "version": "3.11.4"
  }
 },
 "nbformat": 4,
 "nbformat_minor": 2
}
