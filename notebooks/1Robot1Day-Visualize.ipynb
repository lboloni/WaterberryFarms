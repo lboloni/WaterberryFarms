{
 "cells": [
  {
   "cell_type": "markdown",
   "metadata": {},
   "source": [
    "# Visualize one robot for one day\n",
    "\n",
    "Analize the result of an experiment that involves running one robot for one day. This experiment was specified by the exp/run of type __1robot1day__. It is expected that the experiment was run by running the notebook Run-1Robot1Day, which means that the corresponding results had been left in the \"results.pickle\" file in the exp/run datadir. \n",
    "\n",
    "This notebook loads those results and visualizes them. "
   ]
  },
  {
   "cell_type": "markdown",
   "metadata": {},
   "source": []
  },
  {
   "cell_type": "code",
   "execution_count": null,
   "metadata": {},
   "outputs": [],
   "source": [
    "import sys\n",
    "sys.path.append(\"..\")\n",
    "from settings import Config\n",
    "import pathlib\n",
    "from pprint import pprint\n",
    "import gzip as compress\n",
    "import pickle\n",
    "\n",
    "from WbfFigures import end_of_day_graphs"
   ]
  },
  {
   "cell_type": "code",
   "execution_count": null,
   "metadata": {},
   "outputs": [],
   "source": [
    "# the experiment for the robot run\n",
    "experiment = \"1robot1day\"\n",
    "run = \"random-waypoint-miniberry-30\"\n",
    "exp = Config().get_experiment(experiment, run)\n",
    "pprint(exp)\n",
    "\n",
    "resultsfile = pathlib.Path(exp[\"data_dir\"], \"results.pickle\")\n",
    "if not resultsfile.exists():\n",
    "    print(f\"Results file does not exist:\\n{resultsfile}\")\n",
    "    print(\"Run the notebook Run-1Robot1Day with the same exp/run to create it.\")\n",
    "    raise Exception(\"Nothing to do.\")\n"
   ]
  },
  {
   "cell_type": "code",
   "execution_count": null,
   "metadata": {},
   "outputs": [],
   "source": [
    "with compress.open(resultsfile, \"rb\") as f:\n",
    "    results = pickle.load(f)\n",
    "# if \"picture-path\" in results:\n",
    "#     print(\"Picture path in results!\")\n",
    "#     picture_paths.append(results[\"picture-path\"])\n"
   ]
  },
  {
   "cell_type": "code",
   "execution_count": null,
   "metadata": {},
   "outputs": [],
   "source": [
    "end_of_day_graphs(results, \"daily-summary.pdf\", plot_uncertainty = False)"
   ]
  },
  {
   "cell_type": "code",
   "execution_count": null,
   "metadata": {},
   "outputs": [],
   "source": []
  }
 ],
 "metadata": {
  "kernelspec": {
   "display_name": "WBF-venv",
   "language": "python",
   "name": "python3"
  },
  "language_info": {
   "codemirror_mode": {
    "name": "ipython",
    "version": 3
   },
   "file_extension": ".py",
   "mimetype": "text/x-python",
   "name": "python",
   "nbconvert_exporter": "python",
   "pygments_lexer": "ipython3",
   "version": "3.11.4"
  }
 },
 "nbformat": 4,
 "nbformat_minor": 2
}
