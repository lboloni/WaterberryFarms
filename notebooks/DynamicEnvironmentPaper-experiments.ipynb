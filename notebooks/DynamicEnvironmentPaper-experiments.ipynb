{
 "cells": [
  {
   "attachments": {},
   "cell_type": "markdown",
   "metadata": {},
   "source": [
    "# Experiments for the paper \"Informative Path Planning for Dynamic Environments\n",
    "* Target: TBD"
   ]
  },
  {
   "cell_type": "code",
   "execution_count": null,
   "metadata": {},
   "outputs": [],
   "source": [
    "# allow imports from the main source directory\n",
    "import sys\n",
    "sys.path.append('..')\n",
    "import logging\n",
    "logging.basicConfig(level=logging.WARNING)\n",
    "\n",
    "import pathlib\n",
    "\n",
    "import pickle\n",
    "import gzip as compress\n",
    "import copy\n",
    "import matplotlib.pyplot as plt\n",
    "import matplotlib.lines as lines\n",
    "# configuring the fonts such that no Type 3 fonts are used\n",
    "# requirement for ICRA\n",
    "import matplotlib\n",
    "matplotlib.rcParams['pdf.fonttype'] = 42\n",
    "matplotlib.rcParams['ps.fonttype'] = 42\n",
    "matplotlib.rcParams[\"figure.autolayout\"] = True\n",
    "\n",
    "import numpy as np\n",
    "import timeit\n",
    "import warnings\n",
    "\n",
    "from InformationModel import StoredObservationIM\n",
    "from WaterberryFarm import create_wbfe, WaterberryFarm, MiniberryFarm, WBF_IM_DiskEstimator, WBF_IM_GaussianProcess, WBF_Score_WeightedAsymmetric, get_datadir\n",
    "from wbf_simulate import action_precompute_environment, action_load_environment, action_run_multiday, get_geometry, graph_env_im, graph_robot_path_day, graph_scores, graph_scores_per_day\n",
    "from Policy import FollowPathPolicy, RandomWaypointPolicy\n",
    "from PathGenerators import find_fixed_budget_spiral, generate_lawnmower, find_fixed_budget_lawnmower, generate_spiral_path, find_fixed_budget_spiral\n",
    "\n",
    "logging.getLogger().setLevel(logging.WARNING)\n",
    "\n",
    "# notebook-specific directory for experiments etc.\n",
    "experiment_dir = pathlib.Path(get_datadir(), \"DynamicEnvironmentPaper\")\n",
    "experiment_dir.mkdir(exist_ok=True)"
   ]
  },
  {
   "cell_type": "code",
   "execution_count": null,
   "metadata": {},
   "outputs": [],
   "source": [
    "# Precompute the environments\n",
    "precompute_time = 50\n",
    "# typenames = [\"Miniberry-10\", \"Miniberry-30\", \"Miniberry-100\", \"Waterberry\"]\n",
    "typenames = [\"Miniberry-10\",\"Miniberry-30\", \"Miniberry-100\"]\n",
    "time_start_environment = 6\n",
    "\n",
    "# typenames = [\"Waterberry\"]\n",
    "# typenames = [\"Miniberry-100\"]\n",
    "for typename in typenames:\n",
    "    action_precompute_environment({\"geometry\": typename, \"precompute-time\": precompute_time})"
   ]
  },
  {
   "attachments": {},
   "cell_type": "markdown",
   "metadata": {},
   "source": [
    "# Plot environment\n",
    "\n",
    "Function to plot the state of the environment at various days. "
   ]
  },
  {
   "cell_type": "code",
   "execution_count": null,
   "metadata": {},
   "outputs": [],
   "source": [
    "def graph_environments(geometry = \"Miniberry-30\", start_day = 6, days_to_plot = {6, 9, 12, 15, 21}):\n",
    "    choices = {}\n",
    "    # precompute-environment with precompute-time = 0 is just loading it\n",
    "    choices[\"geometry\"] = geometry\n",
    "    choices[\"result-basedir\"] = experiment_dir\n",
    "    choices[\"timesteps_per_day\"] = 500 \n",
    "    choices[\"time_start_environment\"] = start_day\n",
    "    results = action_load_environment(choices)\n",
    "    wbfe = results[\"wbfe\"]\n",
    "\n",
    "    fig, axis = plt.subplots(3, len(days_to_plot), figsize=(18,9))\n",
    "\n",
    "    row = 0\n",
    "    for i in range(0, choices[\"time_start_environment\"] + 15 + 1):\n",
    "        if i in days_to_plot:\n",
    "            graph_env_im(wbfe, None, ax_env_tylcv=axis[0, row], ax_env_ccr=axis[1, row], ax_env_soil=axis[2, row], title_string = \"{label} \" + f\"day {i}\")\n",
    "            row = row + 1\n",
    "        wbfe.proceed(1.0)\n",
    "    plt.show()"
   ]
  },
  {
   "cell_type": "code",
   "execution_count": null,
   "metadata": {},
   "outputs": [],
   "source": [
    "graph_environments()"
   ]
  },
  {
   "attachments": {},
   "cell_type": "markdown",
   "metadata": {},
   "source": [
    "## Graph the results of a multi-day experiment\n",
    "A combined plot of the experiments. It allows us to plot the trajectories on different days, the model at the end, and the evolution of the score in different days and accross the interval"
   ]
  },
  {
   "cell_type": "code",
   "execution_count": null,
   "metadata": {},
   "outputs": [],
   "source": [
    "\n",
    "\n",
    "\n",
    "\n",
    "def graph_multi_day_experiment(results, graphfilename=\"DynamicResults.pdf\"):\n",
    "    # First trial: let us just plot the trajectory on day 1 and day 7\n",
    "    fig, ((ax_path_1, ax_path_7, ax_score_per_day, ax_score_all)) = plt.subplots(1, 4, figsize=(16,4))\n",
    "    graph_robot_path_day(results, 1, ax_path_1)\n",
    "    graph_robot_path_day(results, 7, ax_path_7)\n",
    "    graph_scores_per_day(results, ax_score_per_day)\n",
    "    graph_scores(results, ax_score_all)\n",
    "\n"
   ]
  },
  {
   "cell_type": "code",
   "execution_count": null,
   "metadata": {},
   "outputs": [],
   "source": []
  },
  {
   "attachments": {},
   "cell_type": "markdown",
   "metadata": {},
   "source": [
    "## Compare random waypoint and lawnmower in multi-day experiments\n",
    "Perform the experiments for different policies differently parameterized. "
   ]
  },
  {
   "cell_type": "code",
   "execution_count": null,
   "metadata": {},
   "outputs": [],
   "source": [
    "default_choices = {\"geometry\": \"Miniberry-30\", \"result-basedir\": experiment_dir}\n",
    "default_choices[\"velocity\"] = 1\n",
    "default_choices[\"timesteps-per-day-override\"] = 500 # 500, 1000\n",
    "default_choices[\"score-resolution\"] = 10\n",
    "default_choices[\"time-start-environment\"] = 6\n",
    "\n",
    "# if force_run is false, we do not re-run an already run policy \n",
    "force_run = False\n",
    "policies = []\n",
    "\n",
    "# a random waypoint policy\n",
    "geo = get_geometry(default_choices[\"geometry\"])\n",
    "policy = RandomWaypointPolicy(vel = 1, low_point = [geo[\"xmin\"], geo[\"ymin\"]], high_point = [geo[\"xmax\"], geo[\"ymax\"]], seed = 0)  \n",
    "policy.name = \"RandomWaypoint-Seed0\"\n",
    "policies.append(policy)\n",
    "\n",
    " # a lawnmower policy that covers the target area in one day uniformly\n",
    "geo = get_geometry(default_choices[\"geometry\"])\n",
    "path = find_fixed_budget_lawnmower([0,0], geo[\"xmin\"], geo[\"xmax\"], geo[\"ymin\"], geo[\"ymax\"], geo[\"velocity\"], time = geo[\"timesteps-per-day\"])\n",
    "policy = FollowPathPolicy(vel = geo[\"velocity\"], waypoints = path, repeat = True)\n",
    "policy.name = \"FixedBudgetLawnmower\"\n",
    "policies.append(policy)\n",
    "\n",
    "for policy in policies:\n",
    "    print(policy)\n",
    "    # do a dryrun, to get the path to the cached values\n",
    "    choices = copy.copy(default_choices)\n",
    "    choices[\"policy-code\"] = policy\n",
    "    choices[\"policy-name\"] = policy.name\n",
    "    choices[\"dryrun\"] = True\n",
    "    choices[\"estimator-name\"] = \"AD\"\n",
    "    choices[\"estimator-code\"] = WBF_IM_DiskEstimator(geo[\"width\"], geo[\"height\"])\n",
    "    choices[\"score-code\"] = WBF_Score_WeightedAsymmetric()\n",
    "\n",
    "    results = action_run_multiday(choices)\n",
    "    path = results[\"results-path\"]\n",
    "    print(path)\n",
    "    # avoid re-running experiments\n",
    "    if not path.exists() or force_run:\n",
    "        choices[\"dryrun\"] = False\n",
    "        results = action_run_multiday(choices)\n",
    "    else:\n",
    "        with compress.open(path, \"rb\") as f:\n",
    "            results = pickle.load(f)\n",
    "    graph_multi_day_experiment(results, f\"daily-summary-{results['policy-name']}-{results['estimator-name']}.pdf\")"
   ]
  }
 ],
 "metadata": {
  "kernelspec": {
   "display_name": "Python 3",
   "language": "python",
   "name": "python3"
  },
  "language_info": {
   "codemirror_mode": {
    "name": "ipython",
    "version": 3
   },
   "file_extension": ".py",
   "mimetype": "text/x-python",
   "name": "python",
   "nbconvert_exporter": "python",
   "pygments_lexer": "ipython3",
   "version": "3.10.6"
  },
  "orig_nbformat": 4,
  "vscode": {
   "interpreter": {
    "hash": "916dbcbb3f70747c44a77c7bcd40155683ae19c65e1c03b4aa3499c5328201f1"
   }
  }
 },
 "nbformat": 4,
 "nbformat_minor": 2
}
