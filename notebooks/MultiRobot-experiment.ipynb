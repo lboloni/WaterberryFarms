{
 "cells": [
  {
   "cell_type": "markdown",
   "metadata": {},
   "source": [
    "# Experiments with multiple robots\n",
    "\n",
    "Illustrating various ways of running a __one day__ experiment on a __static environment__ with a __multiple robots__. The experiments compare estimator/path planner pairs. The path planners are simple static examples (lawnmower, spiral, random waypoint) and they are not intended to be state of the art"
   ]
  },
  {
   "cell_type": "code",
   "execution_count": null,
   "metadata": {},
   "outputs": [],
   "source": [
    "import sys\n",
    "\n",
    "sys.path.append('..')\n",
    "from config_wbf import WBFConfig\n",
    "import logging\n",
    "logging.basicConfig(level=logging.WARNING)\n",
    "\n",
    "import pathlib\n",
    "import socket\n",
    "import pickle\n",
    "import gzip as compress\n",
    "import copy\n",
    "import matplotlib.pyplot as plt\n",
    "import matplotlib.lines as lines\n",
    "import matplotlib.patches as patches\n",
    "# configuring the fonts such that no Type 3 fonts are used\n",
    "# requirement for ICRA\n",
    "import matplotlib\n",
    "matplotlib.rcParams['pdf.fonttype'] = 42\n",
    "matplotlib.rcParams['ps.fonttype'] = 42\n",
    "matplotlib.rcParams[\"figure.autolayout\"] = True\n",
    "\n",
    "import numpy as np\n",
    "import timeit\n",
    "import warnings\n",
    "\n",
    "from InformationModel import StoredObservationIM\n",
    "from WaterberryFarm import create_wbfe, WaterberryFarm, MiniberryFarm, WBF_IM_DiskEstimator, WBF_IM_GaussianProcess, WBF_Score_WeightedAsymmetric, get_datadir\n",
    "from WbfExperiment import action_run_1day, action_precompute_environment, get_geometry\n",
    "from WbfExperimentMultiRobot import action_run_1day_multirobot\n",
    "from WbfFigures import graph_env_im, graph_scores, hook_create_pictures, end_of_day_graphs, add_robot_path\n",
    "from Policy import FollowPathPolicy, RandomWaypointPolicy\n",
    "from PathGenerators import find_fixed_budget_spiral, generate_lawnmower, find_fixed_budget_lawnmower, generate_spiral_path, find_fixed_budget_spiral\n",
    "\n",
    "logging.getLogger().setLevel(logging.WARNING)\n",
    "\n",
    "# all the experiments results etc. should go into this directory\n",
    "benchmark_dir = pathlib.Path(get_datadir(), \"MultiRobotExperiments\")\n",
    "benchmark_dir.mkdir(exist_ok=True)"
   ]
  },
  {
   "cell_type": "code",
   "execution_count": null,
   "metadata": {},
   "outputs": [],
   "source": [
    "default_choices = {\"geometry\": \"Miniberry-100\", \"action\": \"run\", \"scenario\": \"one-day-single-value\", \"visualize\": 0,  \"results-basedir\": benchmark_dir}\n",
    "default_choices[\"velocity\"] = 1\n",
    "default_choices[\"timesteps-per-day-override\"] = 500 # 1000\n",
    "default_choices[\"time-start-environment\"] = 6\n",
    "# uncomment or change this to a lower number to run the estimator more often\n",
    "default_choices[\"im_resolution\"] = 10\n",
    "# uncomment this to generate pictures. WARNING: takes longer!\n",
    "# default_choices[\"hook-after-day\"] = hook_create_pictures\n",
    "\n",
    "# precompute environments for a very little time, as these are static\n",
    "precompute = 7\n",
    "typenames = [\"Miniberry-100\"]\n",
    "time_start_environment = 6\n",
    "\n",
    "for typename in typenames:\n",
    "    action_precompute_environment({\"geometry\": typename, \"precompute-time\": precompute})"
   ]
  },
  {
   "cell_type": "markdown",
   "metadata": {},
   "source": [
    "## Run one experiment with two random policies\n",
    "\n",
    "This is a starting experiment if we can successfully run an experiment with two robots "
   ]
  },
  {
   "cell_type": "code",
   "execution_count": null,
   "metadata": {},
   "outputs": [],
   "source": [
    "geo = get_geometry(default_choices[\"geometry\"])\n",
    "policy1 = RandomWaypointPolicy(vel = 1, low_point = [geo[\"xmin\"], geo[\"ymin\"]], high_point = [geo[\"xmax\"], geo[\"ymax\"]], seed = 0)\n",
    "policy2 = RandomWaypointPolicy(vel = 1, low_point = [geo[\"xmin\"], geo[\"ymin\"]], high_point = [geo[\"xmax\"], geo[\"ymax\"]], seed = 1)\n",
    "policies = [policy1, policy2]\n",
    "policy_names = [\"poli1\", \"poly2\"]\n",
    "\n",
    "choices = copy.copy(default_choices)\n",
    "choices[\"results-filename\"] = \"two-random\"\n",
    "choices[\"policy-code\"] = policies\n",
    "choices[\"dryrun\"] = False\n",
    "choices[\"estimator-name\"] = \"AD\"\n",
    "choices[\"estimator-code\"] = WBF_IM_DiskEstimator(geo[\"width\"], geo[\"height\"])\n",
    "choices[\"score-code\"] = WBF_Score_WeightedAsymmetric()\n",
    "\n",
    "# choices[\"hook-after-day\"] = hook_create_pictures\n",
    "\n",
    "results = action_run_1day_multirobot(choices)\n",
    "path = results[\"results-path\"]\n",
    "print(path)"
   ]
  },
  {
   "cell_type": "code",
   "execution_count": null,
   "metadata": {},
   "outputs": [],
   "source": [
    "# visualize the paths\n",
    "fig, ax = plt.subplots(1,1)\n",
    "ax.set_xlim(100)\n",
    "ax.set_ylim(100)\n",
    "add_robot_path(results, ax, draw_robot=True)\n"
   ]
  },
  {
   "cell_type": "markdown",
   "metadata": {},
   "source": [
    "## Configurations of multiple robots with multiple policies\n",
    "\n",
    "* Create three experiments with two robots each.\n",
    "    * Two random policies (Rand-Rand)\n",
    "    * One random policy + one FBLM (Rand-FBLM)\n",
    "    * Two FBLM (FBLM-FBLM)\n",
    "* Run the three experiments\n",
    "* Plot the evolution of the scores in time\n",
    "* Create the general picture for them"
   ]
  },
  {
   "cell_type": "code",
   "execution_count": 1,
   "metadata": {},
   "outputs": [],
   "source": [
    "def configurations_with_two_robots(geom):\n",
    "    policies = []\n",
    "\n",
    "    # Rand-Rand\n",
    "    policy_set = []\n",
    "    geo = copy.copy(geom)\n",
    "    policy = RandomWaypointPolicy(vel = 1, low_point = [geo[\"xmin\"], geo[\"ymin\"]], high_point = [geo[\"xmax\"], geo[\"ymax\"]], seed = 0)  \n",
    "    policy.name = \"RandomWaypoint-Seed0\"\n",
    "    policy_set.append(policy)\n",
    "\n",
    "    geo = copy.copy(geom)\n",
    "    policy = RandomWaypointPolicy(vel = 1, low_point = [geo[\"xmin\"], geo[\"ymin\"]], high_point = [geo[\"xmax\"], geo[\"ymax\"]], seed = 1)  \n",
    "    policy.name = \"RandomWaypoint-Seed1\"\n",
    "    policy_set.append(policy)\n",
    "\n",
    "    policies.append({\"name\": \"rand-rand\", \"policies\": policy_set})\n",
    "\n",
    "    # Rand-FBLM\n",
    "    policy_set = []\n",
    "    geo = copy.copy(geom)\n",
    "    policy = RandomWaypointPolicy(vel = 1, low_point = [geo[\"xmin\"], geo[\"ymin\"]], high_point = [geo[\"xmax\"], geo[\"ymax\"]], seed = 0)  \n",
    "    policy.name = \"RandomWaypoint-Seed0\"\n",
    "    policy_set.append(policy)\n",
    "\n",
    "    geo = copy.copy(geom)\n",
    "    path = find_fixed_budget_lawnmower([0,0], geo[\"xmin\"], geo[\"xmax\"], geo[\"ymin\"], geo[\"ymax\"], geo[\"velocity\"], time = geo[\"timesteps-per-day\"])\n",
    "    policy = FollowPathPolicy(vel = geo[\"velocity\"], waypoints = path, repeat = True)\n",
    "    policy.name = \"FixedBudgetLawnmower\"\n",
    "    policy_set.append(policy)\n",
    "\n",
    "    policies.append({\"name\": \"rand-fblm\", \"policies\": policy_set})\n",
    "\n",
    "    # FBLM-FBLM\n",
    "    policy_set = []\n",
    "\n",
    "    geo = copy.copy(geom)\n",
    "    path = find_fixed_budget_lawnmower([0,0], geo[\"xmin\"], geo[\"xmax\"], geo[\"ymin\"], geo[\"ymax\"], geo[\"velocity\"], time = geo[\"timesteps-per-day\"])\n",
    "    policy = FollowPathPolicy(vel = geo[\"velocity\"], waypoints = path, repeat = True)\n",
    "    policy.name = \"FixedBudgetLawnmower\"\n",
    "    policy_set.append(policy)\n",
    "\n",
    "    geo = copy.copy(geom)\n",
    "    path = find_fixed_budget_lawnmower([0,0], geo[\"xmin\"], geo[\"xmax\"], geo[\"ymin\"], geo[\"ymax\"], geo[\"velocity\"], time = geo[\"timesteps-per-day\"])\n",
    "    policy = FollowPathPolicy(vel = geo[\"velocity\"], waypoints = path, repeat = True)\n",
    "    policy.name = \"FixedBudgetLawnmower\"\n",
    "    policy_set.append(policy)\n",
    "\n",
    "    policies.append({\"name\": \"fblm-fblm\", \"policies\": policy_set})\n",
    "\n",
    "    return policies\n"
   ]
  },
  {
   "cell_type": "code",
   "execution_count": null,
   "metadata": {},
   "outputs": [],
   "source": [
    "def run_multi_policies(policies, default_choices, force_run = False):\n",
    "    \"\"\"Run scenarios with multiple robots, with different policies.\n",
    "    The policies should be a list with one dictionary / item with the fields\n",
    "    name and policies. The policies is a vector of policies, one for each robot.\n",
    "    \"\"\"\n",
    "    picture_paths = []\n",
    "\n",
    "    for p in policies:\n",
    "        # do a dryrun, to get the path to the cached values\n",
    "        choices = copy.copy(default_choices)\n",
    "        choices[\"policy-code\"] = p[\"policies\"]\n",
    "        # FIXME: technically, this is the experiment name, used both \n",
    "        # for file name as well as in visualization.\n",
    "        # make sure it works\n",
    "        choices[\"file-name\"] = p[\"name\"]\n",
    "        choices[\"dryrun\"] = True\n",
    "        results = action_run_1day_multirobot(choices)\n",
    "        path = results[\"results-path\"]\n",
    "        print(path)\n",
    "        # print(results.keys())\n",
    "        # avoid re-running experiments\n",
    "        if not path.exists() or force_run:\n",
    "            print(f\"{p['name']}: Running the experiments\")\n",
    "            choices[\"dryrun\"] = False\n",
    "            results = action_run_1day(choices)\n",
    "        else:\n",
    "            print(f\"{p['name']}: Reusing previously done experiment results\")\n",
    "            with compress.open(path, \"rb\") as f:\n",
    "                results = pickle.load(f)\n",
    "        # FIXME: I think that this was used for videos, but this is \n",
    "        # not a clean way to do this.\n",
    "        if \"picture-path\" in results:\n",
    "            print(\"Picture path in results!\")\n",
    "            picture_paths.append(results[\"picture-path\"])\n",
    "        # FIXME: probably this whole experiment setting should have a name\n",
    "        # and that is what we want to have in there.\n",
    "        end_of_day_graphs(results, f\"daily-summary-{results['policy-code'].name}-{results['estimator-name']}.pdf\", plot_uncertainty = False)"
   ]
  },
  {
   "cell_type": "code",
   "execution_count": null,
   "metadata": {},
   "outputs": [],
   "source": [
    "geo = get_geometry(default_choices[\"geometry\"])\n",
    "policies = configurations_with_two_robots(geo)\n",
    "run_multi_policies(policies, default_choices, force_run = False)"
   ]
  },
  {
   "cell_type": "markdown",
   "metadata": {},
   "source": [
    "## Configurations with different numbers of robots\n",
    "* Create experiments with 1, 2, ...5 robots with Random Waypoint policies\n",
    "* Run the experiments \n",
    "* Plot the evolution of the scores in time\n",
    "* Create the general picture for them\n"
   ]
  },
  {
   "cell_type": "code",
   "execution_count": null,
   "metadata": {},
   "outputs": [],
   "source": [
    "def configurations_with_variable_no_robots(geom):\n",
    "    policies = []\n",
    "\n",
    "    for i in range(1, 5):\n",
    "        policy_set = []\n",
    "        geo = copy.copy(geom)\n",
    "        for j in range(0, i):\n",
    "            policy = RandomWaypointPolicy(vel = 1, low_point = [geo[\"xmin\"], geo[\"ymin\"]], high_point = [geo[\"xmax\"], geo[\"ymax\"]], seed = j)  \n",
    "            policy.name = \"RandomWaypoint-Seed0\"\n",
    "            policy_set.append(policy)\n",
    "        policies.append({\"name\": f\"rand-{i}\", \"policies\": policy_set})\n",
    "\n",
    "    return policies\n"
   ]
  },
  {
   "cell_type": "code",
   "execution_count": null,
   "metadata": {},
   "outputs": [],
   "source": [
    "geo = get_geometry(default_choices[\"geometry\"])\n",
    "policies = configurations_with_variable_no_robots(geo)\n",
    "run_multi_policies(policies, default_choices, force_run = False)"
   ]
  }
 ],
 "metadata": {
  "kernelspec": {
   "display_name": "WBF-venv",
   "language": "python",
   "name": "python3"
  },
  "language_info": {
   "codemirror_mode": {
    "name": "ipython",
    "version": 3
   },
   "file_extension": ".py",
   "mimetype": "text/x-python",
   "name": "python",
   "nbconvert_exporter": "python",
   "pygments_lexer": "ipython3",
   "version": "3.11.4"
  }
 },
 "nbformat": 4,
 "nbformat_minor": 2
}
