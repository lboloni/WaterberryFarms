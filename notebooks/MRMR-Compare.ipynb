{
 "cells": [
  {
   "cell_type": "markdown",
   "id": "dd134b82",
   "metadata": {},
   "source": [
    "# MRMR: multiresolution multi-robot comparison graphs\n",
    "\n",
    "Code for the comparative analysis of experiments for this paper. It is assumed that the experiments had been run with nRobot1Day-Run. \n",
    "\n",
    "This code runs on an experiment under the type nrobot1day which specifies multiple subexperiments which has a prefix comp_xxx. The sub-experiments are listed in that exp/run file. \n",
    "\n",
    "The assumption is that those experiments had been already run and their results had been stored in the results.pickle files in the corresponding data dirs. \n",
    "\n",
    "This code follows the pattern of the one from 1Robot1Day-Compare\n",
    "\n"
   ]
  },
  {
   "cell_type": "code",
   "execution_count": 1,
   "id": "f1be78a9",
   "metadata": {},
   "outputs": [],
   "source": [
    "import sys\n",
    "sys.path.append(\"..\")\n",
    "from settings import Config\n",
    "import pathlib\n",
    "from pprint import pprint\n",
    "import gzip as compress\n",
    "import copy\n",
    "import pickle\n",
    "import matplotlib.pyplot as plt\n",
    "import numpy as np\n",
    "\n",
    "from information_model import StoredObservationIM\n"
   ]
  },
  {
   "cell_type": "code",
   "execution_count": 2,
   "id": "096a6a77",
   "metadata": {},
   "outputs": [
    {
     "name": "stdout",
     "output_type": "stream",
     "text": [
      "Loading pointer config file: C:\\Users\\lboloni\\.config\\WaterBerryFarms\\mainsettings.yaml\n",
      "Loading machine-specific config file: G:\\My Drive\\LotziStudy\\Code\\PackageTracking\\WaterBerryFarms\\settings\\WBF-config-LotziYoga.yaml\n",
      "No system dependent experiment file\n",
      " G:\\My Drive\\LotziStudy\\Code\\PackageTracking\\WaterBerryFarms\\settings\\experiment-config\\LotziYoga\\nrobot1day\\comp-mrmr_sysdep.yaml,\n",
      " that is ok, proceeding.\n",
      "Configuration for experiment: nrobot1day/comp-mrmr successfully loaded\n",
      "No system dependent experiment file\n",
      " G:\\My Drive\\LotziStudy\\Code\\PackageTracking\\WaterBerryFarms\\settings\\experiment-config\\LotziYoga\\nrobot1day\\mrmr-3random_sysdep.yaml,\n",
      " that is ok, proceeding.\n",
      "Configuration for experiment: nrobot1day/mrmr-3random successfully loaded\n",
      "No system dependent experiment file\n",
      " G:\\My Drive\\LotziStudy\\Code\\PackageTracking\\WaterBerryFarms\\settings\\experiment-config\\LotziYoga\\nrobot1day\\mrmr-3lawnmowers_sysdep.yaml,\n",
      " that is ok, proceeding.\n",
      "Configuration for experiment: nrobot1day/mrmr-3lawnmowers successfully loaded\n",
      "No system dependent experiment file\n",
      " G:\\My Drive\\LotziStudy\\Code\\PackageTracking\\WaterBerryFarms\\settings\\experiment-config\\LotziYoga\\nrobot1day\\mrmr-lead-2bidders_sysdep.yaml,\n",
      " that is ok, proceeding.\n",
      "Configuration for experiment: nrobot1day/mrmr-lead-2bidders successfully loaded\n"
     ]
    }
   ],
   "source": [
    "experiment = \"nrobot1day\"\n",
    "\n",
    "# the lead run is the one that will provide the test data.\n",
    "# also the directory of this run is where the graphs will be saved.\n",
    "\n",
    "# leadrun = \"comp_all\"\n",
    "leadrun = \"comp-mrmr\"\n",
    "\n",
    "# now load them\n",
    "\n",
    "leadexp = Config().get_experiment(experiment, leadrun)\n",
    "\n",
    "runs = leadexp[\"tocompare\"]\n",
    "\n",
    "exps = []\n",
    "allresults = [ ]\n",
    "for run in runs:\n",
    "    exp = Config().get_experiment(experiment, run)\n",
    "    exps.append(exp)\n",
    "    resultsfile = pathlib.Path(exp[\"data_dir\"], \"results.pickle\")\n",
    "    if not resultsfile.exists():\n",
    "        print(f\"Results file does not exist:\\n{resultsfile}\")\n",
    "        print(\"Run the notebook Run-1Robot1Day with the same exp/run to create it.\")\n",
    "        raise Exception(\"Nothing to do.\")\n",
    "    with compress.open(resultsfile, \"rb\") as f:\n",
    "        results = pickle.load(f)\n",
    "    allresults.append(results)"
   ]
  },
  {
   "cell_type": "code",
   "execution_count": 3,
   "id": "9366651a",
   "metadata": {},
   "outputs": [],
   "source": [
    "def count_detections(results, robotno, field = \"TYLCV\"):\n",
    "    \"\"\"Returns the number of detections for the specified robot, adapted from wbf_figures.show_detections\"\"\"\n",
    "    obs = np.array(results[\"observations\"])[:, robotno]\n",
    "    detections = [[a[StoredObservationIM.X], a[StoredObservationIM.Y]] for a in obs if a[field][StoredObservationIM.VALUE] == 0.0]\n",
    "    return len(detections)"
   ]
  },
  {
   "cell_type": "code",
   "execution_count": 5,
   "id": "d9af5bd6",
   "metadata": {},
   "outputs": [
    {
     "data": {
      "image/png": "[encoded data removed]",
      "text/plain": [
       "<Figure size 640x480 with 1 Axes>"
      ]
     },
     "metadata": {},
     "output_type": "display_data"
    }
   ],
   "source": [
    "fig, ax = plt.subplots(1,1)\n",
    "for exp, results in zip(exps, allresults):\n",
    "    total = 0\n",
    "    for i, robot in enumerate(results[\"robots\"]):\n",
    "        detections = count_detections(results, i)\n",
    "        total += detections\n",
    "    ax.bar(exp[\"name\"], total)\n",
    "plt.savefig(pathlib.Path(exp[\"data_dir\"], \"detections-compare-bar.pdf\"))"
   ]
  },
  {
   "cell_type": "code",
   "execution_count": null,
   "id": "f06b04ca",
   "metadata": {},
   "outputs": [],
   "source": []
  }
 ],
 "metadata": {
  "kernelspec": {
   "display_name": "WBF-venv",
   "language": "python",
   "name": "python3"
  },
  "language_info": {
   "codemirror_mode": {
    "name": "ipython",
    "version": 3
   },
   "file_extension": ".py",
   "mimetype": "text/x-python",
   "name": "python",
   "nbconvert_exporter": "python",
   "pygments_lexer": "ipython3",
   "version": "3.11.4"
  }
 },
 "nbformat": 4,
 "nbformat_minor": 5
}
