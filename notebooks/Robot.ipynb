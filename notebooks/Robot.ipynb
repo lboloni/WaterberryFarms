{
 "cells": [
  {
   "cell_type": "markdown",
   "id": "according-theme",
   "metadata": {},
   "source": [
    "## Experiments with the Robot class\n",
    "* Experiments and tests with the Robot class. "
   ]
  },
  {
   "cell_type": "code",
   "execution_count": 1,
   "id": "collectible-round",
   "metadata": {},
   "outputs": [],
   "source": [
    "# allow the import from the top file\n",
    "import sys\n",
    "import os\n",
    "# sys.path.append(os.path.join(os.path.dirname(__file__), '..'))\n",
    "sys.path.append('..')\n",
    "\n",
    "# import ast\n",
    "import math\n",
    "from collections import deque\n",
    "from ipywidgets import Output, HTML\n",
    "from Robot import Robot\n",
    "from Environment import Environment, DissipationModelEnvironment, EpidemicSpreadEnvironment\n",
    "from InformationModel import DiskEstimateScalarFieldIM\n",
    "from Policy import GoToLocationPolicy, FollowPathPolicy, RandomWaypointPolicy"
   ]
  },
  {
   "cell_type": "code",
   "execution_count": 2,
   "id": "informal-extreme",
   "metadata": {},
   "outputs": [],
   "source": [
    "env = DissipationModelEnvironment(\"water\", 100, 100, seed=1)\n",
    "env.evolve_speed = 1\n",
    "env.p_pollution = 0.1\n",
    "for t in range(90):\n",
    "    env.proceed()\n",
    "im = DiskEstimateScalarFieldIM(env.width, env.height, disk_radius=10)"
   ]
  },
  {
   "cell_type": "code",
   "execution_count": 3,
   "id": "anonymous-pearl",
   "metadata": {},
   "outputs": [
    {
     "name": "stdout",
     "output_type": "stream",
     "text": [
      "Robi --> loc = [x:20.00,y:30.00,alt:0.00] vel = [x:0.00,y:0.00,alt:0.00]\n",
      "Robi --> loc = [x:20.00,y:29.00,alt:0.00] vel = [x:0.00,y:-1.00,alt:0.00]\n"
     ]
    }
   ],
   "source": [
    "robot = Robot(\"Robi\", 20, 30, 0)\n",
    "robot.env = env\n",
    "robot.im = im\n",
    "# print(vars(robot))\n",
    "print(robot)\n",
    "robot.add_action(\"North\")\n",
    "robot.enact_policy()\n",
    "robot.proceed()\n",
    "print(robot)"
   ]
  },
  {
   "cell_type": "code",
   "execution_count": 4,
   "id": "alternative-seeking",
   "metadata": {},
   "outputs": [
    {
     "name": "stdout",
     "output_type": "stream",
     "text": [
      "<b>Robi</b><br/> loc = [x:3.14,y:29.00, alt:0.00]<br/>vel = [x:0.00,y:-1.00,alt:0.00]<br>Policy: None<br>Pending actions:[]\n"
     ]
    },
    {
     "data": {
      "application/vnd.jupyter.widget-view+json": {
       "model_id": "d0f3c591466b4dd082cdbeec2d595863",
       "version_major": 2,
       "version_minor": 0
      },
      "text/plain": [
       "HTML(value='<b>Robi</b><br/> loc = [x:3.14,y:29.00, alt:0.00]<br/>vel = [x:0.00,y:-1.00,alt:0.00]<br>Policy: N…"
      ]
     },
     "execution_count": 4,
     "metadata": {},
     "output_type": "execute_result"
    }
   ],
   "source": [
    "robot.x = math.pi\n",
    "print(robot.toHTML())\n",
    "HTML(\n",
    "    value=robot.toHTML(),\n",
    "    placeholder='Some HTML',\n",
    ")"
   ]
  },
  {
   "cell_type": "code",
   "execution_count": 5,
   "id": "surprised-gnome",
   "metadata": {},
   "outputs": [
    {
     "data": {
      "text/plain": [
       "'Pi = 3.14'"
      ]
     },
     "execution_count": 5,
     "metadata": {},
     "output_type": "execute_result"
    }
   ],
   "source": [
    "f\"Pi = {math.pi:.2f}\" "
   ]
  },
  {
   "cell_type": "code",
   "execution_count": 6,
   "id": "flying-creation",
   "metadata": {},
   "outputs": [
    {
     "name": "stdout",
     "output_type": "stream",
     "text": [
      "deque([[20.0, 29.0, 0.0]])\n"
     ]
    }
   ],
   "source": [
    "print(robot.location_history)"
   ]
  },
  {
   "cell_type": "code",
   "execution_count": 7,
   "id": "2439ef9f",
   "metadata": {},
   "outputs": [],
   "source": [
    "policy = FollowPathPolicy(vel = 1, waypoints=[[0,0], [5, 5], [9,0]], repeat = True)\n",
    "robot.assign_policy(policy)\n",
    "\n",
    "\n",
    "value = robot.toHTML()\n",
    "value += \"<br>Policy: \"\n",
    "if robot.policy == None:\n",
    "    value += \"None\"\n",
    "else: \n",
    "    value += str(robot.policy)\n",
    "value += \"<br>Pending actions:\"\n",
    "value += str(robot.pending_actions)"
   ]
  },
  {
   "cell_type": "code",
   "execution_count": 8,
   "id": "according-halifax",
   "metadata": {},
   "outputs": [
    {
     "data": {
      "application/vnd.jupyter.widget-view+json": {
       "model_id": "771f4cee185b4fe385908a1d9d4490f1",
       "version_major": 2,
       "version_minor": 0
      },
      "text/plain": [
       "HTML(value='<b>Robi</b><br/> loc = [x:3.14,y:29.00, alt:0.00]<br/>vel = [x:0.00,y:-1.00,alt:0.00]<br>Policy: F…"
      ]
     },
     "execution_count": 8,
     "metadata": {},
     "output_type": "execute_result"
    }
   ],
   "source": [
    "HTML(\n",
    "    value=value,\n",
    "    placeholder='Some HTML',\n",
    ")"
   ]
  },
  {
   "cell_type": "code",
   "execution_count": 9,
   "id": "cardiovascular-maine",
   "metadata": {},
   "outputs": [
    {
     "data": {
      "text/plain": [
       "{'env': None,\n",
       " 'name': 'FollowPathPolicy',\n",
       " 'waypoints': [[0, 0], [5, 5], [9, 0]],\n",
       " 'vel': 1,\n",
       " 'currentwaypoint': 0,\n",
       " 'repeat': True,\n",
       " 'robot': <Robot.Robot at 0x18c256f0a50>}"
      ]
     },
     "execution_count": 9,
     "metadata": {},
     "output_type": "execute_result"
    }
   ],
   "source": [
    "vars(robot.policy)"
   ]
  }
 ],
 "metadata": {
  "kernelspec": {
   "display_name": "WBF-venv",
   "language": "python",
   "name": "python3"
  },
  "language_info": {
   "codemirror_mode": {
    "name": "ipython",
    "version": 3
   },
   "file_extension": ".py",
   "mimetype": "text/x-python",
   "name": "python",
   "nbconvert_exporter": "python",
   "pygments_lexer": "ipython3",
   "version": "3.11.4"
  }
 },
 "nbformat": 4,
 "nbformat_minor": 5
}
