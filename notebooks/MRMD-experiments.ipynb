{
 "cells": [
  {
   "cell_type": "markdown",
   "id": "7ba4887e",
   "metadata": {},
   "source": [
    "# Multi-Resolution Multi-Robot\n",
    "\n",
    "Experiments for developing the code for this paper."
   ]
  },
  {
   "cell_type": "code",
   "execution_count": 1,
   "id": "0733490a",
   "metadata": {},
   "outputs": [],
   "source": [
    "import sys\n",
    "sys.path.append('..')\n",
    "\n",
    "import matplotlib.pyplot as plt\n",
    "from matplotlib.path import Path\n",
    "import matplotlib.patches as patches\n",
    "import textwrap\n",
    "\n",
    "import numpy as np\n",
    "from algorithms.mrmd.exploration_package import ExplorationPackage, ExplorationPackageSet\n",
    "from algorithms.mrmd.epmarket import EPAgent, EPOffer, EPMarket\n",
    "from path_generators import get_path_length\n"
   ]
  },
  {
   "cell_type": "code",
   "execution_count": 2,
   "id": "65b94410",
   "metadata": {},
   "outputs": [],
   "source": [
    "def visualize_path(pointlist, area=[], facecolor=\"yellow\", use_arrows= False):\n",
    "\n",
    "    \"\"\"Visualize a path (specified as a list of waypoints) and a set of control points (which might have been part of the specification)\n",
    "    :param area \"\"\"\n",
    "    fig, ax = plt.subplots(1,1, figsize=(5,5))\n",
    "    ax.invert_xaxis()\n",
    "    # plot the generated path\n",
    "    xlim_min, xlim_max = np.min(pointlist[:,0])-2, np.max(pointlist[:,0])+2\n",
    "    ylim_min, ylim_max = np.min(pointlist[:,1])-2, np.max(pointlist[:,1])+2\n",
    "    ax.set_xlim(0, 100)\n",
    "    ax.set_ylim(0, 100)\n",
    "\n",
    "    # if specified, add the area, and extend the plot \n",
    "    if len(area) > 0:\n",
    "        areapath = Path(area)        \n",
    "        ax.add_patch(patches.PathPatch(areapath, fill=True, facecolor=facecolor))\n",
    "        xlim_min, xlim_max = np.min(area[:,0])-2, np.max(area[:,0])+2\n",
    "        ylim_min, ylim_max = np.min(area[:,1])-2, np.max(area[:,1])+2\n",
    "\n",
    "    #ax.set_xlim(xlim_min, xlim_max)\n",
    "    #ax.set_ylim(ylim_min, ylim_max)\n",
    "    # add the trajectory\n",
    "    if use_arrows == False:\n",
    "        path = Path(pointlist)\n",
    "        ax.add_patch(patches.PathPatch(path, fill=False))\n",
    "    else:\n",
    "        previous_point = None\n",
    "        for point in pointlist:\n",
    "            if previous_point is not None:\n",
    "                ax.add_patch(patches.Arrow(previous_point[0], previous_point[1], point[0] - previous_point[0], point[1] - previous_point[1]))     \n",
    "            previous_point = point   \n",
    "    #plt.show()\n",
    "    return ax\n"
   ]
  },
  {
   "cell_type": "code",
   "execution_count": 3,
   "id": "011cfd3c",
   "metadata": {},
   "outputs": [
    {
     "name": "stdout",
     "output_type": "stream",
     "text": [
      "1821.1001238539702\n"
     ]
    },
    {
     "data": {
      "image/png": "[encoded data removed]",
      "text/plain": [
       "<Figure size 500x500 with 1 Axes>"
      ]
     },
     "metadata": {},
     "output_type": "display_data"
    }
   ],
   "source": [
    "ep1 = ExplorationPackage(20, 60, 20, 40, 2)\n",
    "path1 = ep1.lawnmower_horizontal_bottom_left()\n",
    "\n",
    "\n",
    "ep2 = ExplorationPackage(70, 90, 60, 80, 2)\n",
    "path2 = ep2.lawnmower_horizontal_bottom_right()\n",
    "\n",
    "ep3 = ExplorationPackage(75, 95, 20, 50, 3)\n",
    "path3 = ep3.lawnmower_horizontal_top_left()\n",
    "\n",
    "ep4 = ExplorationPackage(20, 50, 60, 90, 3)\n",
    "path4= ep4.lawnmower_horizontal_top_right()\n",
    "\n",
    "path5 = ep4.lawnmower_horizontal_bottom_left(shift=[1,1])\n",
    "\n",
    "\n",
    "#path = np.concatenate((path1, path2, path3, path4), axis=0)\n",
    "\n",
    "path = np.concatenate((path1, path2, path3, path4, path5), axis=0)\n",
    "\n",
    "print(get_path_length(path))\n",
    "\n",
    "#print(path)\n",
    "ax = visualize_path(path, use_arrows=True)\n",
    "#plt.draw()\n",
    "#plt.show()"
   ]
  },
  {
   "cell_type": "markdown",
   "id": "9066d1f8",
   "metadata": {},
   "source": [
    "### Trying out the exploration package set model"
   ]
  },
  {
   "cell_type": "raw",
   "id": "2172725e",
   "metadata": {
    "vscode": {
     "languageId": "raw"
    }
   },
   "source": [
    "ep1 = ExplorationPackage(20, 60, 20, 40, 2)\n",
    "ep2 = ExplorationPackage(70, 90, 60, 80, 2)\n",
    "ep3 = ExplorationPackage(75, 95, 20, 50, 3)\n",
    "ep4 = ExplorationPackage(20, 50, 60, 90, 3)\n",
    "ep5 = ExplorationPackage(10, 20, 10, 20, 2)\n",
    "\n",
    "\n",
    "eps = ExplorationPackageSet()\n",
    "eps.add_ep(ep1)\n",
    "eps.add_ep(ep2)\n",
    "eps.add_ep(ep3)\n",
    "eps.add_ep(ep4)\n",
    "eps.add_ep(ep5)\n",
    "\n",
    "path = eps.find_shortest_path(start=[50,50], end=[210,210])\n",
    "\n",
    "ax = visualize_path(path, use_arrows=True)\n",
    "\n"
   ]
  },
  {
   "cell_type": "markdown",
   "id": "7e213b19",
   "metadata": {},
   "source": [
    "## EPMarket\n",
    "\n",
    "From here: the implementation of a market of EPs and ExpPackPlanningAgents. This will be transferred to a regular python file. "
   ]
  },
  {
   "cell_type": "code",
   "execution_count": 4,
   "id": "1198ca90",
   "metadata": {},
   "outputs": [
    {
     "name": "stdout",
     "output_type": "stream",
     "text": [
      "EPMarket:\n",
      "    Pending offers: []\n",
      "    Accepted offers: []\n",
      "\n",
      "EPMarket:\n",
      "    Pending offers: [EPOffer: {   'assigned_to_name': None,\n",
      "        'bid_prize': 50,\n",
      "        'bids': {},\n",
      "        'ep': ExplorationPackage x=[20,60] y=[20, 40] step=2,\n",
      "        'executed': False,\n",
      "        'offering_agent_name': 'A',\n",
      "        'prize': 50,\n",
      "        'real_value': 0}]\n",
      "    Accepted offers: []\n",
      "\n",
      "Agent: A\n",
      "    Commitments: []\n",
      "    Outstanding offers: {EPOffer: {   'assigned_to_name': None,\n",
      "        'bid_prize': 50,\n",
      "        'bids': {},\n",
      "        'ep': ExplorationPackage x=[20,60] y=[20, 40] step=2,\n",
      "        'executed': False,\n",
      "        'offering_agent_name': 'A',\n",
      "        'prize': 50,\n",
      "        'real_value': 0}: EPOffer: {   'assigned_to_name': None,\n",
      "        'bid_prize': 50,\n",
      "        'bids': {},\n",
      "        'ep': ExplorationPackage x=[20,60] y=[20, 40] step=2,\n",
      "        'executed': False,\n",
      "        'offering_agent_name': 'A',\n",
      "        'prize': 50,\n",
      "        'real_value': 0}}\n",
      "    Outstanding bids: {}\n",
      "    Agreed deals: []\n",
      "    Terminated deals: []\n",
      "\n",
      "EPOffer: {   'assigned_to_name': None,\n",
      "    'bid_prize': 50,\n",
      "    'bids': {},\n",
      "    'ep': ExplorationPackage x=[20,60] y=[20, 40] step=2,\n",
      "    'executed': False,\n",
      "    'offering_agent_name': 'A',\n",
      "    'prize': 50,\n",
      "    'real_value': 0}\n",
      "EPMarket:\n",
      "    Pending offers: [EPOffer: {   'assigned_to_name': None,\n",
      "        'bid_prize': 10,\n",
      "        'bids': {},\n",
      "        'ep': ExplorationPackage x=[20,60] y=[20, 40] step=2,\n",
      "        'executed': False,\n",
      "        'offering_agent_name': 'A',\n",
      "        'prize': 10,\n",
      "        'real_value': 0}]\n",
      "    Accepted offers: [EPOffer: {   'assigned_to_name': None,\n",
      "        'bid_prize': 50,\n",
      "        'bids': {'B': 50, 'C': 48},\n",
      "        'ep': ExplorationPackage x=[20,60] y=[20, 40] step=2,\n",
      "        'executed': False,\n",
      "        'offering_agent_name': 'A',\n",
      "        'prize': 50,\n",
      "        'real_value': 0}]\n",
      "\n",
      "EPMarket:\n",
      "    Pending offers: []\n",
      "    Accepted offers: [EPOffer: {   'assigned_to_name': None,\n",
      "        'bid_prize': 50,\n",
      "        'bids': {'B': 50, 'C': 48},\n",
      "        'ep': ExplorationPackage x=[20,60] y=[20, 40] step=2,\n",
      "        'executed': False,\n",
      "        'offering_agent_name': 'A',\n",
      "        'prize': 50,\n",
      "        'real_value': 0}]\n",
      "\n"
     ]
    }
   ],
   "source": [
    "epm = EPMarket()\n",
    "\n",
    "agentA = EPAgent(\"A\")\n",
    "epm.join(agentA)\n",
    "print(epm)\n",
    "\n",
    "agentB = EPAgent(\"B\")\n",
    "epm.join(agentB)\n",
    "\n",
    "agentC = EPAgent(\"C\")\n",
    "epm.join(agentC)\n",
    "\n",
    "# Agent A sends an offer O1, B and C bid on it, the market decides\n",
    "# on C's favor (it meets the reserve)\n",
    "# it becomes part of C's commitments and A's \n",
    "ep1 = ExplorationPackage(20, 60, 20, 40, 2)\n",
    "epoff1 = agentA.offer(ep1, 50)\n",
    "\n",
    "print(epm)\n",
    "print(agentA)\n",
    "print(epoff1)\n",
    "\n",
    "agentB.bid(epoff1, 50)\n",
    "agentC.bid(epoff1, 48)\n",
    "epm.clearing() # this will call agentC.won\n",
    "\n",
    "# Agent A sends an offer O2, nobody bids on it, the offer is cleared up both from the market and from A's outstanding offers\n",
    "ep2 = ExplorationPackage(10, 20, 10, 20, 3)\n",
    "epoff2 = agentA.offer(ep1, 10)\n",
    "print(epm)\n",
    "epm.clearing() # this will remove everything\n",
    "print(epm)\n",
    "\n",
    "# Agent C executes the offer. Pays the findings and receives the prize money.\n",
    "agentC.commitment_executed(epoff1, 100)\n",
    "\n",
    "\n"
   ]
  },
  {
   "cell_type": "code",
   "execution_count": 5,
   "id": "64bc43a5",
   "metadata": {},
   "outputs": [
    {
     "name": "stdout",
     "output_type": "stream",
     "text": [
      "{'value': 70}\n"
     ]
    }
   ],
   "source": [
    "results = {\"x-code\": 50, \"value\": 70}\n",
    "results_nc = {}\n",
    "for a in results:\n",
    "    if not a.endswith(\"-code\"):\n",
    "        results_nc[a]=results[a]\n",
    "print(results_nc)        "
   ]
  },
  {
   "cell_type": "code",
   "execution_count": null,
   "id": "87a3e477",
   "metadata": {},
   "outputs": [],
   "source": []
  }
 ],
 "metadata": {
  "kernelspec": {
   "display_name": "WBF-venv",
   "language": "python",
   "name": "python3"
  },
  "language_info": {
   "codemirror_mode": {
    "name": "ipython",
    "version": 3
   },
   "file_extension": ".py",
   "mimetype": "text/x-python",
   "name": "python",
   "nbconvert_exporter": "python",
   "pygments_lexer": "ipython3",
   "version": "3.11.4"
  }
 },
 "nbformat": 4,
 "nbformat_minor": 5
}
