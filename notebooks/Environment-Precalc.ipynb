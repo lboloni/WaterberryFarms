{
 "cells": [
  {
   "cell_type": "markdown",
   "metadata": {},
   "source": [
    "# Precalculate the environment\n",
    "\n",
    "Precalculate the environment based on an experiment specification. "
   ]
  },
  {
   "cell_type": "code",
   "execution_count": null,
   "metadata": {},
   "outputs": [],
   "source": [
    "import sys\n",
    "sys.path.append(\"..\")\n",
    "from exp_run_config import Config\n",
    "Config.PROJECTNAME = \"WaterBerryFarms\"\n",
    "\n",
    "from pprint import pprint\n",
    "from wbf_helper import create_wbfe"
   ]
  },
  {
   "cell_type": "code",
   "execution_count": 2,
   "metadata": {},
   "outputs": [
    {
     "name": "stdout",
     "output_type": "stream",
     "text": [
      "Loading pointer config file: C:\\Users\\lboloni\\.config\\WaterBerryFarms\\mainsettings.yaml\n",
      "Loading machine-specific config file: G:\\My Drive\\LotziStudy\\Code\\PackageTracking\\WaterBerryFarms\\settings\\WBF-config-LotziYoga.yaml\n",
      "Experiment default config C:\\Users\\lboloni\\Documents\\Code\\_Checkouts\\WBF\\WaterberryFarms\\experiment_configs\\environment\\_environment.yaml was empty, ok.\n",
      "No system dependent experiment file\n",
      " G:\\My Drive\\LotziStudy\\Code\\PackageTracking\\WaterBerryFarms\\settings\\experiment-config\\LotziYoga\\environment\\miniberry-100_sysdep.yaml,\n",
      " that is ok, proceeding.\n",
      "Configuration for experiment: environment/miniberry-100 successfully loaded\n",
      "{'data_dir': WindowsPath('C:/Users/lboloni/Documents/Code/_TempData/WBF/ExperimentData/environment/miniberry-100'),\n",
      " 'exp_run_sys_indep_file': WindowsPath('C:/Users/lboloni/Documents/Code/_Checkouts/WBF/WaterberryFarms/experiment_configs/environment/miniberry-100.yaml'),\n",
      " 'group_name': 'environment',\n",
      " 'precompute-time': 100,\n",
      " 'run_name': 'miniberry-100',\n",
      " 'typename': 'Miniberry-100'}\n"
     ]
    }
   ],
   "source": [
    "experiment = \"environment\"\n",
    "# run = \"miniberry-10\"\n",
    "# run = \"miniberry-30\"\n",
    "run = \"miniberry-100\"\n",
    "exp = Config().get_experiment(experiment, run)\n",
    "pprint(exp)"
   ]
  },
  {
   "cell_type": "code",
   "execution_count": 3,
   "metadata": {},
   "outputs": [
    {
     "name": "stderr",
     "output_type": "stream",
     "text": [
      "INFO:root:create_type_map shape=(10201,)\n",
      "INFO:root:Infection matrix: [0.         0.25       0.4375     0.578125   0.68359375 0.76269531\n",
      " 0.82202148 0.86651611 0.89988708 0.92491531 0.94368649 0.95776486\n",
      " 0.96832365 0.97624274 0.98218205 0.98663654 0.9899774  0.99248305\n",
      " 0.99436229 0.99577172 0.99682879 0.99762159 0.99821619 0.99866214\n",
      " 0.99899661]\n",
      "INFO:root:Infection matrix: [0.         0.15       0.2775     0.385875   0.47799375 0.55629469\n",
      " 0.62285048 0.67942291 0.72750947 0.76838305 0.8031256  0.83265676\n",
      " 0.85775824 0.87909451 0.89723033 0.91264578 0.92574891 0.93688658\n",
      " 0.94635359 0.95440055 0.96124047 0.9670544  0.97199624 0.9761968\n",
      " 0.97976728]\n",
      "INFO:root:Environment.proceed - calling the inner_proceed\n",
      "INFO:root:Environment.proceed - calling the inner_proceed\n",
      "INFO:root:PrecalculatedEnvironment at timestamp 1\n",
      "INFO:root:Environment.proceed - calling the inner_proceed\n",
      "INFO:root:convolve2d starting\n",
      "INFO:root:convolve2d done\n",
      "INFO:root:Saving to gz\n",
      "INFO:root:Saving to gz done\n"
     ]
    },
    {
     "name": "stdout",
     "output_type": "stream",
     "text": [
      "precalculation proceed 0\n"
     ]
    },
    {
     "name": "stderr",
     "output_type": "stream",
     "text": [
      "INFO:root:Environment.proceed - calling the inner_proceed\n",
      "INFO:root:PrecalculatedEnvironment at timestamp 1\n",
      "INFO:root:Environment.proceed - calling the inner_proceed\n",
      "INFO:root:convolve2d starting\n",
      "INFO:root:convolve2d done\n",
      "INFO:root:Saving to gz\n",
      "INFO:root:Saving to gz done\n",
      "INFO:root:Environment.proceed - calling the inner_proceed\n",
      "INFO:root:PrecalculatedEnvironment at timestamp 1\n",
      "INFO:root:Environment.proceed - calling the inner_proceed\n",
      "INFO:root:Saving to gz\n",
      "INFO:root:Saving to gz done\n",
      "INFO:root:Environment.proceed - calling the inner_proceed\n",
      "INFO:root:Environment.proceed - calling the inner_proceed\n",
      "INFO:root:PrecalculatedEnvironment at timestamp 2\n",
      "INFO:root:Environment.proceed - calling the inner_proceed\n",
      "INFO:root:convolve2d starting\n",
      "INFO:root:convolve2d done\n",
      "INFO:root:Saving to gz\n",
      "INFO:root:Saving to gz done\n"
     ]
    },
    {
     "name": "stdout",
     "output_type": "stream",
     "text": [
      "precalculation proceed 1\n"
     ]
    },
    {
     "name": "stderr",
     "output_type": "stream",
     "text": [
      "INFO:root:Environment.proceed - calling the inner_proceed\n",
      "INFO:root:PrecalculatedEnvironment at timestamp 2\n",
      "INFO:root:Environment.proceed - calling the inner_proceed\n",
      "INFO:root:convolve2d starting\n",
      "INFO:root:convolve2d done\n",
      "INFO:root:Saving to gz\n",
      "INFO:root:Saving to gz done\n",
      "INFO:root:Environment.proceed - calling the inner_proceed\n",
      "INFO:root:PrecalculatedEnvironment at timestamp 2\n",
      "INFO:root:Environment.proceed - calling the inner_proceed\n",
      "INFO:root:Saving to gz\n",
      "INFO:root:Saving to gz done\n",
      "INFO:root:Environment.proceed - calling the inner_proceed\n",
      "INFO:root:Environment.proceed - calling the inner_proceed\n",
      "INFO:root:PrecalculatedEnvironment at timestamp 3\n",
      "INFO:root:Environment.proceed - calling the inner_proceed\n",
      "INFO:root:convolve2d starting\n",
      "INFO:root:convolve2d done\n",
      "INFO:root:Saving to gz\n",
      "INFO:root:Saving to gz done\n"
     ]
    },
    {
     "name": "stdout",
     "output_type": "stream",
     "text": [
      "precalculation proceed 2\n"
     ]
    },
    {
     "name": "stderr",
     "output_type": "stream",
     "text": [
      "INFO:root:Environment.proceed - calling the inner_proceed\n",
      "INFO:root:PrecalculatedEnvironment at timestamp 3\n",
      "INFO:root:Environment.proceed - calling the inner_proceed\n",
      "INFO:root:convolve2d starting\n",
      "INFO:root:convolve2d done\n",
      "INFO:root:Saving to gz\n",
      "INFO:root:Saving to gz done\n",
      "INFO:root:Environment.proceed - calling the inner_proceed\n",
      "INFO:root:PrecalculatedEnvironment at timestamp 3\n",
      "INFO:root:Environment.proceed - calling the inner_proceed\n",
      "INFO:root:Saving to gz\n",
      "INFO:root:Saving to gz done\n",
      "INFO:root:Environment.proceed - calling the inner_proceed\n",
      "INFO:root:Environment.proceed - calling the inner_proceed\n",
      "INFO:root:PrecalculatedEnvironment at timestamp 4\n",
      "INFO:root:Environment.proceed - calling the inner_proceed\n",
      "INFO:root:convolve2d starting\n",
      "INFO:root:convolve2d done\n",
      "INFO:root:Saving to gz\n",
      "INFO:root:Saving to gz done\n"
     ]
    },
    {
     "name": "stdout",
     "output_type": "stream",
     "text": [
      "precalculation proceed 3\n"
     ]
    },
    {
     "name": "stderr",
     "output_type": "stream",
     "text": [
      "INFO:root:Environment.proceed - calling the inner_proceed\n",
      "INFO:root:PrecalculatedEnvironment at timestamp 4\n",
      "INFO:root:Environment.proceed - calling the inner_proceed\n",
      "INFO:root:convolve2d starting\n",
      "INFO:root:convolve2d done\n",
      "INFO:root:Saving to gz\n",
      "INFO:root:Saving to gz done\n",
      "INFO:root:Environment.proceed - calling the inner_proceed\n",
      "INFO:root:PrecalculatedEnvironment at timestamp 4\n",
      "INFO:root:Environment.proceed - calling the inner_proceed\n",
      "INFO:root:Saving to gz\n",
      "INFO:root:Saving to gz done\n",
      "INFO:root:Environment.proceed - calling the inner_proceed\n",
      "INFO:root:Environment.proceed - calling the inner_proceed\n",
      "INFO:root:PrecalculatedEnvironment at timestamp 5\n",
      "INFO:root:Environment.proceed - calling the inner_proceed\n",
      "INFO:root:convolve2d starting\n",
      "INFO:root:convolve2d done\n",
      "INFO:root:Saving to gz\n",
      "INFO:root:Saving to gz done\n",
      "INFO:root:Environment.proceed - calling the inner_proceed\n"
     ]
    },
    {
     "name": "stdout",
     "output_type": "stream",
     "text": [
      "precalculation proceed 4\n"
     ]
    },
    {
     "name": "stderr",
     "output_type": "stream",
     "text": [
      "INFO:root:PrecalculatedEnvironment at timestamp 5\n",
      "INFO:root:Environment.proceed - calling the inner_proceed\n",
      "INFO:root:convolve2d starting\n",
      "INFO:root:convolve2d done\n",
      "INFO:root:Saving to gz\n",
      "INFO:root:Saving to gz done\n",
      "INFO:root:Environment.proceed - calling the inner_proceed\n",
      "INFO:root:PrecalculatedEnvironment at timestamp 5\n",
      "INFO:root:Environment.proceed - calling the inner_proceed\n",
      "INFO:root:Saving to gz\n",
      "INFO:root:Saving to gz done\n",
      "INFO:root:Environment.proceed - calling the inner_proceed\n",
      "INFO:root:Environment.proceed - calling the inner_proceed\n",
      "INFO:root:PrecalculatedEnvironment at timestamp 6\n",
      "INFO:root:Environment.proceed - calling the inner_proceed\n",
      "INFO:root:convolve2d starting\n",
      "INFO:root:convolve2d done\n",
      "INFO:root:Saving to gz\n",
      "INFO:root:Saving to gz done\n"
     ]
    },
    {
     "name": "stdout",
     "output_type": "stream",
     "text": [
      "precalculation proceed 5\n"
     ]
    },
    {
     "name": "stderr",
     "output_type": "stream",
     "text": [
      "INFO:root:Environment.proceed - calling the inner_proceed\n",
      "INFO:root:PrecalculatedEnvironment at timestamp 6\n",
      "INFO:root:Environment.proceed - calling the inner_proceed\n",
      "INFO:root:convolve2d starting\n",
      "INFO:root:convolve2d done\n",
      "INFO:root:Saving to gz\n",
      "INFO:root:Saving to gz done\n",
      "INFO:root:Environment.proceed - calling the inner_proceed\n",
      "INFO:root:PrecalculatedEnvironment at timestamp 6\n",
      "INFO:root:Environment.proceed - calling the inner_proceed\n",
      "INFO:root:Saving to gz\n",
      "INFO:root:Saving to gz done\n",
      "INFO:root:Environment.proceed - calling the inner_proceed\n",
      "INFO:root:Environment.proceed - calling the inner_proceed\n",
      "INFO:root:PrecalculatedEnvironment at timestamp 7\n",
      "INFO:root:Environment.proceed - calling the inner_proceed\n",
      "INFO:root:convolve2d starting\n",
      "INFO:root:convolve2d done\n",
      "INFO:root:Saving to gz\n",
      "INFO:root:Saving to gz done\n",
      "INFO:root:Environment.proceed - calling the inner_proceed\n"
     ]
    },
    {
     "name": "stdout",
     "output_type": "stream",
     "text": [
      "precalculation proceed 6\n"
     ]
    },
    {
     "name": "stderr",
     "output_type": "stream",
     "text": [
      "INFO:root:PrecalculatedEnvironment at timestamp 7\n",
      "INFO:root:Environment.proceed - calling the inner_proceed\n",
      "INFO:root:convolve2d starting\n",
      "INFO:root:convolve2d done\n",
      "INFO:root:Saving to gz\n",
      "INFO:root:Saving to gz done\n",
      "INFO:root:Environment.proceed - calling the inner_proceed\n",
      "INFO:root:PrecalculatedEnvironment at timestamp 7\n",
      "INFO:root:Environment.proceed - calling the inner_proceed\n",
      "INFO:root:Saving to gz\n",
      "INFO:root:Saving to gz done\n",
      "INFO:root:Environment.proceed - calling the inner_proceed\n",
      "INFO:root:Environment.proceed - calling the inner_proceed\n",
      "INFO:root:PrecalculatedEnvironment at timestamp 8\n",
      "INFO:root:Environment.proceed - calling the inner_proceed\n",
      "INFO:root:convolve2d starting\n",
      "INFO:root:convolve2d done\n",
      "INFO:root:Saving to gz\n",
      "INFO:root:Saving to gz done\n"
     ]
    },
    {
     "name": "stdout",
     "output_type": "stream",
     "text": [
      "precalculation proceed 7\n"
     ]
    },
    {
     "name": "stderr",
     "output_type": "stream",
     "text": [
      "INFO:root:Environment.proceed - calling the inner_proceed\n",
      "INFO:root:PrecalculatedEnvironment at timestamp 8\n",
      "INFO:root:Environment.proceed - calling the inner_proceed\n",
      "INFO:root:convolve2d starting\n",
      "INFO:root:convolve2d done\n",
      "INFO:root:Saving to gz\n",
      "INFO:root:Saving to gz done\n",
      "INFO:root:Environment.proceed - calling the inner_proceed\n",
      "INFO:root:PrecalculatedEnvironment at timestamp 8\n",
      "INFO:root:Environment.proceed - calling the inner_proceed\n",
      "INFO:root:Saving to gz\n",
      "INFO:root:Saving to gz done\n",
      "INFO:root:Environment.proceed - calling the inner_proceed\n",
      "INFO:root:Environment.proceed - calling the inner_proceed\n",
      "INFO:root:PrecalculatedEnvironment at timestamp 9\n",
      "INFO:root:Environment.proceed - calling the inner_proceed\n",
      "INFO:root:convolve2d starting\n",
      "INFO:root:convolve2d done\n",
      "INFO:root:Saving to gz\n",
      "INFO:root:Saving to gz done\n",
      "INFO:root:Environment.proceed - calling the inner_proceed\n"
     ]
    },
    {
     "name": "stdout",
     "output_type": "stream",
     "text": [
      "precalculation proceed 8\n"
     ]
    },
    {
     "name": "stderr",
     "output_type": "stream",
     "text": [
      "INFO:root:PrecalculatedEnvironment at timestamp 9\n",
      "INFO:root:Environment.proceed - calling the inner_proceed\n",
      "INFO:root:convolve2d starting\n",
      "INFO:root:convolve2d done\n",
      "INFO:root:Saving to gz\n",
      "INFO:root:Saving to gz done\n",
      "INFO:root:Environment.proceed - calling the inner_proceed\n",
      "INFO:root:PrecalculatedEnvironment at timestamp 9\n",
      "INFO:root:Environment.proceed - calling the inner_proceed\n",
      "INFO:root:Saving to gz\n",
      "INFO:root:Saving to gz done\n",
      "INFO:root:Environment.proceed - calling the inner_proceed\n",
      "INFO:root:Environment.proceed - calling the inner_proceed\n",
      "INFO:root:PrecalculatedEnvironment at timestamp 10\n",
      "INFO:root:Environment.proceed - calling the inner_proceed\n",
      "INFO:root:convolve2d starting\n",
      "INFO:root:convolve2d done\n",
      "INFO:root:Saving to gz\n",
      "INFO:root:Saving to gz done\n",
      "INFO:root:Environment.proceed - calling the inner_proceed\n"
     ]
    },
    {
     "name": "stdout",
     "output_type": "stream",
     "text": [
      "precalculation proceed 9\n"
     ]
    },
    {
     "name": "stderr",
     "output_type": "stream",
     "text": [
      "INFO:root:PrecalculatedEnvironment at timestamp 10\n",
      "INFO:root:Environment.proceed - calling the inner_proceed\n",
      "INFO:root:convolve2d starting\n",
      "INFO:root:convolve2d done\n",
      "INFO:root:Saving to gz\n",
      "INFO:root:Saving to gz done\n",
      "INFO:root:Environment.proceed - calling the inner_proceed\n",
      "INFO:root:PrecalculatedEnvironment at timestamp 10\n",
      "INFO:root:Environment.proceed - calling the inner_proceed\n",
      "INFO:root:Saving to gz\n",
      "INFO:root:Saving to gz done\n",
      "INFO:root:Environment.proceed - calling the inner_proceed\n",
      "INFO:root:Environment.proceed - calling the inner_proceed\n",
      "INFO:root:PrecalculatedEnvironment at timestamp 11\n",
      "INFO:root:Environment.proceed - calling the inner_proceed\n",
      "INFO:root:convolve2d starting\n",
      "INFO:root:convolve2d done\n",
      "INFO:root:Saving to gz\n",
      "INFO:root:Saving to gz done\n"
     ]
    },
    {
     "name": "stdout",
     "output_type": "stream",
     "text": [
      "precalculation proceed 10\n"
     ]
    },
    {
     "name": "stderr",
     "output_type": "stream",
     "text": [
      "INFO:root:Environment.proceed - calling the inner_proceed\n",
      "INFO:root:PrecalculatedEnvironment at timestamp 11\n",
      "INFO:root:Environment.proceed - calling the inner_proceed\n",
      "INFO:root:convolve2d starting\n",
      "INFO:root:convolve2d done\n",
      "INFO:root:Saving to gz\n",
      "INFO:root:Saving to gz done\n",
      "INFO:root:Environment.proceed - calling the inner_proceed\n",
      "INFO:root:PrecalculatedEnvironment at timestamp 11\n",
      "INFO:root:Environment.proceed - calling the inner_proceed\n",
      "INFO:root:Saving to gz\n",
      "INFO:root:Saving to gz done\n",
      "INFO:root:Environment.proceed - calling the inner_proceed\n",
      "INFO:root:Environment.proceed - calling the inner_proceed\n",
      "INFO:root:PrecalculatedEnvironment at timestamp 12\n",
      "INFO:root:Environment.proceed - calling the inner_proceed\n",
      "INFO:root:convolve2d starting\n",
      "INFO:root:convolve2d done\n",
      "INFO:root:Saving to gz\n",
      "INFO:root:Saving to gz done\n",
      "INFO:root:Environment.proceed - calling the inner_proceed\n"
     ]
    },
    {
     "name": "stdout",
     "output_type": "stream",
     "text": [
      "precalculation proceed 11\n"
     ]
    },
    {
     "name": "stderr",
     "output_type": "stream",
     "text": [
      "INFO:root:PrecalculatedEnvironment at timestamp 12\n",
      "INFO:root:Environment.proceed - calling the inner_proceed\n",
      "INFO:root:convolve2d starting\n",
      "INFO:root:convolve2d done\n",
      "INFO:root:Saving to gz\n",
      "INFO:root:Saving to gz done\n",
      "INFO:root:Environment.proceed - calling the inner_proceed\n",
      "INFO:root:PrecalculatedEnvironment at timestamp 12\n",
      "INFO:root:Environment.proceed - calling the inner_proceed\n",
      "INFO:root:Saving to gz\n",
      "INFO:root:Saving to gz done\n",
      "INFO:root:Environment.proceed - calling the inner_proceed\n",
      "INFO:root:Environment.proceed - calling the inner_proceed\n",
      "INFO:root:PrecalculatedEnvironment at timestamp 13\n",
      "INFO:root:Environment.proceed - calling the inner_proceed\n",
      "INFO:root:convolve2d starting\n",
      "INFO:root:convolve2d done\n",
      "INFO:root:Saving to gz\n",
      "INFO:root:Saving to gz done\n"
     ]
    },
    {
     "name": "stdout",
     "output_type": "stream",
     "text": [
      "precalculation proceed 12\n"
     ]
    },
    {
     "name": "stderr",
     "output_type": "stream",
     "text": [
      "INFO:root:Environment.proceed - calling the inner_proceed\n",
      "INFO:root:PrecalculatedEnvironment at timestamp 13\n",
      "INFO:root:Environment.proceed - calling the inner_proceed\n",
      "INFO:root:convolve2d starting\n",
      "INFO:root:convolve2d done\n",
      "INFO:root:Saving to gz\n",
      "INFO:root:Saving to gz done\n",
      "INFO:root:Environment.proceed - calling the inner_proceed\n",
      "INFO:root:PrecalculatedEnvironment at timestamp 13\n",
      "INFO:root:Environment.proceed - calling the inner_proceed\n",
      "INFO:root:Saving to gz\n",
      "INFO:root:Saving to gz done\n",
      "INFO:root:Environment.proceed - calling the inner_proceed\n",
      "INFO:root:Environment.proceed - calling the inner_proceed\n",
      "INFO:root:PrecalculatedEnvironment at timestamp 14\n",
      "INFO:root:Environment.proceed - calling the inner_proceed\n",
      "INFO:root:convolve2d starting\n",
      "INFO:root:convolve2d done\n",
      "INFO:root:Saving to gz\n",
      "INFO:root:Saving to gz done\n",
      "INFO:root:Environment.proceed - calling the inner_proceed\n"
     ]
    },
    {
     "name": "stdout",
     "output_type": "stream",
     "text": [
      "precalculation proceed 13\n"
     ]
    },
    {
     "name": "stderr",
     "output_type": "stream",
     "text": [
      "INFO:root:PrecalculatedEnvironment at timestamp 14\n",
      "INFO:root:Environment.proceed - calling the inner_proceed\n",
      "INFO:root:convolve2d starting\n",
      "INFO:root:convolve2d done\n",
      "INFO:root:Saving to gz\n",
      "INFO:root:Saving to gz done\n",
      "INFO:root:Environment.proceed - calling the inner_proceed\n",
      "INFO:root:PrecalculatedEnvironment at timestamp 14\n",
      "INFO:root:Environment.proceed - calling the inner_proceed\n",
      "INFO:root:Saving to gz\n",
      "INFO:root:Saving to gz done\n",
      "INFO:root:Environment.proceed - calling the inner_proceed\n",
      "INFO:root:Environment.proceed - calling the inner_proceed\n",
      "INFO:root:PrecalculatedEnvironment at timestamp 15\n",
      "INFO:root:Environment.proceed - calling the inner_proceed\n",
      "INFO:root:convolve2d starting\n",
      "INFO:root:convolve2d done\n",
      "INFO:root:Saving to gz\n",
      "INFO:root:Saving to gz done\n",
      "INFO:root:Environment.proceed - calling the inner_proceed\n"
     ]
    },
    {
     "name": "stdout",
     "output_type": "stream",
     "text": [
      "precalculation proceed 14\n"
     ]
    },
    {
     "name": "stderr",
     "output_type": "stream",
     "text": [
      "INFO:root:PrecalculatedEnvironment at timestamp 15\n",
      "INFO:root:Environment.proceed - calling the inner_proceed\n",
      "INFO:root:convolve2d starting\n",
      "INFO:root:convolve2d done\n",
      "INFO:root:Saving to gz\n",
      "INFO:root:Saving to gz done\n",
      "INFO:root:Environment.proceed - calling the inner_proceed\n",
      "INFO:root:PrecalculatedEnvironment at timestamp 15\n",
      "INFO:root:Environment.proceed - calling the inner_proceed\n",
      "INFO:root:Saving to gz\n",
      "INFO:root:Saving to gz done\n",
      "INFO:root:Environment.proceed - calling the inner_proceed\n",
      "INFO:root:Environment.proceed - calling the inner_proceed\n",
      "INFO:root:PrecalculatedEnvironment at timestamp 16\n",
      "INFO:root:Environment.proceed - calling the inner_proceed\n",
      "INFO:root:convolve2d starting\n",
      "INFO:root:convolve2d done\n",
      "INFO:root:Saving to gz\n",
      "INFO:root:Saving to gz done\n"
     ]
    },
    {
     "name": "stdout",
     "output_type": "stream",
     "text": [
      "precalculation proceed 15\n"
     ]
    },
    {
     "name": "stderr",
     "output_type": "stream",
     "text": [
      "INFO:root:Environment.proceed - calling the inner_proceed\n",
      "INFO:root:PrecalculatedEnvironment at timestamp 16\n",
      "INFO:root:Environment.proceed - calling the inner_proceed\n",
      "INFO:root:convolve2d starting\n",
      "INFO:root:convolve2d done\n",
      "INFO:root:Saving to gz\n",
      "INFO:root:Saving to gz done\n",
      "INFO:root:Environment.proceed - calling the inner_proceed\n",
      "INFO:root:PrecalculatedEnvironment at timestamp 16\n",
      "INFO:root:Environment.proceed - calling the inner_proceed\n",
      "INFO:root:Saving to gz\n",
      "INFO:root:Saving to gz done\n",
      "INFO:root:Environment.proceed - calling the inner_proceed\n",
      "INFO:root:Environment.proceed - calling the inner_proceed\n",
      "INFO:root:PrecalculatedEnvironment at timestamp 17\n",
      "INFO:root:Environment.proceed - calling the inner_proceed\n",
      "INFO:root:convolve2d starting\n",
      "INFO:root:convolve2d done\n",
      "INFO:root:Saving to gz\n",
      "INFO:root:Saving to gz done\n",
      "INFO:root:Environment.proceed - calling the inner_proceed\n"
     ]
    },
    {
     "name": "stdout",
     "output_type": "stream",
     "text": [
      "precalculation proceed 16\n"
     ]
    },
    {
     "name": "stderr",
     "output_type": "stream",
     "text": [
      "INFO:root:PrecalculatedEnvironment at timestamp 17\n",
      "INFO:root:Environment.proceed - calling the inner_proceed\n",
      "INFO:root:convolve2d starting\n",
      "INFO:root:convolve2d done\n",
      "INFO:root:Saving to gz\n",
      "INFO:root:Saving to gz done\n",
      "INFO:root:Environment.proceed - calling the inner_proceed\n",
      "INFO:root:PrecalculatedEnvironment at timestamp 17\n",
      "INFO:root:Environment.proceed - calling the inner_proceed\n",
      "INFO:root:Saving to gz\n",
      "INFO:root:Saving to gz done\n",
      "INFO:root:Environment.proceed - calling the inner_proceed\n",
      "INFO:root:Environment.proceed - calling the inner_proceed\n",
      "INFO:root:PrecalculatedEnvironment at timestamp 18\n",
      "INFO:root:Environment.proceed - calling the inner_proceed\n",
      "INFO:root:convolve2d starting\n",
      "INFO:root:convolve2d done\n",
      "INFO:root:Saving to gz\n",
      "INFO:root:Saving to gz done\n"
     ]
    },
    {
     "name": "stdout",
     "output_type": "stream",
     "text": [
      "precalculation proceed 17\n"
     ]
    },
    {
     "name": "stderr",
     "output_type": "stream",
     "text": [
      "INFO:root:Environment.proceed - calling the inner_proceed\n",
      "INFO:root:PrecalculatedEnvironment at timestamp 18\n",
      "INFO:root:Environment.proceed - calling the inner_proceed\n",
      "INFO:root:convolve2d starting\n",
      "INFO:root:convolve2d done\n",
      "INFO:root:Saving to gz\n",
      "INFO:root:Saving to gz done\n",
      "INFO:root:Environment.proceed - calling the inner_proceed\n",
      "INFO:root:PrecalculatedEnvironment at timestamp 18\n",
      "INFO:root:Environment.proceed - calling the inner_proceed\n",
      "INFO:root:Saving to gz\n",
      "INFO:root:Saving to gz done\n",
      "INFO:root:Environment.proceed - calling the inner_proceed\n",
      "INFO:root:Environment.proceed - calling the inner_proceed\n",
      "INFO:root:PrecalculatedEnvironment at timestamp 19\n",
      "INFO:root:Environment.proceed - calling the inner_proceed\n",
      "INFO:root:convolve2d starting\n",
      "INFO:root:convolve2d done\n",
      "INFO:root:Saving to gz\n",
      "INFO:root:Saving to gz done\n"
     ]
    },
    {
     "name": "stdout",
     "output_type": "stream",
     "text": [
      "precalculation proceed 18\n"
     ]
    },
    {
     "name": "stderr",
     "output_type": "stream",
     "text": [
      "INFO:root:Environment.proceed - calling the inner_proceed\n",
      "INFO:root:PrecalculatedEnvironment at timestamp 19\n",
      "INFO:root:Environment.proceed - calling the inner_proceed\n",
      "INFO:root:convolve2d starting\n",
      "INFO:root:convolve2d done\n",
      "INFO:root:Saving to gz\n",
      "INFO:root:Saving to gz done\n",
      "INFO:root:Environment.proceed - calling the inner_proceed\n",
      "INFO:root:PrecalculatedEnvironment at timestamp 19\n",
      "INFO:root:Environment.proceed - calling the inner_proceed\n",
      "INFO:root:Saving to gz\n",
      "INFO:root:Saving to gz done\n",
      "INFO:root:Environment.proceed - calling the inner_proceed\n",
      "INFO:root:Environment.proceed - calling the inner_proceed\n",
      "INFO:root:PrecalculatedEnvironment at timestamp 20\n",
      "INFO:root:Environment.proceed - calling the inner_proceed\n",
      "INFO:root:convolve2d starting\n",
      "INFO:root:convolve2d done\n",
      "INFO:root:Saving to gz\n",
      "INFO:root:Saving to gz done\n",
      "INFO:root:Environment.proceed - calling the inner_proceed\n"
     ]
    },
    {
     "name": "stdout",
     "output_type": "stream",
     "text": [
      "precalculation proceed 19\n"
     ]
    },
    {
     "name": "stderr",
     "output_type": "stream",
     "text": [
      "INFO:root:PrecalculatedEnvironment at timestamp 20\n",
      "INFO:root:Environment.proceed - calling the inner_proceed\n",
      "INFO:root:convolve2d starting\n",
      "INFO:root:convolve2d done\n",
      "INFO:root:Saving to gz\n",
      "INFO:root:Saving to gz done\n",
      "INFO:root:Environment.proceed - calling the inner_proceed\n",
      "INFO:root:PrecalculatedEnvironment at timestamp 20\n",
      "INFO:root:Environment.proceed - calling the inner_proceed\n",
      "INFO:root:Saving to gz\n",
      "INFO:root:Saving to gz done\n",
      "INFO:root:Environment.proceed - calling the inner_proceed\n",
      "INFO:root:Environment.proceed - calling the inner_proceed\n",
      "INFO:root:PrecalculatedEnvironment at timestamp 21\n",
      "INFO:root:Environment.proceed - calling the inner_proceed\n",
      "INFO:root:convolve2d starting\n",
      "INFO:root:convolve2d done\n",
      "INFO:root:Saving to gz\n",
      "INFO:root:Saving to gz done\n"
     ]
    },
    {
     "name": "stdout",
     "output_type": "stream",
     "text": [
      "precalculation proceed 20\n"
     ]
    },
    {
     "name": "stderr",
     "output_type": "stream",
     "text": [
      "INFO:root:Environment.proceed - calling the inner_proceed\n",
      "INFO:root:PrecalculatedEnvironment at timestamp 21\n",
      "INFO:root:Environment.proceed - calling the inner_proceed\n",
      "INFO:root:convolve2d starting\n",
      "INFO:root:convolve2d done\n",
      "INFO:root:Saving to gz\n",
      "INFO:root:Saving to gz done\n",
      "INFO:root:Environment.proceed - calling the inner_proceed\n",
      "INFO:root:PrecalculatedEnvironment at timestamp 21\n",
      "INFO:root:Environment.proceed - calling the inner_proceed\n",
      "INFO:root:Saving to gz\n",
      "INFO:root:Saving to gz done\n",
      "INFO:root:Environment.proceed - calling the inner_proceed\n",
      "INFO:root:Environment.proceed - calling the inner_proceed\n",
      "INFO:root:PrecalculatedEnvironment at timestamp 22\n",
      "INFO:root:Environment.proceed - calling the inner_proceed\n",
      "INFO:root:convolve2d starting\n",
      "INFO:root:convolve2d done\n",
      "INFO:root:Saving to gz\n",
      "INFO:root:Saving to gz done\n"
     ]
    },
    {
     "name": "stdout",
     "output_type": "stream",
     "text": [
      "precalculation proceed 21\n"
     ]
    },
    {
     "name": "stderr",
     "output_type": "stream",
     "text": [
      "INFO:root:Environment.proceed - calling the inner_proceed\n",
      "INFO:root:PrecalculatedEnvironment at timestamp 22\n",
      "INFO:root:Environment.proceed - calling the inner_proceed\n",
      "INFO:root:convolve2d starting\n",
      "INFO:root:convolve2d done\n",
      "INFO:root:Saving to gz\n",
      "INFO:root:Saving to gz done\n",
      "INFO:root:Environment.proceed - calling the inner_proceed\n",
      "INFO:root:PrecalculatedEnvironment at timestamp 22\n",
      "INFO:root:Environment.proceed - calling the inner_proceed\n",
      "INFO:root:Saving to gz\n",
      "INFO:root:Saving to gz done\n",
      "INFO:root:Environment.proceed - calling the inner_proceed\n",
      "INFO:root:Environment.proceed - calling the inner_proceed\n",
      "INFO:root:PrecalculatedEnvironment at timestamp 23\n",
      "INFO:root:Environment.proceed - calling the inner_proceed\n",
      "INFO:root:convolve2d starting\n",
      "INFO:root:convolve2d done\n",
      "INFO:root:Saving to gz\n",
      "INFO:root:Saving to gz done\n"
     ]
    },
    {
     "name": "stdout",
     "output_type": "stream",
     "text": [
      "precalculation proceed 22\n"
     ]
    },
    {
     "name": "stderr",
     "output_type": "stream",
     "text": [
      "INFO:root:Environment.proceed - calling the inner_proceed\n",
      "INFO:root:PrecalculatedEnvironment at timestamp 23\n",
      "INFO:root:Environment.proceed - calling the inner_proceed\n",
      "INFO:root:convolve2d starting\n",
      "INFO:root:convolve2d done\n",
      "INFO:root:Saving to gz\n",
      "INFO:root:Saving to gz done\n",
      "INFO:root:Environment.proceed - calling the inner_proceed\n",
      "INFO:root:PrecalculatedEnvironment at timestamp 23\n",
      "INFO:root:Environment.proceed - calling the inner_proceed\n",
      "INFO:root:Saving to gz\n",
      "INFO:root:Saving to gz done\n",
      "INFO:root:Environment.proceed - calling the inner_proceed\n",
      "INFO:root:Environment.proceed - calling the inner_proceed\n",
      "INFO:root:PrecalculatedEnvironment at timestamp 24\n",
      "INFO:root:Environment.proceed - calling the inner_proceed\n",
      "INFO:root:convolve2d starting\n",
      "INFO:root:convolve2d done\n",
      "INFO:root:Saving to gz\n",
      "INFO:root:Saving to gz done\n"
     ]
    },
    {
     "name": "stdout",
     "output_type": "stream",
     "text": [
      "precalculation proceed 23\n"
     ]
    },
    {
     "name": "stderr",
     "output_type": "stream",
     "text": [
      "INFO:root:Environment.proceed - calling the inner_proceed\n",
      "INFO:root:PrecalculatedEnvironment at timestamp 24\n",
      "INFO:root:Environment.proceed - calling the inner_proceed\n",
      "INFO:root:convolve2d starting\n",
      "INFO:root:convolve2d done\n",
      "INFO:root:Saving to gz\n",
      "INFO:root:Saving to gz done\n",
      "INFO:root:Environment.proceed - calling the inner_proceed\n",
      "INFO:root:PrecalculatedEnvironment at timestamp 24\n",
      "INFO:root:Environment.proceed - calling the inner_proceed\n",
      "INFO:root:Saving to gz\n",
      "INFO:root:Saving to gz done\n",
      "INFO:root:Environment.proceed - calling the inner_proceed\n",
      "INFO:root:Environment.proceed - calling the inner_proceed\n",
      "INFO:root:PrecalculatedEnvironment at timestamp 25\n",
      "INFO:root:Environment.proceed - calling the inner_proceed\n",
      "INFO:root:convolve2d starting\n",
      "INFO:root:convolve2d done\n",
      "INFO:root:Saving to gz\n",
      "INFO:root:Saving to gz done\n"
     ]
    },
    {
     "name": "stdout",
     "output_type": "stream",
     "text": [
      "precalculation proceed 24\n"
     ]
    },
    {
     "name": "stderr",
     "output_type": "stream",
     "text": [
      "INFO:root:Environment.proceed - calling the inner_proceed\n",
      "INFO:root:PrecalculatedEnvironment at timestamp 25\n",
      "INFO:root:Environment.proceed - calling the inner_proceed\n",
      "INFO:root:convolve2d starting\n",
      "INFO:root:convolve2d done\n",
      "INFO:root:Saving to gz\n",
      "INFO:root:Saving to gz done\n",
      "INFO:root:Environment.proceed - calling the inner_proceed\n",
      "INFO:root:PrecalculatedEnvironment at timestamp 25\n",
      "INFO:root:Environment.proceed - calling the inner_proceed\n",
      "INFO:root:Saving to gz\n",
      "INFO:root:Saving to gz done\n",
      "INFO:root:Environment.proceed - calling the inner_proceed\n",
      "INFO:root:Environment.proceed - calling the inner_proceed\n",
      "INFO:root:PrecalculatedEnvironment at timestamp 26\n",
      "INFO:root:Environment.proceed - calling the inner_proceed\n",
      "INFO:root:convolve2d starting\n",
      "INFO:root:convolve2d done\n",
      "INFO:root:Saving to gz\n",
      "INFO:root:Saving to gz done\n"
     ]
    },
    {
     "name": "stdout",
     "output_type": "stream",
     "text": [
      "precalculation proceed 25\n"
     ]
    },
    {
     "name": "stderr",
     "output_type": "stream",
     "text": [
      "INFO:root:Environment.proceed - calling the inner_proceed\n",
      "INFO:root:PrecalculatedEnvironment at timestamp 26\n",
      "INFO:root:Environment.proceed - calling the inner_proceed\n",
      "INFO:root:convolve2d starting\n",
      "INFO:root:convolve2d done\n",
      "INFO:root:Saving to gz\n",
      "INFO:root:Saving to gz done\n",
      "INFO:root:Environment.proceed - calling the inner_proceed\n",
      "INFO:root:PrecalculatedEnvironment at timestamp 26\n",
      "INFO:root:Environment.proceed - calling the inner_proceed\n",
      "INFO:root:Saving to gz\n",
      "INFO:root:Saving to gz done\n",
      "INFO:root:Environment.proceed - calling the inner_proceed\n",
      "INFO:root:Environment.proceed - calling the inner_proceed\n",
      "INFO:root:PrecalculatedEnvironment at timestamp 27\n",
      "INFO:root:Environment.proceed - calling the inner_proceed\n",
      "INFO:root:convolve2d starting\n",
      "INFO:root:convolve2d done\n",
      "INFO:root:Saving to gz\n",
      "INFO:root:Saving to gz done\n"
     ]
    },
    {
     "name": "stdout",
     "output_type": "stream",
     "text": [
      "precalculation proceed 26\n"
     ]
    },
    {
     "name": "stderr",
     "output_type": "stream",
     "text": [
      "INFO:root:Environment.proceed - calling the inner_proceed\n",
      "INFO:root:PrecalculatedEnvironment at timestamp 27\n",
      "INFO:root:Environment.proceed - calling the inner_proceed\n",
      "INFO:root:convolve2d starting\n",
      "INFO:root:convolve2d done\n",
      "INFO:root:Saving to gz\n",
      "INFO:root:Saving to gz done\n",
      "INFO:root:Environment.proceed - calling the inner_proceed\n",
      "INFO:root:PrecalculatedEnvironment at timestamp 27\n",
      "INFO:root:Environment.proceed - calling the inner_proceed\n",
      "INFO:root:Saving to gz\n",
      "INFO:root:Saving to gz done\n",
      "INFO:root:Environment.proceed - calling the inner_proceed\n",
      "INFO:root:Environment.proceed - calling the inner_proceed\n",
      "INFO:root:PrecalculatedEnvironment at timestamp 28\n",
      "INFO:root:Environment.proceed - calling the inner_proceed\n",
      "INFO:root:convolve2d starting\n",
      "INFO:root:convolve2d done\n",
      "INFO:root:Saving to gz\n",
      "INFO:root:Saving to gz done\n"
     ]
    },
    {
     "name": "stdout",
     "output_type": "stream",
     "text": [
      "precalculation proceed 27\n"
     ]
    },
    {
     "name": "stderr",
     "output_type": "stream",
     "text": [
      "INFO:root:Environment.proceed - calling the inner_proceed\n",
      "INFO:root:PrecalculatedEnvironment at timestamp 28\n",
      "INFO:root:Environment.proceed - calling the inner_proceed\n",
      "INFO:root:convolve2d starting\n",
      "INFO:root:convolve2d done\n",
      "INFO:root:Saving to gz\n",
      "INFO:root:Saving to gz done\n",
      "INFO:root:Environment.proceed - calling the inner_proceed\n",
      "INFO:root:PrecalculatedEnvironment at timestamp 28\n",
      "INFO:root:Environment.proceed - calling the inner_proceed\n",
      "INFO:root:Saving to gz\n",
      "INFO:root:Saving to gz done\n",
      "INFO:root:Environment.proceed - calling the inner_proceed\n",
      "INFO:root:Environment.proceed - calling the inner_proceed\n",
      "INFO:root:PrecalculatedEnvironment at timestamp 29\n",
      "INFO:root:Environment.proceed - calling the inner_proceed\n",
      "INFO:root:convolve2d starting\n",
      "INFO:root:convolve2d done\n",
      "INFO:root:Saving to gz\n",
      "INFO:root:Saving to gz done\n"
     ]
    },
    {
     "name": "stdout",
     "output_type": "stream",
     "text": [
      "precalculation proceed 28\n"
     ]
    },
    {
     "name": "stderr",
     "output_type": "stream",
     "text": [
      "INFO:root:Environment.proceed - calling the inner_proceed\n",
      "INFO:root:PrecalculatedEnvironment at timestamp 29\n",
      "INFO:root:Environment.proceed - calling the inner_proceed\n",
      "INFO:root:convolve2d starting\n",
      "INFO:root:convolve2d done\n",
      "INFO:root:Saving to gz\n",
      "INFO:root:Saving to gz done\n",
      "INFO:root:Environment.proceed - calling the inner_proceed\n",
      "INFO:root:PrecalculatedEnvironment at timestamp 29\n",
      "INFO:root:Environment.proceed - calling the inner_proceed\n",
      "INFO:root:Saving to gz\n",
      "INFO:root:Saving to gz done\n",
      "INFO:root:Environment.proceed - calling the inner_proceed\n",
      "INFO:root:Environment.proceed - calling the inner_proceed\n",
      "INFO:root:PrecalculatedEnvironment at timestamp 30\n",
      "INFO:root:Environment.proceed - calling the inner_proceed\n",
      "INFO:root:convolve2d starting\n",
      "INFO:root:convolve2d done\n",
      "INFO:root:Saving to gz\n",
      "INFO:root:Saving to gz done\n"
     ]
    },
    {
     "name": "stdout",
     "output_type": "stream",
     "text": [
      "precalculation proceed 29\n"
     ]
    },
    {
     "name": "stderr",
     "output_type": "stream",
     "text": [
      "INFO:root:Environment.proceed - calling the inner_proceed\n",
      "INFO:root:PrecalculatedEnvironment at timestamp 30\n",
      "INFO:root:Environment.proceed - calling the inner_proceed\n",
      "INFO:root:convolve2d starting\n",
      "INFO:root:convolve2d done\n",
      "INFO:root:Saving to gz\n",
      "INFO:root:Saving to gz done\n",
      "INFO:root:Environment.proceed - calling the inner_proceed\n",
      "INFO:root:PrecalculatedEnvironment at timestamp 30\n",
      "INFO:root:Environment.proceed - calling the inner_proceed\n",
      "INFO:root:Saving to gz\n",
      "INFO:root:Saving to gz done\n",
      "INFO:root:Environment.proceed - calling the inner_proceed\n",
      "INFO:root:Environment.proceed - calling the inner_proceed\n",
      "INFO:root:PrecalculatedEnvironment at timestamp 31\n",
      "INFO:root:Environment.proceed - calling the inner_proceed\n",
      "INFO:root:convolve2d starting\n",
      "INFO:root:convolve2d done\n",
      "INFO:root:Saving to gz\n",
      "INFO:root:Saving to gz done\n"
     ]
    },
    {
     "name": "stdout",
     "output_type": "stream",
     "text": [
      "precalculation proceed 30\n"
     ]
    },
    {
     "name": "stderr",
     "output_type": "stream",
     "text": [
      "INFO:root:Environment.proceed - calling the inner_proceed\n",
      "INFO:root:PrecalculatedEnvironment at timestamp 31\n",
      "INFO:root:Environment.proceed - calling the inner_proceed\n",
      "INFO:root:convolve2d starting\n",
      "INFO:root:convolve2d done\n",
      "INFO:root:Saving to gz\n",
      "INFO:root:Saving to gz done\n",
      "INFO:root:Environment.proceed - calling the inner_proceed\n",
      "INFO:root:PrecalculatedEnvironment at timestamp 31\n",
      "INFO:root:Environment.proceed - calling the inner_proceed\n",
      "INFO:root:Saving to gz\n",
      "INFO:root:Saving to gz done\n",
      "INFO:root:Environment.proceed - calling the inner_proceed\n",
      "INFO:root:Environment.proceed - calling the inner_proceed\n",
      "INFO:root:PrecalculatedEnvironment at timestamp 32\n",
      "INFO:root:Environment.proceed - calling the inner_proceed\n",
      "INFO:root:convolve2d starting\n",
      "INFO:root:convolve2d done\n",
      "INFO:root:Saving to gz\n",
      "INFO:root:Saving to gz done\n"
     ]
    },
    {
     "name": "stdout",
     "output_type": "stream",
     "text": [
      "precalculation proceed 31\n"
     ]
    },
    {
     "name": "stderr",
     "output_type": "stream",
     "text": [
      "INFO:root:Environment.proceed - calling the inner_proceed\n",
      "INFO:root:PrecalculatedEnvironment at timestamp 32\n",
      "INFO:root:Environment.proceed - calling the inner_proceed\n",
      "INFO:root:convolve2d starting\n",
      "INFO:root:convolve2d done\n",
      "INFO:root:Saving to gz\n",
      "INFO:root:Saving to gz done\n",
      "INFO:root:Environment.proceed - calling the inner_proceed\n",
      "INFO:root:PrecalculatedEnvironment at timestamp 32\n",
      "INFO:root:Environment.proceed - calling the inner_proceed\n",
      "INFO:root:Saving to gz\n",
      "INFO:root:Saving to gz done\n",
      "INFO:root:Environment.proceed - calling the inner_proceed\n",
      "INFO:root:Environment.proceed - calling the inner_proceed\n",
      "INFO:root:PrecalculatedEnvironment at timestamp 33\n",
      "INFO:root:Environment.proceed - calling the inner_proceed\n",
      "INFO:root:convolve2d starting\n",
      "INFO:root:convolve2d done\n",
      "INFO:root:Saving to gz\n",
      "INFO:root:Saving to gz done\n"
     ]
    },
    {
     "name": "stdout",
     "output_type": "stream",
     "text": [
      "precalculation proceed 32\n"
     ]
    },
    {
     "name": "stderr",
     "output_type": "stream",
     "text": [
      "INFO:root:Environment.proceed - calling the inner_proceed\n",
      "INFO:root:PrecalculatedEnvironment at timestamp 33\n",
      "INFO:root:Environment.proceed - calling the inner_proceed\n",
      "INFO:root:convolve2d starting\n",
      "INFO:root:convolve2d done\n",
      "INFO:root:Saving to gz\n",
      "INFO:root:Saving to gz done\n",
      "INFO:root:Environment.proceed - calling the inner_proceed\n",
      "INFO:root:PrecalculatedEnvironment at timestamp 33\n",
      "INFO:root:Environment.proceed - calling the inner_proceed\n",
      "INFO:root:Saving to gz\n",
      "INFO:root:Saving to gz done\n",
      "INFO:root:Environment.proceed - calling the inner_proceed\n",
      "INFO:root:Environment.proceed - calling the inner_proceed\n",
      "INFO:root:PrecalculatedEnvironment at timestamp 34\n",
      "INFO:root:Environment.proceed - calling the inner_proceed\n",
      "INFO:root:convolve2d starting\n",
      "INFO:root:convolve2d done\n",
      "INFO:root:Saving to gz\n",
      "INFO:root:Saving to gz done\n"
     ]
    },
    {
     "name": "stdout",
     "output_type": "stream",
     "text": [
      "precalculation proceed 33\n"
     ]
    },
    {
     "name": "stderr",
     "output_type": "stream",
     "text": [
      "INFO:root:Environment.proceed - calling the inner_proceed\n",
      "INFO:root:PrecalculatedEnvironment at timestamp 34\n",
      "INFO:root:Environment.proceed - calling the inner_proceed\n",
      "INFO:root:convolve2d starting\n",
      "INFO:root:convolve2d done\n",
      "INFO:root:Saving to gz\n",
      "INFO:root:Saving to gz done\n",
      "INFO:root:Environment.proceed - calling the inner_proceed\n",
      "INFO:root:PrecalculatedEnvironment at timestamp 34\n",
      "INFO:root:Environment.proceed - calling the inner_proceed\n",
      "INFO:root:Saving to gz\n",
      "INFO:root:Saving to gz done\n",
      "INFO:root:Environment.proceed - calling the inner_proceed\n",
      "INFO:root:Environment.proceed - calling the inner_proceed\n",
      "INFO:root:PrecalculatedEnvironment at timestamp 35\n",
      "INFO:root:Environment.proceed - calling the inner_proceed\n",
      "INFO:root:convolve2d starting\n",
      "INFO:root:convolve2d done\n",
      "INFO:root:Saving to gz\n",
      "INFO:root:Saving to gz done\n"
     ]
    },
    {
     "name": "stdout",
     "output_type": "stream",
     "text": [
      "precalculation proceed 34\n"
     ]
    },
    {
     "name": "stderr",
     "output_type": "stream",
     "text": [
      "INFO:root:Environment.proceed - calling the inner_proceed\n",
      "INFO:root:PrecalculatedEnvironment at timestamp 35\n",
      "INFO:root:Environment.proceed - calling the inner_proceed\n",
      "INFO:root:convolve2d starting\n",
      "INFO:root:convolve2d done\n",
      "INFO:root:Saving to gz\n",
      "INFO:root:Saving to gz done\n",
      "INFO:root:Environment.proceed - calling the inner_proceed\n",
      "INFO:root:PrecalculatedEnvironment at timestamp 35\n",
      "INFO:root:Environment.proceed - calling the inner_proceed\n",
      "INFO:root:Saving to gz\n",
      "INFO:root:Saving to gz done\n",
      "INFO:root:Environment.proceed - calling the inner_proceed\n",
      "INFO:root:Environment.proceed - calling the inner_proceed\n",
      "INFO:root:PrecalculatedEnvironment at timestamp 36\n",
      "INFO:root:Environment.proceed - calling the inner_proceed\n",
      "INFO:root:convolve2d starting\n",
      "INFO:root:convolve2d done\n",
      "INFO:root:Saving to gz\n",
      "INFO:root:Saving to gz done\n"
     ]
    },
    {
     "name": "stdout",
     "output_type": "stream",
     "text": [
      "precalculation proceed 35\n"
     ]
    },
    {
     "name": "stderr",
     "output_type": "stream",
     "text": [
      "INFO:root:Environment.proceed - calling the inner_proceed\n",
      "INFO:root:PrecalculatedEnvironment at timestamp 36\n",
      "INFO:root:Environment.proceed - calling the inner_proceed\n",
      "INFO:root:convolve2d starting\n",
      "INFO:root:convolve2d done\n",
      "INFO:root:Saving to gz\n",
      "INFO:root:Saving to gz done\n",
      "INFO:root:Environment.proceed - calling the inner_proceed\n",
      "INFO:root:PrecalculatedEnvironment at timestamp 36\n",
      "INFO:root:Environment.proceed - calling the inner_proceed\n",
      "INFO:root:Saving to gz\n",
      "INFO:root:Saving to gz done\n",
      "INFO:root:Environment.proceed - calling the inner_proceed\n",
      "INFO:root:Environment.proceed - calling the inner_proceed\n",
      "INFO:root:PrecalculatedEnvironment at timestamp 37\n",
      "INFO:root:Environment.proceed - calling the inner_proceed\n",
      "INFO:root:convolve2d starting\n",
      "INFO:root:convolve2d done\n",
      "INFO:root:Saving to gz\n",
      "INFO:root:Saving to gz done\n"
     ]
    },
    {
     "name": "stdout",
     "output_type": "stream",
     "text": [
      "precalculation proceed 36\n"
     ]
    },
    {
     "name": "stderr",
     "output_type": "stream",
     "text": [
      "INFO:root:Environment.proceed - calling the inner_proceed\n",
      "INFO:root:PrecalculatedEnvironment at timestamp 37\n",
      "INFO:root:Environment.proceed - calling the inner_proceed\n",
      "INFO:root:convolve2d starting\n",
      "INFO:root:convolve2d done\n",
      "INFO:root:Saving to gz\n",
      "INFO:root:Saving to gz done\n",
      "INFO:root:Environment.proceed - calling the inner_proceed\n",
      "INFO:root:PrecalculatedEnvironment at timestamp 37\n",
      "INFO:root:Environment.proceed - calling the inner_proceed\n",
      "INFO:root:Saving to gz\n",
      "INFO:root:Saving to gz done\n",
      "INFO:root:Environment.proceed - calling the inner_proceed\n",
      "INFO:root:Environment.proceed - calling the inner_proceed\n",
      "INFO:root:PrecalculatedEnvironment at timestamp 38\n",
      "INFO:root:Environment.proceed - calling the inner_proceed\n",
      "INFO:root:convolve2d starting\n",
      "INFO:root:convolve2d done\n",
      "INFO:root:Saving to gz\n",
      "INFO:root:Saving to gz done\n"
     ]
    },
    {
     "name": "stdout",
     "output_type": "stream",
     "text": [
      "precalculation proceed 37\n"
     ]
    },
    {
     "name": "stderr",
     "output_type": "stream",
     "text": [
      "INFO:root:Environment.proceed - calling the inner_proceed\n",
      "INFO:root:PrecalculatedEnvironment at timestamp 38\n",
      "INFO:root:Environment.proceed - calling the inner_proceed\n",
      "INFO:root:convolve2d starting\n",
      "INFO:root:convolve2d done\n",
      "INFO:root:Saving to gz\n",
      "INFO:root:Saving to gz done\n",
      "INFO:root:Environment.proceed - calling the inner_proceed\n",
      "INFO:root:PrecalculatedEnvironment at timestamp 38\n",
      "INFO:root:Environment.proceed - calling the inner_proceed\n",
      "INFO:root:Saving to gz\n",
      "INFO:root:Saving to gz done\n",
      "INFO:root:Environment.proceed - calling the inner_proceed\n",
      "INFO:root:Environment.proceed - calling the inner_proceed\n",
      "INFO:root:PrecalculatedEnvironment at timestamp 39\n",
      "INFO:root:Environment.proceed - calling the inner_proceed\n",
      "INFO:root:convolve2d starting\n",
      "INFO:root:convolve2d done\n",
      "INFO:root:Saving to gz\n",
      "INFO:root:Saving to gz done\n"
     ]
    },
    {
     "name": "stdout",
     "output_type": "stream",
     "text": [
      "precalculation proceed 38\n"
     ]
    },
    {
     "name": "stderr",
     "output_type": "stream",
     "text": [
      "INFO:root:Environment.proceed - calling the inner_proceed\n",
      "INFO:root:PrecalculatedEnvironment at timestamp 39\n",
      "INFO:root:Environment.proceed - calling the inner_proceed\n",
      "INFO:root:convolve2d starting\n",
      "INFO:root:convolve2d done\n",
      "INFO:root:Saving to gz\n",
      "INFO:root:Saving to gz done\n",
      "INFO:root:Environment.proceed - calling the inner_proceed\n",
      "INFO:root:PrecalculatedEnvironment at timestamp 39\n",
      "INFO:root:Environment.proceed - calling the inner_proceed\n",
      "INFO:root:Saving to gz\n",
      "INFO:root:Saving to gz done\n",
      "INFO:root:Environment.proceed - calling the inner_proceed\n",
      "INFO:root:Environment.proceed - calling the inner_proceed\n",
      "INFO:root:PrecalculatedEnvironment at timestamp 40\n",
      "INFO:root:Environment.proceed - calling the inner_proceed\n",
      "INFO:root:convolve2d starting\n",
      "INFO:root:convolve2d done\n",
      "INFO:root:Saving to gz\n",
      "INFO:root:Saving to gz done\n"
     ]
    },
    {
     "name": "stdout",
     "output_type": "stream",
     "text": [
      "precalculation proceed 39\n"
     ]
    },
    {
     "name": "stderr",
     "output_type": "stream",
     "text": [
      "INFO:root:Environment.proceed - calling the inner_proceed\n",
      "INFO:root:PrecalculatedEnvironment at timestamp 40\n",
      "INFO:root:Environment.proceed - calling the inner_proceed\n",
      "INFO:root:convolve2d starting\n",
      "INFO:root:convolve2d done\n",
      "INFO:root:Saving to gz\n",
      "INFO:root:Saving to gz done\n",
      "INFO:root:Environment.proceed - calling the inner_proceed\n",
      "INFO:root:PrecalculatedEnvironment at timestamp 40\n",
      "INFO:root:Environment.proceed - calling the inner_proceed\n",
      "INFO:root:Saving to gz\n",
      "INFO:root:Saving to gz done\n",
      "INFO:root:Environment.proceed - calling the inner_proceed\n",
      "INFO:root:Environment.proceed - calling the inner_proceed\n",
      "INFO:root:PrecalculatedEnvironment at timestamp 41\n",
      "INFO:root:Environment.proceed - calling the inner_proceed\n",
      "INFO:root:convolve2d starting\n",
      "INFO:root:convolve2d done\n",
      "INFO:root:Saving to gz\n",
      "INFO:root:Saving to gz done\n"
     ]
    },
    {
     "name": "stdout",
     "output_type": "stream",
     "text": [
      "precalculation proceed 40\n"
     ]
    },
    {
     "name": "stderr",
     "output_type": "stream",
     "text": [
      "INFO:root:Environment.proceed - calling the inner_proceed\n",
      "INFO:root:PrecalculatedEnvironment at timestamp 41\n",
      "INFO:root:Environment.proceed - calling the inner_proceed\n",
      "INFO:root:convolve2d starting\n",
      "INFO:root:convolve2d done\n",
      "INFO:root:Saving to gz\n",
      "INFO:root:Saving to gz done\n",
      "INFO:root:Environment.proceed - calling the inner_proceed\n",
      "INFO:root:PrecalculatedEnvironment at timestamp 41\n",
      "INFO:root:Environment.proceed - calling the inner_proceed\n",
      "INFO:root:Saving to gz\n",
      "INFO:root:Saving to gz done\n",
      "INFO:root:Environment.proceed - calling the inner_proceed\n",
      "INFO:root:Environment.proceed - calling the inner_proceed\n",
      "INFO:root:PrecalculatedEnvironment at timestamp 42\n",
      "INFO:root:Environment.proceed - calling the inner_proceed\n",
      "INFO:root:convolve2d starting\n",
      "INFO:root:convolve2d done\n",
      "INFO:root:Saving to gz\n",
      "INFO:root:Saving to gz done\n"
     ]
    },
    {
     "name": "stdout",
     "output_type": "stream",
     "text": [
      "precalculation proceed 41\n"
     ]
    },
    {
     "name": "stderr",
     "output_type": "stream",
     "text": [
      "INFO:root:Environment.proceed - calling the inner_proceed\n",
      "INFO:root:PrecalculatedEnvironment at timestamp 42\n",
      "INFO:root:Environment.proceed - calling the inner_proceed\n",
      "INFO:root:convolve2d starting\n",
      "INFO:root:convolve2d done\n",
      "INFO:root:Saving to gz\n",
      "INFO:root:Saving to gz done\n",
      "INFO:root:Environment.proceed - calling the inner_proceed\n",
      "INFO:root:PrecalculatedEnvironment at timestamp 42\n",
      "INFO:root:Environment.proceed - calling the inner_proceed\n",
      "INFO:root:Saving to gz\n",
      "INFO:root:Saving to gz done\n",
      "INFO:root:Environment.proceed - calling the inner_proceed\n",
      "INFO:root:Environment.proceed - calling the inner_proceed\n",
      "INFO:root:PrecalculatedEnvironment at timestamp 43\n",
      "INFO:root:Environment.proceed - calling the inner_proceed\n",
      "INFO:root:convolve2d starting\n",
      "INFO:root:convolve2d done\n",
      "INFO:root:Saving to gz\n",
      "INFO:root:Saving to gz done\n"
     ]
    },
    {
     "name": "stdout",
     "output_type": "stream",
     "text": [
      "precalculation proceed 42\n"
     ]
    },
    {
     "name": "stderr",
     "output_type": "stream",
     "text": [
      "INFO:root:Environment.proceed - calling the inner_proceed\n",
      "INFO:root:PrecalculatedEnvironment at timestamp 43\n",
      "INFO:root:Environment.proceed - calling the inner_proceed\n",
      "INFO:root:convolve2d starting\n",
      "INFO:root:convolve2d done\n",
      "INFO:root:Saving to gz\n",
      "INFO:root:Saving to gz done\n",
      "INFO:root:Environment.proceed - calling the inner_proceed\n",
      "INFO:root:PrecalculatedEnvironment at timestamp 43\n",
      "INFO:root:Environment.proceed - calling the inner_proceed\n",
      "INFO:root:Saving to gz\n",
      "INFO:root:Saving to gz done\n",
      "INFO:root:Environment.proceed - calling the inner_proceed\n",
      "INFO:root:Environment.proceed - calling the inner_proceed\n",
      "INFO:root:PrecalculatedEnvironment at timestamp 44\n",
      "INFO:root:Environment.proceed - calling the inner_proceed\n",
      "INFO:root:convolve2d starting\n",
      "INFO:root:convolve2d done\n",
      "INFO:root:Saving to gz\n",
      "INFO:root:Saving to gz done\n"
     ]
    },
    {
     "name": "stdout",
     "output_type": "stream",
     "text": [
      "precalculation proceed 43\n"
     ]
    },
    {
     "name": "stderr",
     "output_type": "stream",
     "text": [
      "INFO:root:Environment.proceed - calling the inner_proceed\n",
      "INFO:root:PrecalculatedEnvironment at timestamp 44\n",
      "INFO:root:Environment.proceed - calling the inner_proceed\n",
      "INFO:root:convolve2d starting\n",
      "INFO:root:convolve2d done\n",
      "INFO:root:Saving to gz\n",
      "INFO:root:Saving to gz done\n",
      "INFO:root:Environment.proceed - calling the inner_proceed\n",
      "INFO:root:PrecalculatedEnvironment at timestamp 44\n",
      "INFO:root:Environment.proceed - calling the inner_proceed\n",
      "INFO:root:Saving to gz\n",
      "INFO:root:Saving to gz done\n",
      "INFO:root:Environment.proceed - calling the inner_proceed\n",
      "INFO:root:Environment.proceed - calling the inner_proceed\n",
      "INFO:root:PrecalculatedEnvironment at timestamp 45\n",
      "INFO:root:Environment.proceed - calling the inner_proceed\n",
      "INFO:root:convolve2d starting\n",
      "INFO:root:convolve2d done\n",
      "INFO:root:Saving to gz\n",
      "INFO:root:Saving to gz done\n"
     ]
    },
    {
     "name": "stdout",
     "output_type": "stream",
     "text": [
      "precalculation proceed 44\n"
     ]
    },
    {
     "name": "stderr",
     "output_type": "stream",
     "text": [
      "INFO:root:Environment.proceed - calling the inner_proceed\n",
      "INFO:root:PrecalculatedEnvironment at timestamp 45\n",
      "INFO:root:Environment.proceed - calling the inner_proceed\n",
      "INFO:root:convolve2d starting\n",
      "INFO:root:convolve2d done\n",
      "INFO:root:Saving to gz\n",
      "INFO:root:Saving to gz done\n",
      "INFO:root:Environment.proceed - calling the inner_proceed\n",
      "INFO:root:PrecalculatedEnvironment at timestamp 45\n",
      "INFO:root:Environment.proceed - calling the inner_proceed\n",
      "INFO:root:Saving to gz\n",
      "INFO:root:Saving to gz done\n",
      "INFO:root:Environment.proceed - calling the inner_proceed\n",
      "INFO:root:Environment.proceed - calling the inner_proceed\n",
      "INFO:root:PrecalculatedEnvironment at timestamp 46\n",
      "INFO:root:Environment.proceed - calling the inner_proceed\n",
      "INFO:root:convolve2d starting\n",
      "INFO:root:convolve2d done\n",
      "INFO:root:Saving to gz\n",
      "INFO:root:Saving to gz done\n"
     ]
    },
    {
     "name": "stdout",
     "output_type": "stream",
     "text": [
      "precalculation proceed 45\n"
     ]
    },
    {
     "name": "stderr",
     "output_type": "stream",
     "text": [
      "INFO:root:Environment.proceed - calling the inner_proceed\n",
      "INFO:root:PrecalculatedEnvironment at timestamp 46\n",
      "INFO:root:Environment.proceed - calling the inner_proceed\n",
      "INFO:root:convolve2d starting\n",
      "INFO:root:convolve2d done\n",
      "INFO:root:Saving to gz\n",
      "INFO:root:Saving to gz done\n",
      "INFO:root:Environment.proceed - calling the inner_proceed\n",
      "INFO:root:PrecalculatedEnvironment at timestamp 46\n",
      "INFO:root:Environment.proceed - calling the inner_proceed\n",
      "INFO:root:Saving to gz\n",
      "INFO:root:Saving to gz done\n",
      "INFO:root:Environment.proceed - calling the inner_proceed\n",
      "INFO:root:Environment.proceed - calling the inner_proceed\n",
      "INFO:root:PrecalculatedEnvironment at timestamp 47\n",
      "INFO:root:Environment.proceed - calling the inner_proceed\n",
      "INFO:root:convolve2d starting\n",
      "INFO:root:convolve2d done\n",
      "INFO:root:Saving to gz\n",
      "INFO:root:Saving to gz done\n"
     ]
    },
    {
     "name": "stdout",
     "output_type": "stream",
     "text": [
      "precalculation proceed 46\n"
     ]
    },
    {
     "name": "stderr",
     "output_type": "stream",
     "text": [
      "INFO:root:Environment.proceed - calling the inner_proceed\n",
      "INFO:root:PrecalculatedEnvironment at timestamp 47\n",
      "INFO:root:Environment.proceed - calling the inner_proceed\n",
      "INFO:root:convolve2d starting\n",
      "INFO:root:convolve2d done\n",
      "INFO:root:Saving to gz\n",
      "INFO:root:Saving to gz done\n",
      "INFO:root:Environment.proceed - calling the inner_proceed\n",
      "INFO:root:PrecalculatedEnvironment at timestamp 47\n",
      "INFO:root:Environment.proceed - calling the inner_proceed\n",
      "INFO:root:Saving to gz\n",
      "INFO:root:Saving to gz done\n",
      "INFO:root:Environment.proceed - calling the inner_proceed\n",
      "INFO:root:Environment.proceed - calling the inner_proceed\n",
      "INFO:root:PrecalculatedEnvironment at timestamp 48\n",
      "INFO:root:Environment.proceed - calling the inner_proceed\n",
      "INFO:root:convolve2d starting\n",
      "INFO:root:convolve2d done\n",
      "INFO:root:Saving to gz\n",
      "INFO:root:Saving to gz done\n"
     ]
    },
    {
     "name": "stdout",
     "output_type": "stream",
     "text": [
      "precalculation proceed 47\n"
     ]
    },
    {
     "name": "stderr",
     "output_type": "stream",
     "text": [
      "INFO:root:Environment.proceed - calling the inner_proceed\n",
      "INFO:root:PrecalculatedEnvironment at timestamp 48\n",
      "INFO:root:Environment.proceed - calling the inner_proceed\n",
      "INFO:root:convolve2d starting\n",
      "INFO:root:convolve2d done\n",
      "INFO:root:Saving to gz\n",
      "INFO:root:Saving to gz done\n",
      "INFO:root:Environment.proceed - calling the inner_proceed\n",
      "INFO:root:PrecalculatedEnvironment at timestamp 48\n",
      "INFO:root:Environment.proceed - calling the inner_proceed\n",
      "INFO:root:Saving to gz\n",
      "INFO:root:Saving to gz done\n",
      "INFO:root:Environment.proceed - calling the inner_proceed\n",
      "INFO:root:Environment.proceed - calling the inner_proceed\n",
      "INFO:root:PrecalculatedEnvironment at timestamp 49\n",
      "INFO:root:Environment.proceed - calling the inner_proceed\n",
      "INFO:root:convolve2d starting\n",
      "INFO:root:convolve2d done\n",
      "INFO:root:Saving to gz\n",
      "INFO:root:Saving to gz done\n"
     ]
    },
    {
     "name": "stdout",
     "output_type": "stream",
     "text": [
      "precalculation proceed 48\n"
     ]
    },
    {
     "name": "stderr",
     "output_type": "stream",
     "text": [
      "INFO:root:Environment.proceed - calling the inner_proceed\n",
      "INFO:root:PrecalculatedEnvironment at timestamp 49\n",
      "INFO:root:Environment.proceed - calling the inner_proceed\n",
      "INFO:root:convolve2d starting\n",
      "INFO:root:convolve2d done\n",
      "INFO:root:Saving to gz\n",
      "INFO:root:Saving to gz done\n",
      "INFO:root:Environment.proceed - calling the inner_proceed\n",
      "INFO:root:PrecalculatedEnvironment at timestamp 49\n",
      "INFO:root:Environment.proceed - calling the inner_proceed\n",
      "INFO:root:Saving to gz\n",
      "INFO:root:Saving to gz done\n",
      "INFO:root:Environment.proceed - calling the inner_proceed\n",
      "INFO:root:Environment.proceed - calling the inner_proceed\n",
      "INFO:root:PrecalculatedEnvironment at timestamp 50\n",
      "INFO:root:Environment.proceed - calling the inner_proceed\n",
      "INFO:root:convolve2d starting\n",
      "INFO:root:convolve2d done\n",
      "INFO:root:Saving to gz\n",
      "INFO:root:Saving to gz done\n"
     ]
    },
    {
     "name": "stdout",
     "output_type": "stream",
     "text": [
      "precalculation proceed 49\n"
     ]
    },
    {
     "name": "stderr",
     "output_type": "stream",
     "text": [
      "INFO:root:Environment.proceed - calling the inner_proceed\n",
      "INFO:root:PrecalculatedEnvironment at timestamp 50\n",
      "INFO:root:Environment.proceed - calling the inner_proceed\n",
      "INFO:root:convolve2d starting\n",
      "INFO:root:convolve2d done\n",
      "INFO:root:Saving to gz\n",
      "INFO:root:Saving to gz done\n",
      "INFO:root:Environment.proceed - calling the inner_proceed\n",
      "INFO:root:PrecalculatedEnvironment at timestamp 50\n",
      "INFO:root:Environment.proceed - calling the inner_proceed\n",
      "INFO:root:Saving to gz\n",
      "INFO:root:Saving to gz done\n",
      "INFO:root:Environment.proceed - calling the inner_proceed\n",
      "INFO:root:Environment.proceed - calling the inner_proceed\n",
      "INFO:root:PrecalculatedEnvironment at timestamp 51\n",
      "INFO:root:Environment.proceed - calling the inner_proceed\n",
      "INFO:root:convolve2d starting\n",
      "INFO:root:convolve2d done\n",
      "INFO:root:Saving to gz\n",
      "INFO:root:Saving to gz done\n"
     ]
    },
    {
     "name": "stdout",
     "output_type": "stream",
     "text": [
      "precalculation proceed 50\n"
     ]
    },
    {
     "name": "stderr",
     "output_type": "stream",
     "text": [
      "INFO:root:Environment.proceed - calling the inner_proceed\n",
      "INFO:root:PrecalculatedEnvironment at timestamp 51\n",
      "INFO:root:Environment.proceed - calling the inner_proceed\n",
      "INFO:root:convolve2d starting\n",
      "INFO:root:convolve2d done\n",
      "INFO:root:Saving to gz\n",
      "INFO:root:Saving to gz done\n",
      "INFO:root:Environment.proceed - calling the inner_proceed\n",
      "INFO:root:PrecalculatedEnvironment at timestamp 51\n",
      "INFO:root:Environment.proceed - calling the inner_proceed\n",
      "INFO:root:Saving to gz\n",
      "INFO:root:Saving to gz done\n",
      "INFO:root:Environment.proceed - calling the inner_proceed\n",
      "INFO:root:Environment.proceed - calling the inner_proceed\n",
      "INFO:root:PrecalculatedEnvironment at timestamp 52\n",
      "INFO:root:Environment.proceed - calling the inner_proceed\n",
      "INFO:root:convolve2d starting\n",
      "INFO:root:convolve2d done\n",
      "INFO:root:Saving to gz\n",
      "INFO:root:Saving to gz done\n"
     ]
    },
    {
     "name": "stdout",
     "output_type": "stream",
     "text": [
      "precalculation proceed 51\n"
     ]
    },
    {
     "name": "stderr",
     "output_type": "stream",
     "text": [
      "INFO:root:Environment.proceed - calling the inner_proceed\n",
      "INFO:root:PrecalculatedEnvironment at timestamp 52\n",
      "INFO:root:Environment.proceed - calling the inner_proceed\n",
      "INFO:root:convolve2d starting\n",
      "INFO:root:convolve2d done\n",
      "INFO:root:Saving to gz\n",
      "INFO:root:Saving to gz done\n",
      "INFO:root:Environment.proceed - calling the inner_proceed\n",
      "INFO:root:PrecalculatedEnvironment at timestamp 52\n",
      "INFO:root:Environment.proceed - calling the inner_proceed\n",
      "INFO:root:Saving to gz\n",
      "INFO:root:Saving to gz done\n",
      "INFO:root:Environment.proceed - calling the inner_proceed\n",
      "INFO:root:Environment.proceed - calling the inner_proceed\n",
      "INFO:root:PrecalculatedEnvironment at timestamp 53\n",
      "INFO:root:Environment.proceed - calling the inner_proceed\n",
      "INFO:root:convolve2d starting\n",
      "INFO:root:convolve2d done\n",
      "INFO:root:Saving to gz\n",
      "INFO:root:Saving to gz done\n"
     ]
    },
    {
     "name": "stdout",
     "output_type": "stream",
     "text": [
      "precalculation proceed 52\n"
     ]
    },
    {
     "name": "stderr",
     "output_type": "stream",
     "text": [
      "INFO:root:Environment.proceed - calling the inner_proceed\n",
      "INFO:root:PrecalculatedEnvironment at timestamp 53\n",
      "INFO:root:Environment.proceed - calling the inner_proceed\n",
      "INFO:root:convolve2d starting\n",
      "INFO:root:convolve2d done\n",
      "INFO:root:Saving to gz\n",
      "INFO:root:Saving to gz done\n",
      "INFO:root:Environment.proceed - calling the inner_proceed\n",
      "INFO:root:PrecalculatedEnvironment at timestamp 53\n",
      "INFO:root:Environment.proceed - calling the inner_proceed\n",
      "INFO:root:Saving to gz\n",
      "INFO:root:Saving to gz done\n",
      "INFO:root:Environment.proceed - calling the inner_proceed\n",
      "INFO:root:Environment.proceed - calling the inner_proceed\n",
      "INFO:root:PrecalculatedEnvironment at timestamp 54\n",
      "INFO:root:Environment.proceed - calling the inner_proceed\n",
      "INFO:root:convolve2d starting\n",
      "INFO:root:convolve2d done\n",
      "INFO:root:Saving to gz\n",
      "INFO:root:Saving to gz done\n"
     ]
    },
    {
     "name": "stdout",
     "output_type": "stream",
     "text": [
      "precalculation proceed 53\n"
     ]
    },
    {
     "name": "stderr",
     "output_type": "stream",
     "text": [
      "INFO:root:Environment.proceed - calling the inner_proceed\n",
      "INFO:root:PrecalculatedEnvironment at timestamp 54\n",
      "INFO:root:Environment.proceed - calling the inner_proceed\n",
      "INFO:root:convolve2d starting\n",
      "INFO:root:convolve2d done\n",
      "INFO:root:Saving to gz\n",
      "INFO:root:Saving to gz done\n",
      "INFO:root:Environment.proceed - calling the inner_proceed\n",
      "INFO:root:PrecalculatedEnvironment at timestamp 54\n",
      "INFO:root:Environment.proceed - calling the inner_proceed\n",
      "INFO:root:Saving to gz\n",
      "INFO:root:Saving to gz done\n",
      "INFO:root:Environment.proceed - calling the inner_proceed\n",
      "INFO:root:Environment.proceed - calling the inner_proceed\n",
      "INFO:root:PrecalculatedEnvironment at timestamp 55\n",
      "INFO:root:Environment.proceed - calling the inner_proceed\n",
      "INFO:root:convolve2d starting\n",
      "INFO:root:convolve2d done\n",
      "INFO:root:Saving to gz\n",
      "INFO:root:Saving to gz done\n"
     ]
    },
    {
     "name": "stdout",
     "output_type": "stream",
     "text": [
      "precalculation proceed 54\n"
     ]
    },
    {
     "name": "stderr",
     "output_type": "stream",
     "text": [
      "INFO:root:Environment.proceed - calling the inner_proceed\n",
      "INFO:root:PrecalculatedEnvironment at timestamp 55\n",
      "INFO:root:Environment.proceed - calling the inner_proceed\n",
      "INFO:root:convolve2d starting\n",
      "INFO:root:convolve2d done\n",
      "INFO:root:Saving to gz\n",
      "INFO:root:Saving to gz done\n",
      "INFO:root:Environment.proceed - calling the inner_proceed\n",
      "INFO:root:PrecalculatedEnvironment at timestamp 55\n",
      "INFO:root:Environment.proceed - calling the inner_proceed\n",
      "INFO:root:Saving to gz\n",
      "INFO:root:Saving to gz done\n",
      "INFO:root:Environment.proceed - calling the inner_proceed\n",
      "INFO:root:Environment.proceed - calling the inner_proceed\n",
      "INFO:root:PrecalculatedEnvironment at timestamp 56\n",
      "INFO:root:Environment.proceed - calling the inner_proceed\n",
      "INFO:root:convolve2d starting\n",
      "INFO:root:convolve2d done\n",
      "INFO:root:Saving to gz\n",
      "INFO:root:Saving to gz done\n"
     ]
    },
    {
     "name": "stdout",
     "output_type": "stream",
     "text": [
      "precalculation proceed 55\n"
     ]
    },
    {
     "name": "stderr",
     "output_type": "stream",
     "text": [
      "INFO:root:Environment.proceed - calling the inner_proceed\n",
      "INFO:root:PrecalculatedEnvironment at timestamp 56\n",
      "INFO:root:Environment.proceed - calling the inner_proceed\n",
      "INFO:root:convolve2d starting\n",
      "INFO:root:convolve2d done\n",
      "INFO:root:Saving to gz\n",
      "INFO:root:Saving to gz done\n",
      "INFO:root:Environment.proceed - calling the inner_proceed\n",
      "INFO:root:PrecalculatedEnvironment at timestamp 56\n",
      "INFO:root:Environment.proceed - calling the inner_proceed\n",
      "INFO:root:Saving to gz\n",
      "INFO:root:Saving to gz done\n",
      "INFO:root:Environment.proceed - calling the inner_proceed\n",
      "INFO:root:Environment.proceed - calling the inner_proceed\n",
      "INFO:root:PrecalculatedEnvironment at timestamp 57\n",
      "INFO:root:Environment.proceed - calling the inner_proceed\n",
      "INFO:root:convolve2d starting\n",
      "INFO:root:convolve2d done\n",
      "INFO:root:Saving to gz\n",
      "INFO:root:Saving to gz done\n"
     ]
    },
    {
     "name": "stdout",
     "output_type": "stream",
     "text": [
      "precalculation proceed 56\n"
     ]
    },
    {
     "name": "stderr",
     "output_type": "stream",
     "text": [
      "INFO:root:Environment.proceed - calling the inner_proceed\n",
      "INFO:root:PrecalculatedEnvironment at timestamp 57\n",
      "INFO:root:Environment.proceed - calling the inner_proceed\n",
      "INFO:root:convolve2d starting\n",
      "INFO:root:convolve2d done\n",
      "INFO:root:Saving to gz\n",
      "INFO:root:Saving to gz done\n",
      "INFO:root:Environment.proceed - calling the inner_proceed\n",
      "INFO:root:PrecalculatedEnvironment at timestamp 57\n",
      "INFO:root:Environment.proceed - calling the inner_proceed\n",
      "INFO:root:Saving to gz\n",
      "INFO:root:Saving to gz done\n",
      "INFO:root:Environment.proceed - calling the inner_proceed\n",
      "INFO:root:Environment.proceed - calling the inner_proceed\n",
      "INFO:root:PrecalculatedEnvironment at timestamp 58\n",
      "INFO:root:Environment.proceed - calling the inner_proceed\n",
      "INFO:root:convolve2d starting\n",
      "INFO:root:convolve2d done\n",
      "INFO:root:Saving to gz\n",
      "INFO:root:Saving to gz done\n"
     ]
    },
    {
     "name": "stdout",
     "output_type": "stream",
     "text": [
      "precalculation proceed 57\n"
     ]
    },
    {
     "name": "stderr",
     "output_type": "stream",
     "text": [
      "INFO:root:Environment.proceed - calling the inner_proceed\n",
      "INFO:root:PrecalculatedEnvironment at timestamp 58\n",
      "INFO:root:Environment.proceed - calling the inner_proceed\n",
      "INFO:root:convolve2d starting\n",
      "INFO:root:convolve2d done\n",
      "INFO:root:Saving to gz\n",
      "INFO:root:Saving to gz done\n",
      "INFO:root:Environment.proceed - calling the inner_proceed\n",
      "INFO:root:PrecalculatedEnvironment at timestamp 58\n",
      "INFO:root:Environment.proceed - calling the inner_proceed\n",
      "INFO:root:Saving to gz\n",
      "INFO:root:Saving to gz done\n",
      "INFO:root:Environment.proceed - calling the inner_proceed\n",
      "INFO:root:Environment.proceed - calling the inner_proceed\n",
      "INFO:root:PrecalculatedEnvironment at timestamp 59\n",
      "INFO:root:Environment.proceed - calling the inner_proceed\n",
      "INFO:root:convolve2d starting\n",
      "INFO:root:convolve2d done\n",
      "INFO:root:Saving to gz\n",
      "INFO:root:Saving to gz done\n"
     ]
    },
    {
     "name": "stdout",
     "output_type": "stream",
     "text": [
      "precalculation proceed 58\n"
     ]
    },
    {
     "name": "stderr",
     "output_type": "stream",
     "text": [
      "INFO:root:Environment.proceed - calling the inner_proceed\n",
      "INFO:root:PrecalculatedEnvironment at timestamp 59\n",
      "INFO:root:Environment.proceed - calling the inner_proceed\n",
      "INFO:root:convolve2d starting\n",
      "INFO:root:convolve2d done\n",
      "INFO:root:Saving to gz\n",
      "INFO:root:Saving to gz done\n",
      "INFO:root:Environment.proceed - calling the inner_proceed\n",
      "INFO:root:PrecalculatedEnvironment at timestamp 59\n",
      "INFO:root:Environment.proceed - calling the inner_proceed\n",
      "INFO:root:Saving to gz\n",
      "INFO:root:Saving to gz done\n",
      "INFO:root:Environment.proceed - calling the inner_proceed\n",
      "INFO:root:Environment.proceed - calling the inner_proceed\n",
      "INFO:root:PrecalculatedEnvironment at timestamp 60\n",
      "INFO:root:Environment.proceed - calling the inner_proceed\n",
      "INFO:root:convolve2d starting\n",
      "INFO:root:convolve2d done\n",
      "INFO:root:Saving to gz\n",
      "INFO:root:Saving to gz done\n"
     ]
    },
    {
     "name": "stdout",
     "output_type": "stream",
     "text": [
      "precalculation proceed 59\n"
     ]
    },
    {
     "name": "stderr",
     "output_type": "stream",
     "text": [
      "INFO:root:Environment.proceed - calling the inner_proceed\n",
      "INFO:root:PrecalculatedEnvironment at timestamp 60\n",
      "INFO:root:Environment.proceed - calling the inner_proceed\n",
      "INFO:root:convolve2d starting\n",
      "INFO:root:convolve2d done\n",
      "INFO:root:Saving to gz\n",
      "INFO:root:Saving to gz done\n",
      "INFO:root:Environment.proceed - calling the inner_proceed\n",
      "INFO:root:PrecalculatedEnvironment at timestamp 60\n",
      "INFO:root:Environment.proceed - calling the inner_proceed\n",
      "INFO:root:Saving to gz\n",
      "INFO:root:Saving to gz done\n",
      "INFO:root:Environment.proceed - calling the inner_proceed\n",
      "INFO:root:Environment.proceed - calling the inner_proceed\n",
      "INFO:root:PrecalculatedEnvironment at timestamp 61\n",
      "INFO:root:Environment.proceed - calling the inner_proceed\n",
      "INFO:root:convolve2d starting\n",
      "INFO:root:convolve2d done\n",
      "INFO:root:Saving to gz\n",
      "INFO:root:Saving to gz done\n"
     ]
    },
    {
     "name": "stdout",
     "output_type": "stream",
     "text": [
      "precalculation proceed 60\n"
     ]
    },
    {
     "name": "stderr",
     "output_type": "stream",
     "text": [
      "INFO:root:Environment.proceed - calling the inner_proceed\n",
      "INFO:root:PrecalculatedEnvironment at timestamp 61\n",
      "INFO:root:Environment.proceed - calling the inner_proceed\n",
      "INFO:root:convolve2d starting\n",
      "INFO:root:convolve2d done\n",
      "INFO:root:Saving to gz\n",
      "INFO:root:Saving to gz done\n",
      "INFO:root:Environment.proceed - calling the inner_proceed\n",
      "INFO:root:PrecalculatedEnvironment at timestamp 61\n",
      "INFO:root:Environment.proceed - calling the inner_proceed\n",
      "INFO:root:Saving to gz\n",
      "INFO:root:Saving to gz done\n",
      "INFO:root:Environment.proceed - calling the inner_proceed\n",
      "INFO:root:Environment.proceed - calling the inner_proceed\n",
      "INFO:root:PrecalculatedEnvironment at timestamp 62\n",
      "INFO:root:Environment.proceed - calling the inner_proceed\n",
      "INFO:root:convolve2d starting\n",
      "INFO:root:convolve2d done\n",
      "INFO:root:Saving to gz\n",
      "INFO:root:Saving to gz done\n"
     ]
    },
    {
     "name": "stdout",
     "output_type": "stream",
     "text": [
      "precalculation proceed 61\n"
     ]
    },
    {
     "name": "stderr",
     "output_type": "stream",
     "text": [
      "INFO:root:Environment.proceed - calling the inner_proceed\n",
      "INFO:root:PrecalculatedEnvironment at timestamp 62\n",
      "INFO:root:Environment.proceed - calling the inner_proceed\n",
      "INFO:root:convolve2d starting\n",
      "INFO:root:convolve2d done\n",
      "INFO:root:Saving to gz\n",
      "INFO:root:Saving to gz done\n",
      "INFO:root:Environment.proceed - calling the inner_proceed\n",
      "INFO:root:PrecalculatedEnvironment at timestamp 62\n",
      "INFO:root:Environment.proceed - calling the inner_proceed\n",
      "INFO:root:Saving to gz\n",
      "INFO:root:Saving to gz done\n",
      "INFO:root:Environment.proceed - calling the inner_proceed\n",
      "INFO:root:Environment.proceed - calling the inner_proceed\n",
      "INFO:root:PrecalculatedEnvironment at timestamp 63\n",
      "INFO:root:Environment.proceed - calling the inner_proceed\n",
      "INFO:root:convolve2d starting\n",
      "INFO:root:convolve2d done\n",
      "INFO:root:Saving to gz\n",
      "INFO:root:Saving to gz done\n"
     ]
    },
    {
     "name": "stdout",
     "output_type": "stream",
     "text": [
      "precalculation proceed 62\n"
     ]
    },
    {
     "name": "stderr",
     "output_type": "stream",
     "text": [
      "INFO:root:Environment.proceed - calling the inner_proceed\n",
      "INFO:root:PrecalculatedEnvironment at timestamp 63\n",
      "INFO:root:Environment.proceed - calling the inner_proceed\n",
      "INFO:root:convolve2d starting\n",
      "INFO:root:convolve2d done\n",
      "INFO:root:Saving to gz\n",
      "INFO:root:Saving to gz done\n",
      "INFO:root:Environment.proceed - calling the inner_proceed\n",
      "INFO:root:PrecalculatedEnvironment at timestamp 63\n",
      "INFO:root:Environment.proceed - calling the inner_proceed\n",
      "INFO:root:Saving to gz\n",
      "INFO:root:Saving to gz done\n",
      "INFO:root:Environment.proceed - calling the inner_proceed\n",
      "INFO:root:Environment.proceed - calling the inner_proceed\n",
      "INFO:root:PrecalculatedEnvironment at timestamp 64\n",
      "INFO:root:Environment.proceed - calling the inner_proceed\n",
      "INFO:root:convolve2d starting\n",
      "INFO:root:convolve2d done\n",
      "INFO:root:Saving to gz\n",
      "INFO:root:Saving to gz done\n"
     ]
    },
    {
     "name": "stdout",
     "output_type": "stream",
     "text": [
      "precalculation proceed 63\n"
     ]
    },
    {
     "name": "stderr",
     "output_type": "stream",
     "text": [
      "INFO:root:Environment.proceed - calling the inner_proceed\n",
      "INFO:root:PrecalculatedEnvironment at timestamp 64\n",
      "INFO:root:Environment.proceed - calling the inner_proceed\n",
      "INFO:root:convolve2d starting\n",
      "INFO:root:convolve2d done\n",
      "INFO:root:Saving to gz\n",
      "INFO:root:Saving to gz done\n",
      "INFO:root:Environment.proceed - calling the inner_proceed\n",
      "INFO:root:PrecalculatedEnvironment at timestamp 64\n",
      "INFO:root:Environment.proceed - calling the inner_proceed\n",
      "INFO:root:Saving to gz\n",
      "INFO:root:Saving to gz done\n",
      "INFO:root:Environment.proceed - calling the inner_proceed\n",
      "INFO:root:Environment.proceed - calling the inner_proceed\n",
      "INFO:root:PrecalculatedEnvironment at timestamp 65\n",
      "INFO:root:Environment.proceed - calling the inner_proceed\n",
      "INFO:root:convolve2d starting\n",
      "INFO:root:convolve2d done\n",
      "INFO:root:Saving to gz\n",
      "INFO:root:Saving to gz done\n"
     ]
    },
    {
     "name": "stdout",
     "output_type": "stream",
     "text": [
      "precalculation proceed 64\n"
     ]
    },
    {
     "name": "stderr",
     "output_type": "stream",
     "text": [
      "INFO:root:Environment.proceed - calling the inner_proceed\n",
      "INFO:root:PrecalculatedEnvironment at timestamp 65\n",
      "INFO:root:Environment.proceed - calling the inner_proceed\n",
      "INFO:root:convolve2d starting\n",
      "INFO:root:convolve2d done\n",
      "INFO:root:Saving to gz\n",
      "INFO:root:Saving to gz done\n",
      "INFO:root:Environment.proceed - calling the inner_proceed\n",
      "INFO:root:PrecalculatedEnvironment at timestamp 65\n",
      "INFO:root:Environment.proceed - calling the inner_proceed\n",
      "INFO:root:Saving to gz\n",
      "INFO:root:Saving to gz done\n",
      "INFO:root:Environment.proceed - calling the inner_proceed\n",
      "INFO:root:Environment.proceed - calling the inner_proceed\n",
      "INFO:root:PrecalculatedEnvironment at timestamp 66\n",
      "INFO:root:Environment.proceed - calling the inner_proceed\n",
      "INFO:root:convolve2d starting\n",
      "INFO:root:convolve2d done\n",
      "INFO:root:Saving to gz\n",
      "INFO:root:Saving to gz done\n"
     ]
    },
    {
     "name": "stdout",
     "output_type": "stream",
     "text": [
      "precalculation proceed 65\n"
     ]
    },
    {
     "name": "stderr",
     "output_type": "stream",
     "text": [
      "INFO:root:Environment.proceed - calling the inner_proceed\n",
      "INFO:root:PrecalculatedEnvironment at timestamp 66\n",
      "INFO:root:Environment.proceed - calling the inner_proceed\n",
      "INFO:root:convolve2d starting\n",
      "INFO:root:convolve2d done\n",
      "INFO:root:Saving to gz\n",
      "INFO:root:Saving to gz done\n",
      "INFO:root:Environment.proceed - calling the inner_proceed\n",
      "INFO:root:PrecalculatedEnvironment at timestamp 66\n",
      "INFO:root:Environment.proceed - calling the inner_proceed\n",
      "INFO:root:Saving to gz\n",
      "INFO:root:Saving to gz done\n",
      "INFO:root:Environment.proceed - calling the inner_proceed\n",
      "INFO:root:Environment.proceed - calling the inner_proceed\n",
      "INFO:root:PrecalculatedEnvironment at timestamp 67\n",
      "INFO:root:Environment.proceed - calling the inner_proceed\n",
      "INFO:root:convolve2d starting\n",
      "INFO:root:convolve2d done\n",
      "INFO:root:Saving to gz\n",
      "INFO:root:Saving to gz done\n"
     ]
    },
    {
     "name": "stdout",
     "output_type": "stream",
     "text": [
      "precalculation proceed 66\n"
     ]
    },
    {
     "name": "stderr",
     "output_type": "stream",
     "text": [
      "INFO:root:Environment.proceed - calling the inner_proceed\n",
      "INFO:root:PrecalculatedEnvironment at timestamp 67\n",
      "INFO:root:Environment.proceed - calling the inner_proceed\n",
      "INFO:root:convolve2d starting\n",
      "INFO:root:convolve2d done\n",
      "INFO:root:Saving to gz\n",
      "INFO:root:Saving to gz done\n",
      "INFO:root:Environment.proceed - calling the inner_proceed\n",
      "INFO:root:PrecalculatedEnvironment at timestamp 67\n",
      "INFO:root:Environment.proceed - calling the inner_proceed\n",
      "INFO:root:Saving to gz\n",
      "INFO:root:Saving to gz done\n",
      "INFO:root:Environment.proceed - calling the inner_proceed\n",
      "INFO:root:Environment.proceed - calling the inner_proceed\n",
      "INFO:root:PrecalculatedEnvironment at timestamp 68\n",
      "INFO:root:Environment.proceed - calling the inner_proceed\n",
      "INFO:root:convolve2d starting\n",
      "INFO:root:convolve2d done\n",
      "INFO:root:Saving to gz\n",
      "INFO:root:Saving to gz done\n"
     ]
    },
    {
     "name": "stdout",
     "output_type": "stream",
     "text": [
      "precalculation proceed 67\n"
     ]
    },
    {
     "name": "stderr",
     "output_type": "stream",
     "text": [
      "INFO:root:Environment.proceed - calling the inner_proceed\n",
      "INFO:root:PrecalculatedEnvironment at timestamp 68\n",
      "INFO:root:Environment.proceed - calling the inner_proceed\n",
      "INFO:root:convolve2d starting\n",
      "INFO:root:convolve2d done\n",
      "INFO:root:Saving to gz\n",
      "INFO:root:Saving to gz done\n",
      "INFO:root:Environment.proceed - calling the inner_proceed\n",
      "INFO:root:PrecalculatedEnvironment at timestamp 68\n",
      "INFO:root:Environment.proceed - calling the inner_proceed\n",
      "INFO:root:Saving to gz\n",
      "INFO:root:Saving to gz done\n",
      "INFO:root:Environment.proceed - calling the inner_proceed\n",
      "INFO:root:Environment.proceed - calling the inner_proceed\n",
      "INFO:root:PrecalculatedEnvironment at timestamp 69\n",
      "INFO:root:Environment.proceed - calling the inner_proceed\n",
      "INFO:root:convolve2d starting\n",
      "INFO:root:convolve2d done\n",
      "INFO:root:Saving to gz\n",
      "INFO:root:Saving to gz done\n"
     ]
    },
    {
     "name": "stdout",
     "output_type": "stream",
     "text": [
      "precalculation proceed 68\n"
     ]
    },
    {
     "name": "stderr",
     "output_type": "stream",
     "text": [
      "INFO:root:Environment.proceed - calling the inner_proceed\n",
      "INFO:root:PrecalculatedEnvironment at timestamp 69\n",
      "INFO:root:Environment.proceed - calling the inner_proceed\n",
      "INFO:root:convolve2d starting\n",
      "INFO:root:convolve2d done\n",
      "INFO:root:Saving to gz\n",
      "INFO:root:Saving to gz done\n",
      "INFO:root:Environment.proceed - calling the inner_proceed\n",
      "INFO:root:PrecalculatedEnvironment at timestamp 69\n",
      "INFO:root:Environment.proceed - calling the inner_proceed\n",
      "INFO:root:Saving to gz\n",
      "INFO:root:Saving to gz done\n",
      "INFO:root:Environment.proceed - calling the inner_proceed\n",
      "INFO:root:Environment.proceed - calling the inner_proceed\n",
      "INFO:root:PrecalculatedEnvironment at timestamp 70\n",
      "INFO:root:Environment.proceed - calling the inner_proceed\n",
      "INFO:root:convolve2d starting\n",
      "INFO:root:convolve2d done\n",
      "INFO:root:Saving to gz\n",
      "INFO:root:Saving to gz done\n"
     ]
    },
    {
     "name": "stdout",
     "output_type": "stream",
     "text": [
      "precalculation proceed 69\n"
     ]
    },
    {
     "name": "stderr",
     "output_type": "stream",
     "text": [
      "INFO:root:Environment.proceed - calling the inner_proceed\n",
      "INFO:root:PrecalculatedEnvironment at timestamp 70\n",
      "INFO:root:Environment.proceed - calling the inner_proceed\n",
      "INFO:root:convolve2d starting\n",
      "INFO:root:convolve2d done\n",
      "INFO:root:Saving to gz\n",
      "INFO:root:Saving to gz done\n",
      "INFO:root:Environment.proceed - calling the inner_proceed\n",
      "INFO:root:PrecalculatedEnvironment at timestamp 70\n",
      "INFO:root:Environment.proceed - calling the inner_proceed\n",
      "INFO:root:Saving to gz\n",
      "INFO:root:Saving to gz done\n",
      "INFO:root:Environment.proceed - calling the inner_proceed\n",
      "INFO:root:Environment.proceed - calling the inner_proceed\n",
      "INFO:root:PrecalculatedEnvironment at timestamp 71\n",
      "INFO:root:Environment.proceed - calling the inner_proceed\n",
      "INFO:root:convolve2d starting\n",
      "INFO:root:convolve2d done\n",
      "INFO:root:Saving to gz\n",
      "INFO:root:Saving to gz done\n"
     ]
    },
    {
     "name": "stdout",
     "output_type": "stream",
     "text": [
      "precalculation proceed 70\n"
     ]
    },
    {
     "name": "stderr",
     "output_type": "stream",
     "text": [
      "INFO:root:Environment.proceed - calling the inner_proceed\n",
      "INFO:root:PrecalculatedEnvironment at timestamp 71\n",
      "INFO:root:Environment.proceed - calling the inner_proceed\n",
      "INFO:root:convolve2d starting\n",
      "INFO:root:convolve2d done\n",
      "INFO:root:Saving to gz\n",
      "INFO:root:Saving to gz done\n",
      "INFO:root:Environment.proceed - calling the inner_proceed\n",
      "INFO:root:PrecalculatedEnvironment at timestamp 71\n",
      "INFO:root:Environment.proceed - calling the inner_proceed\n",
      "INFO:root:Saving to gz\n",
      "INFO:root:Saving to gz done\n",
      "INFO:root:Environment.proceed - calling the inner_proceed\n",
      "INFO:root:Environment.proceed - calling the inner_proceed\n",
      "INFO:root:PrecalculatedEnvironment at timestamp 72\n",
      "INFO:root:Environment.proceed - calling the inner_proceed\n",
      "INFO:root:convolve2d starting\n",
      "INFO:root:convolve2d done\n",
      "INFO:root:Saving to gz\n",
      "INFO:root:Saving to gz done\n"
     ]
    },
    {
     "name": "stdout",
     "output_type": "stream",
     "text": [
      "precalculation proceed 71\n"
     ]
    },
    {
     "name": "stderr",
     "output_type": "stream",
     "text": [
      "INFO:root:Environment.proceed - calling the inner_proceed\n",
      "INFO:root:PrecalculatedEnvironment at timestamp 72\n",
      "INFO:root:Environment.proceed - calling the inner_proceed\n",
      "INFO:root:convolve2d starting\n",
      "INFO:root:convolve2d done\n",
      "INFO:root:Saving to gz\n",
      "INFO:root:Saving to gz done\n",
      "INFO:root:Environment.proceed - calling the inner_proceed\n",
      "INFO:root:PrecalculatedEnvironment at timestamp 72\n",
      "INFO:root:Environment.proceed - calling the inner_proceed\n",
      "INFO:root:Saving to gz\n",
      "INFO:root:Saving to gz done\n",
      "INFO:root:Environment.proceed - calling the inner_proceed\n",
      "INFO:root:Environment.proceed - calling the inner_proceed\n",
      "INFO:root:PrecalculatedEnvironment at timestamp 73\n",
      "INFO:root:Environment.proceed - calling the inner_proceed\n",
      "INFO:root:convolve2d starting\n",
      "INFO:root:convolve2d done\n",
      "INFO:root:Saving to gz\n",
      "INFO:root:Saving to gz done\n"
     ]
    },
    {
     "name": "stdout",
     "output_type": "stream",
     "text": [
      "precalculation proceed 72\n"
     ]
    },
    {
     "name": "stderr",
     "output_type": "stream",
     "text": [
      "INFO:root:Environment.proceed - calling the inner_proceed\n",
      "INFO:root:PrecalculatedEnvironment at timestamp 73\n",
      "INFO:root:Environment.proceed - calling the inner_proceed\n",
      "INFO:root:convolve2d starting\n",
      "INFO:root:convolve2d done\n",
      "INFO:root:Saving to gz\n",
      "INFO:root:Saving to gz done\n",
      "INFO:root:Environment.proceed - calling the inner_proceed\n",
      "INFO:root:PrecalculatedEnvironment at timestamp 73\n",
      "INFO:root:Environment.proceed - calling the inner_proceed\n",
      "INFO:root:Saving to gz\n",
      "INFO:root:Saving to gz done\n",
      "INFO:root:Environment.proceed - calling the inner_proceed\n",
      "INFO:root:Environment.proceed - calling the inner_proceed\n",
      "INFO:root:PrecalculatedEnvironment at timestamp 74\n",
      "INFO:root:Environment.proceed - calling the inner_proceed\n",
      "INFO:root:convolve2d starting\n",
      "INFO:root:convolve2d done\n",
      "INFO:root:Saving to gz\n",
      "INFO:root:Saving to gz done\n"
     ]
    },
    {
     "name": "stdout",
     "output_type": "stream",
     "text": [
      "precalculation proceed 73\n"
     ]
    },
    {
     "name": "stderr",
     "output_type": "stream",
     "text": [
      "INFO:root:Environment.proceed - calling the inner_proceed\n",
      "INFO:root:PrecalculatedEnvironment at timestamp 74\n",
      "INFO:root:Environment.proceed - calling the inner_proceed\n",
      "INFO:root:convolve2d starting\n",
      "INFO:root:convolve2d done\n",
      "INFO:root:Saving to gz\n",
      "INFO:root:Saving to gz done\n",
      "INFO:root:Environment.proceed - calling the inner_proceed\n",
      "INFO:root:PrecalculatedEnvironment at timestamp 74\n",
      "INFO:root:Environment.proceed - calling the inner_proceed\n",
      "INFO:root:Saving to gz\n",
      "INFO:root:Saving to gz done\n",
      "INFO:root:Environment.proceed - calling the inner_proceed\n",
      "INFO:root:Environment.proceed - calling the inner_proceed\n",
      "INFO:root:PrecalculatedEnvironment at timestamp 75\n",
      "INFO:root:Environment.proceed - calling the inner_proceed\n",
      "INFO:root:convolve2d starting\n",
      "INFO:root:convolve2d done\n",
      "INFO:root:Saving to gz\n",
      "INFO:root:Saving to gz done\n"
     ]
    },
    {
     "name": "stdout",
     "output_type": "stream",
     "text": [
      "precalculation proceed 74\n"
     ]
    },
    {
     "name": "stderr",
     "output_type": "stream",
     "text": [
      "INFO:root:Environment.proceed - calling the inner_proceed\n",
      "INFO:root:PrecalculatedEnvironment at timestamp 75\n",
      "INFO:root:Environment.proceed - calling the inner_proceed\n",
      "INFO:root:convolve2d starting\n",
      "INFO:root:convolve2d done\n",
      "INFO:root:Saving to gz\n",
      "INFO:root:Saving to gz done\n",
      "INFO:root:Environment.proceed - calling the inner_proceed\n",
      "INFO:root:PrecalculatedEnvironment at timestamp 75\n",
      "INFO:root:Environment.proceed - calling the inner_proceed\n",
      "INFO:root:Saving to gz\n",
      "INFO:root:Saving to gz done\n",
      "INFO:root:Environment.proceed - calling the inner_proceed\n",
      "INFO:root:Environment.proceed - calling the inner_proceed\n",
      "INFO:root:PrecalculatedEnvironment at timestamp 76\n",
      "INFO:root:Environment.proceed - calling the inner_proceed\n",
      "INFO:root:convolve2d starting\n",
      "INFO:root:convolve2d done\n",
      "INFO:root:Saving to gz\n",
      "INFO:root:Saving to gz done\n"
     ]
    },
    {
     "name": "stdout",
     "output_type": "stream",
     "text": [
      "precalculation proceed 75\n"
     ]
    },
    {
     "name": "stderr",
     "output_type": "stream",
     "text": [
      "INFO:root:Environment.proceed - calling the inner_proceed\n",
      "INFO:root:PrecalculatedEnvironment at timestamp 76\n",
      "INFO:root:Environment.proceed - calling the inner_proceed\n",
      "INFO:root:convolve2d starting\n",
      "INFO:root:convolve2d done\n",
      "INFO:root:Saving to gz\n",
      "INFO:root:Saving to gz done\n",
      "INFO:root:Environment.proceed - calling the inner_proceed\n",
      "INFO:root:PrecalculatedEnvironment at timestamp 76\n",
      "INFO:root:Environment.proceed - calling the inner_proceed\n",
      "INFO:root:Saving to gz\n",
      "INFO:root:Saving to gz done\n",
      "INFO:root:Environment.proceed - calling the inner_proceed\n",
      "INFO:root:Environment.proceed - calling the inner_proceed\n",
      "INFO:root:PrecalculatedEnvironment at timestamp 77\n",
      "INFO:root:Environment.proceed - calling the inner_proceed\n",
      "INFO:root:convolve2d starting\n",
      "INFO:root:convolve2d done\n",
      "INFO:root:Saving to gz\n",
      "INFO:root:Saving to gz done\n"
     ]
    },
    {
     "name": "stdout",
     "output_type": "stream",
     "text": [
      "precalculation proceed 76\n"
     ]
    },
    {
     "name": "stderr",
     "output_type": "stream",
     "text": [
      "INFO:root:Environment.proceed - calling the inner_proceed\n",
      "INFO:root:PrecalculatedEnvironment at timestamp 77\n",
      "INFO:root:Environment.proceed - calling the inner_proceed\n",
      "INFO:root:convolve2d starting\n",
      "INFO:root:convolve2d done\n",
      "INFO:root:Saving to gz\n",
      "INFO:root:Saving to gz done\n",
      "INFO:root:Environment.proceed - calling the inner_proceed\n",
      "INFO:root:PrecalculatedEnvironment at timestamp 77\n",
      "INFO:root:Environment.proceed - calling the inner_proceed\n",
      "INFO:root:Saving to gz\n",
      "INFO:root:Saving to gz done\n",
      "INFO:root:Environment.proceed - calling the inner_proceed\n",
      "INFO:root:Environment.proceed - calling the inner_proceed\n",
      "INFO:root:PrecalculatedEnvironment at timestamp 78\n",
      "INFO:root:Environment.proceed - calling the inner_proceed\n",
      "INFO:root:convolve2d starting\n",
      "INFO:root:convolve2d done\n",
      "INFO:root:Saving to gz\n",
      "INFO:root:Saving to gz done\n"
     ]
    },
    {
     "name": "stdout",
     "output_type": "stream",
     "text": [
      "precalculation proceed 77\n"
     ]
    },
    {
     "name": "stderr",
     "output_type": "stream",
     "text": [
      "INFO:root:Environment.proceed - calling the inner_proceed\n",
      "INFO:root:PrecalculatedEnvironment at timestamp 78\n",
      "INFO:root:Environment.proceed - calling the inner_proceed\n",
      "INFO:root:convolve2d starting\n",
      "INFO:root:convolve2d done\n",
      "INFO:root:Saving to gz\n",
      "INFO:root:Saving to gz done\n",
      "INFO:root:Environment.proceed - calling the inner_proceed\n",
      "INFO:root:PrecalculatedEnvironment at timestamp 78\n",
      "INFO:root:Environment.proceed - calling the inner_proceed\n",
      "INFO:root:Saving to gz\n",
      "INFO:root:Saving to gz done\n",
      "INFO:root:Environment.proceed - calling the inner_proceed\n",
      "INFO:root:Environment.proceed - calling the inner_proceed\n",
      "INFO:root:PrecalculatedEnvironment at timestamp 79\n",
      "INFO:root:Environment.proceed - calling the inner_proceed\n",
      "INFO:root:convolve2d starting\n",
      "INFO:root:convolve2d done\n",
      "INFO:root:Saving to gz\n",
      "INFO:root:Saving to gz done\n"
     ]
    },
    {
     "name": "stdout",
     "output_type": "stream",
     "text": [
      "precalculation proceed 78\n"
     ]
    },
    {
     "name": "stderr",
     "output_type": "stream",
     "text": [
      "INFO:root:Environment.proceed - calling the inner_proceed\n",
      "INFO:root:PrecalculatedEnvironment at timestamp 79\n",
      "INFO:root:Environment.proceed - calling the inner_proceed\n",
      "INFO:root:convolve2d starting\n",
      "INFO:root:convolve2d done\n",
      "INFO:root:Saving to gz\n",
      "INFO:root:Saving to gz done\n",
      "INFO:root:Environment.proceed - calling the inner_proceed\n",
      "INFO:root:PrecalculatedEnvironment at timestamp 79\n",
      "INFO:root:Environment.proceed - calling the inner_proceed\n",
      "INFO:root:Saving to gz\n",
      "INFO:root:Saving to gz done\n",
      "INFO:root:Environment.proceed - calling the inner_proceed\n",
      "INFO:root:Environment.proceed - calling the inner_proceed\n",
      "INFO:root:PrecalculatedEnvironment at timestamp 80\n",
      "INFO:root:Environment.proceed - calling the inner_proceed\n",
      "INFO:root:convolve2d starting\n",
      "INFO:root:convolve2d done\n",
      "INFO:root:Saving to gz\n",
      "INFO:root:Saving to gz done\n"
     ]
    },
    {
     "name": "stdout",
     "output_type": "stream",
     "text": [
      "precalculation proceed 79\n"
     ]
    },
    {
     "name": "stderr",
     "output_type": "stream",
     "text": [
      "INFO:root:Environment.proceed - calling the inner_proceed\n",
      "INFO:root:PrecalculatedEnvironment at timestamp 80\n",
      "INFO:root:Environment.proceed - calling the inner_proceed\n",
      "INFO:root:convolve2d starting\n",
      "INFO:root:convolve2d done\n",
      "INFO:root:Saving to gz\n",
      "INFO:root:Saving to gz done\n",
      "INFO:root:Environment.proceed - calling the inner_proceed\n",
      "INFO:root:PrecalculatedEnvironment at timestamp 80\n",
      "INFO:root:Environment.proceed - calling the inner_proceed\n",
      "INFO:root:Saving to gz\n",
      "INFO:root:Saving to gz done\n",
      "INFO:root:Environment.proceed - calling the inner_proceed\n",
      "INFO:root:Environment.proceed - calling the inner_proceed\n",
      "INFO:root:PrecalculatedEnvironment at timestamp 81\n",
      "INFO:root:Environment.proceed - calling the inner_proceed\n",
      "INFO:root:convolve2d starting\n",
      "INFO:root:convolve2d done\n",
      "INFO:root:Saving to gz\n",
      "INFO:root:Saving to gz done\n"
     ]
    },
    {
     "name": "stdout",
     "output_type": "stream",
     "text": [
      "precalculation proceed 80\n"
     ]
    },
    {
     "name": "stderr",
     "output_type": "stream",
     "text": [
      "INFO:root:Environment.proceed - calling the inner_proceed\n",
      "INFO:root:PrecalculatedEnvironment at timestamp 81\n",
      "INFO:root:Environment.proceed - calling the inner_proceed\n",
      "INFO:root:convolve2d starting\n",
      "INFO:root:convolve2d done\n",
      "INFO:root:Saving to gz\n",
      "INFO:root:Saving to gz done\n",
      "INFO:root:Environment.proceed - calling the inner_proceed\n",
      "INFO:root:PrecalculatedEnvironment at timestamp 81\n",
      "INFO:root:Environment.proceed - calling the inner_proceed\n",
      "INFO:root:Saving to gz\n",
      "INFO:root:Saving to gz done\n",
      "INFO:root:Environment.proceed - calling the inner_proceed\n",
      "INFO:root:Environment.proceed - calling the inner_proceed\n",
      "INFO:root:PrecalculatedEnvironment at timestamp 82\n",
      "INFO:root:Environment.proceed - calling the inner_proceed\n",
      "INFO:root:convolve2d starting\n",
      "INFO:root:convolve2d done\n",
      "INFO:root:Saving to gz\n",
      "INFO:root:Saving to gz done\n"
     ]
    },
    {
     "name": "stdout",
     "output_type": "stream",
     "text": [
      "precalculation proceed 81\n"
     ]
    },
    {
     "name": "stderr",
     "output_type": "stream",
     "text": [
      "INFO:root:Environment.proceed - calling the inner_proceed\n",
      "INFO:root:PrecalculatedEnvironment at timestamp 82\n",
      "INFO:root:Environment.proceed - calling the inner_proceed\n",
      "INFO:root:convolve2d starting\n",
      "INFO:root:convolve2d done\n",
      "INFO:root:Saving to gz\n",
      "INFO:root:Saving to gz done\n",
      "INFO:root:Environment.proceed - calling the inner_proceed\n",
      "INFO:root:PrecalculatedEnvironment at timestamp 82\n",
      "INFO:root:Environment.proceed - calling the inner_proceed\n",
      "INFO:root:Saving to gz\n",
      "INFO:root:Saving to gz done\n",
      "INFO:root:Environment.proceed - calling the inner_proceed\n",
      "INFO:root:Environment.proceed - calling the inner_proceed\n",
      "INFO:root:PrecalculatedEnvironment at timestamp 83\n",
      "INFO:root:Environment.proceed - calling the inner_proceed\n",
      "INFO:root:convolve2d starting\n",
      "INFO:root:convolve2d done\n",
      "INFO:root:Saving to gz\n",
      "INFO:root:Saving to gz done\n"
     ]
    },
    {
     "name": "stdout",
     "output_type": "stream",
     "text": [
      "precalculation proceed 82\n"
     ]
    },
    {
     "name": "stderr",
     "output_type": "stream",
     "text": [
      "INFO:root:Environment.proceed - calling the inner_proceed\n",
      "INFO:root:PrecalculatedEnvironment at timestamp 83\n",
      "INFO:root:Environment.proceed - calling the inner_proceed\n",
      "INFO:root:convolve2d starting\n",
      "INFO:root:convolve2d done\n",
      "INFO:root:Saving to gz\n",
      "INFO:root:Saving to gz done\n",
      "INFO:root:Environment.proceed - calling the inner_proceed\n",
      "INFO:root:PrecalculatedEnvironment at timestamp 83\n",
      "INFO:root:Environment.proceed - calling the inner_proceed\n",
      "INFO:root:Saving to gz\n",
      "INFO:root:Saving to gz done\n",
      "INFO:root:Environment.proceed - calling the inner_proceed\n",
      "INFO:root:Environment.proceed - calling the inner_proceed\n",
      "INFO:root:PrecalculatedEnvironment at timestamp 84\n",
      "INFO:root:Environment.proceed - calling the inner_proceed\n",
      "INFO:root:convolve2d starting\n",
      "INFO:root:convolve2d done\n",
      "INFO:root:Saving to gz\n",
      "INFO:root:Saving to gz done\n"
     ]
    },
    {
     "name": "stdout",
     "output_type": "stream",
     "text": [
      "precalculation proceed 83\n"
     ]
    },
    {
     "name": "stderr",
     "output_type": "stream",
     "text": [
      "INFO:root:Environment.proceed - calling the inner_proceed\n",
      "INFO:root:PrecalculatedEnvironment at timestamp 84\n",
      "INFO:root:Environment.proceed - calling the inner_proceed\n",
      "INFO:root:convolve2d starting\n",
      "INFO:root:convolve2d done\n",
      "INFO:root:Saving to gz\n",
      "INFO:root:Saving to gz done\n",
      "INFO:root:Environment.proceed - calling the inner_proceed\n",
      "INFO:root:PrecalculatedEnvironment at timestamp 84\n",
      "INFO:root:Environment.proceed - calling the inner_proceed\n",
      "INFO:root:Saving to gz\n",
      "INFO:root:Saving to gz done\n",
      "INFO:root:Environment.proceed - calling the inner_proceed\n",
      "INFO:root:Environment.proceed - calling the inner_proceed\n",
      "INFO:root:PrecalculatedEnvironment at timestamp 85\n",
      "INFO:root:Environment.proceed - calling the inner_proceed\n",
      "INFO:root:convolve2d starting\n",
      "INFO:root:convolve2d done\n",
      "INFO:root:Saving to gz\n",
      "INFO:root:Saving to gz done\n"
     ]
    },
    {
     "name": "stdout",
     "output_type": "stream",
     "text": [
      "precalculation proceed 84\n"
     ]
    },
    {
     "name": "stderr",
     "output_type": "stream",
     "text": [
      "INFO:root:Environment.proceed - calling the inner_proceed\n",
      "INFO:root:PrecalculatedEnvironment at timestamp 85\n",
      "INFO:root:Environment.proceed - calling the inner_proceed\n",
      "INFO:root:convolve2d starting\n",
      "INFO:root:convolve2d done\n",
      "INFO:root:Saving to gz\n",
      "INFO:root:Saving to gz done\n",
      "INFO:root:Environment.proceed - calling the inner_proceed\n",
      "INFO:root:PrecalculatedEnvironment at timestamp 85\n",
      "INFO:root:Environment.proceed - calling the inner_proceed\n",
      "INFO:root:Saving to gz\n",
      "INFO:root:Saving to gz done\n",
      "INFO:root:Environment.proceed - calling the inner_proceed\n",
      "INFO:root:Environment.proceed - calling the inner_proceed\n",
      "INFO:root:PrecalculatedEnvironment at timestamp 86\n",
      "INFO:root:Environment.proceed - calling the inner_proceed\n",
      "INFO:root:convolve2d starting\n",
      "INFO:root:convolve2d done\n",
      "INFO:root:Saving to gz\n",
      "INFO:root:Saving to gz done\n"
     ]
    },
    {
     "name": "stdout",
     "output_type": "stream",
     "text": [
      "precalculation proceed 85\n"
     ]
    },
    {
     "name": "stderr",
     "output_type": "stream",
     "text": [
      "INFO:root:Environment.proceed - calling the inner_proceed\n",
      "INFO:root:PrecalculatedEnvironment at timestamp 86\n",
      "INFO:root:Environment.proceed - calling the inner_proceed\n",
      "INFO:root:convolve2d starting\n",
      "INFO:root:convolve2d done\n",
      "INFO:root:Saving to gz\n",
      "INFO:root:Saving to gz done\n",
      "INFO:root:Environment.proceed - calling the inner_proceed\n",
      "INFO:root:PrecalculatedEnvironment at timestamp 86\n",
      "INFO:root:Environment.proceed - calling the inner_proceed\n",
      "INFO:root:Saving to gz\n",
      "INFO:root:Saving to gz done\n",
      "INFO:root:Environment.proceed - calling the inner_proceed\n",
      "INFO:root:Environment.proceed - calling the inner_proceed\n",
      "INFO:root:PrecalculatedEnvironment at timestamp 87\n",
      "INFO:root:Environment.proceed - calling the inner_proceed\n",
      "INFO:root:convolve2d starting\n",
      "INFO:root:convolve2d done\n",
      "INFO:root:Saving to gz\n",
      "INFO:root:Saving to gz done\n"
     ]
    },
    {
     "name": "stdout",
     "output_type": "stream",
     "text": [
      "precalculation proceed 86\n"
     ]
    },
    {
     "name": "stderr",
     "output_type": "stream",
     "text": [
      "INFO:root:Environment.proceed - calling the inner_proceed\n",
      "INFO:root:PrecalculatedEnvironment at timestamp 87\n",
      "INFO:root:Environment.proceed - calling the inner_proceed\n",
      "INFO:root:convolve2d starting\n",
      "INFO:root:convolve2d done\n",
      "INFO:root:Saving to gz\n",
      "INFO:root:Saving to gz done\n",
      "INFO:root:Environment.proceed - calling the inner_proceed\n",
      "INFO:root:PrecalculatedEnvironment at timestamp 87\n",
      "INFO:root:Environment.proceed - calling the inner_proceed\n",
      "INFO:root:Saving to gz\n",
      "INFO:root:Saving to gz done\n",
      "INFO:root:Environment.proceed - calling the inner_proceed\n",
      "INFO:root:Environment.proceed - calling the inner_proceed\n",
      "INFO:root:PrecalculatedEnvironment at timestamp 88\n",
      "INFO:root:Environment.proceed - calling the inner_proceed\n",
      "INFO:root:convolve2d starting\n",
      "INFO:root:convolve2d done\n",
      "INFO:root:Saving to gz\n",
      "INFO:root:Saving to gz done\n"
     ]
    },
    {
     "name": "stdout",
     "output_type": "stream",
     "text": [
      "precalculation proceed 87\n"
     ]
    },
    {
     "name": "stderr",
     "output_type": "stream",
     "text": [
      "INFO:root:Environment.proceed - calling the inner_proceed\n",
      "INFO:root:PrecalculatedEnvironment at timestamp 88\n",
      "INFO:root:Environment.proceed - calling the inner_proceed\n",
      "INFO:root:convolve2d starting\n",
      "INFO:root:convolve2d done\n",
      "INFO:root:Saving to gz\n",
      "INFO:root:Saving to gz done\n",
      "INFO:root:Environment.proceed - calling the inner_proceed\n",
      "INFO:root:PrecalculatedEnvironment at timestamp 88\n",
      "INFO:root:Environment.proceed - calling the inner_proceed\n",
      "INFO:root:Saving to gz\n",
      "INFO:root:Saving to gz done\n",
      "INFO:root:Environment.proceed - calling the inner_proceed\n",
      "INFO:root:Environment.proceed - calling the inner_proceed\n",
      "INFO:root:PrecalculatedEnvironment at timestamp 89\n",
      "INFO:root:Environment.proceed - calling the inner_proceed\n",
      "INFO:root:convolve2d starting\n",
      "INFO:root:convolve2d done\n",
      "INFO:root:Saving to gz\n",
      "INFO:root:Saving to gz done\n"
     ]
    },
    {
     "name": "stdout",
     "output_type": "stream",
     "text": [
      "precalculation proceed 88\n"
     ]
    },
    {
     "name": "stderr",
     "output_type": "stream",
     "text": [
      "INFO:root:Environment.proceed - calling the inner_proceed\n",
      "INFO:root:PrecalculatedEnvironment at timestamp 89\n",
      "INFO:root:Environment.proceed - calling the inner_proceed\n",
      "INFO:root:convolve2d starting\n",
      "INFO:root:convolve2d done\n",
      "INFO:root:Saving to gz\n",
      "INFO:root:Saving to gz done\n",
      "INFO:root:Environment.proceed - calling the inner_proceed\n",
      "INFO:root:PrecalculatedEnvironment at timestamp 89\n",
      "INFO:root:Environment.proceed - calling the inner_proceed\n",
      "INFO:root:Saving to gz\n",
      "INFO:root:Saving to gz done\n",
      "INFO:root:Environment.proceed - calling the inner_proceed\n",
      "INFO:root:Environment.proceed - calling the inner_proceed\n",
      "INFO:root:PrecalculatedEnvironment at timestamp 90\n",
      "INFO:root:Environment.proceed - calling the inner_proceed\n",
      "INFO:root:convolve2d starting\n",
      "INFO:root:convolve2d done\n",
      "INFO:root:Saving to gz\n",
      "INFO:root:Saving to gz done\n"
     ]
    },
    {
     "name": "stdout",
     "output_type": "stream",
     "text": [
      "precalculation proceed 89\n"
     ]
    },
    {
     "name": "stderr",
     "output_type": "stream",
     "text": [
      "INFO:root:Environment.proceed - calling the inner_proceed\n",
      "INFO:root:PrecalculatedEnvironment at timestamp 90\n",
      "INFO:root:Environment.proceed - calling the inner_proceed\n",
      "INFO:root:convolve2d starting\n",
      "INFO:root:convolve2d done\n",
      "INFO:root:Saving to gz\n",
      "INFO:root:Saving to gz done\n",
      "INFO:root:Environment.proceed - calling the inner_proceed\n",
      "INFO:root:PrecalculatedEnvironment at timestamp 90\n",
      "INFO:root:Environment.proceed - calling the inner_proceed\n",
      "INFO:root:Saving to gz\n",
      "INFO:root:Saving to gz done\n",
      "INFO:root:Environment.proceed - calling the inner_proceed\n",
      "INFO:root:Environment.proceed - calling the inner_proceed\n",
      "INFO:root:PrecalculatedEnvironment at timestamp 91\n",
      "INFO:root:Environment.proceed - calling the inner_proceed\n",
      "INFO:root:convolve2d starting\n",
      "INFO:root:convolve2d done\n",
      "INFO:root:Saving to gz\n",
      "INFO:root:Saving to gz done\n"
     ]
    },
    {
     "name": "stdout",
     "output_type": "stream",
     "text": [
      "precalculation proceed 90\n"
     ]
    },
    {
     "name": "stderr",
     "output_type": "stream",
     "text": [
      "INFO:root:Environment.proceed - calling the inner_proceed\n",
      "INFO:root:PrecalculatedEnvironment at timestamp 91\n",
      "INFO:root:Environment.proceed - calling the inner_proceed\n",
      "INFO:root:convolve2d starting\n",
      "INFO:root:convolve2d done\n",
      "INFO:root:Saving to gz\n",
      "INFO:root:Saving to gz done\n",
      "INFO:root:Environment.proceed - calling the inner_proceed\n",
      "INFO:root:PrecalculatedEnvironment at timestamp 91\n",
      "INFO:root:Environment.proceed - calling the inner_proceed\n",
      "INFO:root:Saving to gz\n",
      "INFO:root:Saving to gz done\n",
      "INFO:root:Environment.proceed - calling the inner_proceed\n",
      "INFO:root:Environment.proceed - calling the inner_proceed\n",
      "INFO:root:PrecalculatedEnvironment at timestamp 92\n",
      "INFO:root:Environment.proceed - calling the inner_proceed\n",
      "INFO:root:convolve2d starting\n",
      "INFO:root:convolve2d done\n",
      "INFO:root:Saving to gz\n",
      "INFO:root:Saving to gz done\n"
     ]
    },
    {
     "name": "stdout",
     "output_type": "stream",
     "text": [
      "precalculation proceed 91\n"
     ]
    },
    {
     "name": "stderr",
     "output_type": "stream",
     "text": [
      "INFO:root:Environment.proceed - calling the inner_proceed\n",
      "INFO:root:PrecalculatedEnvironment at timestamp 92\n",
      "INFO:root:Environment.proceed - calling the inner_proceed\n",
      "INFO:root:convolve2d starting\n",
      "INFO:root:convolve2d done\n",
      "INFO:root:Saving to gz\n",
      "INFO:root:Saving to gz done\n",
      "INFO:root:Environment.proceed - calling the inner_proceed\n",
      "INFO:root:PrecalculatedEnvironment at timestamp 92\n",
      "INFO:root:Environment.proceed - calling the inner_proceed\n",
      "INFO:root:Saving to gz\n",
      "INFO:root:Saving to gz done\n",
      "INFO:root:Environment.proceed - calling the inner_proceed\n",
      "INFO:root:Environment.proceed - calling the inner_proceed\n",
      "INFO:root:PrecalculatedEnvironment at timestamp 93\n",
      "INFO:root:Environment.proceed - calling the inner_proceed\n",
      "INFO:root:convolve2d starting\n",
      "INFO:root:convolve2d done\n",
      "INFO:root:Saving to gz\n",
      "INFO:root:Saving to gz done\n"
     ]
    },
    {
     "name": "stdout",
     "output_type": "stream",
     "text": [
      "precalculation proceed 92\n"
     ]
    },
    {
     "name": "stderr",
     "output_type": "stream",
     "text": [
      "INFO:root:Environment.proceed - calling the inner_proceed\n",
      "INFO:root:PrecalculatedEnvironment at timestamp 93\n",
      "INFO:root:Environment.proceed - calling the inner_proceed\n",
      "INFO:root:convolve2d starting\n",
      "INFO:root:convolve2d done\n",
      "INFO:root:Saving to gz\n",
      "INFO:root:Saving to gz done\n",
      "INFO:root:Environment.proceed - calling the inner_proceed\n",
      "INFO:root:PrecalculatedEnvironment at timestamp 93\n",
      "INFO:root:Environment.proceed - calling the inner_proceed\n",
      "INFO:root:Saving to gz\n",
      "INFO:root:Saving to gz done\n",
      "INFO:root:Environment.proceed - calling the inner_proceed\n",
      "INFO:root:Environment.proceed - calling the inner_proceed\n",
      "INFO:root:PrecalculatedEnvironment at timestamp 94\n",
      "INFO:root:Environment.proceed - calling the inner_proceed\n",
      "INFO:root:convolve2d starting\n",
      "INFO:root:convolve2d done\n",
      "INFO:root:Saving to gz\n",
      "INFO:root:Saving to gz done\n"
     ]
    },
    {
     "name": "stdout",
     "output_type": "stream",
     "text": [
      "precalculation proceed 93\n"
     ]
    },
    {
     "name": "stderr",
     "output_type": "stream",
     "text": [
      "INFO:root:Environment.proceed - calling the inner_proceed\n",
      "INFO:root:PrecalculatedEnvironment at timestamp 94\n",
      "INFO:root:Environment.proceed - calling the inner_proceed\n",
      "INFO:root:convolve2d starting\n",
      "INFO:root:convolve2d done\n",
      "INFO:root:Saving to gz\n",
      "INFO:root:Saving to gz done\n",
      "INFO:root:Environment.proceed - calling the inner_proceed\n",
      "INFO:root:PrecalculatedEnvironment at timestamp 94\n",
      "INFO:root:Environment.proceed - calling the inner_proceed\n",
      "INFO:root:Saving to gz\n",
      "INFO:root:Saving to gz done\n",
      "INFO:root:Environment.proceed - calling the inner_proceed\n",
      "INFO:root:Environment.proceed - calling the inner_proceed\n",
      "INFO:root:PrecalculatedEnvironment at timestamp 95\n",
      "INFO:root:Environment.proceed - calling the inner_proceed\n",
      "INFO:root:convolve2d starting\n",
      "INFO:root:convolve2d done\n",
      "INFO:root:Saving to gz\n",
      "INFO:root:Saving to gz done\n"
     ]
    },
    {
     "name": "stdout",
     "output_type": "stream",
     "text": [
      "precalculation proceed 94\n"
     ]
    },
    {
     "name": "stderr",
     "output_type": "stream",
     "text": [
      "INFO:root:Environment.proceed - calling the inner_proceed\n",
      "INFO:root:PrecalculatedEnvironment at timestamp 95\n",
      "INFO:root:Environment.proceed - calling the inner_proceed\n",
      "INFO:root:convolve2d starting\n",
      "INFO:root:convolve2d done\n",
      "INFO:root:Saving to gz\n",
      "INFO:root:Saving to gz done\n",
      "INFO:root:Environment.proceed - calling the inner_proceed\n",
      "INFO:root:PrecalculatedEnvironment at timestamp 95\n",
      "INFO:root:Environment.proceed - calling the inner_proceed\n",
      "INFO:root:Saving to gz\n",
      "INFO:root:Saving to gz done\n",
      "INFO:root:Environment.proceed - calling the inner_proceed\n",
      "INFO:root:Environment.proceed - calling the inner_proceed\n",
      "INFO:root:PrecalculatedEnvironment at timestamp 96\n",
      "INFO:root:Environment.proceed - calling the inner_proceed\n",
      "INFO:root:convolve2d starting\n",
      "INFO:root:convolve2d done\n",
      "INFO:root:Saving to gz\n",
      "INFO:root:Saving to gz done\n"
     ]
    },
    {
     "name": "stdout",
     "output_type": "stream",
     "text": [
      "precalculation proceed 95\n"
     ]
    },
    {
     "name": "stderr",
     "output_type": "stream",
     "text": [
      "INFO:root:Environment.proceed - calling the inner_proceed\n",
      "INFO:root:PrecalculatedEnvironment at timestamp 96\n",
      "INFO:root:Environment.proceed - calling the inner_proceed\n",
      "INFO:root:convolve2d starting\n",
      "INFO:root:convolve2d done\n",
      "INFO:root:Saving to gz\n",
      "INFO:root:Saving to gz done\n",
      "INFO:root:Environment.proceed - calling the inner_proceed\n",
      "INFO:root:PrecalculatedEnvironment at timestamp 96\n",
      "INFO:root:Environment.proceed - calling the inner_proceed\n",
      "INFO:root:Saving to gz\n",
      "INFO:root:Saving to gz done\n",
      "INFO:root:Environment.proceed - calling the inner_proceed\n",
      "INFO:root:Environment.proceed - calling the inner_proceed\n",
      "INFO:root:PrecalculatedEnvironment at timestamp 97\n",
      "INFO:root:Environment.proceed - calling the inner_proceed\n",
      "INFO:root:convolve2d starting\n",
      "INFO:root:convolve2d done\n",
      "INFO:root:Saving to gz\n",
      "INFO:root:Saving to gz done\n"
     ]
    },
    {
     "name": "stdout",
     "output_type": "stream",
     "text": [
      "precalculation proceed 96\n"
     ]
    },
    {
     "name": "stderr",
     "output_type": "stream",
     "text": [
      "INFO:root:Environment.proceed - calling the inner_proceed\n",
      "INFO:root:PrecalculatedEnvironment at timestamp 97\n",
      "INFO:root:Environment.proceed - calling the inner_proceed\n",
      "INFO:root:convolve2d starting\n",
      "INFO:root:convolve2d done\n",
      "INFO:root:Saving to gz\n",
      "INFO:root:Saving to gz done\n",
      "INFO:root:Environment.proceed - calling the inner_proceed\n",
      "INFO:root:PrecalculatedEnvironment at timestamp 97\n",
      "INFO:root:Environment.proceed - calling the inner_proceed\n",
      "INFO:root:Saving to gz\n",
      "INFO:root:Saving to gz done\n",
      "INFO:root:Environment.proceed - calling the inner_proceed\n",
      "INFO:root:Environment.proceed - calling the inner_proceed\n",
      "INFO:root:PrecalculatedEnvironment at timestamp 98\n",
      "INFO:root:Environment.proceed - calling the inner_proceed\n",
      "INFO:root:convolve2d starting\n",
      "INFO:root:convolve2d done\n",
      "INFO:root:Saving to gz\n",
      "INFO:root:Saving to gz done\n"
     ]
    },
    {
     "name": "stdout",
     "output_type": "stream",
     "text": [
      "precalculation proceed 97\n"
     ]
    },
    {
     "name": "stderr",
     "output_type": "stream",
     "text": [
      "INFO:root:Environment.proceed - calling the inner_proceed\n",
      "INFO:root:PrecalculatedEnvironment at timestamp 98\n",
      "INFO:root:Environment.proceed - calling the inner_proceed\n",
      "INFO:root:convolve2d starting\n",
      "INFO:root:convolve2d done\n",
      "INFO:root:Saving to gz\n",
      "INFO:root:Saving to gz done\n",
      "INFO:root:Environment.proceed - calling the inner_proceed\n",
      "INFO:root:PrecalculatedEnvironment at timestamp 98\n",
      "INFO:root:Environment.proceed - calling the inner_proceed\n",
      "INFO:root:Saving to gz\n",
      "INFO:root:Saving to gz done\n",
      "INFO:root:Environment.proceed - calling the inner_proceed\n",
      "INFO:root:Environment.proceed - calling the inner_proceed\n",
      "INFO:root:PrecalculatedEnvironment at timestamp 99\n",
      "INFO:root:Environment.proceed - calling the inner_proceed\n",
      "INFO:root:convolve2d starting\n",
      "INFO:root:convolve2d done\n",
      "INFO:root:Saving to gz\n",
      "INFO:root:Saving to gz done\n"
     ]
    },
    {
     "name": "stdout",
     "output_type": "stream",
     "text": [
      "precalculation proceed 98\n"
     ]
    },
    {
     "name": "stderr",
     "output_type": "stream",
     "text": [
      "INFO:root:Environment.proceed - calling the inner_proceed\n",
      "INFO:root:PrecalculatedEnvironment at timestamp 99\n",
      "INFO:root:Environment.proceed - calling the inner_proceed\n",
      "INFO:root:convolve2d starting\n",
      "INFO:root:convolve2d done\n",
      "INFO:root:Saving to gz\n",
      "INFO:root:Saving to gz done\n",
      "INFO:root:Environment.proceed - calling the inner_proceed\n",
      "INFO:root:PrecalculatedEnvironment at timestamp 99\n",
      "INFO:root:Environment.proceed - calling the inner_proceed\n",
      "INFO:root:Saving to gz\n",
      "INFO:root:Saving to gz done\n",
      "INFO:root:Environment.proceed - calling the inner_proceed\n",
      "INFO:root:Environment.proceed - calling the inner_proceed\n",
      "INFO:root:PrecalculatedEnvironment at timestamp 100\n",
      "INFO:root:Environment.proceed - calling the inner_proceed\n",
      "INFO:root:convolve2d starting\n",
      "INFO:root:convolve2d done\n",
      "INFO:root:Saving to gz\n",
      "INFO:root:Saving to gz done\n"
     ]
    },
    {
     "name": "stdout",
     "output_type": "stream",
     "text": [
      "precalculation proceed 99\n"
     ]
    },
    {
     "name": "stderr",
     "output_type": "stream",
     "text": [
      "INFO:root:Environment.proceed - calling the inner_proceed\n",
      "INFO:root:PrecalculatedEnvironment at timestamp 100\n",
      "INFO:root:Environment.proceed - calling the inner_proceed\n",
      "INFO:root:convolve2d starting\n",
      "INFO:root:convolve2d done\n",
      "INFO:root:Saving to gz\n",
      "INFO:root:Saving to gz done\n",
      "INFO:root:Environment.proceed - calling the inner_proceed\n",
      "INFO:root:PrecalculatedEnvironment at timestamp 100\n",
      "INFO:root:Environment.proceed - calling the inner_proceed\n",
      "INFO:root:Saving to gz\n",
      "INFO:root:Saving to gz done\n"
     ]
    }
   ],
   "source": [
    "wbf, wbfe = create_wbfe(exp)\n",
    "for i in range(exp[\"precompute-time\"]):\n",
    "    print(f\"precalculation proceed {i}\")\n",
    "    wbfe.proceed()"
   ]
  },
  {
   "cell_type": "code",
   "execution_count": null,
   "metadata": {},
   "outputs": [],
   "source": []
  }
 ],
 "metadata": {
  "kernelspec": {
   "display_name": "WBF-venv",
   "language": "python",
   "name": "python3"
  },
  "language_info": {
   "codemirror_mode": {
    "name": "ipython",
    "version": 3
   },
   "file_extension": ".py",
   "mimetype": "text/x-python",
   "name": "python",
   "nbconvert_exporter": "python",
   "pygments_lexer": "ipython3",
   "version": "3.11.4"
  }
 },
 "nbformat": 4,
 "nbformat_minor": 2
}
