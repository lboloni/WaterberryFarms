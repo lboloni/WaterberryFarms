{
 "cells": [
  {
   "cell_type": "markdown",
   "metadata": {},
   "source": [
    "# Precalculate the environment\n",
    "\n",
    "Precalculate the environment based on an experiment specification. "
   ]
  },
  {
   "cell_type": "code",
   "execution_count": 1,
   "metadata": {},
   "outputs": [],
   "source": [
    "import sys\n",
    "sys.path.append(\"..\")\n",
    "from settings import Config\n",
    "from pprint import pprint\n",
    "from wbf_helper import create_wbfe"
   ]
  },
  {
   "cell_type": "code",
   "execution_count": 2,
   "metadata": {},
   "outputs": [
    {
     "name": "stdout",
     "output_type": "stream",
     "text": [
      "Loading pointer config file: /home/lboloni/.config/WaterBerryFarms/mainsettings.yaml\n",
      "Loading machine-specific config file: /home/lboloni/Insync/lotzi.boloni@gmail.com/Google Drive/LotziStudy/Code/PackageTracking/WaterBerryFarms/settings/WBF-config-Tredy2.yaml\n",
      "Experiment default config /home/lboloni/Documents/Hackingwork/_Checkouts/WBF/WaterberryFarms/experiment_configs/environment/_environment.yaml was empty, ok.\n",
      "No system dependent experiment file\n",
      " /home/lboloni/Insync/lotzi.boloni@gmail.com/Google Drive/LotziStudy/Code/PackageTracking/WaterBerryFarms/settings/experiment-config/Tredy2/environment/miniberry-30_sysdep.yaml,\n",
      " that is ok, proceeding.\n",
      "Configuration for experiment: environment/miniberry-30 successfully loaded\n",
      "{'data_dir': PosixPath('/home/lboloni/Documents/Hackingwork/__Temporary/WBF/ExperimentData/environment/miniberry-30'),\n",
      " 'exp_run_sys_indep_file': PosixPath('/home/lboloni/Documents/Hackingwork/_Checkouts/WBF/WaterberryFarms/experiment_configs/environment/miniberry-30.yaml'),\n",
      " 'group_name': 'environment',\n",
      " 'precompute-time': 10,\n",
      " 'run_name': 'miniberry-30',\n",
      " 'typename': 'Miniberry-30'}\n"
     ]
    }
   ],
   "source": [
    "experiment = \"environment\"\n",
    "# run = \"miniberry-10\"\n",
    "run = \"miniberry-30\"\n",
    "# run = \"miniberry-100\"\n",
    "exp = Config().get_experiment(experiment, run)\n",
    "pprint(exp)"
   ]
  },
  {
   "cell_type": "code",
   "execution_count": 3,
   "metadata": {},
   "outputs": [
    {
     "name": "stderr",
     "output_type": "stream",
     "text": [
      "INFO:root:create_type_map shape=(961,)\n",
      "INFO:root:Infection matrix: [0.         0.25       0.4375     0.578125   0.68359375 0.76269531\n",
      " 0.82202148 0.86651611 0.89988708]\n",
      "INFO:root:Infection matrix: [0.         0.15       0.2775     0.385875   0.47799375 0.55629469\n",
      " 0.62285048 0.67942291 0.72750947]\n",
      "INFO:root:Environment.proceed - calling the inner_proceed\n",
      "INFO:root:Environment.proceed - calling the inner_proceed\n",
      "INFO:root:PrecalculatedEnvironment at timestamp 1\n",
      "INFO:root:Environment.proceed - calling the inner_proceed\n",
      "INFO:root:convolve2d starting\n",
      "INFO:root:convolve2d done\n",
      "INFO:root:Saving to gz\n",
      "INFO:root:Saving to gz done\n"
     ]
    },
    {
     "name": "stdout",
     "output_type": "stream",
     "text": [
      "precalculation proceed 0\n"
     ]
    },
    {
     "name": "stderr",
     "output_type": "stream",
     "text": [
      "INFO:root:Environment.proceed - calling the inner_proceed\n",
      "INFO:root:PrecalculatedEnvironment at timestamp 1\n",
      "INFO:root:Environment.proceed - calling the inner_proceed\n",
      "INFO:root:convolve2d starting\n",
      "INFO:root:convolve2d done\n",
      "INFO:root:Saving to gz\n",
      "INFO:root:Saving to gz done\n",
      "INFO:root:Environment.proceed - calling the inner_proceed\n",
      "INFO:root:PrecalculatedEnvironment at timestamp 1\n",
      "INFO:root:Environment.proceed - calling the inner_proceed\n",
      "INFO:root:Saving to gz\n",
      "INFO:root:Saving to gz done\n",
      "INFO:root:Environment.proceed - calling the inner_proceed\n",
      "INFO:root:Environment.proceed - calling the inner_proceed\n",
      "INFO:root:PrecalculatedEnvironment at timestamp 2\n",
      "INFO:root:Environment.proceed - calling the inner_proceed\n",
      "INFO:root:convolve2d starting\n",
      "INFO:root:convolve2d done\n",
      "INFO:root:Saving to gz\n",
      "INFO:root:Saving to gz done\n"
     ]
    },
    {
     "name": "stdout",
     "output_type": "stream",
     "text": [
      "precalculation proceed 1\n"
     ]
    },
    {
     "name": "stderr",
     "output_type": "stream",
     "text": [
      "INFO:root:Environment.proceed - calling the inner_proceed\n",
      "INFO:root:PrecalculatedEnvironment at timestamp 2\n",
      "INFO:root:Environment.proceed - calling the inner_proceed\n",
      "INFO:root:convolve2d starting\n",
      "INFO:root:convolve2d done\n",
      "INFO:root:Saving to gz\n",
      "INFO:root:Saving to gz done\n",
      "INFO:root:Environment.proceed - calling the inner_proceed\n",
      "INFO:root:PrecalculatedEnvironment at timestamp 2\n",
      "INFO:root:Environment.proceed - calling the inner_proceed\n",
      "INFO:root:Saving to gz\n",
      "INFO:root:Saving to gz done\n",
      "INFO:root:Environment.proceed - calling the inner_proceed\n",
      "INFO:root:Environment.proceed - calling the inner_proceed\n",
      "INFO:root:PrecalculatedEnvironment at timestamp 3\n",
      "INFO:root:Environment.proceed - calling the inner_proceed\n",
      "INFO:root:convolve2d starting\n",
      "INFO:root:convolve2d done\n",
      "INFO:root:Saving to gz\n",
      "INFO:root:Saving to gz done\n"
     ]
    },
    {
     "name": "stdout",
     "output_type": "stream",
     "text": [
      "precalculation proceed 2\n"
     ]
    },
    {
     "name": "stderr",
     "output_type": "stream",
     "text": [
      "INFO:root:Environment.proceed - calling the inner_proceed\n",
      "INFO:root:PrecalculatedEnvironment at timestamp 3\n",
      "INFO:root:Environment.proceed - calling the inner_proceed\n",
      "INFO:root:convolve2d starting\n",
      "INFO:root:convolve2d done\n",
      "INFO:root:Saving to gz\n",
      "INFO:root:Saving to gz done\n",
      "INFO:root:Environment.proceed - calling the inner_proceed\n",
      "INFO:root:PrecalculatedEnvironment at timestamp 3\n",
      "INFO:root:Environment.proceed - calling the inner_proceed\n",
      "INFO:root:Saving to gz\n",
      "INFO:root:Saving to gz done\n",
      "INFO:root:Environment.proceed - calling the inner_proceed\n",
      "INFO:root:Environment.proceed - calling the inner_proceed\n",
      "INFO:root:PrecalculatedEnvironment at timestamp 4\n",
      "INFO:root:Environment.proceed - calling the inner_proceed\n",
      "INFO:root:convolve2d starting\n",
      "INFO:root:convolve2d done\n",
      "INFO:root:Saving to gz\n",
      "INFO:root:Saving to gz done\n"
     ]
    },
    {
     "name": "stdout",
     "output_type": "stream",
     "text": [
      "precalculation proceed 3\n"
     ]
    },
    {
     "name": "stderr",
     "output_type": "stream",
     "text": [
      "INFO:root:Environment.proceed - calling the inner_proceed\n",
      "INFO:root:PrecalculatedEnvironment at timestamp 4\n",
      "INFO:root:Environment.proceed - calling the inner_proceed\n",
      "INFO:root:convolve2d starting\n",
      "INFO:root:convolve2d done\n",
      "INFO:root:Saving to gz\n",
      "INFO:root:Saving to gz done\n",
      "INFO:root:Environment.proceed - calling the inner_proceed\n",
      "INFO:root:PrecalculatedEnvironment at timestamp 4\n",
      "INFO:root:Environment.proceed - calling the inner_proceed\n",
      "INFO:root:Saving to gz\n",
      "INFO:root:Saving to gz done\n",
      "INFO:root:Environment.proceed - calling the inner_proceed\n",
      "INFO:root:Environment.proceed - calling the inner_proceed\n",
      "INFO:root:PrecalculatedEnvironment at timestamp 5\n",
      "INFO:root:Environment.proceed - calling the inner_proceed\n",
      "INFO:root:convolve2d starting\n",
      "INFO:root:convolve2d done\n",
      "INFO:root:Saving to gz\n",
      "INFO:root:Saving to gz done\n"
     ]
    },
    {
     "name": "stdout",
     "output_type": "stream",
     "text": [
      "precalculation proceed 4\n"
     ]
    },
    {
     "name": "stderr",
     "output_type": "stream",
     "text": [
      "INFO:root:Environment.proceed - calling the inner_proceed\n",
      "INFO:root:PrecalculatedEnvironment at timestamp 5\n",
      "INFO:root:Environment.proceed - calling the inner_proceed\n",
      "INFO:root:convolve2d starting\n",
      "INFO:root:convolve2d done\n",
      "INFO:root:Saving to gz\n",
      "INFO:root:Saving to gz done\n",
      "INFO:root:Environment.proceed - calling the inner_proceed\n",
      "INFO:root:PrecalculatedEnvironment at timestamp 5\n",
      "INFO:root:Environment.proceed - calling the inner_proceed\n",
      "INFO:root:Saving to gz\n",
      "INFO:root:Saving to gz done\n",
      "INFO:root:Environment.proceed - calling the inner_proceed\n",
      "INFO:root:Environment.proceed - calling the inner_proceed\n",
      "INFO:root:PrecalculatedEnvironment at timestamp 6\n",
      "INFO:root:Environment.proceed - calling the inner_proceed\n",
      "INFO:root:convolve2d starting\n",
      "INFO:root:convolve2d done\n",
      "INFO:root:Saving to gz\n",
      "INFO:root:Saving to gz done\n"
     ]
    },
    {
     "name": "stdout",
     "output_type": "stream",
     "text": [
      "precalculation proceed 5\n"
     ]
    },
    {
     "name": "stderr",
     "output_type": "stream",
     "text": [
      "INFO:root:Environment.proceed - calling the inner_proceed\n",
      "INFO:root:PrecalculatedEnvironment at timestamp 6\n",
      "INFO:root:Environment.proceed - calling the inner_proceed\n",
      "INFO:root:convolve2d starting\n",
      "INFO:root:convolve2d done\n",
      "INFO:root:Saving to gz\n",
      "INFO:root:Saving to gz done\n",
      "INFO:root:Environment.proceed - calling the inner_proceed\n",
      "INFO:root:PrecalculatedEnvironment at timestamp 6\n",
      "INFO:root:Environment.proceed - calling the inner_proceed\n",
      "INFO:root:Saving to gz\n",
      "INFO:root:Saving to gz done\n",
      "INFO:root:Environment.proceed - calling the inner_proceed\n",
      "INFO:root:Environment.proceed - calling the inner_proceed\n",
      "INFO:root:PrecalculatedEnvironment at timestamp 7\n",
      "INFO:root:Environment.proceed - calling the inner_proceed\n",
      "INFO:root:convolve2d starting\n",
      "INFO:root:convolve2d done\n",
      "INFO:root:Saving to gz\n",
      "INFO:root:Saving to gz done\n"
     ]
    },
    {
     "name": "stdout",
     "output_type": "stream",
     "text": [
      "precalculation proceed 6\n"
     ]
    },
    {
     "name": "stderr",
     "output_type": "stream",
     "text": [
      "INFO:root:Environment.proceed - calling the inner_proceed\n",
      "INFO:root:PrecalculatedEnvironment at timestamp 7\n",
      "INFO:root:Environment.proceed - calling the inner_proceed\n",
      "INFO:root:convolve2d starting\n",
      "INFO:root:convolve2d done\n",
      "INFO:root:Saving to gz\n",
      "INFO:root:Saving to gz done\n",
      "INFO:root:Environment.proceed - calling the inner_proceed\n",
      "INFO:root:PrecalculatedEnvironment at timestamp 7\n",
      "INFO:root:Environment.proceed - calling the inner_proceed\n",
      "INFO:root:Saving to gz\n",
      "INFO:root:Saving to gz done\n",
      "INFO:root:Environment.proceed - calling the inner_proceed\n",
      "INFO:root:Environment.proceed - calling the inner_proceed\n",
      "INFO:root:PrecalculatedEnvironment at timestamp 8\n",
      "INFO:root:Environment.proceed - calling the inner_proceed\n",
      "INFO:root:convolve2d starting\n",
      "INFO:root:convolve2d done\n",
      "INFO:root:Saving to gz\n",
      "INFO:root:Saving to gz done\n"
     ]
    },
    {
     "name": "stdout",
     "output_type": "stream",
     "text": [
      "precalculation proceed 7\n"
     ]
    },
    {
     "name": "stderr",
     "output_type": "stream",
     "text": [
      "INFO:root:Environment.proceed - calling the inner_proceed\n",
      "INFO:root:PrecalculatedEnvironment at timestamp 8\n",
      "INFO:root:Environment.proceed - calling the inner_proceed\n",
      "INFO:root:convolve2d starting\n",
      "INFO:root:convolve2d done\n",
      "INFO:root:Saving to gz\n",
      "INFO:root:Saving to gz done\n",
      "INFO:root:Environment.proceed - calling the inner_proceed\n",
      "INFO:root:PrecalculatedEnvironment at timestamp 8\n",
      "INFO:root:Environment.proceed - calling the inner_proceed\n",
      "INFO:root:Saving to gz\n",
      "INFO:root:Saving to gz done\n",
      "INFO:root:Environment.proceed - calling the inner_proceed\n",
      "INFO:root:Environment.proceed - calling the inner_proceed\n",
      "INFO:root:PrecalculatedEnvironment at timestamp 9\n",
      "INFO:root:Environment.proceed - calling the inner_proceed\n",
      "INFO:root:convolve2d starting\n",
      "INFO:root:convolve2d done\n",
      "INFO:root:Saving to gz\n",
      "INFO:root:Saving to gz done\n"
     ]
    },
    {
     "name": "stdout",
     "output_type": "stream",
     "text": [
      "precalculation proceed 8\n"
     ]
    },
    {
     "name": "stderr",
     "output_type": "stream",
     "text": [
      "INFO:root:Environment.proceed - calling the inner_proceed\n",
      "INFO:root:PrecalculatedEnvironment at timestamp 9\n",
      "INFO:root:Environment.proceed - calling the inner_proceed\n",
      "INFO:root:convolve2d starting\n",
      "INFO:root:convolve2d done\n",
      "INFO:root:Saving to gz\n",
      "INFO:root:Saving to gz done\n",
      "INFO:root:Environment.proceed - calling the inner_proceed\n",
      "INFO:root:PrecalculatedEnvironment at timestamp 9\n",
      "INFO:root:Environment.proceed - calling the inner_proceed\n",
      "INFO:root:Saving to gz\n",
      "INFO:root:Saving to gz done\n",
      "INFO:root:Environment.proceed - calling the inner_proceed\n",
      "INFO:root:Environment.proceed - calling the inner_proceed\n",
      "INFO:root:PrecalculatedEnvironment at timestamp 10\n",
      "INFO:root:Environment.proceed - calling the inner_proceed\n",
      "INFO:root:convolve2d starting\n",
      "INFO:root:convolve2d done\n",
      "INFO:root:Saving to gz\n",
      "INFO:root:Saving to gz done\n"
     ]
    },
    {
     "name": "stdout",
     "output_type": "stream",
     "text": [
      "precalculation proceed 9\n"
     ]
    },
    {
     "name": "stderr",
     "output_type": "stream",
     "text": [
      "INFO:root:Environment.proceed - calling the inner_proceed\n",
      "INFO:root:PrecalculatedEnvironment at timestamp 10\n",
      "INFO:root:Environment.proceed - calling the inner_proceed\n",
      "INFO:root:convolve2d starting\n",
      "INFO:root:convolve2d done\n",
      "INFO:root:Saving to gz\n",
      "INFO:root:Saving to gz done\n",
      "INFO:root:Environment.proceed - calling the inner_proceed\n",
      "INFO:root:PrecalculatedEnvironment at timestamp 10\n",
      "INFO:root:Environment.proceed - calling the inner_proceed\n",
      "INFO:root:Saving to gz\n",
      "INFO:root:Saving to gz done\n"
     ]
    }
   ],
   "source": [
    "wbf, wbfe = create_wbfe(exp)\n",
    "for i in range(exp[\"precompute-time\"]):\n",
    "    print(f\"precalculation proceed {i}\")\n",
    "    wbfe.proceed()"
   ]
  },
  {
   "cell_type": "code",
   "execution_count": null,
   "metadata": {},
   "outputs": [],
   "source": []
  }
 ],
 "metadata": {
  "kernelspec": {
   "display_name": "WBF-env",
   "language": "python",
   "name": "python3"
  },
  "language_info": {
   "codemirror_mode": {
    "name": "ipython",
    "version": 3
   },
   "file_extension": ".py",
   "mimetype": "text/x-python",
   "name": "python",
   "nbconvert_exporter": "python",
   "pygments_lexer": "ipython3",
   "version": "3.10.12"
  }
 },
 "nbformat": 4,
 "nbformat_minor": 2
}
