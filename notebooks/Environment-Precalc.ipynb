{
 "cells": [
  {
   "cell_type": "markdown",
   "metadata": {},
   "source": [
    "# Precalculate the environment\n",
    "\n",
    "Precalculate the environment based on an experiment specification. "
   ]
  },
  {
   "cell_type": "code",
   "execution_count": 1,
   "metadata": {},
   "outputs": [],
   "source": [
    "import sys\n",
    "sys.path.append(\"..\")\n",
    "from settings import Config\n",
    "from pprint import pprint\n",
    "from wbf_helper import create_wbfe"
   ]
  },
  {
   "cell_type": "code",
   "execution_count": 2,
   "metadata": {},
   "outputs": [
    {
     "name": "stdout",
     "output_type": "stream",
     "text": [
      "Loading pointer config file: /Users/lboloni/.config/WaterBerryFarms/mainsettings.yaml\n",
      "Loading machine-specific config file: /Users/lboloni/Google Drive/My Drive/LotziStudy/Code/PackageTracking/WaterBerryFarms/settings/WBF-config-szenes.yaml\n",
      "Experiment default config /Users/lboloni/Documents/Develop/Github/WBF/WaterberryFarms/experiment_configs/environment/_environment.yaml was empty, ok.\n",
      "No system dependent experiment file\n",
      " /Users/lboloni/Google Drive/My Drive/LotziStudy/Code/PackageTracking/WaterBerryFarms/settings/experiment-config/szenes/environment/miniberry-100_sysdep.yaml,\n",
      " that is ok, proceeding.\n",
      "Configuration for experiment: environment/miniberry-100 successfully loaded\n",
      "{'data_dir': PosixPath('/Users/lboloni/Documents/Develop/Data/WBF/environment/miniberry-100'),\n",
      " 'exp_run_sys_indep_file': PosixPath('/Users/lboloni/Documents/Develop/Github/WBF/WaterberryFarms/experiment_configs/environment/miniberry-100.yaml'),\n",
      " 'group_name': 'environment',\n",
      " 'precompute-time': 10,\n",
      " 'run_name': 'miniberry-100',\n",
      " 'typename': 'Miniberry-100'}\n"
     ]
    }
   ],
   "source": [
    "experiment = \"environment\"\n",
    "# run = \"miniberry-10\"\n",
    "# run = \"miniberry-30\"\n",
    "run = \"miniberry-100\"\n",
    "exp = Config().get_experiment(experiment, run)\n",
    "pprint(exp)"
   ]
  },
  {
   "cell_type": "code",
   "execution_count": 3,
   "metadata": {},
   "outputs": [
    {
     "name": "stderr",
     "output_type": "stream",
     "text": [
      "INFO:root:create_type_map shape=(10201,)\n",
      "INFO:root:Infection matrix: [0.         0.25       0.4375     0.578125   0.68359375 0.76269531\n",
      " 0.82202148 0.86651611 0.89988708 0.92491531 0.94368649 0.95776486\n",
      " 0.96832365 0.97624274 0.98218205 0.98663654 0.9899774  0.99248305\n",
      " 0.99436229 0.99577172 0.99682879 0.99762159 0.99821619 0.99866214\n",
      " 0.99899661]\n",
      "INFO:root:Infection matrix: [0.         0.15       0.2775     0.385875   0.47799375 0.55629469\n",
      " 0.62285048 0.67942291 0.72750947 0.76838305 0.8031256  0.83265676\n",
      " 0.85775824 0.87909451 0.89723033 0.91264578 0.92574891 0.93688658\n",
      " 0.94635359 0.95440055 0.96124047 0.9670544  0.97199624 0.9761968\n",
      " 0.97976728]\n",
      "INFO:root:Environment.proceed - calling the inner_proceed\n",
      "INFO:root:Environment.proceed - calling the inner_proceed\n",
      "INFO:root:PrecalculatedEnvironment at timestamp 1\n",
      "INFO:root:Environment.proceed - calling the inner_proceed\n",
      "INFO:root:convolve2d starting\n",
      "INFO:root:convolve2d done\n",
      "INFO:root:Saving to gz\n",
      "INFO:root:Saving to gz done\n",
      "INFO:root:Environment.proceed - calling the inner_proceed\n",
      "INFO:root:PrecalculatedEnvironment at timestamp 1\n",
      "INFO:root:Environment.proceed - calling the inner_proceed\n",
      "INFO:root:convolve2d starting\n",
      "INFO:root:convolve2d done\n",
      "INFO:root:Saving to gz\n",
      "INFO:root:Saving to gz done\n",
      "INFO:root:Environment.proceed - calling the inner_proceed\n",
      "INFO:root:PrecalculatedEnvironment at timestamp 1\n",
      "INFO:root:Environment.proceed - calling the inner_proceed\n",
      "INFO:root:Saving to gz\n",
      "INFO:root:Saving to gz done\n",
      "INFO:root:Environment.proceed - calling the inner_proceed\n",
      "INFO:root:Environment.proceed - calling the inner_proceed\n",
      "INFO:root:PrecalculatedEnvironment at timestamp 2\n",
      "INFO:root:Environment.proceed - calling the inner_proceed\n",
      "INFO:root:convolve2d starting\n",
      "INFO:root:convolve2d done\n",
      "INFO:root:Saving to gz\n",
      "INFO:root:Saving to gz done\n"
     ]
    },
    {
     "name": "stdout",
     "output_type": "stream",
     "text": [
      "precalculation proceed 0\n",
      "precalculation proceed 1\n"
     ]
    },
    {
     "name": "stderr",
     "output_type": "stream",
     "text": [
      "INFO:root:Environment.proceed - calling the inner_proceed\n",
      "INFO:root:PrecalculatedEnvironment at timestamp 2\n",
      "INFO:root:Environment.proceed - calling the inner_proceed\n",
      "INFO:root:convolve2d starting\n",
      "INFO:root:convolve2d done\n",
      "INFO:root:Saving to gz\n",
      "INFO:root:Saving to gz done\n",
      "INFO:root:Environment.proceed - calling the inner_proceed\n",
      "INFO:root:PrecalculatedEnvironment at timestamp 2\n",
      "INFO:root:Environment.proceed - calling the inner_proceed\n",
      "INFO:root:Saving to gz\n",
      "INFO:root:Saving to gz done\n",
      "INFO:root:Environment.proceed - calling the inner_proceed\n",
      "INFO:root:Environment.proceed - calling the inner_proceed\n",
      "INFO:root:PrecalculatedEnvironment at timestamp 3\n",
      "INFO:root:Environment.proceed - calling the inner_proceed\n",
      "INFO:root:convolve2d starting\n",
      "INFO:root:convolve2d done\n",
      "INFO:root:Saving to gz\n",
      "INFO:root:Saving to gz done\n",
      "INFO:root:Environment.proceed - calling the inner_proceed\n",
      "INFO:root:PrecalculatedEnvironment at timestamp 3\n",
      "INFO:root:Environment.proceed - calling the inner_proceed\n",
      "INFO:root:convolve2d starting\n",
      "INFO:root:convolve2d done\n",
      "INFO:root:Saving to gz\n",
      "INFO:root:Saving to gz done\n",
      "INFO:root:Environment.proceed - calling the inner_proceed\n",
      "INFO:root:PrecalculatedEnvironment at timestamp 3\n",
      "INFO:root:Environment.proceed - calling the inner_proceed\n",
      "INFO:root:Saving to gz\n",
      "INFO:root:Saving to gz done\n",
      "INFO:root:Environment.proceed - calling the inner_proceed\n",
      "INFO:root:Environment.proceed - calling the inner_proceed\n",
      "INFO:root:PrecalculatedEnvironment at timestamp 4\n",
      "INFO:root:Environment.proceed - calling the inner_proceed\n",
      "INFO:root:convolve2d starting\n",
      "INFO:root:convolve2d done\n",
      "INFO:root:Saving to gz\n",
      "INFO:root:Saving to gz done\n"
     ]
    },
    {
     "name": "stdout",
     "output_type": "stream",
     "text": [
      "precalculation proceed 2\n",
      "precalculation proceed 3\n"
     ]
    },
    {
     "name": "stderr",
     "output_type": "stream",
     "text": [
      "INFO:root:Environment.proceed - calling the inner_proceed\n",
      "INFO:root:PrecalculatedEnvironment at timestamp 4\n",
      "INFO:root:Environment.proceed - calling the inner_proceed\n",
      "INFO:root:convolve2d starting\n",
      "INFO:root:convolve2d done\n",
      "INFO:root:Saving to gz\n",
      "INFO:root:Saving to gz done\n",
      "INFO:root:Environment.proceed - calling the inner_proceed\n",
      "INFO:root:PrecalculatedEnvironment at timestamp 4\n",
      "INFO:root:Environment.proceed - calling the inner_proceed\n",
      "INFO:root:Saving to gz\n",
      "INFO:root:Saving to gz done\n",
      "INFO:root:Environment.proceed - calling the inner_proceed\n",
      "INFO:root:Environment.proceed - calling the inner_proceed\n",
      "INFO:root:PrecalculatedEnvironment at timestamp 5\n",
      "INFO:root:Environment.proceed - calling the inner_proceed\n",
      "INFO:root:convolve2d starting\n",
      "INFO:root:convolve2d done\n",
      "INFO:root:Saving to gz\n",
      "INFO:root:Saving to gz done\n",
      "INFO:root:Environment.proceed - calling the inner_proceed\n",
      "INFO:root:PrecalculatedEnvironment at timestamp 5\n",
      "INFO:root:Environment.proceed - calling the inner_proceed\n",
      "INFO:root:convolve2d starting\n",
      "INFO:root:convolve2d done\n",
      "INFO:root:Saving to gz\n",
      "INFO:root:Saving to gz done\n",
      "INFO:root:Environment.proceed - calling the inner_proceed\n",
      "INFO:root:PrecalculatedEnvironment at timestamp 5\n",
      "INFO:root:Environment.proceed - calling the inner_proceed\n",
      "INFO:root:Saving to gz\n",
      "INFO:root:Saving to gz done\n",
      "INFO:root:Environment.proceed - calling the inner_proceed\n",
      "INFO:root:Environment.proceed - calling the inner_proceed\n",
      "INFO:root:PrecalculatedEnvironment at timestamp 6\n",
      "INFO:root:Environment.proceed - calling the inner_proceed\n",
      "INFO:root:convolve2d starting\n",
      "INFO:root:convolve2d done\n",
      "INFO:root:Saving to gz\n",
      "INFO:root:Saving to gz done\n"
     ]
    },
    {
     "name": "stdout",
     "output_type": "stream",
     "text": [
      "precalculation proceed 4\n",
      "precalculation proceed 5\n"
     ]
    },
    {
     "name": "stderr",
     "output_type": "stream",
     "text": [
      "INFO:root:Environment.proceed - calling the inner_proceed\n",
      "INFO:root:PrecalculatedEnvironment at timestamp 6\n",
      "INFO:root:Environment.proceed - calling the inner_proceed\n",
      "INFO:root:convolve2d starting\n",
      "INFO:root:convolve2d done\n",
      "INFO:root:Saving to gz\n",
      "INFO:root:Saving to gz done\n",
      "INFO:root:Environment.proceed - calling the inner_proceed\n",
      "INFO:root:PrecalculatedEnvironment at timestamp 6\n",
      "INFO:root:Environment.proceed - calling the inner_proceed\n",
      "INFO:root:Saving to gz\n",
      "INFO:root:Saving to gz done\n",
      "INFO:root:Environment.proceed - calling the inner_proceed\n",
      "INFO:root:Environment.proceed - calling the inner_proceed\n",
      "INFO:root:PrecalculatedEnvironment at timestamp 7\n",
      "INFO:root:Environment.proceed - calling the inner_proceed\n",
      "INFO:root:convolve2d starting\n",
      "INFO:root:convolve2d done\n",
      "INFO:root:Saving to gz\n",
      "INFO:root:Saving to gz done\n",
      "INFO:root:Environment.proceed - calling the inner_proceed\n",
      "INFO:root:PrecalculatedEnvironment at timestamp 7\n",
      "INFO:root:Environment.proceed - calling the inner_proceed\n",
      "INFO:root:convolve2d starting\n",
      "INFO:root:convolve2d done\n",
      "INFO:root:Saving to gz\n",
      "INFO:root:Saving to gz done\n",
      "INFO:root:Environment.proceed - calling the inner_proceed\n",
      "INFO:root:PrecalculatedEnvironment at timestamp 7\n",
      "INFO:root:Environment.proceed - calling the inner_proceed\n",
      "INFO:root:Saving to gz\n",
      "INFO:root:Saving to gz done\n",
      "INFO:root:Environment.proceed - calling the inner_proceed\n",
      "INFO:root:Environment.proceed - calling the inner_proceed\n",
      "INFO:root:PrecalculatedEnvironment at timestamp 8\n",
      "INFO:root:Environment.proceed - calling the inner_proceed\n",
      "INFO:root:convolve2d starting\n",
      "INFO:root:convolve2d done\n",
      "INFO:root:Saving to gz\n",
      "INFO:root:Saving to gz done\n"
     ]
    },
    {
     "name": "stdout",
     "output_type": "stream",
     "text": [
      "precalculation proceed 6\n",
      "precalculation proceed 7\n"
     ]
    },
    {
     "name": "stderr",
     "output_type": "stream",
     "text": [
      "INFO:root:Environment.proceed - calling the inner_proceed\n",
      "INFO:root:PrecalculatedEnvironment at timestamp 8\n",
      "INFO:root:Environment.proceed - calling the inner_proceed\n",
      "INFO:root:convolve2d starting\n",
      "INFO:root:convolve2d done\n",
      "INFO:root:Saving to gz\n",
      "INFO:root:Saving to gz done\n",
      "INFO:root:Environment.proceed - calling the inner_proceed\n",
      "INFO:root:PrecalculatedEnvironment at timestamp 8\n",
      "INFO:root:Environment.proceed - calling the inner_proceed\n",
      "INFO:root:Saving to gz\n",
      "INFO:root:Saving to gz done\n",
      "INFO:root:Environment.proceed - calling the inner_proceed\n",
      "INFO:root:Environment.proceed - calling the inner_proceed\n",
      "INFO:root:PrecalculatedEnvironment at timestamp 9\n",
      "INFO:root:Environment.proceed - calling the inner_proceed\n",
      "INFO:root:convolve2d starting\n",
      "INFO:root:convolve2d done\n",
      "INFO:root:Saving to gz\n",
      "INFO:root:Saving to gz done\n",
      "INFO:root:Environment.proceed - calling the inner_proceed\n",
      "INFO:root:PrecalculatedEnvironment at timestamp 9\n",
      "INFO:root:Environment.proceed - calling the inner_proceed\n",
      "INFO:root:convolve2d starting\n",
      "INFO:root:convolve2d done\n",
      "INFO:root:Saving to gz\n",
      "INFO:root:Saving to gz done\n",
      "INFO:root:Environment.proceed - calling the inner_proceed\n",
      "INFO:root:PrecalculatedEnvironment at timestamp 9\n",
      "INFO:root:Environment.proceed - calling the inner_proceed\n",
      "INFO:root:Saving to gz\n",
      "INFO:root:Saving to gz done\n",
      "INFO:root:Environment.proceed - calling the inner_proceed\n",
      "INFO:root:Environment.proceed - calling the inner_proceed\n",
      "INFO:root:PrecalculatedEnvironment at timestamp 10\n",
      "INFO:root:Environment.proceed - calling the inner_proceed\n",
      "INFO:root:convolve2d starting\n",
      "INFO:root:convolve2d done\n",
      "INFO:root:Saving to gz\n",
      "INFO:root:Saving to gz done\n"
     ]
    },
    {
     "name": "stdout",
     "output_type": "stream",
     "text": [
      "precalculation proceed 8\n",
      "precalculation proceed 9\n"
     ]
    },
    {
     "name": "stderr",
     "output_type": "stream",
     "text": [
      "INFO:root:Environment.proceed - calling the inner_proceed\n",
      "INFO:root:PrecalculatedEnvironment at timestamp 10\n",
      "INFO:root:Environment.proceed - calling the inner_proceed\n",
      "INFO:root:convolve2d starting\n",
      "INFO:root:convolve2d done\n",
      "INFO:root:Saving to gz\n",
      "INFO:root:Saving to gz done\n",
      "INFO:root:Environment.proceed - calling the inner_proceed\n",
      "INFO:root:PrecalculatedEnvironment at timestamp 10\n",
      "INFO:root:Environment.proceed - calling the inner_proceed\n",
      "INFO:root:Saving to gz\n",
      "INFO:root:Saving to gz done\n"
     ]
    }
   ],
   "source": [
    "wbf, wbfe = create_wbfe(exp)\n",
    "for i in range(exp[\"precompute-time\"]):\n",
    "    print(f\"precalculation proceed {i}\")\n",
    "    wbfe.proceed()"
   ]
  },
  {
   "cell_type": "code",
   "execution_count": null,
   "metadata": {},
   "outputs": [],
   "source": []
  }
 ],
 "metadata": {
  "kernelspec": {
   "display_name": "WBF",
   "language": "python",
   "name": "python3"
  },
  "language_info": {
   "codemirror_mode": {
    "name": "ipython",
    "version": 3
   },
   "file_extension": ".py",
   "mimetype": "text/x-python",
   "name": "python",
   "nbconvert_exporter": "python",
   "pygments_lexer": "ipython3",
   "version": "3.13.0"
  }
 },
 "nbformat": 4,
 "nbformat_minor": 2
}
