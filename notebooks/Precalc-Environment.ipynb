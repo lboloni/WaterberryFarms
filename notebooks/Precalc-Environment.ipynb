{
 "cells": [
  {
   "cell_type": "markdown",
   "metadata": {},
   "source": [
    "# Precalculate the environment\n",
    "\n",
    "Precalculate the environment based on an experiment specification. \n",
    "\n",
    "NOTE: this is the first experimental notebook that is bringing the experiment model into WaterBerryFarms"
   ]
  },
  {
   "cell_type": "code",
   "execution_count": null,
   "metadata": {},
   "outputs": [],
   "source": [
    "import sys\n",
    "sys.path.append(\"..\")\n",
    "from settings import Config\n",
    "import pathlib\n",
    "from pprint import pprint\n",
    "\n",
    "from WbfExperiment import action_precompute_environment, get_geometry\n",
    "\n"
   ]
  },
  {
   "cell_type": "code",
   "execution_count": null,
   "metadata": {},
   "outputs": [],
   "source": [
    "experiment = \"environment\"\n",
    "run = \"miniberry-10\"\n",
    "exp = Config().get_experiment(experiment, run)\n",
    "pprint(exp)"
   ]
  },
  {
   "cell_type": "code",
   "execution_count": null,
   "metadata": {},
   "outputs": [],
   "source": [
    "default_choices = {\"geometry\": \"Miniberry-30\", \"action\": \"run\", \"scenario\": \"one-day-single-value\", \"visualize\": 0,  \"results-basedir\": benchmark_dir}\n",
    "default_choices[\"velocity\"] = 1\n",
    "default_choices[\"timesteps-per-day-override\"] = 500 # 1000\n",
    "default_choices[\"time-start-environment\"] = 6"
   ]
  },
  {
   "cell_type": "code",
   "execution_count": null,
   "metadata": {},
   "outputs": [],
   "source": [
    "precompute = 50\n",
    "# typenames = [\"Miniberry-10\", \"Miniberry-30\", \"Miniberry-100\", \"Waterberry\"]\n",
    "typenames = [\"Miniberry-10\",\"Miniberry-30\", \"Miniberry-100\"]\n",
    "time_start_environment = 6\n",
    "\n",
    "# typenames = [\"Waterberry\"]\n",
    "# typenames = [\"Miniberry-100\"]\n",
    "for typename in typenames:\n",
    "    action_precompute_environment({\"geometry\": typename, \"precompute-time\": precompute})"
   ]
  }
 ],
 "metadata": {
  "kernelspec": {
   "display_name": "WBF-venv",
   "language": "python",
   "name": "python3"
  },
  "language_info": {
   "codemirror_mode": {
    "name": "ipython",
    "version": 3
   },
   "file_extension": ".py",
   "mimetype": "text/x-python",
   "name": "python",
   "nbconvert_exporter": "python",
   "pygments_lexer": "ipython3",
   "version": "3.11.4"
  }
 },
 "nbformat": 4,
 "nbformat_minor": 2
}
