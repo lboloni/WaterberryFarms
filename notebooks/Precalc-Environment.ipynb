{
 "cells": [
  {
   "cell_type": "markdown",
   "metadata": {},
   "source": [
    "# Precalculate the environment\n",
    "\n",
    "Precalculate the environment based on an experiment specification. \n",
    "\n",
    "NOTE: this is the first experimental notebook that is bringing the experiment model into WaterBerryFarms"
   ]
  },
  {
   "cell_type": "code",
   "execution_count": 1,
   "metadata": {},
   "outputs": [],
   "source": [
    "import sys\n",
    "sys.path.append(\"..\")\n",
    "from settings import Config\n",
    "import pathlib\n",
    "from pprint import pprint\n",
    "\n",
    "from WbfExperiment import action_precompute_environment, get_geometry, create_wbfe\n",
    "\n"
   ]
  },
  {
   "cell_type": "code",
   "execution_count": 2,
   "metadata": {},
   "outputs": [
    {
     "name": "stdout",
     "output_type": "stream",
     "text": [
      "Loading pointer config file: C:\\Users\\lboloni\\.config\\WaterBerryFarms\\mainsettings.yaml\n",
      "Loading machine-specific config file: G:\\My Drive\\LotziStudy\\Code\\PackageTracking\\WaterBerryFarms\\settings\\WBF-config-LotziYoga.yaml\n",
      "Experiment default config C:\\Users\\lboloni\\Documents\\Code\\_Checkouts\\WBF\\WaterberryFarms\\experiment_configs\\environment\\_environment.yaml was empty, ok.\n",
      "No system dependent experiment file\n",
      " G:\\My Drive\\LotziStudy\\Code\\PackageTracking\\WaterBerryFarms\\settings\\experiment-config\\LotziYoga\\environment\\miniberry-10_sysdep.yaml,\n",
      " that is ok, proceeding.\n",
      "Configuration for experiment: environment/miniberry-10 successfully loaded\n",
      "{'data_dir': WindowsPath('C:/Users/lboloni/Documents/Code/_TempData/WBF/ExperimentData/environment/miniberry-10'),\n",
      " 'exp_run_sys_indep_file': WindowsPath('C:/Users/lboloni/Documents/Code/_Checkouts/WBF/WaterberryFarms/experiment_configs/environment/miniberry-10.yaml'),\n",
      " 'group_name': 'environment',\n",
      " 'precompute-time': 10,\n",
      " 'run_name': 'miniberry-10',\n",
      " 'typename': 'Miniberry-10'}\n"
     ]
    }
   ],
   "source": [
    "experiment = \"environment\"\n",
    "run = \"miniberry-10\"\n",
    "exp = Config().get_experiment(experiment, run)\n",
    "pprint(exp)"
   ]
  },
  {
   "cell_type": "code",
   "execution_count": null,
   "metadata": {},
   "outputs": [
    {
     "name": "stderr",
     "output_type": "stream",
     "text": [
      "INFO:root:loading the geometry and environment from saved data\n",
      "INFO:root:loading done\n",
      "INFO:root:Infection matrix: [0.         0.25       0.4375     0.578125   0.68359375 0.76269531\n",
      " 0.82202148 0.86651611 0.89988708]\n",
      "INFO:root:Infection matrix: [0.         0.15       0.2775     0.385875   0.47799375 0.55629469\n",
      " 0.62285048 0.67942291 0.72750947]\n",
      "INFO:root:Environment.proceed - calling the inner_proceed\n",
      "INFO:root:Environment.proceed - calling the inner_proceed\n",
      "INFO:root:PrecalculatedEnvironment at timestamp 1\n",
      "INFO:root:PrecalculatedEnvironment: file C:\\Users\\lboloni\\Documents\\Code\\_TempData\\WBF\\Miniberry-10\\precalc_tylcv\\env_value_00001.gz already exists, skipping!\n",
      "INFO:root:Environment.proceed - calling the inner_proceed\n",
      "INFO:root:PrecalculatedEnvironment at timestamp 1\n",
      "INFO:root:PrecalculatedEnvironment: file C:\\Users\\lboloni\\Documents\\Code\\_TempData\\WBF\\Miniberry-10\\precalc_ccr\\env_value_00001.gz already exists, skipping!\n",
      "INFO:root:Environment.proceed - calling the inner_proceed\n",
      "INFO:root:PrecalculatedEnvironment at timestamp 1\n",
      "INFO:root:PrecalculatedEnvironment: file C:\\Users\\lboloni\\Documents\\Code\\_TempData\\WBF\\Miniberry-10\\precalc_soil\\env_value_00001.gz already exists, skipping!\n",
      "INFO:root:Environment.proceed - calling the inner_proceed\n",
      "INFO:root:Environment.proceed - calling the inner_proceed\n",
      "INFO:root:PrecalculatedEnvironment at timestamp 2\n",
      "INFO:root:PrecalculatedEnvironment: file C:\\Users\\lboloni\\Documents\\Code\\_TempData\\WBF\\Miniberry-10\\precalc_tylcv\\env_value_00002.gz already exists, skipping!\n",
      "INFO:root:Environment.proceed - calling the inner_proceed\n",
      "INFO:root:PrecalculatedEnvironment at timestamp 2\n",
      "INFO:root:PrecalculatedEnvironment: file C:\\Users\\lboloni\\Documents\\Code\\_TempData\\WBF\\Miniberry-10\\precalc_ccr\\env_value_00002.gz already exists, skipping!\n",
      "INFO:root:Environment.proceed - calling the inner_proceed\n",
      "INFO:root:PrecalculatedEnvironment at timestamp 2\n",
      "INFO:root:PrecalculatedEnvironment: file C:\\Users\\lboloni\\Documents\\Code\\_TempData\\WBF\\Miniberry-10\\precalc_soil\\env_value_00002.gz already exists, skipping!\n",
      "INFO:root:Environment.proceed - calling the inner_proceed\n",
      "INFO:root:Environment.proceed - calling the inner_proceed\n",
      "INFO:root:PrecalculatedEnvironment at timestamp 3\n",
      "INFO:root:PrecalculatedEnvironment: file C:\\Users\\lboloni\\Documents\\Code\\_TempData\\WBF\\Miniberry-10\\precalc_tylcv\\env_value_00003.gz already exists, skipping!\n",
      "INFO:root:Environment.proceed - calling the inner_proceed\n",
      "INFO:root:PrecalculatedEnvironment at timestamp 3\n",
      "INFO:root:PrecalculatedEnvironment: file C:\\Users\\lboloni\\Documents\\Code\\_TempData\\WBF\\Miniberry-10\\precalc_ccr\\env_value_00003.gz already exists, skipping!\n",
      "INFO:root:Environment.proceed - calling the inner_proceed\n",
      "INFO:root:PrecalculatedEnvironment at timestamp 3\n",
      "INFO:root:PrecalculatedEnvironment: file C:\\Users\\lboloni\\Documents\\Code\\_TempData\\WBF\\Miniberry-10\\precalc_soil\\env_value_00003.gz already exists, skipping!\n",
      "INFO:root:Environment.proceed - calling the inner_proceed\n",
      "INFO:root:Environment.proceed - calling the inner_proceed\n",
      "INFO:root:PrecalculatedEnvironment at timestamp 4\n",
      "INFO:root:PrecalculatedEnvironment: file C:\\Users\\lboloni\\Documents\\Code\\_TempData\\WBF\\Miniberry-10\\precalc_tylcv\\env_value_00004.gz already exists, skipping!\n",
      "INFO:root:Environment.proceed - calling the inner_proceed\n",
      "INFO:root:PrecalculatedEnvironment at timestamp 4\n",
      "INFO:root:PrecalculatedEnvironment: file C:\\Users\\lboloni\\Documents\\Code\\_TempData\\WBF\\Miniberry-10\\precalc_ccr\\env_value_00004.gz already exists, skipping!\n",
      "INFO:root:Environment.proceed - calling the inner_proceed\n",
      "INFO:root:PrecalculatedEnvironment at timestamp 4\n",
      "INFO:root:PrecalculatedEnvironment: file C:\\Users\\lboloni\\Documents\\Code\\_TempData\\WBF\\Miniberry-10\\precalc_soil\\env_value_00004.gz already exists, skipping!\n",
      "INFO:root:Environment.proceed - calling the inner_proceed\n",
      "INFO:root:Environment.proceed - calling the inner_proceed\n",
      "INFO:root:PrecalculatedEnvironment at timestamp 5\n",
      "INFO:root:PrecalculatedEnvironment: file C:\\Users\\lboloni\\Documents\\Code\\_TempData\\WBF\\Miniberry-10\\precalc_tylcv\\env_value_00005.gz already exists, skipping!\n",
      "INFO:root:Environment.proceed - calling the inner_proceed\n",
      "INFO:root:PrecalculatedEnvironment at timestamp 5\n",
      "INFO:root:PrecalculatedEnvironment: file C:\\Users\\lboloni\\Documents\\Code\\_TempData\\WBF\\Miniberry-10\\precalc_ccr\\env_value_00005.gz already exists, skipping!\n",
      "INFO:root:Environment.proceed - calling the inner_proceed\n",
      "INFO:root:PrecalculatedEnvironment at timestamp 5\n",
      "INFO:root:PrecalculatedEnvironment: file C:\\Users\\lboloni\\Documents\\Code\\_TempData\\WBF\\Miniberry-10\\precalc_soil\\env_value_00005.gz already exists, skipping!\n",
      "INFO:root:Environment.proceed - calling the inner_proceed\n",
      "INFO:root:Environment.proceed - calling the inner_proceed\n",
      "INFO:root:PrecalculatedEnvironment at timestamp 6\n",
      "INFO:root:PrecalculatedEnvironment: file C:\\Users\\lboloni\\Documents\\Code\\_TempData\\WBF\\Miniberry-10\\precalc_tylcv\\env_value_00006.gz already exists, skipping!\n",
      "INFO:root:Environment.proceed - calling the inner_proceed\n",
      "INFO:root:PrecalculatedEnvironment at timestamp 6\n",
      "INFO:root:PrecalculatedEnvironment: file C:\\Users\\lboloni\\Documents\\Code\\_TempData\\WBF\\Miniberry-10\\precalc_ccr\\env_value_00006.gz already exists, skipping!\n",
      "INFO:root:Environment.proceed - calling the inner_proceed\n",
      "INFO:root:PrecalculatedEnvironment at timestamp 6\n",
      "INFO:root:PrecalculatedEnvironment: file C:\\Users\\lboloni\\Documents\\Code\\_TempData\\WBF\\Miniberry-10\\precalc_soil\\env_value_00006.gz already exists, skipping!\n",
      "INFO:root:Environment.proceed - calling the inner_proceed\n",
      "INFO:root:Environment.proceed - calling the inner_proceed\n",
      "INFO:root:PrecalculatedEnvironment at timestamp 7\n",
      "INFO:root:PrecalculatedEnvironment: file C:\\Users\\lboloni\\Documents\\Code\\_TempData\\WBF\\Miniberry-10\\precalc_tylcv\\env_value_00007.gz already exists, skipping!\n",
      "INFO:root:Environment.proceed - calling the inner_proceed\n",
      "INFO:root:PrecalculatedEnvironment at timestamp 7\n",
      "INFO:root:PrecalculatedEnvironment: file C:\\Users\\lboloni\\Documents\\Code\\_TempData\\WBF\\Miniberry-10\\precalc_ccr\\env_value_00007.gz already exists, skipping!\n",
      "INFO:root:Environment.proceed - calling the inner_proceed\n",
      "INFO:root:PrecalculatedEnvironment at timestamp 7\n",
      "INFO:root:PrecalculatedEnvironment: file C:\\Users\\lboloni\\Documents\\Code\\_TempData\\WBF\\Miniberry-10\\precalc_soil\\env_value_00007.gz already exists, skipping!\n",
      "INFO:root:Environment.proceed - calling the inner_proceed\n",
      "INFO:root:Environment.proceed - calling the inner_proceed\n",
      "INFO:root:PrecalculatedEnvironment at timestamp 8\n",
      "INFO:root:PrecalculatedEnvironment: file C:\\Users\\lboloni\\Documents\\Code\\_TempData\\WBF\\Miniberry-10\\precalc_tylcv\\env_value_00008.gz already exists, skipping!\n",
      "INFO:root:Environment.proceed - calling the inner_proceed\n",
      "INFO:root:PrecalculatedEnvironment at timestamp 8\n",
      "INFO:root:PrecalculatedEnvironment: file C:\\Users\\lboloni\\Documents\\Code\\_TempData\\WBF\\Miniberry-10\\precalc_ccr\\env_value_00008.gz already exists, skipping!\n",
      "INFO:root:Environment.proceed - calling the inner_proceed\n",
      "INFO:root:PrecalculatedEnvironment at timestamp 8\n",
      "INFO:root:PrecalculatedEnvironment: file C:\\Users\\lboloni\\Documents\\Code\\_TempData\\WBF\\Miniberry-10\\precalc_soil\\env_value_00008.gz already exists, skipping!\n",
      "INFO:root:Environment.proceed - calling the inner_proceed\n",
      "INFO:root:Environment.proceed - calling the inner_proceed\n",
      "INFO:root:PrecalculatedEnvironment at timestamp 9\n",
      "INFO:root:PrecalculatedEnvironment: file C:\\Users\\lboloni\\Documents\\Code\\_TempData\\WBF\\Miniberry-10\\precalc_tylcv\\env_value_00009.gz already exists, skipping!\n",
      "INFO:root:Environment.proceed - calling the inner_proceed\n",
      "INFO:root:PrecalculatedEnvironment at timestamp 9\n",
      "INFO:root:PrecalculatedEnvironment: file C:\\Users\\lboloni\\Documents\\Code\\_TempData\\WBF\\Miniberry-10\\precalc_ccr\\env_value_00009.gz already exists, skipping!\n",
      "INFO:root:Environment.proceed - calling the inner_proceed\n",
      "INFO:root:PrecalculatedEnvironment at timestamp 9\n",
      "INFO:root:PrecalculatedEnvironment: file C:\\Users\\lboloni\\Documents\\Code\\_TempData\\WBF\\Miniberry-10\\precalc_soil\\env_value_00009.gz already exists, skipping!\n",
      "INFO:root:Environment.proceed - calling the inner_proceed\n",
      "INFO:root:Environment.proceed - calling the inner_proceed\n",
      "INFO:root:PrecalculatedEnvironment at timestamp 10\n",
      "INFO:root:PrecalculatedEnvironment: file C:\\Users\\lboloni\\Documents\\Code\\_TempData\\WBF\\Miniberry-10\\precalc_tylcv\\env_value_00010.gz already exists, skipping!\n",
      "INFO:root:Environment.proceed - calling the inner_proceed\n",
      "INFO:root:PrecalculatedEnvironment at timestamp 10\n",
      "INFO:root:PrecalculatedEnvironment: file C:\\Users\\lboloni\\Documents\\Code\\_TempData\\WBF\\Miniberry-10\\precalc_ccr\\env_value_00010.gz already exists, skipping!\n",
      "INFO:root:Environment.proceed - calling the inner_proceed\n",
      "INFO:root:PrecalculatedEnvironment at timestamp 10\n",
      "INFO:root:PrecalculatedEnvironment: file C:\\Users\\lboloni\\Documents\\Code\\_TempData\\WBF\\Miniberry-10\\precalc_soil\\env_value_00010.gz already exists, skipping!\n"
     ]
    },
    {
     "name": "stdout",
     "output_type": "stream",
     "text": [
      "precalculation proceed 0\n",
      "precalculation proceed 1\n",
      "precalculation proceed 2\n",
      "precalculation proceed 3\n",
      "precalculation proceed 4\n",
      "precalculation proceed 5\n",
      "precalculation proceed 6\n",
      "precalculation proceed 7\n",
      "precalculation proceed 8\n",
      "precalculation proceed 9\n"
     ]
    }
   ],
   "source": [
    "# FIXME: this needs to be changed such that the environment is saved into the experiment directory\n",
    "\n",
    "wbf, wbfe, savedir = create_wbfe(False, wbf_prec = None, typename = exp[\"typename\"])\n",
    "for i in range(exp[\"precompute-time\"]):\n",
    "    print(f\"precalculation proceed {i}\")\n",
    "    wbfe.proceed()\n"
   ]
  },
  {
   "cell_type": "code",
   "execution_count": null,
   "metadata": {},
   "outputs": [],
   "source": [
    "# default_choices = {\"geometry\": \"Miniberry-30\", \"action\": \"run\", \"scenario\": \"one-day-single-value\", \"visualize\": 0,  \"results-basedir\": benchmark_dir}\n",
    "\n",
    "default_choices[\"geometry\"] = \"Miniberry-30\"\n",
    "default_choices[\"action\"] = \"run\"\n",
    "default_choices[\"scenario\"] = \"one-day-single-value\"\n",
    "default_choices[\"visualize\"] = 0\n",
    "default_choices[\"velocity\"] = 1\n",
    "default_choices[\"timesteps-per-day-override\"] = 500 # 1000\n",
    "default_choices[\"time-start-environment\"] = 6"
   ]
  },
  {
   "cell_type": "code",
   "execution_count": null,
   "metadata": {},
   "outputs": [],
   "source": [
    "precompute = 50\n",
    "# typenames = [\"Miniberry-10\", \"Miniberry-30\", \"Miniberry-100\", \"Waterberry\"]\n",
    "typenames = [\"Miniberry-10\",\"Miniberry-30\", \"Miniberry-100\"]\n",
    "time_start_environment = 6\n",
    "\n",
    "# typenames = [\"Waterberry\"]\n",
    "# typenames = [\"Miniberry-100\"]\n",
    "for typename in typenames:\n",
    "    action_precompute_environment({\"geometry\": typename, \"precompute-time\": precompute})"
   ]
  },
  {
   "cell_type": "code",
   "execution_count": null,
   "metadata": {},
   "outputs": [],
   "source": [
    "def action_precompute_environment(choices):\n",
    "    results = copy.deepcopy(choices)\n",
    "    results[\"action\"] = \"precompute-environment\"\n",
    "    menuGeometry(results)\n",
    "    wbf, wbfe, savedir = create_wbfe(False, wbf_prec = None, typename = results[\"typename\"])\n",
    "    results[\"wbf\"] = wbf\n",
    "    results[\"wbfe\"] = wbfe\n",
    "    results[\"savedir\"] = savedir\n",
    "    if \"precompute-time\" in results:\n",
    "        for i in range(results[\"precompute-time\"]):\n",
    "            logging.info(f\"precalculation proceed {i}\")\n",
    "            wbfe.proceed()\n",
    "    return results "
   ]
  }
 ],
 "metadata": {
  "kernelspec": {
   "display_name": "WBF-venv",
   "language": "python",
   "name": "python3"
  },
  "language_info": {
   "codemirror_mode": {
    "name": "ipython",
    "version": 3
   },
   "file_extension": ".py",
   "mimetype": "text/x-python",
   "name": "python",
   "nbconvert_exporter": "python",
   "pygments_lexer": "ipython3",
   "version": "3.11.4"
  }
 },
 "nbformat": 4,
 "nbformat_minor": 2
}
