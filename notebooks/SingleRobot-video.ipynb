{
 "cells": [
  {
   "attachments": {},
   "cell_type": "markdown",
   "metadata": {},
   "source": [
    "# Waterberry Farms: a realistic benchmark for multi-robot informative path planning\n",
    "\n",
    "This notebook contains the code for creating the accompanying video for the paper. It relies on "
   ]
  },
  {
   "cell_type": "code",
   "execution_count": null,
   "metadata": {},
   "outputs": [],
   "source": [
    "import pathlib\n",
    "from moviepy.editor import *"
   ]
  },
  {
   "attachments": {},
   "cell_type": "markdown",
   "metadata": {},
   "source": [
    "### For the time being, what I have here is the video generation experiments"
   ]
  },
  {
   "cell_type": "code",
   "execution_count": null,
   "metadata": {},
   "outputs": [],
   "source": [
    "#ppath  = pathlib.Path(\"/home/lboloni/Documents/Hackingwork/__Temporary/2022-01-15-MREM_data/Benchmark-Paper/dir_Miniberry-30_1M_Spiral\")\n",
    "\n",
    "#cardsource = pathlib.Path(\"/home/lboloni/Insync/lotzi.boloni@gmail.com/Google Drive/LotziWork/Todos/2023-02-17-IROS-Video\")\n",
    "\n",
    "codepath = pathlib.Path(\"../../../../\")\n",
    "paperpath = pathlib.Path(\"papers/benchmark\")\n",
    "\n",
    "screenshotpath  = pathlib.Path(codepath, \"__Temporary/2022-01-15-MREM_data/Benchmark-Paper/\")\n",
    "\n",
    "cardsource = pathlib.Path(paperpath, \"video/cards\")"
   ]
  },
  {
   "cell_type": "code",
   "execution_count": null,
   "metadata": {},
   "outputs": [],
   "source": [
    "print(screenshotpath.resolve())\n",
    "print(codepath.resolve())"
   ]
  },
  {
   "cell_type": "code",
   "execution_count": null,
   "metadata": {},
   "outputs": [],
   "source": [
    "def create_image_list_clip(ppath, from_number, to_number, pattern, time, clipsize, position = [0,0]):\n",
    "    image_list = []\n",
    "    for i in range(from_number,to_number):\n",
    "        filename = pattern + f\"{i:05d}\" + \".jpg\"\n",
    "        #print(filename)\n",
    "        file = pathlib.Path(ppath, filename)\n",
    "        #if file.exists():\n",
    "        #    print(\"exists!\")\n",
    "        image_list.append(str(file))\n",
    "    clip = ImageSequenceClip(image_list, fps= (to_number-from_number) / time)\n",
    "    # clip.size = clipsize\n",
    "    clip = clip.resize(clipsize)\n",
    "    clip = clip.set_position(position)\n",
    "    return clip"
   ]
  },
  {
   "cell_type": "code",
   "execution_count": null,
   "metadata": {},
   "outputs": [],
   "source": [
    "def create_card_clip(cardsource, number, sec, screensize):\n",
    "    \"\"\"Create a clip of the card\"\"\"\n",
    "    file = pathlib.Path(cardsource, f\"Cards-{number}.jpg\")\n",
    "    clip = ImageClip(str(file))\n",
    "    clip = clip.set_duration(sec)\n",
    "    clip.fps = 29.97\n",
    "    clip = clip.resize(screensize)\n",
    "    return clip"
   ]
  },
  {
   "cell_type": "code",
   "execution_count": null,
   "metadata": {},
   "outputs": [],
   "source": [
    "def create_six_old(ppath, from_number, to_number, time, screensize):\n",
    "    clipsize = [240, 200]\n",
    "    \n",
    "    clip_ccr_env = create_image_list_clip(ppath, from_number, to_number, \"ccr-env-robot-\", time, clipsize, [0,0])\n",
    "    clip_ccr_im = create_image_list_clip(ppath, from_number, to_number, \"ccr-im-robot-\", time, clipsize, [0, 200])\n",
    "\n",
    "    clip_tylcv_env = create_image_list_clip(ppath, from_number, to_number, \"tylcv-env-robot-\", time, clipsize, [240,0])\n",
    "    clip_tylcv_im = create_image_list_clip(ppath, from_number, to_number, \"tylcv-im-robot-\", time, clipsize, [240, 200])\n",
    "\n",
    "    clip_soil_env = create_image_list_clip(ppath, from_number, to_number, \"soil-env-robot-\", time, clipsize, [480,0])\n",
    "    clip_soil_im = create_image_list_clip(ppath, from_number, to_number, \"soil-im-robot-\", time, clipsize, [480, 200])\n",
    "\n",
    "    animationclip = CompositeVideoClip( [clip_ccr_env, clip_ccr_im, clip_tylcv_env, clip_tylcv_im, clip_soil_env, clip_soil_im],\n",
    "                        size=screensize)\n",
    "    return animationclip\n",
    "\n",
    "def create_six(ppath, from_number, to_number, time, screensize):\n",
    "    stepx = screensize[0] // 3\n",
    "    stepy = screensize[1] // 2\n",
    "    clipsize = [stepx, stepy]\n",
    "    \n",
    "    clip_ccr_env = create_image_list_clip(ppath, from_number, to_number, \"ccr-env-robot-\", time, clipsize, [0,0])\n",
    "    clip_ccr_im = create_image_list_clip(ppath, from_number, to_number, \"ccr-im-robot-\", time, clipsize, [0, stepy])\n",
    "\n",
    "    clip_tylcv_env = create_image_list_clip(ppath, from_number, to_number, \"tylcv-env-robot-\", time, clipsize, [stepx,0])\n",
    "    clip_tylcv_im = create_image_list_clip(ppath, from_number, to_number, \"tylcv-im-robot-\", time, clipsize, [stepx, stepy])\n",
    "\n",
    "    clip_soil_env = create_image_list_clip(ppath, from_number, to_number, \"soil-env-robot-\", time, clipsize, [2 * stepx,0])\n",
    "    clip_soil_im = create_image_list_clip(ppath, from_number, to_number, \"soil-im-robot-\", time, clipsize, [2 * stepx, stepy])\n",
    "\n",
    "    animationclip = CompositeVideoClip( [clip_ccr_env, clip_ccr_im, clip_tylcv_env, clip_tylcv_im, clip_soil_env, clip_soil_im],\n",
    "                        size=screensize)\n",
    "    return animationclip"
   ]
  },
  {
   "cell_type": "code",
   "execution_count": null,
   "metadata": {},
   "outputs": [],
   "source": [
    "#screensize = (720,460)\n",
    "screensize = (1200,800)\n",
    "clips = []\n",
    "\n",
    "clips.append(create_card_clip(cardsource, 1, 3, screensize))\n",
    "clips.append(create_card_clip(cardsource, 2, 3, screensize))\n",
    "clips.append(create_card_clip(cardsource, 3, 3, screensize))\n",
    "clips.append(create_card_clip(cardsource, 4, 3, screensize))\n",
    "\n",
    "ppath = pathlib.Path(screenshotpath, \"dir_Miniberry-30_1M_FixedBudgetLawnmower\")\n",
    "animationclip = create_six(ppath, 1, 501, 15, screensize)\n",
    "clips.append(animationclip)\n",
    "\n",
    "clips.append(create_card_clip(cardsource, 5, 3, screensize))\n",
    "\n",
    "ppath = pathlib.Path(screenshotpath, \"dir_Miniberry-30_1M_RandomWaypoint-Seed0-GP\")\n",
    "animationclip = create_six(ppath, 1, 501, 15, screensize)\n",
    "clips.append(animationclip)\n",
    "\n",
    "clips.append(create_card_clip(cardsource, 6, 3, screensize))\n",
    "\n",
    "\n",
    "#clip = ImageSequenceClip(image_list, fps=10)\n",
    "#animationclip = CompositeVideoClip( [clip.set_pos('center')],\n",
    "#                        size=screensize)\n",
    "\n",
    "\n",
    "# final_clip = concatenate_videoclips([introclip, clip])\n",
    "final_clip = concatenate_videoclips(clips)\n",
    "\n",
    "videopath = pathlib.Path(ppath.parent, \"video\")\n",
    "videopath.mkdir(exist_ok = True)\n",
    "videofile = pathlib.Path(videopath, \"IROS.mp4\")\n",
    "\n",
    "final_clip.write_videofile(str(videofile))"
   ]
  }
 ],
 "metadata": {
  "kernelspec": {
   "display_name": "base",
   "language": "python",
   "name": "python3"
  },
  "language_info": {
   "codemirror_mode": {
    "name": "ipython",
    "version": 3
   },
   "file_extension": ".py",
   "mimetype": "text/x-python",
   "name": "python",
   "nbconvert_exporter": "python",
   "pygments_lexer": "ipython3",
   "version": "3.10.6"
  },
  "orig_nbformat": 4,
  "vscode": {
   "interpreter": {
    "hash": "13140b3b9092b9a26a4b55ddc500d8b0c9f21b15e8ef2dd16bed19d6074a1e03"
   }
  }
 },
 "nbformat": 4,
 "nbformat_minor": 2
}
