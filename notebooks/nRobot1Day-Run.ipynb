{
 "cells": [
  {
   "cell_type": "markdown",
   "metadata": {},
   "source": [
    "# Run multiple robots for one day\n",
    "\n",
    "Run an experiment with multiple robots exploring an environment during the course of one day. \n",
    "\n",
    "The specification of the experiment is fully determined by the exp/run of type nrobot1day. This exp/run will refer to other exp/runs to specify the environment, the estimator and the scoring function. It will also list the names of the robots, their policies and other information. "
   ]
  },
  {
   "cell_type": "code",
   "execution_count": 1,
   "metadata": {},
   "outputs": [],
   "source": [
    "import sys\n",
    "sys.path.append(\"..\")\n",
    "from settings import Config\n",
    "import pathlib\n",
    "from pprint import pprint\n",
    "import gzip as compress\n",
    "import copy\n",
    "import pickle\n",
    "\n",
    "# from WbfExperiment import simulate_1day\n",
    "from WbfExperimentMultiRobot import simulate_1day_multirobot\n",
    "from wbf_helper import get_geometry, create_wbfe, create_policy, create_estimator, create_score\n",
    "\n",
    "from Robot import Robot"
   ]
  },
  {
   "cell_type": "code",
   "execution_count": 2,
   "metadata": {},
   "outputs": [
    {
     "name": "stdout",
     "output_type": "stream",
     "text": [
      "Loading pointer config file: C:\\Users\\lboloni\\.config\\WaterBerryFarms\\mainsettings.yaml\n",
      "Loading machine-specific config file: G:\\My Drive\\LotziStudy\\Code\\PackageTracking\\WaterBerryFarms\\settings\\WBF-config-LotziYoga.yaml\n",
      "No system dependent experiment file\n",
      " G:\\My Drive\\LotziStudy\\Code\\PackageTracking\\WaterBerryFarms\\settings\\experiment-config\\LotziYoga\\nrobot1day\\two-random-robots_sysdep.yaml,\n",
      " that is ok, proceeding.\n",
      "Configuration for experiment: nrobot1day/two-random-robots successfully loaded\n",
      "{'data_dir': WindowsPath('C:/Users/lboloni/Documents/Code/_TempData/WBF/ExperimentData/nrobot1day/two-random-robots'),\n",
      " 'exp_environment': 'miniberry-30',\n",
      " 'exp_estimator': 'adaptive-disk',\n",
      " 'exp_run_sys_indep_file': WindowsPath('C:/Users/lboloni/Documents/Code/_Checkouts/WBF/WaterberryFarms/experiment_configs/nrobot1day/two-random-robots.yaml'),\n",
      " 'exp_score': 'weighted_asymmetric',\n",
      " 'group_name': 'nrobot1day',\n",
      " 'im_resolution': 10,\n",
      " 'robots': [{'exp-policy': 'random-waypoint', 'name': 'robot-1'},\n",
      "            {'exp-policy': 'random-waypoint-seed10', 'name': 'robot-2'}],\n",
      " 'run_name': 'two-random-robots',\n",
      " 'time-start-environment': 6,\n",
      " 'timesteps-per-day': 50,\n",
      " 'velocity': 1}\n",
      "Experiment default config C:\\Users\\lboloni\\Documents\\Code\\_Checkouts\\WBF\\WaterberryFarms\\experiment_configs\\environment\\_environment.yaml was empty, ok.\n",
      "No system dependent experiment file\n",
      " G:\\My Drive\\LotziStudy\\Code\\PackageTracking\\WaterBerryFarms\\settings\\experiment-config\\LotziYoga\\environment\\miniberry-30_sysdep.yaml,\n",
      " that is ok, proceeding.\n",
      "Configuration for experiment: environment/miniberry-30 successfully loaded\n",
      "{'data_dir': WindowsPath('C:/Users/lboloni/Documents/Code/_TempData/WBF/ExperimentData/environment/miniberry-30'),\n",
      " 'exp_run_sys_indep_file': WindowsPath('C:/Users/lboloni/Documents/Code/_Checkouts/WBF/WaterberryFarms/experiment_configs/environment/miniberry-30.yaml'),\n",
      " 'group_name': 'environment',\n",
      " 'precompute-time': 10,\n",
      " 'run_name': 'miniberry-30',\n",
      " 'typename': 'Miniberry-30'}\n",
      "Experiment default config C:\\Users\\lboloni\\Documents\\Code\\_Checkouts\\WBF\\WaterberryFarms\\experiment_configs\\estimator\\_estimator.yaml was empty, ok.\n",
      "No system dependent experiment file\n",
      " G:\\My Drive\\LotziStudy\\Code\\PackageTracking\\WaterBerryFarms\\settings\\experiment-config\\LotziYoga\\estimator\\adaptive-disk_sysdep.yaml,\n",
      " that is ok, proceeding.\n",
      "Configuration for experiment: estimator/adaptive-disk successfully loaded\n",
      "{'data_dir': WindowsPath('C:/Users/lboloni/Documents/Code/_TempData/WBF/ExperimentData/estimator/adaptive-disk'),\n",
      " 'estimator-code': 'WBF_IM_DiskEstimator',\n",
      " 'estimator-name': 'AD',\n",
      " 'exp_run_sys_indep_file': WindowsPath('C:/Users/lboloni/Documents/Code/_Checkouts/WBF/WaterberryFarms/experiment_configs/estimator/adaptive-disk.yaml'),\n",
      " 'group_name': 'estimator',\n",
      " 'run_name': 'adaptive-disk'}\n",
      "Experiment default config C:\\Users\\lboloni\\Documents\\Code\\_Checkouts\\WBF\\WaterberryFarms\\experiment_configs\\score\\_score.yaml was empty, ok.\n",
      "No system dependent experiment file\n",
      " G:\\My Drive\\LotziStudy\\Code\\PackageTracking\\WaterBerryFarms\\settings\\experiment-config\\LotziYoga\\score\\weighted_asymmetric_sysdep.yaml,\n",
      " that is ok, proceeding.\n",
      "Configuration for experiment: score/weighted_asymmetric successfully loaded\n",
      "{'data_dir': WindowsPath('C:/Users/lboloni/Documents/Code/_TempData/WBF/ExperimentData/score/weighted_asymmetric'),\n",
      " 'exp_run_sys_indep_file': WindowsPath('C:/Users/lboloni/Documents/Code/_Checkouts/WBF/WaterberryFarms/experiment_configs/score/weighted_asymmetric.yaml'),\n",
      " 'group_name': 'score',\n",
      " 'run_name': 'weighted_asymmetric',\n",
      " 'score-code': 'WBF_Score_WeightedAsymmetric',\n",
      " 'score-name': 'weighted-assymmetric'}\n",
      "Experiment default config C:\\Users\\lboloni\\Documents\\Code\\_Checkouts\\WBF\\WaterberryFarms\\experiment_configs\\policy\\_policy.yaml was empty, ok.\n",
      "No system dependent experiment file\n",
      " G:\\My Drive\\LotziStudy\\Code\\PackageTracking\\WaterBerryFarms\\settings\\experiment-config\\LotziYoga\\policy\\random-waypoint_sysdep.yaml,\n",
      " that is ok, proceeding.\n",
      "Configuration for experiment: policy/random-waypoint successfully loaded\n",
      "Experiment default config C:\\Users\\lboloni\\Documents\\Code\\_Checkouts\\WBF\\WaterberryFarms\\experiment_configs\\policy\\_policy.yaml was empty, ok.\n",
      "No system dependent experiment file\n",
      " G:\\My Drive\\LotziStudy\\Code\\PackageTracking\\WaterBerryFarms\\settings\\experiment-config\\LotziYoga\\policy\\random-waypoint-seed10_sysdep.yaml,\n",
      " that is ok, proceeding.\n",
      "Configuration for experiment: policy/random-waypoint-seed10 successfully loaded\n",
      "[{'exp-policy': {'data_dir': WindowsPath('C:/Users/lboloni/Documents/Code/_TempData/WBF/ExperimentData/policy/random-waypoint'),\n",
      "                 'exp_run_sys_indep_file': WindowsPath('C:/Users/lboloni/Documents/Code/_Checkouts/WBF/WaterberryFarms/experiment_configs/policy/random-waypoint.yaml'),\n",
      "                 'group_name': 'policy',\n",
      "                 'policy-code': 'RandomWaypointPolicy',\n",
      "                 'policy-name': 'RandomWaypointPolicy',\n",
      "                 'run_name': 'random-waypoint',\n",
      "                 'seed': 0},\n",
      "  'name': 'robot-1'},\n",
      " {'exp-policy': {'data_dir': WindowsPath('C:/Users/lboloni/Documents/Code/_TempData/WBF/ExperimentData/policy/random-waypoint-seed10'),\n",
      "                 'exp_run_sys_indep_file': WindowsPath('C:/Users/lboloni/Documents/Code/_Checkouts/WBF/WaterberryFarms/experiment_configs/policy/random-waypoint-seed10.yaml'),\n",
      "                 'group_name': 'policy',\n",
      "                 'policy-code': 'RandomWaypointPolicy',\n",
      "                 'policy-name': 'RandomWaypointPolicy-seed10',\n",
      "                 'run_name': 'random-waypoint-seed10',\n",
      "                 'seed': 10},\n",
      "  'name': 'robot-2'}]\n"
     ]
    }
   ],
   "source": [
    "# the experiment for the robot run\n",
    "experiment = \"nrobot1day\"\n",
    "run = \"two-random-robots\"\n",
    "\n",
    "exp = Config().get_experiment(experiment, run)\n",
    "pprint(exp)\n",
    "\n",
    "resultsfile = pathlib.Path(exp[\"data_dir\"], \"results.pickle\")\n",
    "if resultsfile.exists():\n",
    "    print(f\"Results file already exists:\\n{resultsfile}\")\n",
    "    print(f\"Delete this file if re-running is desired.\")\n",
    "    raise Exception(\"Nothing to do.\")\n",
    "\n",
    "# the exp for the environment\n",
    "exp_env = Config().get_experiment(\"environment\", exp[\"exp_environment\"])\n",
    "pprint(exp_env)\n",
    "# the exp for estimator\n",
    "exp_estimator = Config().get_experiment(\"estimator\", exp[\"exp_estimator\"])\n",
    "pprint(exp_estimator)\n",
    "# the exp for the score\n",
    "exp_score = Config().get_experiment(\"score\", exp[\"exp_score\"])\n",
    "pprint(exp_score)\n",
    "\n",
    "# FIXME: implement me\n",
    "# the exp/runs for the policy for policies\n",
    "# exp_policy = Config().get_experiment(\"policy\", exp[\"exp_policy\"])\n",
    "# pprint(exp_policy)\n",
    "robotspecs = []\n",
    "for values in exp[\"robots\"]:\n",
    "    robotspec = {}\n",
    "    robotspec[\"name\"] = values[\"name\"]\n",
    "    robotspec[\"exp-policy\"] = Config().get_experiment(\"policy\", values[\"exp-policy\"]) \n",
    "    robotspecs.append(robotspec)\n",
    "pprint(robotspecs)\n"
   ]
  },
  {
   "cell_type": "code",
   "execution_count": 3,
   "metadata": {},
   "outputs": [
    {
     "name": "stderr",
     "output_type": "stream",
     "text": [
      "INFO:root:Environment.proceed - calling the inner_proceed\n",
      "INFO:root:Environment.proceed - calling the inner_proceed\n",
      "INFO:root:PrecalculatedEnvironment at timestamp 6\n",
      "INFO:root:Loading from gz C:\\Users\\lboloni\\Documents\\Code\\_TempData\\WBF\\ExperimentData\\environment\\miniberry-30\\precalc_tylcv\\env_value_00006.gz\n",
      "INFO:root:Loading from gz C:\\Users\\lboloni\\Documents\\Code\\_TempData\\WBF\\ExperimentData\\environment\\miniberry-30\\precalc_tylcv\\env_value_00006.gz done\n",
      "INFO:root:Environment.proceed - calling the inner_proceed\n",
      "INFO:root:PrecalculatedEnvironment at timestamp 6\n",
      "INFO:root:Loading from gz C:\\Users\\lboloni\\Documents\\Code\\_TempData\\WBF\\ExperimentData\\environment\\miniberry-30\\precalc_ccr\\env_value_00006.gz\n",
      "INFO:root:Loading from gz C:\\Users\\lboloni\\Documents\\Code\\_TempData\\WBF\\ExperimentData\\environment\\miniberry-30\\precalc_ccr\\env_value_00006.gz done\n",
      "INFO:root:Environment.proceed - calling the inner_proceed\n",
      "INFO:root:PrecalculatedEnvironment at timestamp 6\n",
      "INFO:root:Loading from gz C:\\Users\\lboloni\\Documents\\Code\\_TempData\\WBF\\ExperimentData\\environment\\miniberry-30\\precalc_soil\\env_value_00006.gz\n",
      "INFO:root:Loading from gz C:\\Users\\lboloni\\Documents\\Code\\_TempData\\WBF\\ExperimentData\\environment\\miniberry-30\\precalc_soil\\env_value_00006.gz done\n"
     ]
    },
    {
     "name": "stdout",
     "output_type": "stream",
     "text": [
      "loading the geometry and environment from saved data\n",
      "loading done\n",
      "Saving results to: C:\\Users\\lboloni\\Documents\\Code\\_TempData\\WBF\\ExperimentData\\nrobot1day\\two-random-robots\\results.pickle\n"
     ]
    }
   ],
   "source": [
    "choices = {}\n",
    "choices[\"estimator-code\"] = create_estimator(exp_estimator, exp_env)\n",
    "choices[\"score-code\"] = create_score(exp_score, exp_env)\n",
    "\n",
    "choices[\"velocity\"] = exp[\"velocity\"]\n",
    "choices[\"timesteps-per-day\"] = exp[\"timesteps-per-day\"]\n",
    "# choices[\"timesteps-per-day-override\"] = exp[\"timesteps-per-day-override\"]\n",
    "choices[\"time-start-environment\"] = exp[\"time-start-environment\"]\n",
    "choices[\"im_resolution\"] = exp[\"im_resolution\"]\n",
    "choices[\"results-basedir\"] = exp[\"data_dir\"]\n",
    "choices[\"action\"] = \"run-one-day\"\n",
    "choices[\"typename\"] = exp_env[\"typename\"]\n",
    "wbf, wbfe = create_wbfe(exp_env)\n",
    "# move ahead to the starting point of the environment\n",
    "wbfe.proceed(choices[\"time-start-environment\"])\n",
    "choices[\"wbf\"] = wbf\n",
    "choices[\"wbfe\"] = wbfe\n",
    "choices[\"days\"] = 1\n",
    "get_geometry(choices[\"typename\"], choices)\n",
    "\n",
    "robots = []\n",
    "for robotspec in robotspecs:\n",
    "    # create the robot and set the policy\n",
    "    robot = Robot(robotspec[\"name\"], 0, 0, 0, env=None, im=None)\n",
    "    policy = create_policy(robotspec[\"exp-policy\"], exp_env)\n",
    "    robot.assign_policy(policy)\n",
    "    robots.append(robot)\n",
    "choices[\"robots\"] = robots\n",
    "\n",
    "\n",
    "# \n",
    "# This is where we actually calling the simulation\n",
    "#\n",
    "results = copy.deepcopy(choices)\n",
    "simulate_1day_multirobot(results)\n",
    "print(f\"Saving results to: {resultsfile}\")\n",
    "with compress.open(resultsfile, \"wb\") as f:\n",
    "    pickle.dump(results, f)"
   ]
  },
  {
   "cell_type": "code",
   "execution_count": 4,
   "metadata": {},
   "outputs": [
    {
     "data": {
      "text/plain": [
       "[<Robot.Robot at 0x262fd9a99d0>, <Robot.Robot at 0x2629eb1c8d0>]"
      ]
     },
     "execution_count": 4,
     "metadata": {},
     "output_type": "execute_result"
    }
   ],
   "source": [
    "robots"
   ]
  },
  {
   "cell_type": "code",
   "execution_count": null,
   "metadata": {},
   "outputs": [],
   "source": []
  }
 ],
 "metadata": {
  "kernelspec": {
   "display_name": "WBF-venv",
   "language": "python",
   "name": "python3"
  },
  "language_info": {
   "codemirror_mode": {
    "name": "ipython",
    "version": 3
   },
   "file_extension": ".py",
   "mimetype": "text/x-python",
   "name": "python",
   "nbconvert_exporter": "python",
   "pygments_lexer": "ipython3",
   "version": "3.11.4"
  }
 },
 "nbformat": 4,
 "nbformat_minor": 2
}
