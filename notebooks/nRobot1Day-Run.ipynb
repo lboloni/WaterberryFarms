{
 "cells": [
  {
   "cell_type": "markdown",
   "metadata": {},
   "source": [
    "# Run multiple robots for one day\n",
    "\n",
    "Run an experiment with multiple robots exploring an environment during the course of one day. \n",
    "\n",
    "The specification of the experiment is fully determined by the exp/run of type nrobot1day. This exp/run will refer to other exp/runs to specify the environment, the estimator and the scoring function. It will also list the names of the robots, their policies and other information. "
   ]
  },
  {
   "cell_type": "code",
   "execution_count": null,
   "metadata": {},
   "outputs": [],
   "source": [
    "import sys\n",
    "sys.path.append(\"..\")\n",
    "from exp_run_config import Config\n",
    "Config.PROJECTNAME = \"WaterBerryFarms\"\n",
    "\n",
    "import pathlib\n",
    "from pprint import pprint\n",
    "\n",
    "from wbf_simulate import run_nrobot1day"
   ]
  },
  {
   "cell_type": "code",
   "execution_count": null,
   "metadata": {},
   "outputs": [],
   "source": [
    "# the experiment for the robot run\n",
    "experiment = \"nrobot1day\"\n",
    "# run = \"two-random-robots\"\n",
    "# run = \"two-communicating-robots\"\n",
    "# run = \"mrmr-3random\"\n",
    "# run = \"mrmr-3lawnmowers\"\n",
    "run = \"mrmr-1pioneer-2contractors\"\n",
    "exp = Config().get_experiment(experiment, run)\n",
    "pprint(exp)"
   ]
  },
  {
   "cell_type": "code",
   "execution_count": null,
   "metadata": {},
   "outputs": [
    {
     "ename": "AssertionError",
     "evalue": "",
     "output_type": "error",
     "traceback": [
      "\u001b[1;31m---------------------------------------------------------------------------\u001b[0m",
      "\u001b[1;31mAssertionError\u001b[0m                            Traceback (most recent call last)",
      "Cell \u001b[1;32mIn[3], line 1\u001b[0m\n\u001b[1;32m----> 1\u001b[0m \u001b[43mrun_nrobot1day\u001b[49m\u001b[43m(\u001b[49m\u001b[43mexp\u001b[49m\u001b[43m)\u001b[49m\n",
      "File \u001b[1;32mc:\\Users\\lboloni\\Documents\\Code\\_Checkouts\\WBF\\WaterBerryFarms\\notebooks\\..\\wbf_simulate.py:345\u001b[0m, in \u001b[0;36mrun_nrobot1day\u001b[1;34m(exp)\u001b[0m\n\u001b[0;32m    340\u001b[0m results[\u001b[38;5;124m\"\u001b[39m\u001b[38;5;124mrobots\u001b[39m\u001b[38;5;124m\"\u001b[39m] \u001b[38;5;241m=\u001b[39m robots\n\u001b[0;32m    342\u001b[0m \u001b[38;5;66;03m# \u001b[39;00m\n\u001b[0;32m    343\u001b[0m \u001b[38;5;66;03m# This is where we actually calling the simulation\u001b[39;00m\n\u001b[0;32m    344\u001b[0m \u001b[38;5;66;03m#\u001b[39;00m\n\u001b[1;32m--> 345\u001b[0m \u001b[43msimulate_1day_multirobot\u001b[49m\u001b[43m(\u001b[49m\u001b[43mresults\u001b[49m\u001b[43m)\u001b[49m\n\u001b[0;32m    346\u001b[0m \u001b[38;5;66;03m#print(f\"Saving results to: {resultsfile}\")\u001b[39;00m\n\u001b[0;32m    347\u001b[0m \u001b[38;5;66;03m#with compress.open(resultsfile, \"wb\") as f:\u001b[39;00m\n\u001b[0;32m    348\u001b[0m \u001b[38;5;66;03m#    pickle.dump(results, f)\u001b[39;00m\n\u001b[0;32m    349\u001b[0m save_simulation_results(resultsfile, results)\n",
      "File \u001b[1;32mc:\\Users\\lboloni\\Documents\\Code\\_Checkouts\\WBF\\WaterBerryFarms\\notebooks\\..\\wbf_simulate.py:116\u001b[0m, in \u001b[0;36msimulate_1day_multirobot\u001b[1;34m(results)\u001b[0m\n\u001b[0;32m    113\u001b[0m results[\u001b[38;5;124m\"\u001b[39m\u001b[38;5;124mim_resolution_count\u001b[39m\u001b[38;5;124m\"\u001b[39m] \u001b[38;5;241m=\u001b[39m \u001b[38;5;241m0\u001b[39m \u001b[38;5;66;03m# counting the steps for the im update\u001b[39;00m\n\u001b[0;32m    115\u001b[0m \u001b[38;5;28;01mfor\u001b[39;00m timestep \u001b[38;5;129;01min\u001b[39;00m \u001b[38;5;28mrange\u001b[39m(\u001b[38;5;28mint\u001b[39m(results[\u001b[38;5;124m\"\u001b[39m\u001b[38;5;124mtimesteps-per-day\u001b[39m\u001b[38;5;124m\"\u001b[39m])):\n\u001b[1;32m--> 116\u001b[0m     \u001b[43msimulate_timestep_multirobot\u001b[49m\u001b[43m(\u001b[49m\u001b[43mresults\u001b[49m\u001b[43m,\u001b[49m\u001b[43m \u001b[49m\u001b[43mtimestep\u001b[49m\u001b[43m)\u001b[49m\n",
      "File \u001b[1;32mc:\\Users\\lboloni\\Documents\\Code\\_Checkouts\\WBF\\WaterBerryFarms\\notebooks\\..\\wbf_simulate.py:137\u001b[0m, in \u001b[0;36msimulate_timestep_multirobot\u001b[1;34m(results, timestep)\u001b[0m\n\u001b[0;32m    134\u001b[0m             robot\u001b[38;5;241m.\u001b[39mpolicy\u001b[38;5;241m.\u001b[39mact_receive(\u001b[38;5;28mround\u001b[39m, msgs)\n\u001b[0;32m    136\u001b[0m \u001b[38;5;28;01mfor\u001b[39;00m robot \u001b[38;5;129;01min\u001b[39;00m results[\u001b[38;5;124m\"\u001b[39m\u001b[38;5;124mrobots\u001b[39m\u001b[38;5;124m\"\u001b[39m]:\n\u001b[1;32m--> 137\u001b[0m     \u001b[43mrobot\u001b[49m\u001b[38;5;241;43m.\u001b[39;49m\u001b[43menact_policy\u001b[49m\u001b[43m(\u001b[49m\u001b[43m)\u001b[49m\n\u001b[0;32m    138\u001b[0m     robot\u001b[38;5;241m.\u001b[39mproceed(\u001b[38;5;241m1\u001b[39m)\n\u001b[0;32m    139\u001b[0m     position \u001b[38;5;241m=\u001b[39m [\u001b[38;5;28mint\u001b[39m(robot\u001b[38;5;241m.\u001b[39mx), \u001b[38;5;28mint\u001b[39m(robot\u001b[38;5;241m.\u001b[39my), timestep]\n",
      "File \u001b[1;32mc:\\Users\\lboloni\\Documents\\Code\\_Checkouts\\WBF\\WaterBerryFarms\\notebooks\\..\\robot.py:68\u001b[0m, in \u001b[0;36mRobot.enact_policy\u001b[1;34m(self, delta_t)\u001b[0m\n\u001b[0;32m     66\u001b[0m \u001b[38;5;250m\u001b[39m\u001b[38;5;124;03m\"\"\"Call the policy, if any to schedule actions\"\"\"\u001b[39;00m\n\u001b[0;32m     67\u001b[0m \u001b[38;5;28;01mif\u001b[39;00m \u001b[38;5;28mself\u001b[39m\u001b[38;5;241m.\u001b[39mpolicy \u001b[38;5;241m!=\u001b[39m \u001b[38;5;28;01mNone\u001b[39;00m:\n\u001b[1;32m---> 68\u001b[0m     \u001b[38;5;28;43mself\u001b[39;49m\u001b[38;5;241;43m.\u001b[39;49m\u001b[43mpolicy\u001b[49m\u001b[38;5;241;43m.\u001b[39;49m\u001b[43mact\u001b[49m\u001b[43m(\u001b[49m\u001b[43mdelta_t\u001b[49m\u001b[43m)\u001b[49m\n",
      "File \u001b[1;32mc:\\Users\\lboloni\\Documents\\Code\\_Checkouts\\WBF\\WaterBerryFarms\\notebooks\\..\\papers\\y2025_mrmr\\mrmr_policies.py:103\u001b[0m, in \u001b[0;36mMRMR_Pioneer.act\u001b[1;34m(self, delta_t)\u001b[0m\n\u001b[0;32m    101\u001b[0m \u001b[38;5;28mself\u001b[39m\u001b[38;5;241m.\u001b[39mtimestep \u001b[38;5;241m+\u001b[39m\u001b[38;5;241m=\u001b[39m delta_t\n\u001b[0;32m    102\u001b[0m \u001b[38;5;28mself\u001b[39m\u001b[38;5;241m.\u001b[39mreplan()\n\u001b[1;32m--> 103\u001b[0m \u001b[38;5;28;01massert\u001b[39;00m \u001b[38;5;28mself\u001b[39m\u001b[38;5;241m.\u001b[39mplan[\u001b[38;5;241m0\u001b[39m][\u001b[38;5;124m\"\u001b[39m\u001b[38;5;124mt\u001b[39m\u001b[38;5;124m\"\u001b[39m] \u001b[38;5;241m==\u001b[39m \u001b[38;5;28mself\u001b[39m\u001b[38;5;241m.\u001b[39mtimestep\n\u001b[0;32m    104\u001b[0m \u001b[38;5;28mself\u001b[39m\u001b[38;5;241m.\u001b[39mrobot\u001b[38;5;241m.\u001b[39madd_action(\u001b[38;5;124mf\u001b[39m\u001b[38;5;124m\"\u001b[39m\u001b[38;5;124mloc [\u001b[39m\u001b[38;5;132;01m{\u001b[39;00m\u001b[38;5;28mself\u001b[39m\u001b[38;5;241m.\u001b[39mplan[\u001b[38;5;241m0\u001b[39m][\u001b[38;5;124m'\u001b[39m\u001b[38;5;124mx\u001b[39m\u001b[38;5;124m'\u001b[39m]\u001b[38;5;132;01m}\u001b[39;00m\u001b[38;5;124m, \u001b[39m\u001b[38;5;132;01m{\u001b[39;00m\u001b[38;5;28mself\u001b[39m\u001b[38;5;241m.\u001b[39mplan[\u001b[38;5;241m0\u001b[39m][\u001b[38;5;124m'\u001b[39m\u001b[38;5;124my\u001b[39m\u001b[38;5;124m'\u001b[39m]\u001b[38;5;132;01m}\u001b[39;00m\u001b[38;5;124m]\u001b[39m\u001b[38;5;124m\"\u001b[39m)\n\u001b[0;32m    105\u001b[0m \u001b[38;5;28mself\u001b[39m\u001b[38;5;241m.\u001b[39mplan\u001b[38;5;241m.\u001b[39mpop(\u001b[38;5;241m0\u001b[39m) \u001b[38;5;66;03m# move on with the plan\u001b[39;00m\n",
      "\u001b[1;31mAssertionError\u001b[0m: "
     ]
    }
   ],
   "source": [
    "run_nrobot1day(exp)"
   ]
  },
  {
   "cell_type": "markdown",
   "metadata": {},
   "source": []
  }
 ],
 "metadata": {
  "kernelspec": {
   "display_name": "WBF-venv",
   "language": "python",
   "name": "python3"
  },
  "language_info": {
   "codemirror_mode": {
    "name": "ipython",
    "version": 3
   },
   "file_extension": ".py",
   "mimetype": "text/x-python",
   "name": "python",
   "nbconvert_exporter": "python",
   "pygments_lexer": "ipython3",
   "version": "3.11.4"
  }
 },
 "nbformat": 4,
 "nbformat_minor": 2
}
