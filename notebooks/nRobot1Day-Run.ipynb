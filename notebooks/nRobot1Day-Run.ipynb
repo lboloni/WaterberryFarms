{
 "cells": [
  {
   "cell_type": "markdown",
   "metadata": {},
   "source": [
    "# Run multiple robots for one day\n",
    "\n",
    "Run an experiment with multiple robots exploring an environment during the course of one day. \n",
    "\n",
    "The specification of the experiment is fully determined by the exp/run of type nrobot1day. This exp/run will refer to other exp/runs to specify the environment, the estimator and the scoring function. It will also list the names of the robots, their policies and other information. "
   ]
  },
  {
   "cell_type": "code",
   "execution_count": 1,
   "metadata": {},
   "outputs": [],
   "source": [
    "import sys\n",
    "sys.path.append(\"..\")\n",
    "from exp_run_config import Config\n",
    "Config.PROJECTNAME = \"WaterBerryFarms\"\n",
    "\n",
    "import pathlib\n",
    "from pprint import pprint\n",
    "\n",
    "from wbf_simulate import run_nrobot1day\n",
    "# from wbf_helper import get_geometry, create_wbfe, create_policy, create_estimator, create_score\n",
    "# from communication import PerfectCommunicationMedium, Message\n",
    "# from policy import RandomWaypointPolicy, AbstractCommunicateAndFollowPath\n",
    "# from robot import Robot"
   ]
  },
  {
   "cell_type": "code",
   "execution_count": 2,
   "metadata": {},
   "outputs": [
    {
     "name": "stdout",
     "output_type": "stream",
     "text": [
      "***ExpRun**: Loading pointer config file:\n",
      "\tC:\\Users\\lboloni\\.config\\WaterBerryFarms\\mainsettings.yaml\n",
      "***ExpRun**: Loading machine-specific config file:\n",
      "\tG:\\My Drive\\LotziStudy\\Code\\PackageTracking\\WaterBerryFarms\\settings\\WBF-config-LotziYoga.yaml\n",
      "***ExpRun**: No system dependent experiment file\n",
      "\t G:\\My Drive\\LotziStudy\\Code\\PackageTracking\\WaterBerryFarms\\settings\\experiment-config\\LotziYoga\\nrobot1day\\mrmr-3lawnmowers_sysdep.yaml,\n",
      "\t that is ok, proceeding.\n",
      "***ExpRun**: Configuration for exp/run: nrobot1day/mrmr-3lawnmowers successfully loaded\n",
      "Experiment: {'velocity': 1, 'timesteps-per-day': 500, 'time-start-environment': 15, 'im_resolution': 10, 'experiment_name': 'nrobot1day', 'name': '3 lawnmowers', 'exp_environment': 'miniberry-100', 'exp_estimator': 'adaptive-disk', 'exp_score': 'weighted_asymmetric', 'robots': [{'name': 'robot-1', 'exp-policy': 'fixed-budget-lawnmower', 'exp-policy-extra-parameters': {'area': '[5, 5, 95, 30]', 'policy-name': 'lawn-bottom'}}, {'name': 'robot-2', 'exp-policy': 'fixed-budget-lawnmower', 'exp-policy-extra-parameters': {'area': '[5, 35, 95, 60]', 'policy-name': 'lawn-middle'}}, {'name': 'robot-3', 'exp-policy': 'fixed-budget-lawnmower', 'exp-policy-extra-parameters': {'area': '[5, 65, 95, 95]', 'policy-name': 'lawn-top'}}], 'run_name': 'mrmr-3lawnmowers', 'exp_run_sys_indep_file': 'C:\\\\Users\\\\lboloni\\\\Documents\\\\Code\\\\_Checkouts\\\\WBF\\\\WaterberryFarms\\\\experiment_configs\\\\nrobot1day\\\\mrmr-3lawnmowers.yaml', 'data_dir': 'C:\\\\Users\\\\lboloni\\\\Documents\\\\Code\\\\_TempData\\\\WBF\\\\ExperimentData\\\\nrobot1day\\\\mrmr-3lawnmowers', 'subrun_name': None, 'time_started': '2025-04-20 14:55:25'}\n"
     ]
    }
   ],
   "source": [
    "# the experiment for the robot run\n",
    "experiment = \"nrobot1day\"\n",
    "# run = \"two-random-robots\"\n",
    "# run = \"two-communicating-robots\"\n",
    "# run = \"mrmr-3random\"\n",
    "run = \"mrmr-3lawnmowers\"\n",
    "# run = \"mrmr-lead-2bidders\"\n",
    "exp = Config().get_experiment(experiment, run)\n",
    "pprint(exp)"
   ]
  },
  {
   "cell_type": "code",
   "execution_count": 3,
   "metadata": {},
   "outputs": [
    {
     "name": "stdout",
     "output_type": "stream",
     "text": [
      "***ExpRun**: Experiment default config C:\\Users\\lboloni\\Documents\\Code\\_Checkouts\\WBF\\WaterberryFarms\\experiment_configs\\environment\\_environment.yaml was empty, ok.\n",
      "***ExpRun**: No system dependent experiment file\n",
      "\t G:\\My Drive\\LotziStudy\\Code\\PackageTracking\\WaterBerryFarms\\settings\\experiment-config\\LotziYoga\\environment\\miniberry-100_sysdep.yaml,\n",
      "\t that is ok, proceeding.\n",
      "***ExpRun**: Configuration for exp/run: environment/miniberry-100 successfully loaded\n",
      "Experiment: {'experiment_name': 'environment', 'typename': 'Miniberry-100', 'precompute-time': 100, 'run_name': 'miniberry-100', 'exp_run_sys_indep_file': 'C:\\\\Users\\\\lboloni\\\\Documents\\\\Code\\\\_Checkouts\\\\WBF\\\\WaterberryFarms\\\\experiment_configs\\\\environment\\\\miniberry-100.yaml', 'data_dir': 'C:\\\\Users\\\\lboloni\\\\Documents\\\\Code\\\\_TempData\\\\WBF\\\\ExperimentData\\\\environment\\\\miniberry-100', 'subrun_name': None, 'time_started': '2025-04-20 14:55:25'}\n",
      "***ExpRun**: Experiment default config C:\\Users\\lboloni\\Documents\\Code\\_Checkouts\\WBF\\WaterberryFarms\\experiment_configs\\estimator\\_estimator.yaml was empty, ok.\n",
      "***ExpRun**: No system dependent experiment file\n",
      "\t G:\\My Drive\\LotziStudy\\Code\\PackageTracking\\WaterBerryFarms\\settings\\experiment-config\\LotziYoga\\estimator\\adaptive-disk_sysdep.yaml,\n",
      "\t that is ok, proceeding.\n",
      "***ExpRun**: Configuration for exp/run: estimator/adaptive-disk successfully loaded\n",
      "Experiment: {'experiment_name': 'estimator', 'estimator-code': 'WBF_IM_DiskEstimator', 'estimator-name': 'AD', 'run_name': 'adaptive-disk', 'exp_run_sys_indep_file': 'C:\\\\Users\\\\lboloni\\\\Documents\\\\Code\\\\_Checkouts\\\\WBF\\\\WaterberryFarms\\\\experiment_configs\\\\estimator\\\\adaptive-disk.yaml', 'data_dir': 'C:\\\\Users\\\\lboloni\\\\Documents\\\\Code\\\\_TempData\\\\WBF\\\\ExperimentData\\\\estimator\\\\adaptive-disk', 'subrun_name': None, 'time_started': '2025-04-20 14:55:25'}\n",
      "***ExpRun**: Experiment default config C:\\Users\\lboloni\\Documents\\Code\\_Checkouts\\WBF\\WaterberryFarms\\experiment_configs\\score\\_score.yaml was empty, ok.\n",
      "***ExpRun**: No system dependent experiment file\n",
      "\t G:\\My Drive\\LotziStudy\\Code\\PackageTracking\\WaterBerryFarms\\settings\\experiment-config\\LotziYoga\\score\\weighted_asymmetric_sysdep.yaml,\n",
      "\t that is ok, proceeding.\n",
      "***ExpRun**: Configuration for exp/run: score/weighted_asymmetric successfully loaded\n",
      "Experiment: {'experiment_name': 'score', 'score-code': 'WBF_Score_WeightedAsymmetric', 'score-name': 'weighted-assymmetric', 'run_name': 'weighted_asymmetric', 'exp_run_sys_indep_file': 'C:\\\\Users\\\\lboloni\\\\Documents\\\\Code\\\\_Checkouts\\\\WBF\\\\WaterberryFarms\\\\experiment_configs\\\\score\\\\weighted_asymmetric.yaml', 'data_dir': 'C:\\\\Users\\\\lboloni\\\\Documents\\\\Code\\\\_TempData\\\\WBF\\\\ExperimentData\\\\score\\\\weighted_asymmetric', 'subrun_name': None, 'time_started': '2025-04-20 14:55:25'}\n",
      "***ExpRun**: Experiment default config C:\\Users\\lboloni\\Documents\\Code\\_Checkouts\\WBF\\WaterberryFarms\\experiment_configs\\policy\\_policy.yaml was empty, ok.\n",
      "***ExpRun**: No system dependent experiment file\n",
      "\t G:\\My Drive\\LotziStudy\\Code\\PackageTracking\\WaterBerryFarms\\settings\\experiment-config\\LotziYoga\\policy\\fixed-budget-lawnmower_sysdep.yaml,\n",
      "\t that is ok, proceeding.\n",
      "***ExpRun**: Configuration for exp/run: policy/fixed-budget-lawnmower successfully loaded\n",
      "area\n",
      "policy-name\n",
      "***ExpRun**: Experiment default config C:\\Users\\lboloni\\Documents\\Code\\_Checkouts\\WBF\\WaterberryFarms\\experiment_configs\\policy\\_policy.yaml was empty, ok.\n",
      "***ExpRun**: No system dependent experiment file\n",
      "\t G:\\My Drive\\LotziStudy\\Code\\PackageTracking\\WaterBerryFarms\\settings\\experiment-config\\LotziYoga\\policy\\fixed-budget-lawnmower_sysdep.yaml,\n",
      "\t that is ok, proceeding.\n",
      "***ExpRun**: Configuration for exp/run: policy/fixed-budget-lawnmower successfully loaded\n",
      "area\n",
      "policy-name\n",
      "***ExpRun**: Experiment default config C:\\Users\\lboloni\\Documents\\Code\\_Checkouts\\WBF\\WaterberryFarms\\experiment_configs\\policy\\_policy.yaml was empty, ok.\n",
      "***ExpRun**: No system dependent experiment file\n",
      "\t G:\\My Drive\\LotziStudy\\Code\\PackageTracking\\WaterBerryFarms\\settings\\experiment-config\\LotziYoga\\policy\\fixed-budget-lawnmower_sysdep.yaml,\n",
      "\t that is ok, proceeding.\n",
      "***ExpRun**: Configuration for exp/run: policy/fixed-budget-lawnmower successfully loaded\n"
     ]
    },
    {
     "name": "stderr",
     "output_type": "stream",
     "text": [
      "INFO:root:Environment.proceed - calling the inner_proceed\n",
      "INFO:root:Environment.proceed - calling the inner_proceed\n",
      "INFO:root:PrecalculatedEnvironment at timestamp 15\n",
      "INFO:root:Loading from gz C:\\Users\\lboloni\\Documents\\Code\\_TempData\\WBF\\ExperimentData\\environment\\miniberry-100\\precalc_tylcv\\env_value_00015.gz\n",
      "INFO:root:Loading from gz C:\\Users\\lboloni\\Documents\\Code\\_TempData\\WBF\\ExperimentData\\environment\\miniberry-100\\precalc_tylcv\\env_value_00015.gz done\n",
      "INFO:root:Environment.proceed - calling the inner_proceed\n",
      "INFO:root:PrecalculatedEnvironment at timestamp 15\n",
      "INFO:root:Loading from gz C:\\Users\\lboloni\\Documents\\Code\\_TempData\\WBF\\ExperimentData\\environment\\miniberry-100\\precalc_ccr\\env_value_00015.gz\n",
      "INFO:root:Loading from gz C:\\Users\\lboloni\\Documents\\Code\\_TempData\\WBF\\ExperimentData\\environment\\miniberry-100\\precalc_ccr\\env_value_00015.gz done\n",
      "INFO:root:Environment.proceed - calling the inner_proceed\n",
      "INFO:root:PrecalculatedEnvironment at timestamp 15\n",
      "INFO:root:Loading from gz C:\\Users\\lboloni\\Documents\\Code\\_TempData\\WBF\\ExperimentData\\environment\\miniberry-100\\precalc_soil\\env_value_00015.gz\n",
      "INFO:root:Loading from gz C:\\Users\\lboloni\\Documents\\Code\\_TempData\\WBF\\ExperimentData\\environment\\miniberry-100\\precalc_soil\\env_value_00015.gz done\n"
     ]
    },
    {
     "name": "stdout",
     "output_type": "stream",
     "text": [
      "area\n",
      "policy-name\n",
      "[{'exp-policy': Experiment: {'experiment_name': 'policy', 'policy-name': 'lawn-bottom', 'policy-code': 'FixedBudgetLawnMower', 'budget': 300, 'run_name': 'fixed-budget-lawnmower', 'exp_run_sys_indep_file': 'C:\\\\Users\\\\lboloni\\\\Documents\\\\Code\\\\_Checkouts\\\\WBF\\\\WaterberryFarms\\\\experiment_configs\\\\policy\\\\fixed-budget-lawnmower.yaml', 'data_dir': 'C:\\\\Users\\\\lboloni\\\\Documents\\\\Code\\\\_TempData\\\\WBF\\\\ExperimentData\\\\policy\\\\fixed-budget-lawnmower', 'subrun_name': None, 'time_started': '2025-04-20 14:55:25', 'area': '[5, 5, 95, 30]'},\n",
      "  'name': 'robot-1'},\n",
      " {'exp-policy': Experiment: {'experiment_name': 'policy', 'policy-name': 'lawn-middle', 'policy-code': 'FixedBudgetLawnMower', 'budget': 300, 'run_name': 'fixed-budget-lawnmower', 'exp_run_sys_indep_file': 'C:\\\\Users\\\\lboloni\\\\Documents\\\\Code\\\\_Checkouts\\\\WBF\\\\WaterberryFarms\\\\experiment_configs\\\\policy\\\\fixed-budget-lawnmower.yaml', 'data_dir': 'C:\\\\Users\\\\lboloni\\\\Documents\\\\Code\\\\_TempData\\\\WBF\\\\ExperimentData\\\\policy\\\\fixed-budget-lawnmower', 'subrun_name': None, 'time_started': '2025-04-20 14:55:25', 'area': '[5, 35, 95, 60]'},\n",
      "  'name': 'robot-2'},\n",
      " {'exp-policy': Experiment: {'experiment_name': 'policy', 'policy-name': 'lawn-top', 'policy-code': 'FixedBudgetLawnMower', 'budget': 300, 'run_name': 'fixed-budget-lawnmower', 'exp_run_sys_indep_file': 'C:\\\\Users\\\\lboloni\\\\Documents\\\\Code\\\\_Checkouts\\\\WBF\\\\WaterberryFarms\\\\experiment_configs\\\\policy\\\\fixed-budget-lawnmower.yaml', 'data_dir': 'C:\\\\Users\\\\lboloni\\\\Documents\\\\Code\\\\_TempData\\\\WBF\\\\ExperimentData\\\\policy\\\\fixed-budget-lawnmower', 'subrun_name': None, 'time_started': '2025-04-20 14:55:25', 'area': '[5, 65, 95, 95]'},\n",
      "  'name': 'robot-3'}]\n",
      "loading the geometry and environment from saved data\n",
      "loading done\n",
      "Saving results to: C:\\Users\\lboloni\\Documents\\Code\\_TempData\\WBF\\ExperimentData\\nrobot1day\\mrmr-3lawnmowers\\results.pickle\n"
     ]
    }
   ],
   "source": [
    "run_nrobot1day(exp)"
   ]
  },
  {
   "cell_type": "code",
   "execution_count": null,
   "metadata": {},
   "outputs": [],
   "source": []
  }
 ],
 "metadata": {
  "kernelspec": {
   "display_name": "WBF-venv",
   "language": "python",
   "name": "python3"
  },
  "language_info": {
   "codemirror_mode": {
    "name": "ipython",
    "version": 3
   },
   "file_extension": ".py",
   "mimetype": "text/x-python",
   "name": "python",
   "nbconvert_exporter": "python",
   "pygments_lexer": "ipython3",
   "version": "3.11.4"
  }
 },
 "nbformat": 4,
 "nbformat_minor": 2
}
