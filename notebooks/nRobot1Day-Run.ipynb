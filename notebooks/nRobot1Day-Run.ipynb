{
 "cells": [
  {
   "cell_type": "markdown",
   "metadata": {},
   "source": [
    "# Run multiple robots for one day\n",
    "\n",
    "Run an experiment with multiple robots exploring an environment during the course of one day. \n",
    "\n",
    "The specification of the experiment is fully determined by the exp/run of type nrobot1day. This exp/run will refer to other exp/runs to specify the environment, the estimator and the scoring function. It will also list the names of the robots, their policies and other information. "
   ]
  },
  {
   "cell_type": "code",
   "execution_count": 5,
   "metadata": {},
   "outputs": [],
   "source": [
    "import sys\n",
    "sys.path.append(\"..\")\n",
    "from exp_run_config import Config\n",
    "Config.PROJECTNAME = \"WaterBerryFarms\"\n",
    "\n",
    "import pathlib\n",
    "from pprint import pprint\n",
    "\n",
    "from wbf_simulate import run_nrobot1day"
   ]
  },
  {
   "cell_type": "code",
   "execution_count": 6,
   "metadata": {},
   "outputs": [
    {
     "name": "stdout",
     "output_type": "stream",
     "text": [
      "***ExpRun**: No system dependent experiment file\n",
      "\t G:\\My Drive\\LotziStudy\\Code\\PackageTracking\\WaterBerryFarms\\settings\\experiment-config\\LotziYoga\\nrobot1day\\mrmr-1pioneer-2contractors_sysdep.yaml,\n",
      "\t that is ok, proceeding.\n",
      "***ExpRun**: Configuration for exp/run: nrobot1day/mrmr-1pioneer-2contractors successfully loaded\n",
      "Experiment: {'velocity': 1, 'timesteps-per-day': 1000, 'time-start-environment': 25, 'im_resolution': 10, 'experiment_name': 'nrobot1day', 'name': '1 pioneer 2 contractors', 'exp_environment': 'miniberry-100', 'exp_estimator': 'adaptive-disk', 'exp_score': 'weighted_asymmetric', 'robots': [{'name': 'robot-pioneer', 'exp-policy': 'generic', 'exp-policy-extra-parameters': {'policy-name': 'mrmr-pioneer', 'policy-code': 'MRMR_Pioneer', 'seed': 1, 'budget': 1000}}, {'name': 'robot-contr-1', 'exp-policy': 'generic', 'exp-policy-extra-parameters': {'policy-name': 'mrmr-contractor-1', 'policy-code': 'MRMR_Contractor', 'seed': 2, 'budget': 1000}}, {'name': 'robot-contr-2', 'exp-policy': 'generic', 'exp-policy-extra-parameters': {'policy-name': 'mrmr-contractor-2', 'policy-code': 'MRMR_Contractor', 'seed': 3, 'budget': 1000}}], 'run_name': 'mrmr-1pioneer-2contractors', 'exp_run_sys_indep_file': 'C:\\\\Users\\\\lboloni\\\\Documents\\\\Code\\\\_Checkouts\\\\WBF\\\\WaterberryFarms\\\\experiment_configs\\\\nrobot1day\\\\mrmr-1pioneer-2contractors.yaml', 'data_dir': 'C:\\\\Users\\\\lboloni\\\\Documents\\\\Code\\\\_TempData\\\\WBF\\\\ExperimentData\\\\nrobot1day\\\\mrmr-1pioneer-2contractors', 'subrun_name': None, 'time_started': '2025-04-27 12:59:39'}\n"
     ]
    }
   ],
   "source": [
    "# the experiment for the robot run\n",
    "experiment = \"nrobot1day\"\n",
    "# run = \"two-random-robots\"\n",
    "# run = \"two-communicating-robots\"\n",
    "# run = \"mrmr-3random\"\n",
    "# run = \"mrmr-3lawnmowers\"\n",
    "run = \"mrmr-1pioneer-2contractors\"\n",
    "exp = Config().get_experiment(experiment, run)\n",
    "pprint(exp)"
   ]
  },
  {
   "cell_type": "code",
   "execution_count": 7,
   "metadata": {},
   "outputs": [
    {
     "name": "stdout",
     "output_type": "stream",
     "text": [
      "***ExpRun**: Experiment default config C:\\Users\\lboloni\\Documents\\Code\\_Checkouts\\WBF\\WaterberryFarms\\experiment_configs\\environment\\_environment.yaml was empty, ok.\n",
      "***ExpRun**: No system dependent experiment file\n",
      "\t G:\\My Drive\\LotziStudy\\Code\\PackageTracking\\WaterBerryFarms\\settings\\experiment-config\\LotziYoga\\environment\\miniberry-100_sysdep.yaml,\n",
      "\t that is ok, proceeding.\n",
      "***ExpRun**: Configuration for exp/run: environment/miniberry-100 successfully loaded\n",
      "Experiment: {'experiment_name': 'environment', 'typename': 'Miniberry-100', 'precompute-time': 100, 'run_name': 'miniberry-100', 'exp_run_sys_indep_file': 'C:\\\\Users\\\\lboloni\\\\Documents\\\\Code\\\\_Checkouts\\\\WBF\\\\WaterberryFarms\\\\experiment_configs\\\\environment\\\\miniberry-100.yaml', 'data_dir': 'C:\\\\Users\\\\lboloni\\\\Documents\\\\Code\\\\_TempData\\\\WBF\\\\ExperimentData\\\\environment\\\\miniberry-100', 'subrun_name': None, 'time_started': '2025-04-27 12:59:39'}\n",
      "***ExpRun**: Experiment default config C:\\Users\\lboloni\\Documents\\Code\\_Checkouts\\WBF\\WaterberryFarms\\experiment_configs\\estimator\\_estimator.yaml was empty, ok.\n",
      "***ExpRun**: No system dependent experiment file\n",
      "\t G:\\My Drive\\LotziStudy\\Code\\PackageTracking\\WaterBerryFarms\\settings\\experiment-config\\LotziYoga\\estimator\\adaptive-disk_sysdep.yaml,\n",
      "\t that is ok, proceeding.\n",
      "***ExpRun**: Configuration for exp/run: estimator/adaptive-disk successfully loaded\n",
      "Experiment: {'experiment_name': 'estimator', 'estimator-code': 'WBF_IM_DiskEstimator', 'estimator-name': 'AD', 'run_name': 'adaptive-disk', 'exp_run_sys_indep_file': 'C:\\\\Users\\\\lboloni\\\\Documents\\\\Code\\\\_Checkouts\\\\WBF\\\\WaterberryFarms\\\\experiment_configs\\\\estimator\\\\adaptive-disk.yaml', 'data_dir': 'C:\\\\Users\\\\lboloni\\\\Documents\\\\Code\\\\_TempData\\\\WBF\\\\ExperimentData\\\\estimator\\\\adaptive-disk', 'subrun_name': None, 'time_started': '2025-04-27 12:59:39'}\n",
      "***ExpRun**: Experiment default config C:\\Users\\lboloni\\Documents\\Code\\_Checkouts\\WBF\\WaterberryFarms\\experiment_configs\\score\\_score.yaml was empty, ok.\n",
      "***ExpRun**: No system dependent experiment file\n",
      "\t G:\\My Drive\\LotziStudy\\Code\\PackageTracking\\WaterBerryFarms\\settings\\experiment-config\\LotziYoga\\score\\weighted_asymmetric_sysdep.yaml,\n",
      "\t that is ok, proceeding.\n",
      "***ExpRun**: Configuration for exp/run: score/weighted_asymmetric successfully loaded\n",
      "Experiment: {'experiment_name': 'score', 'score-code': 'WBF_Score_WeightedAsymmetric', 'score-name': 'weighted-assymmetric', 'run_name': 'weighted_asymmetric', 'exp_run_sys_indep_file': 'C:\\\\Users\\\\lboloni\\\\Documents\\\\Code\\\\_Checkouts\\\\WBF\\\\WaterberryFarms\\\\experiment_configs\\\\score\\\\weighted_asymmetric.yaml', 'data_dir': 'C:\\\\Users\\\\lboloni\\\\Documents\\\\Code\\\\_TempData\\\\WBF\\\\ExperimentData\\\\score\\\\weighted_asymmetric', 'subrun_name': None, 'time_started': '2025-04-27 12:59:39'}\n",
      "***ExpRun**: Experiment default config C:\\Users\\lboloni\\Documents\\Code\\_Checkouts\\WBF\\WaterberryFarms\\experiment_configs\\policy\\_policy.yaml was empty, ok.\n",
      "***ExpRun**: No system dependent experiment file\n",
      "\t G:\\My Drive\\LotziStudy\\Code\\PackageTracking\\WaterBerryFarms\\settings\\experiment-config\\LotziYoga\\policy\\generic_sysdep.yaml,\n",
      "\t that is ok, proceeding.\n",
      "***ExpRun**: Configuration for exp/run: policy/generic successfully loaded\n",
      "policy-name\n",
      "policy-code\n",
      "seed\n",
      "budget\n",
      "***ExpRun**: Experiment default config C:\\Users\\lboloni\\Documents\\Code\\_Checkouts\\WBF\\WaterberryFarms\\experiment_configs\\policy\\_policy.yaml was empty, ok.\n",
      "***ExpRun**: No system dependent experiment file\n",
      "\t G:\\My Drive\\LotziStudy\\Code\\PackageTracking\\WaterBerryFarms\\settings\\experiment-config\\LotziYoga\\policy\\generic_sysdep.yaml,\n",
      "\t that is ok, proceeding.\n",
      "***ExpRun**: Configuration for exp/run: policy/generic successfully loaded\n",
      "policy-name\n",
      "policy-code\n",
      "seed\n",
      "budget\n",
      "***ExpRun**: Experiment default config C:\\Users\\lboloni\\Documents\\Code\\_Checkouts\\WBF\\WaterberryFarms\\experiment_configs\\policy\\_policy.yaml was empty, ok.\n",
      "***ExpRun**: No system dependent experiment file\n",
      "\t G:\\My Drive\\LotziStudy\\Code\\PackageTracking\\WaterBerryFarms\\settings\\experiment-config\\LotziYoga\\policy\\generic_sysdep.yaml,\n",
      "\t that is ok, proceeding.\n",
      "***ExpRun**: Configuration for exp/run: policy/generic successfully loaded\n"
     ]
    },
    {
     "name": "stderr",
     "output_type": "stream",
     "text": [
      "INFO:root:Environment.proceed - calling the inner_proceed\n",
      "INFO:root:Environment.proceed - calling the inner_proceed\n",
      "INFO:root:PrecalculatedEnvironment at timestamp 25\n",
      "INFO:root:Loading from gz C:\\Users\\lboloni\\Documents\\Code\\_TempData\\WBF\\ExperimentData\\environment\\miniberry-100\\precalc_tylcv\\env_value_00025.gz\n",
      "INFO:root:Loading from gz C:\\Users\\lboloni\\Documents\\Code\\_TempData\\WBF\\ExperimentData\\environment\\miniberry-100\\precalc_tylcv\\env_value_00025.gz done\n",
      "INFO:root:Environment.proceed - calling the inner_proceed\n",
      "INFO:root:PrecalculatedEnvironment at timestamp 25\n",
      "INFO:root:Loading from gz C:\\Users\\lboloni\\Documents\\Code\\_TempData\\WBF\\ExperimentData\\environment\\miniberry-100\\precalc_ccr\\env_value_00025.gz\n",
      "INFO:root:Loading from gz C:\\Users\\lboloni\\Documents\\Code\\_TempData\\WBF\\ExperimentData\\environment\\miniberry-100\\precalc_ccr\\env_value_00025.gz done\n",
      "INFO:root:Environment.proceed - calling the inner_proceed\n",
      "INFO:root:PrecalculatedEnvironment at timestamp 25\n",
      "INFO:root:Loading from gz C:\\Users\\lboloni\\Documents\\Code\\_TempData\\WBF\\ExperimentData\\environment\\miniberry-100\\precalc_soil\\env_value_00025.gz\n",
      "INFO:root:Loading from gz C:\\Users\\lboloni\\Documents\\Code\\_TempData\\WBF\\ExperimentData\\environment\\miniberry-100\\precalc_soil\\env_value_00025.gz done\n"
     ]
    },
    {
     "name": "stdout",
     "output_type": "stream",
     "text": [
      "policy-name\n",
      "policy-code\n",
      "seed\n",
      "budget\n",
      "[{'exp-policy': Experiment: {'experiment_name': 'policy', 'policy-name': 'mrmr-pioneer', 'policy-code': 'MRMR_Pioneer', 'run_name': 'generic', 'exp_run_sys_indep_file': 'C:\\\\Users\\\\lboloni\\\\Documents\\\\Code\\\\_Checkouts\\\\WBF\\\\WaterberryFarms\\\\experiment_configs\\\\policy\\\\generic.yaml', 'data_dir': 'C:\\\\Users\\\\lboloni\\\\Documents\\\\Code\\\\_TempData\\\\WBF\\\\ExperimentData\\\\policy\\\\generic', 'subrun_name': None, 'time_started': '2025-04-27 12:59:39', 'seed': 1, 'budget': 1000},\n",
      "  'name': 'robot-pioneer'},\n",
      " {'exp-policy': Experiment: {'experiment_name': 'policy', 'policy-name': 'mrmr-contractor-1', 'policy-code': 'MRMR_Contractor', 'run_name': 'generic', 'exp_run_sys_indep_file': 'C:\\\\Users\\\\lboloni\\\\Documents\\\\Code\\\\_Checkouts\\\\WBF\\\\WaterberryFarms\\\\experiment_configs\\\\policy\\\\generic.yaml', 'data_dir': 'C:\\\\Users\\\\lboloni\\\\Documents\\\\Code\\\\_TempData\\\\WBF\\\\ExperimentData\\\\policy\\\\generic', 'subrun_name': None, 'time_started': '2025-04-27 12:59:39', 'seed': 2, 'budget': 1000},\n",
      "  'name': 'robot-contr-1'},\n",
      " {'exp-policy': Experiment: {'experiment_name': 'policy', 'policy-name': 'mrmr-contractor-2', 'policy-code': 'MRMR_Contractor', 'run_name': 'generic', 'exp_run_sys_indep_file': 'C:\\\\Users\\\\lboloni\\\\Documents\\\\Code\\\\_Checkouts\\\\WBF\\\\WaterberryFarms\\\\experiment_configs\\\\policy\\\\generic.yaml', 'data_dir': 'C:\\\\Users\\\\lboloni\\\\Documents\\\\Code\\\\_TempData\\\\WBF\\\\ExperimentData\\\\policy\\\\generic', 'subrun_name': None, 'time_started': '2025-04-27 12:59:39', 'seed': 3, 'budget': 1000},\n",
      "  'name': 'robot-contr-2'}]\n",
      "loading the geometry and environment from saved data\n",
      "loading done\n"
     ]
    },
    {
     "ename": "IndexError",
     "evalue": "index 101 is out of bounds for axis 1 with size 101",
     "output_type": "error",
     "traceback": [
      "\u001b[1;31m---------------------------------------------------------------------------\u001b[0m",
      "\u001b[1;31mIndexError\u001b[0m                                Traceback (most recent call last)",
      "Cell \u001b[1;32mIn[7], line 1\u001b[0m\n\u001b[1;32m----> 1\u001b[0m \u001b[43mrun_nrobot1day\u001b[49m\u001b[43m(\u001b[49m\u001b[43mexp\u001b[49m\u001b[43m)\u001b[49m\n",
      "File \u001b[1;32mc:\\Users\\lboloni\\Documents\\Code\\_Checkouts\\WBF\\WaterBerryFarms\\notebooks\\..\\wbf_simulate.py:345\u001b[0m, in \u001b[0;36mrun_nrobot1day\u001b[1;34m(exp)\u001b[0m\n\u001b[0;32m    340\u001b[0m results[\u001b[38;5;124m\"\u001b[39m\u001b[38;5;124mrobots\u001b[39m\u001b[38;5;124m\"\u001b[39m] \u001b[38;5;241m=\u001b[39m robots\n\u001b[0;32m    342\u001b[0m \u001b[38;5;66;03m# \u001b[39;00m\n\u001b[0;32m    343\u001b[0m \u001b[38;5;66;03m# This is where we actually calling the simulation\u001b[39;00m\n\u001b[0;32m    344\u001b[0m \u001b[38;5;66;03m#\u001b[39;00m\n\u001b[1;32m--> 345\u001b[0m \u001b[43msimulate_1day_multirobot\u001b[49m\u001b[43m(\u001b[49m\u001b[43mresults\u001b[49m\u001b[43m)\u001b[49m\n\u001b[0;32m    346\u001b[0m \u001b[38;5;66;03m#print(f\"Saving results to: {resultsfile}\")\u001b[39;00m\n\u001b[0;32m    347\u001b[0m \u001b[38;5;66;03m#with compress.open(resultsfile, \"wb\") as f:\u001b[39;00m\n\u001b[0;32m    348\u001b[0m \u001b[38;5;66;03m#    pickle.dump(results, f)\u001b[39;00m\n\u001b[0;32m    349\u001b[0m save_simulation_results(resultsfile, results)\n",
      "File \u001b[1;32mc:\\Users\\lboloni\\Documents\\Code\\_Checkouts\\WBF\\WaterBerryFarms\\notebooks\\..\\wbf_simulate.py:116\u001b[0m, in \u001b[0;36msimulate_1day_multirobot\u001b[1;34m(results)\u001b[0m\n\u001b[0;32m    113\u001b[0m results[\u001b[38;5;124m\"\u001b[39m\u001b[38;5;124mim_resolution_count\u001b[39m\u001b[38;5;124m\"\u001b[39m] \u001b[38;5;241m=\u001b[39m \u001b[38;5;241m0\u001b[39m \u001b[38;5;66;03m# counting the steps for the im update\u001b[39;00m\n\u001b[0;32m    115\u001b[0m \u001b[38;5;28;01mfor\u001b[39;00m timestep \u001b[38;5;129;01min\u001b[39;00m \u001b[38;5;28mrange\u001b[39m(\u001b[38;5;28mint\u001b[39m(results[\u001b[38;5;124m\"\u001b[39m\u001b[38;5;124mtimesteps-per-day\u001b[39m\u001b[38;5;124m\"\u001b[39m])):\n\u001b[1;32m--> 116\u001b[0m     \u001b[43msimulate_timestep_multirobot\u001b[49m\u001b[43m(\u001b[49m\u001b[43mresults\u001b[49m\u001b[43m,\u001b[49m\u001b[43m \u001b[49m\u001b[43mtimestep\u001b[49m\u001b[43m)\u001b[49m\n",
      "File \u001b[1;32mc:\\Users\\lboloni\\Documents\\Code\\_Checkouts\\WBF\\WaterBerryFarms\\notebooks\\..\\wbf_simulate.py:140\u001b[0m, in \u001b[0;36msimulate_timestep_multirobot\u001b[1;34m(results, timestep)\u001b[0m\n\u001b[0;32m    138\u001b[0m robot\u001b[38;5;241m.\u001b[39mproceed(\u001b[38;5;241m1\u001b[39m)\n\u001b[0;32m    139\u001b[0m position \u001b[38;5;241m=\u001b[39m [\u001b[38;5;28mint\u001b[39m(robot\u001b[38;5;241m.\u001b[39mx), \u001b[38;5;28mint\u001b[39m(robot\u001b[38;5;241m.\u001b[39my), timestep]\n\u001b[1;32m--> 140\u001b[0m obs \u001b[38;5;241m=\u001b[39m \u001b[43mresults\u001b[49m\u001b[43m[\u001b[49m\u001b[38;5;124;43m\"\u001b[39;49m\u001b[38;5;124;43mwbfe\u001b[39;49m\u001b[38;5;124;43m\"\u001b[39;49m\u001b[43m]\u001b[49m\u001b[38;5;241;43m.\u001b[39;49m\u001b[43mget_observation\u001b[49m\u001b[43m(\u001b[49m\u001b[43mposition\u001b[49m\u001b[43m)\u001b[49m\n\u001b[0;32m    141\u001b[0m results[\u001b[38;5;124m\"\u001b[39m\u001b[38;5;124mestimator-CODE\u001b[39m\u001b[38;5;124m\"\u001b[39m]\u001b[38;5;241m.\u001b[39madd_observation(obs)\n\u001b[0;32m    142\u001b[0m robot\u001b[38;5;241m.\u001b[39madd_observation(obs)\n",
      "File \u001b[1;32mc:\\Users\\lboloni\\Documents\\Code\\_Checkouts\\WBF\\WaterBerryFarms\\notebooks\\..\\water_berry_farm.py:276\u001b[0m, in \u001b[0;36mWaterberryFarmEnvironment.get_observation\u001b[1;34m(self, pos)\u001b[0m\n\u001b[0;32m    271\u001b[0m obs \u001b[38;5;241m=\u001b[39m {\n\u001b[0;32m    272\u001b[0m     StoredObservationIM\u001b[38;5;241m.\u001b[39mX: pos[\u001b[38;5;241m0\u001b[39m], StoredObservationIM\u001b[38;5;241m.\u001b[39mY: pos[\u001b[38;5;241m1\u001b[39m], StoredObservationIM\u001b[38;5;241m.\u001b[39mTIME: pos[\u001b[38;5;241m2\u001b[39m]}\n\u001b[0;32m    274\u001b[0m tylcv \u001b[38;5;241m=\u001b[39m {\n\u001b[0;32m    275\u001b[0m     StoredObservationIM\u001b[38;5;241m.\u001b[39mX: pos[\u001b[38;5;241m0\u001b[39m], StoredObservationIM\u001b[38;5;241m.\u001b[39mY: pos[\u001b[38;5;241m1\u001b[39m], StoredObservationIM\u001b[38;5;241m.\u001b[39mTIME: pos[\u001b[38;5;241m2\u001b[39m]}\n\u001b[1;32m--> 276\u001b[0m tylcv[StoredObservationIM\u001b[38;5;241m.\u001b[39mVALUE] \u001b[38;5;241m=\u001b[39m \u001b[38;5;28;43mself\u001b[39;49m\u001b[38;5;241;43m.\u001b[39;49m\u001b[43mtylcv\u001b[49m\u001b[38;5;241;43m.\u001b[39;49m\u001b[43mget\u001b[49m\u001b[43m(\u001b[49m\u001b[43mpos\u001b[49m\u001b[43m[\u001b[49m\u001b[38;5;241;43m0\u001b[39;49m\u001b[43m]\u001b[49m\u001b[43m,\u001b[49m\u001b[43m \u001b[49m\u001b[43mpos\u001b[49m\u001b[43m[\u001b[49m\u001b[38;5;241;43m1\u001b[39;49m\u001b[43m]\u001b[49m\u001b[43m)\u001b[49m\n\u001b[0;32m    277\u001b[0m obs[\u001b[38;5;124m\"\u001b[39m\u001b[38;5;124mTYLCV\u001b[39m\u001b[38;5;124m\"\u001b[39m] \u001b[38;5;241m=\u001b[39m tylcv\n\u001b[0;32m    279\u001b[0m ccr \u001b[38;5;241m=\u001b[39m {\n\u001b[0;32m    280\u001b[0m     StoredObservationIM\u001b[38;5;241m.\u001b[39mX: pos[\u001b[38;5;241m0\u001b[39m], StoredObservationIM\u001b[38;5;241m.\u001b[39mY: pos[\u001b[38;5;241m1\u001b[39m], StoredObservationIM\u001b[38;5;241m.\u001b[39mTIME: pos[\u001b[38;5;241m2\u001b[39m]}\n",
      "File \u001b[1;32mc:\\Users\\lboloni\\Documents\\Code\\_Checkouts\\WBF\\WaterBerryFarms\\notebooks\\..\\environment.py:73\u001b[0m, in \u001b[0;36mScalarFieldEnvironment.get\u001b[1;34m(self, x, y)\u001b[0m\n\u001b[0;32m     71\u001b[0m i \u001b[38;5;241m=\u001b[39m \u001b[38;5;28mint\u001b[39m(x)\n\u001b[0;32m     72\u001b[0m j \u001b[38;5;241m=\u001b[39m \u001b[38;5;28mint\u001b[39m(y)\n\u001b[1;32m---> 73\u001b[0m \u001b[38;5;28;01mreturn\u001b[39;00m \u001b[38;5;28;43mself\u001b[39;49m\u001b[38;5;241;43m.\u001b[39;49m\u001b[43mvalue\u001b[49m\u001b[43m[\u001b[49m\u001b[43mi\u001b[49m\u001b[43m,\u001b[49m\u001b[43m \u001b[49m\u001b[43mj\u001b[49m\u001b[43m]\u001b[49m\n",
      "\u001b[1;31mIndexError\u001b[0m: index 101 is out of bounds for axis 1 with size 101"
     ]
    }
   ],
   "source": [
    "run_nrobot1day(exp)"
   ]
  },
  {
   "cell_type": "markdown",
   "metadata": {},
   "source": []
  }
 ],
 "metadata": {
  "kernelspec": {
   "display_name": "WBF-venv",
   "language": "python",
   "name": "python3"
  },
  "language_info": {
   "codemirror_mode": {
    "name": "ipython",
    "version": 3
   },
   "file_extension": ".py",
   "mimetype": "text/x-python",
   "name": "python",
   "nbconvert_exporter": "python",
   "pygments_lexer": "ipython3",
   "version": "3.11.4"
  }
 },
 "nbformat": 4,
 "nbformat_minor": 2
}
