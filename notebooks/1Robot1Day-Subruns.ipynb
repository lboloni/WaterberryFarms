{
 "cells": [
  {
   "cell_type": "markdown",
   "id": "ed754e1b",
   "metadata": {},
   "source": [
    "# Run one robot for one day, with subruns\n",
    "\n",
    "Run an experiment with a single robot exploring an environment during the course of one day. \n",
    "\n",
    "The specification of the experiment is fully determined by the exp/run of type __1robot1day__. This exp/run will refer to other exp/runs to specify the environment, the robot policy, the estimator and the scoring function. The result of running this notebook is to run the experiment and save the results into the exp/run datadir in a file called \"results.pickle\". \n",
    "\n",
    "This variant of the file demonstrates how to use subruns, for various purposes. "
   ]
  },
  {
   "cell_type": "markdown",
   "id": "0886d419",
   "metadata": {},
   "source": [
    "Implementation of the functions that allow the listing of the experiments, runs and subruns"
   ]
  },
  {
   "cell_type": "code",
   "execution_count": null,
   "id": "ce9dd96d",
   "metadata": {},
   "outputs": [],
   "source": [
    "import sys\n",
    "sys.path.append(\"..\")\n",
    "from exp_run_config import Config\n",
    "Config.PROJECTNAME = \"WaterBerryFarms\"\n",
    "\n",
    "import yaml\n",
    "import pathlib\n",
    "from datetime import datetime\n",
    "\n",
    "from pprint import pprint\n",
    "import gzip as compress\n",
    "\n",
    "\n"
   ]
  },
  {
   "cell_type": "code",
   "execution_count": 6,
   "id": "f8064288",
   "metadata": {},
   "outputs": [
    {
     "name": "stdout",
     "output_type": "stream",
     "text": [
      "Experiments: ['1robot1day', 'environment', 'estimator', 'nrobot1day', 'policy', 'score']\n",
      "Runs of 1robot1day:['comp_ad', 'fblm-ad-30', 'fblm-gp-30', 'rwp-ad-30-custom', 'rwp-ad-30', '_1robot1day']\n",
      "Done runs of 1robot1day:['rwp-ad-30', 'rwp-ad-30-custom']\n",
      "Subruns of 1robot1day/rwp-ad-30:[]\n"
     ]
    }
   ],
   "source": [
    "val = Config().list_experiments()\n",
    "print(f\"Experiments: {val}\")\n",
    "# list_experiments()\n",
    "\n",
    "exp_name = \"1robot1day\"\n",
    "val = Config().list_runs(exp_name)\n",
    "print(f\"Runs of {exp_name}:{val}\")\n",
    "\n",
    "val = Config().list_runs(exp_name, done_only=True)\n",
    "print(f\"Done runs of {exp_name}:{val}\")\n",
    "\n",
    "\n",
    "run_name = \"rwp-ad-30\"\n",
    "Config().list_subruns(exp_name, run_name)\n",
    "val = Config().list_subruns(exp_name, run_name)\n",
    "print(f\"Subruns of {exp_name}/{run_name}:{val}\")\n"
   ]
  },
  {
   "cell_type": "markdown",
   "id": "abff42f3",
   "metadata": {},
   "source": [
    "### Experiments for random waypoint with variable seed"
   ]
  },
  {
   "cell_type": "code",
   "execution_count": null,
   "id": "cebfb646",
   "metadata": {},
   "outputs": [],
   "source": [
    "\n",
    "# the experiment for the robot run\n",
    "experiment = \"1robot1day\"\n",
    "run = \"rwp-ad-30\"\n",
    "# run = \"fblm-ad-30\"\n",
    "# run = \"fblm-gp-30\" # this one with GP takes about 10 minutes to run (1 min office machine, 500 steps)\n",
    "\n",
    "exp = Config().get_experiment(experiment, run)\n",
    "# print(exp.experiment())\n",
    "# print(exp.run())\n",
    "# print(exp.subrun())\n",
    "# pprint(exp)\n",
    "\n",
    "\n",
    "# the exp for the environment\n",
    "# exp_env = Config().get_experiment(\"environment\", exp[\"exp_environment\"])\n",
    "# pprint(exp_env)\n",
    "# the exp for policy\n",
    "# exp_policy = Config().get_experiment(\"policy\", exp[\"exp_policy\"])\n",
    "# pprint(exp_policy)\n",
    "# the exp for estimator\n",
    "# exp_estimator = Config().get_experiment(\"estimator\", exp[\"exp_estimator\"])\n",
    "# pprint(exp_estimator)\n",
    "# the exp for the score\n",
    "# exp_score = Config().get_experiment(\"score\", exp[\"exp_score\"])\n",
    "# pprint(exp_score)"
   ]
  },
  {
   "cell_type": "code",
   "execution_count": null,
   "id": "cec28f67",
   "metadata": {},
   "outputs": [],
   "source": [
    "def run_to_done(exp):\n",
    "\n",
    "    resultsfile = pathlib.Path(exp.data_dir(), \"results.pickle\")\n",
    "    if resultsfile.exists():\n",
    "        print(f\"Results file already exists:\\n{resultsfile}\")\n",
    "        print(f\"Delete this file if re-running is desired.\")\n",
    "        # raise Exception(\"Nothing to do.\")\n",
    "        return\n",
    "    # the exp for the environment\n",
    "    exp_env = Config().get_experiment(\"environment\", exp[\"exp_environment\"])\n",
    "    pprint(exp_env)\n",
    "    # the exp for policy\n",
    "    exp_policy = Config().get_experiment(\"policy\", exp[\"exp_policy\"])\n",
    "    pprint(exp_policy)\n",
    "    # the exp for estimator\n",
    "    exp_estimator = Config().get_experiment(\"estimator\", exp[\"exp_estimator\"])\n",
    "    pprint(exp_estimator)\n",
    "    # the exp for the score\n",
    "    exp_score = Config().get_experiment(\"score\", exp[\"exp_score\"])\n",
    "    pprint(exp_score)\n",
    "\n",
    "    results = {}\n",
    "\n",
    "    if exp_policy[\"policy-code\"] == \"-\":\n",
    "        generator = exp_policy[\"policy-code-generator\"]        \n",
    "        policy = eval(generator)(exp_policy, exp_env)\n",
    "    else:\n",
    "        policy = create_policy(exp_policy, exp_env)\n",
    "    results[\"policy-code\"] = policy\n",
    "    results[\"policy-name\"] = results[\"policy-code\"].name\n",
    "\n",
    "    results[\"estimator-CODE\"] = create_estimator(exp_estimator, exp_env)\n",
    "    results[\"estimator-name\"] = results[\"estimator-CODE\"].name\n",
    "\n",
    "    results[\"score-code\"] = create_score(exp_score, exp_env)\n",
    "    results[\"score-name\"] = results[\"score-code\"].name\n",
    "\n",
    "    results[\"velocity\"] = exp[\"velocity\"]\n",
    "    results[\"timesteps-per-day\"] = exp[\"timesteps-per-day\"]\n",
    "    results[\"time-start-environment\"] = exp[\"time-start-environment\"]\n",
    "    results[\"im_resolution\"] = exp[\"im_resolution\"]\n",
    "    results[\"results-basedir\"] = exp[\"data_dir\"]\n",
    "    results[\"action\"] = \"run-one-day\"\n",
    "    results[\"typename\"] = exp_env[\"typename\"]\n",
    "    wbf, wbfe = create_wbfe(exp_env)\n",
    "    # move ahead to the starting point of the environment\n",
    "    wbfe.proceed(results[\"time-start-environment\"])\n",
    "    results[\"wbf\"] = wbf\n",
    "    results[\"wbfe\"] = wbfe\n",
    "    results[\"days\"] = 1\n",
    "    get_geometry(results[\"typename\"], results)\n",
    "    # create the robot and set the policy\n",
    "    results[\"robot\"] = Robot(\"Rob\", 0, 0, 0, env=None, im=None)\n",
    "    results[\"robot\"].assign_policy(results[\"policy-code\"])\n",
    "    # \n",
    "    # This is where we actually calling the simulation\n",
    "    #\n",
    "    simulate_1day(results)\n",
    "    #print(f\"Saving results to: {resultsfile}\")\n",
    "    #with compress.open(resultsfile, \"wb\") as f:\n",
    "    #    pickle.dump(results, f)\n",
    "    save_simulation_results(resultsfile, results)\n",
    "    exp.done()"
   ]
  },
  {
   "cell_type": "code",
   "execution_count": null,
   "id": "585e06fd",
   "metadata": {},
   "outputs": [],
   "source": [
    "run_to_done(exp)"
   ]
  }
 ],
 "metadata": {
  "kernelspec": {
   "display_name": "WBF-venv",
   "language": "python",
   "name": "python3"
  },
  "language_info": {
   "codemirror_mode": {
    "name": "ipython",
    "version": 3
   },
   "file_extension": ".py",
   "mimetype": "text/x-python",
   "name": "python",
   "nbconvert_exporter": "python",
   "pygments_lexer": "ipython3",
   "version": "3.11.4"
  }
 },
 "nbformat": 4,
 "nbformat_minor": 5
}
