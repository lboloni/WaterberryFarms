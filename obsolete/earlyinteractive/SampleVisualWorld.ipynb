{
 "cells": [
  {
   "attachments": {},
   "cell_type": "markdown",
   "id": "thick-banana",
   "metadata": {},
   "source": [
    "# VisualWorld example\n",
    "\n",
    "* An example notebook for the use of the VisualWorld interface for interactive control of robots \n",
    "\n",
    "FIXME: This was not updated for the latest changes, so currently not working (Jan 14, 2023)"
   ]
  },
  {
   "cell_type": "code",
   "execution_count": null,
   "id": "liquid-theology",
   "metadata": {},
   "outputs": [
    {
     "ename": "ImportError",
     "evalue": "cannot import name 'generate_lawnmower' from 'Policy' (/home/lboloni/Documents/Hackingwork/2022-01-15-MREM/github/MREM/notebooks/../Policy.py)",
     "output_type": "error",
     "traceback": [
      "\u001b[0;31m---------------------------------------------------------------------------\u001b[0m",
      "\u001b[0;31mImportError\u001b[0m                               Traceback (most recent call last)",
      "\u001b[1;32m/home/lboloni/Documents/Hackingwork/2022-01-15-MREM/github/MREM/notebooks/SampleVisualWorld.ipynb Cell 2\u001b[0m in \u001b[0;36m<cell line: 25>\u001b[0;34m()\u001b[0m\n\u001b[1;32m     <a href='vscode-notebook-cell:/home/lboloni/Documents/Hackingwork/2022-01-15-MREM/github/MREM/notebooks/SampleVisualWorld.ipynb#W1sZmlsZQ%3D%3D?line=22'>23</a>\u001b[0m \u001b[39mfrom\u001b[39;00m \u001b[39mInformationModel\u001b[39;00m \u001b[39mimport\u001b[39;00m InformationModel, GaussianProcessScalarFieldIM\n\u001b[1;32m     <a href='vscode-notebook-cell:/home/lboloni/Documents/Hackingwork/2022-01-15-MREM/github/MREM/notebooks/SampleVisualWorld.ipynb#W1sZmlsZQ%3D%3D?line=23'>24</a>\u001b[0m \u001b[39mfrom\u001b[39;00m \u001b[39mRobot\u001b[39;00m \u001b[39mimport\u001b[39;00m Robot\n\u001b[0;32m---> <a href='vscode-notebook-cell:/home/lboloni/Documents/Hackingwork/2022-01-15-MREM/github/MREM/notebooks/SampleVisualWorld.ipynb#W1sZmlsZQ%3D%3D?line=24'>25</a>\u001b[0m \u001b[39mfrom\u001b[39;00m \u001b[39mPolicy\u001b[39;00m \u001b[39mimport\u001b[39;00m GoToLocationPolicy, FollowPathPolicy, RandomWaypointPolicy, \\\n\u001b[1;32m     <a href='vscode-notebook-cell:/home/lboloni/Documents/Hackingwork/2022-01-15-MREM/github/MREM/notebooks/SampleVisualWorld.ipynb#W1sZmlsZQ%3D%3D?line=25'>26</a>\u001b[0m     AbstractWaypointPolicy, generate_lawnmower, InformationGreedyPolicy, generate_lawnmower\n\u001b[1;32m     <a href='vscode-notebook-cell:/home/lboloni/Documents/Hackingwork/2022-01-15-MREM/github/MREM/notebooks/SampleVisualWorld.ipynb#W1sZmlsZQ%3D%3D?line=26'>27</a>\u001b[0m \u001b[39mfrom\u001b[39;00m \u001b[39mVisualWorld\u001b[39;00m \u001b[39mimport\u001b[39;00m VisualWorld\n",
      "\u001b[0;31mImportError\u001b[0m: cannot import name 'generate_lawnmower' from 'Policy' (/home/lboloni/Documents/Hackingwork/2022-01-15-MREM/github/MREM/notebooks/../Policy.py)"
     ]
    }
   ],
   "source": [
    "%matplotlib inline\n",
    "\n",
    "# allow imports from the main source directory\n",
    "import sys\n",
    "sys.path.append('../..')\n",
    "import LoggingSetup\n",
    "import logging\n",
    "\n",
    "import itertools\n",
    "import numpy as np\n",
    "#import ast\n",
    "import math\n",
    "import random\n",
    "from functools import partial\n",
    "from io import BytesIO\n",
    "import pathlib\n",
    "from IPython.display import display\n",
    "\n",
    "from World import World, WorldFactory\n",
    "\n",
    "# imports of the various objects of our model\n",
    "from environment import Environment, DissipationModelEnvironment, EpidemicSpreadEnvironment\n",
    "from InformationModel import InformationModel, GaussianProcessScalarFieldIM\n",
    "from Robot import Robot\n",
    "from Policy import GoToLocationPolicy, FollowPathPolicy, RandomWaypointPolicy, \\\n",
    "    AbstractWaypointPolicy, generate_lawnmower, InformationGreedyPolicy, generate_lawnmower\n",
    "from VisualWorld import VisualWorld\n"
   ]
  },
  {
   "cell_type": "markdown",
   "id": "delayed-hollywood",
   "metadata": {},
   "source": [
    "# Create the world. \n",
    "In this section, we create a world, its environment, add some robots, associate policies with them. \n",
    "Then we ask the VisualWorld object object to present an interface to them. "
   ]
  },
  {
   "cell_type": "code",
   "execution_count": null,
   "id": "turkish-skating",
   "metadata": {},
   "outputs": [],
   "source": [
    "world = WorldFactory.generate_world_pretrained_static_pollution()\n",
    "robot = Robot(\"Robi\", 2, 3, 0, env=world.env, im=world.im)\n",
    "# path = generate_lawnmower(0, 10, 0, 10, 5)\n",
    "# robot.policy = FollowPathPolicy(None, robot, 1, path, repeat = True)\n",
    "# robot.policy = GoToLocationPolicy(None, robot, 9, 9, 0.2)\n",
    "# robot.policy = \n",
    "world.add_robot(robot)\n",
    "robot = Robot(\"Robur\", 4, 8, 0, env=world.env, im=world.im)\n",
    "#robot.policy = RandomWaypointPolicy(None, robot, 1, [0,0], [9, 9], seed=1)\n",
    "world.add_robot(robot)\n",
    "\n",
    "#robot = Robot(\"R2D3\", 5, 9, 0, env=env, im=im)\n",
    "#robot.policy = FollowPathPolicy(None, robot, 1, [[0,0], [5, 5], [9,0]], repeat = True)\n",
    "#world.add_robot(robot)\n",
    "visual_world = VisualWorld(world)"
   ]
  },
  {
   "cell_type": "code",
   "execution_count": null,
   "id": "9409de38",
   "metadata": {},
   "outputs": [],
   "source": []
  }
 ],
 "metadata": {
  "kernelspec": {
   "display_name": "Python 3",
   "language": "python",
   "name": "python3"
  },
  "language_info": {
   "codemirror_mode": {
    "name": "ipython",
    "version": 3
   },
   "file_extension": ".py",
   "mimetype": "text/x-python",
   "name": "python",
   "nbconvert_exporter": "python",
   "pygments_lexer": "ipython3",
   "version": "3.10.6"
  },
  "vscode": {
   "interpreter": {
    "hash": "916dbcbb3f70747c44a77c7bcd40155683ae19c65e1c03b4aa3499c5328201f1"
   }
  }
 },
 "nbformat": 4,
 "nbformat_minor": 5
}
